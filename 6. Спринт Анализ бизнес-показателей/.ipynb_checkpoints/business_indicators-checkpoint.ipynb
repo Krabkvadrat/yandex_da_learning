{
 "cells": [
  {
   "cell_type": "markdown",
   "metadata": {},
   "source": [
    "# Аналитика в Яндекс.Афише"
   ]
  },
  {
   "cell_type": "markdown",
   "metadata": {},
   "source": [
    "## План работ\n",
    "<a id=plan></a>\n",
    "[**Шаг 1. Загрузить данные и подготовить их к анализу**](#step1)\n",
    "\n",
    "- [x] Загрузить данные из таблиц, провести первичный анализ \n",
    "- [x] Оптимизировать данные для анализа (поиск дублей, анализ пропусков, проверка названий столбцов и т.п.)\n",
    "- [x] Проверка/корректировка типо данных\n",
    "\n",
    "[**Шаг 2. Построить отчёты и посчитать метрики**](#step2)\n",
    "\n",
    "Продукт\n",
    "\n",
    "- [x] Рассчитано, сколько людей (уникальных!) пользуются в день, неделю, месяц (DAU, WAU, MAU)\n",
    "- [x] Рассчитано, сколько сессий в день \n",
    "- [x] Рассчитано, сколько обычно длится одна сессия\n",
    "- [x] Рассчитано, как часто люди возвращаются (retention rate для каждой когорты)\n",
    "- [x] Сформулированы выводы\n",
    "\n",
    "Продажи\n",
    "\n",
    "- [x] Рассчитано, когда люди начинают покупать. Среднее/медианное количество дней между первым визитом и покупкой. \n",
    "- [x] Рассчитано, сколько раз совершают покупку за день/месяц/год, построен график (временные ряды??).\n",
    "- [x] Найден средний чек и продемонстрировано как он менялся по дням/месяцам/годам. Построен график.\n",
    "- [x] Найден значение LTV для каждо из когорт.\n",
    "- [x] Сформулированы выводы\n",
    "\n",
    "Маркетинг\n",
    "\n",
    "- [x] Посчитано сколько денег потратили. Всего / на каждый источник / по времени. Построен график. \n",
    "- [x] Определено сколько стоило привлечение одного покупателя из каждого источника. (CAC)\n",
    "- [x] Рассчитано, на сколько окупились расходы? (ROI)\n",
    "- [x] Сформулированы выводы\n",
    "\n",
    "[**Шаг 3. Написать вывод: порекомендуйте маркетологам, куда и сколько им стоит вкладывать денег?**](#step3)\n",
    "\n",
    "Какие источники/платформы вы бы порекомендовали? Объясните свой выбор: на какие метрики вы ориентируетесь? Почему? Какие выводы вы сделали, узнав значение метрик?"
   ]
  },
  {
   "cell_type": "markdown",
   "metadata": {},
   "source": [
    "<a id=step1></a>\n",
    "# Шаг 1. Загрузите данные и подготовьте их к анализу"
   ]
  },
  {
   "cell_type": "code",
   "execution_count": 41,
   "metadata": {
    "ExecuteTime": {
     "end_time": "2020-08-18T20:29:07.237567Z",
     "start_time": "2020-08-18T20:29:07.230563Z"
    }
   },
   "outputs": [],
   "source": [
    "# импорт необходимых библиотек и настройка jupiter\n",
    "import pandas as pd\n",
    "import matplotlib.pyplot as plt\n",
    "import math\n",
    "import seaborn as sns\n",
    "from scipy import stats as st\n",
    "import numpy as np \n",
    "\n",
    "# для отображения в jupiter всех колонок и столбцов df + сокращу количество цифр после запятой\n",
    "pd.set_option('display.max_columns', None)\n",
    "pd.set_option('display.max_rows', None)\n",
    "pd.set_option('display.precision',2)"
   ]
  },
  {
   "cell_type": "code",
   "execution_count": 42,
   "metadata": {
    "ExecuteTime": {
     "end_time": "2020-08-18T20:29:08.360185Z",
     "start_time": "2020-08-18T20:29:07.240568Z"
    }
   },
   "outputs": [],
   "source": [
    "costs = pd.read_csv('/datasets/costs.csv')\n",
    "orders = pd.read_csv('/datasets/orders_log.csv')\n",
    "visits = pd.read_csv('/datasets/visits_log.csv')"
   ]
  },
  {
   "cell_type": "code",
   "execution_count": 43,
   "metadata": {
    "ExecuteTime": {
     "end_time": "2020-08-18T20:29:08.415229Z",
     "start_time": "2020-08-18T20:29:08.362183Z"
    }
   },
   "outputs": [
    {
     "data": {
      "text/html": [
       "<div>\n",
       "<style scoped>\n",
       "    .dataframe tbody tr th:only-of-type {\n",
       "        vertical-align: middle;\n",
       "    }\n",
       "\n",
       "    .dataframe tbody tr th {\n",
       "        vertical-align: top;\n",
       "    }\n",
       "\n",
       "    .dataframe thead th {\n",
       "        text-align: right;\n",
       "    }\n",
       "</style>\n",
       "<table border=\"1\" class=\"dataframe\">\n",
       "  <thead>\n",
       "    <tr style=\"text-align: right;\">\n",
       "      <th></th>\n",
       "      <th>source_id</th>\n",
       "      <th>dt</th>\n",
       "      <th>costs</th>\n",
       "    </tr>\n",
       "  </thead>\n",
       "  <tbody>\n",
       "    <tr>\n",
       "      <th>0</th>\n",
       "      <td>1</td>\n",
       "      <td>2017-06-01</td>\n",
       "      <td>75.20</td>\n",
       "    </tr>\n",
       "    <tr>\n",
       "      <th>1</th>\n",
       "      <td>1</td>\n",
       "      <td>2017-06-02</td>\n",
       "      <td>62.25</td>\n",
       "    </tr>\n",
       "    <tr>\n",
       "      <th>2</th>\n",
       "      <td>1</td>\n",
       "      <td>2017-06-03</td>\n",
       "      <td>36.53</td>\n",
       "    </tr>\n",
       "    <tr>\n",
       "      <th>3</th>\n",
       "      <td>1</td>\n",
       "      <td>2017-06-04</td>\n",
       "      <td>55.00</td>\n",
       "    </tr>\n",
       "    <tr>\n",
       "      <th>4</th>\n",
       "      <td>1</td>\n",
       "      <td>2017-06-05</td>\n",
       "      <td>57.08</td>\n",
       "    </tr>\n",
       "  </tbody>\n",
       "</table>\n",
       "</div>"
      ],
      "text/plain": [
       "   source_id          dt  costs\n",
       "0          1  2017-06-01  75.20\n",
       "1          1  2017-06-02  62.25\n",
       "2          1  2017-06-03  36.53\n",
       "3          1  2017-06-04  55.00\n",
       "4          1  2017-06-05  57.08"
      ]
     },
     "metadata": {},
     "output_type": "display_data"
    },
    {
     "name": "stdout",
     "output_type": "stream",
     "text": [
      "<class 'pandas.core.frame.DataFrame'>\n",
      "RangeIndex: 2542 entries, 0 to 2541\n",
      "Data columns (total 3 columns):\n",
      " #   Column     Non-Null Count  Dtype  \n",
      "---  ------     --------------  -----  \n",
      " 0   source_id  2542 non-null   int64  \n",
      " 1   dt         2542 non-null   object \n",
      " 2   costs      2542 non-null   float64\n",
      "dtypes: float64(1), int64(1), object(1)\n",
      "memory usage: 59.7+ KB\n"
     ]
    },
    {
     "data": {
      "text/plain": [
       "None"
      ]
     },
     "metadata": {},
     "output_type": "display_data"
    },
    {
     "data": {
      "text/html": [
       "<div>\n",
       "<style scoped>\n",
       "    .dataframe tbody tr th:only-of-type {\n",
       "        vertical-align: middle;\n",
       "    }\n",
       "\n",
       "    .dataframe tbody tr th {\n",
       "        vertical-align: top;\n",
       "    }\n",
       "\n",
       "    .dataframe thead th {\n",
       "        text-align: right;\n",
       "    }\n",
       "</style>\n",
       "<table border=\"1\" class=\"dataframe\">\n",
       "  <thead>\n",
       "    <tr style=\"text-align: right;\">\n",
       "      <th></th>\n",
       "      <th>source_id</th>\n",
       "      <th>costs</th>\n",
       "    </tr>\n",
       "  </thead>\n",
       "  <tbody>\n",
       "    <tr>\n",
       "      <th>count</th>\n",
       "      <td>2542.00</td>\n",
       "      <td>2542.00</td>\n",
       "    </tr>\n",
       "    <tr>\n",
       "      <th>mean</th>\n",
       "      <td>4.86</td>\n",
       "      <td>129.48</td>\n",
       "    </tr>\n",
       "    <tr>\n",
       "      <th>std</th>\n",
       "      <td>3.18</td>\n",
       "      <td>156.30</td>\n",
       "    </tr>\n",
       "    <tr>\n",
       "      <th>min</th>\n",
       "      <td>1.00</td>\n",
       "      <td>0.54</td>\n",
       "    </tr>\n",
       "    <tr>\n",
       "      <th>25%</th>\n",
       "      <td>2.00</td>\n",
       "      <td>21.95</td>\n",
       "    </tr>\n",
       "    <tr>\n",
       "      <th>50%</th>\n",
       "      <td>4.00</td>\n",
       "      <td>77.30</td>\n",
       "    </tr>\n",
       "    <tr>\n",
       "      <th>75%</th>\n",
       "      <td>9.00</td>\n",
       "      <td>170.06</td>\n",
       "    </tr>\n",
       "    <tr>\n",
       "      <th>max</th>\n",
       "      <td>10.00</td>\n",
       "      <td>1788.28</td>\n",
       "    </tr>\n",
       "  </tbody>\n",
       "</table>\n",
       "</div>"
      ],
      "text/plain": [
       "       source_id    costs\n",
       "count    2542.00  2542.00\n",
       "mean        4.86   129.48\n",
       "std         3.18   156.30\n",
       "min         1.00     0.54\n",
       "25%         2.00    21.95\n",
       "50%         4.00    77.30\n",
       "75%         9.00   170.06\n",
       "max        10.00  1788.28"
      ]
     },
     "metadata": {},
     "output_type": "display_data"
    },
    {
     "name": "stdout",
     "output_type": "stream",
     "text": [
      "Количество дублей: 0\n"
     ]
    }
   ],
   "source": [
    "display(costs.head())\n",
    "display(costs.info())\n",
    "display(costs.describe())\n",
    "print('Количество дублей:', costs.duplicated().sum())"
   ]
  },
  {
   "cell_type": "markdown",
   "metadata": {},
   "source": [
    "Требуется преобразование типа данных для даты"
   ]
  },
  {
   "cell_type": "code",
   "execution_count": 44,
   "metadata": {
    "ExecuteTime": {
     "end_time": "2020-08-18T20:29:08.442246Z",
     "start_time": "2020-08-18T20:29:08.420232Z"
    }
   },
   "outputs": [
    {
     "name": "stdout",
     "output_type": "stream",
     "text": [
      "<class 'pandas.core.frame.DataFrame'>\n",
      "RangeIndex: 2542 entries, 0 to 2541\n",
      "Data columns (total 3 columns):\n",
      " #   Column     Non-Null Count  Dtype         \n",
      "---  ------     --------------  -----         \n",
      " 0   source_id  2542 non-null   int64         \n",
      " 1   dt         2542 non-null   datetime64[ns]\n",
      " 2   costs      2542 non-null   float64       \n",
      "dtypes: datetime64[ns](1), float64(1), int64(1)\n",
      "memory usage: 59.7 KB\n"
     ]
    }
   ],
   "source": [
    "costs['dt'] =  costs['dt'].astype('Datetime64')\n",
    "costs.info()"
   ]
  },
  {
   "cell_type": "code",
   "execution_count": 45,
   "metadata": {
    "ExecuteTime": {
     "end_time": "2020-08-18T20:29:08.537316Z",
     "start_time": "2020-08-18T20:29:08.445248Z"
    }
   },
   "outputs": [
    {
     "data": {
      "text/html": [
       "<div>\n",
       "<style scoped>\n",
       "    .dataframe tbody tr th:only-of-type {\n",
       "        vertical-align: middle;\n",
       "    }\n",
       "\n",
       "    .dataframe tbody tr th {\n",
       "        vertical-align: top;\n",
       "    }\n",
       "\n",
       "    .dataframe thead th {\n",
       "        text-align: right;\n",
       "    }\n",
       "</style>\n",
       "<table border=\"1\" class=\"dataframe\">\n",
       "  <thead>\n",
       "    <tr style=\"text-align: right;\">\n",
       "      <th></th>\n",
       "      <th>Buy Ts</th>\n",
       "      <th>Revenue</th>\n",
       "      <th>Uid</th>\n",
       "    </tr>\n",
       "  </thead>\n",
       "  <tbody>\n",
       "    <tr>\n",
       "      <th>0</th>\n",
       "      <td>2017-06-01 00:10:00</td>\n",
       "      <td>17.00</td>\n",
       "      <td>10329302124590727494</td>\n",
       "    </tr>\n",
       "    <tr>\n",
       "      <th>1</th>\n",
       "      <td>2017-06-01 00:25:00</td>\n",
       "      <td>0.55</td>\n",
       "      <td>11627257723692907447</td>\n",
       "    </tr>\n",
       "    <tr>\n",
       "      <th>2</th>\n",
       "      <td>2017-06-01 00:27:00</td>\n",
       "      <td>0.37</td>\n",
       "      <td>17903680561304213844</td>\n",
       "    </tr>\n",
       "    <tr>\n",
       "      <th>3</th>\n",
       "      <td>2017-06-01 00:29:00</td>\n",
       "      <td>0.55</td>\n",
       "      <td>16109239769442553005</td>\n",
       "    </tr>\n",
       "    <tr>\n",
       "      <th>4</th>\n",
       "      <td>2017-06-01 07:58:00</td>\n",
       "      <td>0.37</td>\n",
       "      <td>14200605875248379450</td>\n",
       "    </tr>\n",
       "  </tbody>\n",
       "</table>\n",
       "</div>"
      ],
      "text/plain": [
       "                Buy Ts  Revenue                   Uid\n",
       "0  2017-06-01 00:10:00    17.00  10329302124590727494\n",
       "1  2017-06-01 00:25:00     0.55  11627257723692907447\n",
       "2  2017-06-01 00:27:00     0.37  17903680561304213844\n",
       "3  2017-06-01 00:29:00     0.55  16109239769442553005\n",
       "4  2017-06-01 07:58:00     0.37  14200605875248379450"
      ]
     },
     "metadata": {},
     "output_type": "display_data"
    },
    {
     "name": "stdout",
     "output_type": "stream",
     "text": [
      "<class 'pandas.core.frame.DataFrame'>\n",
      "RangeIndex: 50415 entries, 0 to 50414\n",
      "Data columns (total 3 columns):\n",
      " #   Column   Non-Null Count  Dtype  \n",
      "---  ------   --------------  -----  \n",
      " 0   Buy Ts   50415 non-null  object \n",
      " 1   Revenue  50415 non-null  float64\n",
      " 2   Uid      50415 non-null  uint64 \n",
      "dtypes: float64(1), object(1), uint64(1)\n",
      "memory usage: 1.2+ MB\n"
     ]
    },
    {
     "data": {
      "text/plain": [
       "None"
      ]
     },
     "metadata": {},
     "output_type": "display_data"
    },
    {
     "data": {
      "text/html": [
       "<div>\n",
       "<style scoped>\n",
       "    .dataframe tbody tr th:only-of-type {\n",
       "        vertical-align: middle;\n",
       "    }\n",
       "\n",
       "    .dataframe tbody tr th {\n",
       "        vertical-align: top;\n",
       "    }\n",
       "\n",
       "    .dataframe thead th {\n",
       "        text-align: right;\n",
       "    }\n",
       "</style>\n",
       "<table border=\"1\" class=\"dataframe\">\n",
       "  <thead>\n",
       "    <tr style=\"text-align: right;\">\n",
       "      <th></th>\n",
       "      <th>Revenue</th>\n",
       "      <th>Uid</th>\n",
       "    </tr>\n",
       "  </thead>\n",
       "  <tbody>\n",
       "    <tr>\n",
       "      <th>count</th>\n",
       "      <td>50415.00</td>\n",
       "      <td>5.04e+04</td>\n",
       "    </tr>\n",
       "    <tr>\n",
       "      <th>mean</th>\n",
       "      <td>5.00</td>\n",
       "      <td>9.10e+18</td>\n",
       "    </tr>\n",
       "    <tr>\n",
       "      <th>std</th>\n",
       "      <td>21.82</td>\n",
       "      <td>5.29e+18</td>\n",
       "    </tr>\n",
       "    <tr>\n",
       "      <th>min</th>\n",
       "      <td>0.00</td>\n",
       "      <td>3.14e+14</td>\n",
       "    </tr>\n",
       "    <tr>\n",
       "      <th>25%</th>\n",
       "      <td>1.22</td>\n",
       "      <td>4.53e+18</td>\n",
       "    </tr>\n",
       "    <tr>\n",
       "      <th>50%</th>\n",
       "      <td>2.50</td>\n",
       "      <td>9.10e+18</td>\n",
       "    </tr>\n",
       "    <tr>\n",
       "      <th>75%</th>\n",
       "      <td>4.89</td>\n",
       "      <td>1.37e+19</td>\n",
       "    </tr>\n",
       "    <tr>\n",
       "      <th>max</th>\n",
       "      <td>2633.28</td>\n",
       "      <td>1.84e+19</td>\n",
       "    </tr>\n",
       "  </tbody>\n",
       "</table>\n",
       "</div>"
      ],
      "text/plain": [
       "        Revenue       Uid\n",
       "count  50415.00  5.04e+04\n",
       "mean       5.00  9.10e+18\n",
       "std       21.82  5.29e+18\n",
       "min        0.00  3.14e+14\n",
       "25%        1.22  4.53e+18\n",
       "50%        2.50  9.10e+18\n",
       "75%        4.89  1.37e+19\n",
       "max     2633.28  1.84e+19"
      ]
     },
     "metadata": {},
     "output_type": "display_data"
    },
    {
     "name": "stdout",
     "output_type": "stream",
     "text": [
      "Количество дублей: 0\n"
     ]
    }
   ],
   "source": [
    "display(orders.head())\n",
    "display(orders.info())\n",
    "display(orders.describe())\n",
    "print('Количество дублей:', orders.duplicated().sum())"
   ]
  },
  {
   "cell_type": "markdown",
   "metadata": {},
   "source": [
    "Необходимо поменять тип данный для даты, переименовать столбцы и детальнее посмотреть на нулеве значения дохода и максимальные, уж очень это похоже на выбросы."
   ]
  },
  {
   "cell_type": "code",
   "execution_count": 46,
   "metadata": {
    "ExecuteTime": {
     "end_time": "2020-08-18T20:29:08.555329Z",
     "start_time": "2020-08-18T20:29:08.540319Z"
    }
   },
   "outputs": [
    {
     "data": {
      "text/html": [
       "<div>\n",
       "<style scoped>\n",
       "    .dataframe tbody tr th:only-of-type {\n",
       "        vertical-align: middle;\n",
       "    }\n",
       "\n",
       "    .dataframe tbody tr th {\n",
       "        vertical-align: top;\n",
       "    }\n",
       "\n",
       "    .dataframe thead th {\n",
       "        text-align: right;\n",
       "    }\n",
       "</style>\n",
       "<table border=\"1\" class=\"dataframe\">\n",
       "  <thead>\n",
       "    <tr style=\"text-align: right;\">\n",
       "      <th></th>\n",
       "      <th>Buy Ts</th>\n",
       "      <th>Revenue</th>\n",
       "      <th>Uid</th>\n",
       "    </tr>\n",
       "  </thead>\n",
       "  <tbody>\n",
       "    <tr>\n",
       "      <th>0</th>\n",
       "      <td>2017-06-01 00:10:00</td>\n",
       "      <td>17.00</td>\n",
       "      <td>10329302124590727494</td>\n",
       "    </tr>\n",
       "    <tr>\n",
       "      <th>1</th>\n",
       "      <td>2017-06-01 00:25:00</td>\n",
       "      <td>0.55</td>\n",
       "      <td>11627257723692907447</td>\n",
       "    </tr>\n",
       "    <tr>\n",
       "      <th>2</th>\n",
       "      <td>2017-06-01 00:27:00</td>\n",
       "      <td>0.37</td>\n",
       "      <td>17903680561304213844</td>\n",
       "    </tr>\n",
       "    <tr>\n",
       "      <th>3</th>\n",
       "      <td>2017-06-01 00:29:00</td>\n",
       "      <td>0.55</td>\n",
       "      <td>16109239769442553005</td>\n",
       "    </tr>\n",
       "    <tr>\n",
       "      <th>4</th>\n",
       "      <td>2017-06-01 07:58:00</td>\n",
       "      <td>0.37</td>\n",
       "      <td>14200605875248379450</td>\n",
       "    </tr>\n",
       "  </tbody>\n",
       "</table>\n",
       "</div>"
      ],
      "text/plain": [
       "                Buy Ts  Revenue                   Uid\n",
       "0  2017-06-01 00:10:00    17.00  10329302124590727494\n",
       "1  2017-06-01 00:25:00     0.55  11627257723692907447\n",
       "2  2017-06-01 00:27:00     0.37  17903680561304213844\n",
       "3  2017-06-01 00:29:00     0.55  16109239769442553005\n",
       "4  2017-06-01 07:58:00     0.37  14200605875248379450"
      ]
     },
     "execution_count": 46,
     "metadata": {},
     "output_type": "execute_result"
    }
   ],
   "source": [
    "orders.head()"
   ]
  },
  {
   "cell_type": "code",
   "execution_count": 47,
   "metadata": {
    "ExecuteTime": {
     "end_time": "2020-08-18T20:29:08.678423Z",
     "start_time": "2020-08-18T20:29:08.560333Z"
    }
   },
   "outputs": [],
   "source": [
    "orders.columns=['buy_ts', 'revenue', 'uid']\n",
    "orders['buy_ts'] = orders['buy_ts'].astype('Datetime64')"
   ]
  },
  {
   "cell_type": "code",
   "execution_count": 48,
   "metadata": {
    "ExecuteTime": {
     "end_time": "2020-08-18T20:29:09.002664Z",
     "start_time": "2020-08-18T20:29:08.682425Z"
    }
   },
   "outputs": [
    {
     "data": {
      "text/plain": [
       "<matplotlib.axes._subplots.AxesSubplot at 0x24424561608>"
      ]
     },
     "execution_count": 48,
     "metadata": {},
     "output_type": "execute_result"
    },
    {
     "data": {
      "image/png": "[encoded data removed]",
      "text/plain": [
       "<Figure size 432x288 with 1 Axes>"
      ]
     },
     "metadata": {
      "needs_background": "light"
     },
     "output_type": "display_data"
    }
   ],
   "source": [
    "orders.boxplot(column='revenue')"
   ]
  },
  {
   "cell_type": "code",
   "execution_count": 49,
   "metadata": {
    "ExecuteTime": {
     "end_time": "2020-08-18T20:29:09.022678Z",
     "start_time": "2020-08-18T20:29:09.005666Z"
    }
   },
   "outputs": [
    {
     "data": {
      "text/plain": [
       "buy_ts     51\n",
       "revenue    51\n",
       "uid        51\n",
       "dtype: int64"
      ]
     },
     "execution_count": 49,
     "metadata": {},
     "output_type": "execute_result"
    }
   ],
   "source": [
    "orders.query('revenue==0').count()"
   ]
  },
  {
   "cell_type": "markdown",
   "metadata": {},
   "source": [
    "Итого мы имеем достаточное количество клиентов, которые принесли сверх прибыль. Возможно в будущем от них нужно будет избавиться, но пока же уберем только заказы, которые не принесли нам прибыли. "
   ]
  },
  {
   "cell_type": "code",
   "execution_count": 50,
   "metadata": {
    "ExecuteTime": {
     "end_time": "2020-08-18T20:29:09.066706Z",
     "start_time": "2020-08-18T20:29:09.025679Z"
    }
   },
   "outputs": [],
   "source": [
    "orders = orders.query('revenue != 0')"
   ]
  },
  {
   "cell_type": "code",
   "execution_count": 51,
   "metadata": {
    "ExecuteTime": {
     "end_time": "2020-08-18T20:29:09.673821Z",
     "start_time": "2020-08-18T20:29:09.069715Z"
    }
   },
   "outputs": [
    {
     "data": {
      "text/html": [
       "<div>\n",
       "<style scoped>\n",
       "    .dataframe tbody tr th:only-of-type {\n",
       "        vertical-align: middle;\n",
       "    }\n",
       "\n",
       "    .dataframe tbody tr th {\n",
       "        vertical-align: top;\n",
       "    }\n",
       "\n",
       "    .dataframe thead th {\n",
       "        text-align: right;\n",
       "    }\n",
       "</style>\n",
       "<table border=\"1\" class=\"dataframe\">\n",
       "  <thead>\n",
       "    <tr style=\"text-align: right;\">\n",
       "      <th></th>\n",
       "      <th>Device</th>\n",
       "      <th>End Ts</th>\n",
       "      <th>Source Id</th>\n",
       "      <th>Start Ts</th>\n",
       "      <th>Uid</th>\n",
       "    </tr>\n",
       "  </thead>\n",
       "  <tbody>\n",
       "    <tr>\n",
       "      <th>0</th>\n",
       "      <td>touch</td>\n",
       "      <td>2017-12-20 17:38:00</td>\n",
       "      <td>4</td>\n",
       "      <td>2017-12-20 17:20:00</td>\n",
       "      <td>16879256277535980062</td>\n",
       "    </tr>\n",
       "    <tr>\n",
       "      <th>1</th>\n",
       "      <td>desktop</td>\n",
       "      <td>2018-02-19 17:21:00</td>\n",
       "      <td>2</td>\n",
       "      <td>2018-02-19 16:53:00</td>\n",
       "      <td>104060357244891740</td>\n",
       "    </tr>\n",
       "    <tr>\n",
       "      <th>2</th>\n",
       "      <td>touch</td>\n",
       "      <td>2017-07-01 01:54:00</td>\n",
       "      <td>5</td>\n",
       "      <td>2017-07-01 01:54:00</td>\n",
       "      <td>7459035603376831527</td>\n",
       "    </tr>\n",
       "    <tr>\n",
       "      <th>3</th>\n",
       "      <td>desktop</td>\n",
       "      <td>2018-05-20 11:23:00</td>\n",
       "      <td>9</td>\n",
       "      <td>2018-05-20 10:59:00</td>\n",
       "      <td>16174680259334210214</td>\n",
       "    </tr>\n",
       "    <tr>\n",
       "      <th>4</th>\n",
       "      <td>desktop</td>\n",
       "      <td>2017-12-27 14:06:00</td>\n",
       "      <td>3</td>\n",
       "      <td>2017-12-27 14:06:00</td>\n",
       "      <td>9969694820036681168</td>\n",
       "    </tr>\n",
       "  </tbody>\n",
       "</table>\n",
       "</div>"
      ],
      "text/plain": [
       "    Device               End Ts  Source Id             Start Ts  \\\n",
       "0    touch  2017-12-20 17:38:00          4  2017-12-20 17:20:00   \n",
       "1  desktop  2018-02-19 17:21:00          2  2018-02-19 16:53:00   \n",
       "2    touch  2017-07-01 01:54:00          5  2017-07-01 01:54:00   \n",
       "3  desktop  2018-05-20 11:23:00          9  2018-05-20 10:59:00   \n",
       "4  desktop  2017-12-27 14:06:00          3  2017-12-27 14:06:00   \n",
       "\n",
       "                    Uid  \n",
       "0  16879256277535980062  \n",
       "1    104060357244891740  \n",
       "2   7459035603376831527  \n",
       "3  16174680259334210214  \n",
       "4   9969694820036681168  "
      ]
     },
     "metadata": {},
     "output_type": "display_data"
    },
    {
     "name": "stdout",
     "output_type": "stream",
     "text": [
      "<class 'pandas.core.frame.DataFrame'>\n",
      "RangeIndex: 359400 entries, 0 to 359399\n",
      "Data columns (total 5 columns):\n",
      " #   Column     Non-Null Count   Dtype \n",
      "---  ------     --------------   ----- \n",
      " 0   Device     359400 non-null  object\n",
      " 1   End Ts     359400 non-null  object\n",
      " 2   Source Id  359400 non-null  int64 \n",
      " 3   Start Ts   359400 non-null  object\n",
      " 4   Uid        359400 non-null  uint64\n",
      "dtypes: int64(1), object(3), uint64(1)\n",
      "memory usage: 13.7+ MB\n"
     ]
    },
    {
     "data": {
      "text/plain": [
       "None"
      ]
     },
     "metadata": {},
     "output_type": "display_data"
    },
    {
     "data": {
      "text/html": [
       "<div>\n",
       "<style scoped>\n",
       "    .dataframe tbody tr th:only-of-type {\n",
       "        vertical-align: middle;\n",
       "    }\n",
       "\n",
       "    .dataframe tbody tr th {\n",
       "        vertical-align: top;\n",
       "    }\n",
       "\n",
       "    .dataframe thead th {\n",
       "        text-align: right;\n",
       "    }\n",
       "</style>\n",
       "<table border=\"1\" class=\"dataframe\">\n",
       "  <thead>\n",
       "    <tr style=\"text-align: right;\">\n",
       "      <th></th>\n",
       "      <th>Source Id</th>\n",
       "      <th>Uid</th>\n",
       "    </tr>\n",
       "  </thead>\n",
       "  <tbody>\n",
       "    <tr>\n",
       "      <th>count</th>\n",
       "      <td>359400.00</td>\n",
       "      <td>3.59e+05</td>\n",
       "    </tr>\n",
       "    <tr>\n",
       "      <th>mean</th>\n",
       "      <td>3.75</td>\n",
       "      <td>9.20e+18</td>\n",
       "    </tr>\n",
       "    <tr>\n",
       "      <th>std</th>\n",
       "      <td>1.92</td>\n",
       "      <td>5.30e+18</td>\n",
       "    </tr>\n",
       "    <tr>\n",
       "      <th>min</th>\n",
       "      <td>1.00</td>\n",
       "      <td>1.19e+13</td>\n",
       "    </tr>\n",
       "    <tr>\n",
       "      <th>25%</th>\n",
       "      <td>3.00</td>\n",
       "      <td>4.61e+18</td>\n",
       "    </tr>\n",
       "    <tr>\n",
       "      <th>50%</th>\n",
       "      <td>4.00</td>\n",
       "      <td>9.23e+18</td>\n",
       "    </tr>\n",
       "    <tr>\n",
       "      <th>75%</th>\n",
       "      <td>5.00</td>\n",
       "      <td>1.37e+19</td>\n",
       "    </tr>\n",
       "    <tr>\n",
       "      <th>max</th>\n",
       "      <td>10.00</td>\n",
       "      <td>1.84e+19</td>\n",
       "    </tr>\n",
       "  </tbody>\n",
       "</table>\n",
       "</div>"
      ],
      "text/plain": [
       "       Source Id       Uid\n",
       "count  359400.00  3.59e+05\n",
       "mean        3.75  9.20e+18\n",
       "std         1.92  5.30e+18\n",
       "min         1.00  1.19e+13\n",
       "25%         3.00  4.61e+18\n",
       "50%         4.00  9.23e+18\n",
       "75%         5.00  1.37e+19\n",
       "max        10.00  1.84e+19"
      ]
     },
     "metadata": {},
     "output_type": "display_data"
    },
    {
     "name": "stdout",
     "output_type": "stream",
     "text": [
      "Количество дублей: 0\n"
     ]
    }
   ],
   "source": [
    "display(visits.head())\n",
    "display(visits.info())\n",
    "display(visits.describe())\n",
    "print('Количество дублей:', visits.duplicated().sum())"
   ]
  },
  {
   "cell_type": "markdown",
   "metadata": {},
   "source": [
    "Поменяем название колонок, приведем дату к нужному типу"
   ]
  },
  {
   "cell_type": "code",
   "execution_count": 52,
   "metadata": {
    "ExecuteTime": {
     "end_time": "2020-08-18T20:29:10.569619Z",
     "start_time": "2020-08-18T20:29:09.676822Z"
    }
   },
   "outputs": [
    {
     "name": "stdout",
     "output_type": "stream",
     "text": [
      "<class 'pandas.core.frame.DataFrame'>\n",
      "RangeIndex: 359400 entries, 0 to 359399\n",
      "Data columns (total 5 columns):\n",
      " #   Column     Non-Null Count   Dtype         \n",
      "---  ------     --------------   -----         \n",
      " 0   device     359400 non-null  object        \n",
      " 1   end_ts     359400 non-null  datetime64[ns]\n",
      " 2   source_id  359400 non-null  int64         \n",
      " 3   start_ss   359400 non-null  datetime64[ns]\n",
      " 4   uid        359400 non-null  uint64        \n",
      "dtypes: datetime64[ns](2), int64(1), object(1), uint64(1)\n",
      "memory usage: 13.7+ MB\n"
     ]
    }
   ],
   "source": [
    "visits.columns = ['device', 'end_ts', 'source_id', 'start_ss', 'uid']\n",
    "visits[['end_ts','start_ss']]=visits[['end_ts','start_ss']].astype('Datetime64')\n",
    "visits.info()"
   ]
  },
  {
   "cell_type": "markdown",
   "metadata": {},
   "source": [
    "## Вывод\n",
    "\n",
    "Серьезных проблем не было, привел названия столбцов в корректный формат, поменял тип данных в столбцах с датами, убрал пару лишних записей. Данные подготовлены для дальнейших манипуляций и обработки."
   ]
  },
  {
   "cell_type": "markdown",
   "metadata": {},
   "source": [
    "[План работы](#plan)"
   ]
  },
  {
   "cell_type": "markdown",
   "metadata": {},
   "source": [
    "<a id=step2></a>\n",
    "# Шаг 2. Построить отчёты и посчитать метрики\n",
    "## Продукт"
   ]
  },
  {
   "cell_type": "code",
   "execution_count": 53,
   "metadata": {
    "ExecuteTime": {
     "end_time": "2020-08-18T20:29:10.895464Z",
     "start_time": "2020-08-18T20:29:10.572125Z"
    }
   },
   "outputs": [],
   "source": [
    "# выделяем год/месяц/неделю/день посещения\n",
    "visits['year'] = visits['start_ss'].dt.year\n",
    "visits['month'] = visits['start_ss'].dt.month\n",
    "visits['week'] = visits['start_ss'].dt.week\n",
    "visits['day'] = visits['start_ss'].dt.date"
   ]
  },
  {
   "cell_type": "code",
   "execution_count": 54,
   "metadata": {
    "ExecuteTime": {
     "end_time": "2020-08-18T20:29:11.779862Z",
     "start_time": "2020-08-18T20:29:10.897464Z"
    }
   },
   "outputs": [
    {
     "name": "stdout",
     "output_type": "stream",
     "text": [
      " DAU = 907 \n",
      " WAU = 5716 \n",
      " MAU = 23228 \n",
      " sticky factor = 0.16\n"
     ]
    }
   ],
   "source": [
    "DAU = int(visits.groupby('day')['uid'].nunique().mean())\n",
    "WAU = int(visits.groupby(['year','week'])['uid'].nunique().mean())\n",
    "MAU = int(visits.groupby(['year','month'])['uid'].nunique().mean())\n",
    "print(' DAU =',DAU,'\\n', 'WAU =',WAU ,'\\n', 'MAU =',MAU,'\\n','sticky factor =', round(DAU/WAU, 2))"
   ]
  },
  {
   "cell_type": "markdown",
   "metadata": {},
   "source": [
    "Посчитали среднее количество посещений"
   ]
  },
  {
   "cell_type": "code",
   "execution_count": 55,
   "metadata": {
    "ExecuteTime": {
     "end_time": "2020-08-18T20:29:11.851416Z",
     "start_time": "2020-08-18T20:29:11.783366Z"
    }
   },
   "outputs": [
    {
     "name": "stdout",
     "output_type": "stream",
     "text": [
      "Среднее количество сессий в день 987\n"
     ]
    }
   ],
   "source": [
    "sessions_by_month = visits.groupby(['day']).agg({'uid':['count']}).mean()\n",
    "print('Среднее количество сессий в день', int(sessions_by_month))"
   ]
  },
  {
   "cell_type": "code",
   "execution_count": 56,
   "metadata": {
    "ExecuteTime": {
     "end_time": "2020-08-18T20:29:11.913046Z",
     "start_time": "2020-08-18T20:29:11.854417Z"
    }
   },
   "outputs": [],
   "source": [
    "# посмотрим на длительность сессий\n",
    "visits['session_duration'] = (visits['end_ts'] - visits['start_ss']).dt.seconds"
   ]
  },
  {
   "cell_type": "code",
   "execution_count": 57,
   "metadata": {
    "ExecuteTime": {
     "end_time": "2020-08-18T20:29:11.946068Z",
     "start_time": "2020-08-18T20:29:11.916053Z"
    }
   },
   "outputs": [
    {
     "data": {
      "text/plain": [
       "count    359400.00\n",
       "mean        643.51\n",
       "std        1016.33\n",
       "min           0.00\n",
       "25%         120.00\n",
       "50%         300.00\n",
       "75%         840.00\n",
       "max       84480.00\n",
       "Name: session_duration, dtype: float64"
      ]
     },
     "execution_count": 57,
     "metadata": {},
     "output_type": "execute_result"
    }
   ],
   "source": [
    "visits['session_duration'].describe()"
   ]
  },
  {
   "cell_type": "code",
   "execution_count": 58,
   "metadata": {
    "ExecuteTime": {
     "end_time": "2020-08-18T20:29:12.240662Z",
     "start_time": "2020-08-18T20:29:11.949071Z"
    }
   },
   "outputs": [
    {
     "data": {
      "image/png": "[encoded data removed]",
      "text/plain": [
       "<Figure size 432x288 with 1 Axes>"
      ]
     },
     "metadata": {
      "needs_background": "light"
     },
     "output_type": "display_data"
    }
   ],
   "source": [
    "# уберем слишком выдающиеся значения\n",
    "visits['session_duration'].hist(range=[1,3000])\n",
    "plt.title('Распределение продолжительности сессий');"
   ]
  },
  {
   "cell_type": "code",
   "execution_count": 59,
   "metadata": {
    "ExecuteTime": {
     "end_time": "2020-08-18T20:29:12.266680Z",
     "start_time": "2020-08-18T20:29:12.248668Z"
    }
   },
   "outputs": [
    {
     "name": "stdout",
     "output_type": "stream",
     "text": [
      "Самая часто встречающаяся продолжительность сессии - 60\n"
     ]
    }
   ],
   "source": [
    "print('Самая часто встречающаяся продолжительность сессии -',visits['session_duration'].mode()[0])"
   ]
  },
  {
   "cell_type": "markdown",
   "metadata": {},
   "source": [
    "Определили среднее количество сессий в день и посмотрели на продолжительность сессий\n",
    "\n",
    "Приступим к анализу retention, подготовим данные для когортного анализа"
   ]
  },
  {
   "cell_type": "code",
   "execution_count": 60,
   "metadata": {
    "ExecuteTime": {
     "end_time": "2020-08-18T20:29:12.752078Z",
     "start_time": "2020-08-18T20:29:12.272694Z"
    }
   },
   "outputs": [
    {
     "data": {
      "text/html": [
       "<div>\n",
       "<style scoped>\n",
       "    .dataframe tbody tr th:only-of-type {\n",
       "        vertical-align: middle;\n",
       "    }\n",
       "\n",
       "    .dataframe tbody tr th {\n",
       "        vertical-align: top;\n",
       "    }\n",
       "\n",
       "    .dataframe thead th {\n",
       "        text-align: right;\n",
       "    }\n",
       "</style>\n",
       "<table border=\"1\" class=\"dataframe\">\n",
       "  <thead>\n",
       "    <tr style=\"text-align: right;\">\n",
       "      <th></th>\n",
       "      <th>device</th>\n",
       "      <th>end_ts</th>\n",
       "      <th>source_id</th>\n",
       "      <th>start_ss</th>\n",
       "      <th>uid</th>\n",
       "      <th>year</th>\n",
       "      <th>month</th>\n",
       "      <th>week</th>\n",
       "      <th>day</th>\n",
       "      <th>session_duration</th>\n",
       "      <th>first_visit</th>\n",
       "    </tr>\n",
       "  </thead>\n",
       "  <tbody>\n",
       "    <tr>\n",
       "      <th>0</th>\n",
       "      <td>touch</td>\n",
       "      <td>2017-12-20 17:38:00</td>\n",
       "      <td>4</td>\n",
       "      <td>2017-12-20 17:20:00</td>\n",
       "      <td>16879256277535980062</td>\n",
       "      <td>2017</td>\n",
       "      <td>12</td>\n",
       "      <td>51</td>\n",
       "      <td>2017-12-20</td>\n",
       "      <td>1080</td>\n",
       "      <td>2017-12-01</td>\n",
       "    </tr>\n",
       "    <tr>\n",
       "      <th>1</th>\n",
       "      <td>desktop</td>\n",
       "      <td>2018-02-19 17:21:00</td>\n",
       "      <td>2</td>\n",
       "      <td>2018-02-19 16:53:00</td>\n",
       "      <td>104060357244891740</td>\n",
       "      <td>2018</td>\n",
       "      <td>2</td>\n",
       "      <td>8</td>\n",
       "      <td>2018-02-19</td>\n",
       "      <td>1680</td>\n",
       "      <td>2018-02-01</td>\n",
       "    </tr>\n",
       "    <tr>\n",
       "      <th>2</th>\n",
       "      <td>touch</td>\n",
       "      <td>2017-07-01 01:54:00</td>\n",
       "      <td>5</td>\n",
       "      <td>2017-07-01 01:54:00</td>\n",
       "      <td>7459035603376831527</td>\n",
       "      <td>2017</td>\n",
       "      <td>7</td>\n",
       "      <td>26</td>\n",
       "      <td>2017-07-01</td>\n",
       "      <td>0</td>\n",
       "      <td>2017-07-01</td>\n",
       "    </tr>\n",
       "    <tr>\n",
       "      <th>3</th>\n",
       "      <td>desktop</td>\n",
       "      <td>2018-05-20 11:23:00</td>\n",
       "      <td>9</td>\n",
       "      <td>2018-05-20 10:59:00</td>\n",
       "      <td>16174680259334210214</td>\n",
       "      <td>2018</td>\n",
       "      <td>5</td>\n",
       "      <td>20</td>\n",
       "      <td>2018-05-20</td>\n",
       "      <td>1440</td>\n",
       "      <td>2018-03-01</td>\n",
       "    </tr>\n",
       "    <tr>\n",
       "      <th>4</th>\n",
       "      <td>desktop</td>\n",
       "      <td>2017-12-27 14:06:00</td>\n",
       "      <td>3</td>\n",
       "      <td>2017-12-27 14:06:00</td>\n",
       "      <td>9969694820036681168</td>\n",
       "      <td>2017</td>\n",
       "      <td>12</td>\n",
       "      <td>52</td>\n",
       "      <td>2017-12-27</td>\n",
       "      <td>0</td>\n",
       "      <td>2017-12-01</td>\n",
       "    </tr>\n",
       "  </tbody>\n",
       "</table>\n",
       "</div>"
      ],
      "text/plain": [
       "    device              end_ts  source_id            start_ss  \\\n",
       "0    touch 2017-12-20 17:38:00          4 2017-12-20 17:20:00   \n",
       "1  desktop 2018-02-19 17:21:00          2 2018-02-19 16:53:00   \n",
       "2    touch 2017-07-01 01:54:00          5 2017-07-01 01:54:00   \n",
       "3  desktop 2018-05-20 11:23:00          9 2018-05-20 10:59:00   \n",
       "4  desktop 2017-12-27 14:06:00          3 2017-12-27 14:06:00   \n",
       "\n",
       "                    uid  year  month  week         day  session_duration  \\\n",
       "0  16879256277535980062  2017     12    51  2017-12-20              1080   \n",
       "1    104060357244891740  2018      2     8  2018-02-19              1680   \n",
       "2   7459035603376831527  2017      7    26  2017-07-01                 0   \n",
       "3  16174680259334210214  2018      5    20  2018-05-20              1440   \n",
       "4   9969694820036681168  2017     12    52  2017-12-27                 0   \n",
       "\n",
       "  first_visit  \n",
       "0  2017-12-01  \n",
       "1  2018-02-01  \n",
       "2  2017-07-01  \n",
       "3  2018-03-01  \n",
       "4  2017-12-01  "
      ]
     },
     "execution_count": 60,
     "metadata": {},
     "output_type": "execute_result"
    }
   ],
   "source": [
    "# добавим год/месяц первого визита , чтобы сформировать когорты\n",
    "first_visits = visits.groupby('uid')['start_ss'].min()\n",
    "first_visits.name='first_visit'\n",
    "visits = visits.join(first_visits, on='uid')\n",
    "visits['first_visit'] = visits['first_visit'].astype('datetime64[M]')\n",
    "\n",
    "visits.head()"
   ]
  },
  {
   "cell_type": "code",
   "execution_count": 61,
   "metadata": {
    "ExecuteTime": {
     "end_time": "2020-08-18T20:29:12.870172Z",
     "start_time": "2020-08-18T20:29:12.754078Z"
    }
   },
   "outputs": [],
   "source": [
    "# добавим год/месяц визита\n",
    "visits['visit_month'] =  visits['start_ss'].astype('datetime64[M]')\n",
    "visits['lifetime'] = ((visits['visit_month'] - visits['first_visit']) / np.timedelta64(1,'M')).round().astype('int')"
   ]
  },
  {
   "cell_type": "code",
   "execution_count": 62,
   "metadata": {
    "ExecuteTime": {
     "end_time": "2020-08-18T20:29:13.248396Z",
     "start_time": "2020-08-18T20:29:12.872193Z"
    }
   },
   "outputs": [
    {
     "data": {
      "text/html": [
       "<div>\n",
       "<style scoped>\n",
       "    .dataframe tbody tr th:only-of-type {\n",
       "        vertical-align: middle;\n",
       "    }\n",
       "\n",
       "    .dataframe tbody tr th {\n",
       "        vertical-align: top;\n",
       "    }\n",
       "\n",
       "    .dataframe thead th {\n",
       "        text-align: right;\n",
       "    }\n",
       "</style>\n",
       "<table border=\"1\" class=\"dataframe\">\n",
       "  <thead>\n",
       "    <tr style=\"text-align: right;\">\n",
       "      <th></th>\n",
       "      <th>first_visit</th>\n",
       "      <th>lifetime</th>\n",
       "      <th>uid</th>\n",
       "    </tr>\n",
       "  </thead>\n",
       "  <tbody>\n",
       "    <tr>\n",
       "      <th>0</th>\n",
       "      <td>2017-06-01</td>\n",
       "      <td>0</td>\n",
       "      <td>13259</td>\n",
       "    </tr>\n",
       "    <tr>\n",
       "      <th>1</th>\n",
       "      <td>2017-06-01</td>\n",
       "      <td>1</td>\n",
       "      <td>1043</td>\n",
       "    </tr>\n",
       "    <tr>\n",
       "      <th>2</th>\n",
       "      <td>2017-06-01</td>\n",
       "      <td>2</td>\n",
       "      <td>713</td>\n",
       "    </tr>\n",
       "    <tr>\n",
       "      <th>3</th>\n",
       "      <td>2017-06-01</td>\n",
       "      <td>3</td>\n",
       "      <td>814</td>\n",
       "    </tr>\n",
       "    <tr>\n",
       "      <th>4</th>\n",
       "      <td>2017-06-01</td>\n",
       "      <td>4</td>\n",
       "      <td>909</td>\n",
       "    </tr>\n",
       "  </tbody>\n",
       "</table>\n",
       "</div>"
      ],
      "text/plain": [
       "  first_visit  lifetime    uid\n",
       "0  2017-06-01         0  13259\n",
       "1  2017-06-01         1   1043\n",
       "2  2017-06-01         2    713\n",
       "3  2017-06-01         3    814\n",
       "4  2017-06-01         4    909"
      ]
     },
     "execution_count": 62,
     "metadata": {},
     "output_type": "execute_result"
    }
   ],
   "source": [
    "# посчитаем сколько пользвателей было в каждой когорте в определенный lifetime\n",
    "visit_cohorts = visits.groupby(['first_visit','lifetime'])['uid'].nunique().reset_index()\n",
    "visit_cohorts.head()"
   ]
  },
  {
   "cell_type": "code",
   "execution_count": 63,
   "metadata": {
    "ExecuteTime": {
     "end_time": "2020-08-18T20:29:13.270410Z",
     "start_time": "2020-08-18T20:29:13.251398Z"
    }
   },
   "outputs": [
    {
     "data": {
      "text/html": [
       "<div>\n",
       "<style scoped>\n",
       "    .dataframe tbody tr th:only-of-type {\n",
       "        vertical-align: middle;\n",
       "    }\n",
       "\n",
       "    .dataframe tbody tr th {\n",
       "        vertical-align: top;\n",
       "    }\n",
       "\n",
       "    .dataframe thead th {\n",
       "        text-align: right;\n",
       "    }\n",
       "</style>\n",
       "<table border=\"1\" class=\"dataframe\">\n",
       "  <thead>\n",
       "    <tr style=\"text-align: right;\">\n",
       "      <th></th>\n",
       "      <th>first_visit</th>\n",
       "      <th>initial_users</th>\n",
       "    </tr>\n",
       "  </thead>\n",
       "  <tbody>\n",
       "    <tr>\n",
       "      <th>0</th>\n",
       "      <td>2017-06-01</td>\n",
       "      <td>13259</td>\n",
       "    </tr>\n",
       "    <tr>\n",
       "      <th>12</th>\n",
       "      <td>2017-07-01</td>\n",
       "      <td>13140</td>\n",
       "    </tr>\n",
       "    <tr>\n",
       "      <th>23</th>\n",
       "      <td>2017-08-01</td>\n",
       "      <td>10181</td>\n",
       "    </tr>\n",
       "    <tr>\n",
       "      <th>33</th>\n",
       "      <td>2017-09-01</td>\n",
       "      <td>16704</td>\n",
       "    </tr>\n",
       "    <tr>\n",
       "      <th>42</th>\n",
       "      <td>2017-10-01</td>\n",
       "      <td>25977</td>\n",
       "    </tr>\n",
       "  </tbody>\n",
       "</table>\n",
       "</div>"
      ],
      "text/plain": [
       "   first_visit  initial_users\n",
       "0   2017-06-01          13259\n",
       "12  2017-07-01          13140\n",
       "23  2017-08-01          10181\n",
       "33  2017-09-01          16704\n",
       "42  2017-10-01          25977"
      ]
     },
     "execution_count": 63,
     "metadata": {},
     "output_type": "execute_result"
    }
   ],
   "source": [
    "# сохраним сколько пользователей было в 0ой lifetime в каждой когорте\n",
    "initial_cohorts_users = visit_cohorts[visit_cohorts['lifetime'] == 0][['first_visit','uid']]\n",
    "initial_cohorts_users.rename(columns={'uid':'initial_users'}, inplace=True)\n",
    "initial_cohorts_users.head()"
   ]
  },
  {
   "cell_type": "code",
   "execution_count": 64,
   "metadata": {
    "ExecuteTime": {
     "end_time": "2020-08-18T20:29:13.317977Z",
     "start_time": "2020-08-18T20:29:13.273417Z"
    }
   },
   "outputs": [],
   "source": [
    "visit_cohorts = visit_cohorts.merge(initial_cohorts_users, on='first_visit')"
   ]
  },
  {
   "cell_type": "code",
   "execution_count": 65,
   "metadata": {
    "ExecuteTime": {
     "end_time": "2020-08-18T20:29:13.387026Z",
     "start_time": "2020-08-18T20:29:13.320977Z"
    }
   },
   "outputs": [
    {
     "data": {
      "text/html": [
       "<div>\n",
       "<style scoped>\n",
       "    .dataframe tbody tr th:only-of-type {\n",
       "        vertical-align: middle;\n",
       "    }\n",
       "\n",
       "    .dataframe tbody tr th {\n",
       "        vertical-align: top;\n",
       "    }\n",
       "\n",
       "    .dataframe thead th {\n",
       "        text-align: right;\n",
       "    }\n",
       "</style>\n",
       "<table border=\"1\" class=\"dataframe\">\n",
       "  <thead>\n",
       "    <tr style=\"text-align: right;\">\n",
       "      <th>lifetime</th>\n",
       "      <th>0</th>\n",
       "      <th>1</th>\n",
       "      <th>2</th>\n",
       "      <th>3</th>\n",
       "      <th>4</th>\n",
       "      <th>5</th>\n",
       "      <th>6</th>\n",
       "      <th>7</th>\n",
       "      <th>8</th>\n",
       "      <th>9</th>\n",
       "      <th>10</th>\n",
       "      <th>11</th>\n",
       "    </tr>\n",
       "    <tr>\n",
       "      <th>first_visit</th>\n",
       "      <th></th>\n",
       "      <th></th>\n",
       "      <th></th>\n",
       "      <th></th>\n",
       "      <th></th>\n",
       "      <th></th>\n",
       "      <th></th>\n",
       "      <th></th>\n",
       "      <th></th>\n",
       "      <th></th>\n",
       "      <th></th>\n",
       "      <th></th>\n",
       "    </tr>\n",
       "  </thead>\n",
       "  <tbody>\n",
       "    <tr>\n",
       "      <th>2017-06-01</th>\n",
       "      <td>100.0</td>\n",
       "      <td>7.9</td>\n",
       "      <td>5.4</td>\n",
       "      <td>6.1</td>\n",
       "      <td>6.9</td>\n",
       "      <td>7.1</td>\n",
       "      <td>6.1</td>\n",
       "      <td>5.8</td>\n",
       "      <td>5.2</td>\n",
       "      <td>5.1</td>\n",
       "      <td>4.1</td>\n",
       "      <td>4.5</td>\n",
       "    </tr>\n",
       "    <tr>\n",
       "      <th>2017-07-01</th>\n",
       "      <td>100.0</td>\n",
       "      <td>5.6</td>\n",
       "      <td>5.1</td>\n",
       "      <td>5.6</td>\n",
       "      <td>5.8</td>\n",
       "      <td>4.8</td>\n",
       "      <td>4.5</td>\n",
       "      <td>4.6</td>\n",
       "      <td>3.9</td>\n",
       "      <td>2.9</td>\n",
       "      <td>2.7</td>\n",
       "      <td></td>\n",
       "    </tr>\n",
       "    <tr>\n",
       "      <th>2017-08-01</th>\n",
       "      <td>100.0</td>\n",
       "      <td>7.7</td>\n",
       "      <td>6.3</td>\n",
       "      <td>6.3</td>\n",
       "      <td>5</td>\n",
       "      <td>4.4</td>\n",
       "      <td>3.6</td>\n",
       "      <td>3.9</td>\n",
       "      <td>2.8</td>\n",
       "      <td>2.6</td>\n",
       "      <td></td>\n",
       "      <td></td>\n",
       "    </tr>\n",
       "    <tr>\n",
       "      <th>2017-09-01</th>\n",
       "      <td>100.0</td>\n",
       "      <td>8.5</td>\n",
       "      <td>6.9</td>\n",
       "      <td>5.1</td>\n",
       "      <td>3.9</td>\n",
       "      <td>3.8</td>\n",
       "      <td>3.6</td>\n",
       "      <td>2.4</td>\n",
       "      <td>2.3</td>\n",
       "      <td></td>\n",
       "      <td></td>\n",
       "      <td></td>\n",
       "    </tr>\n",
       "    <tr>\n",
       "      <th>2017-10-01</th>\n",
       "      <td>100.0</td>\n",
       "      <td>7.9</td>\n",
       "      <td>5.2</td>\n",
       "      <td>3.9</td>\n",
       "      <td>3.4</td>\n",
       "      <td>3.2</td>\n",
       "      <td>2.1</td>\n",
       "      <td>2</td>\n",
       "      <td></td>\n",
       "      <td></td>\n",
       "      <td></td>\n",
       "      <td></td>\n",
       "    </tr>\n",
       "    <tr>\n",
       "      <th>2017-11-01</th>\n",
       "      <td>100.0</td>\n",
       "      <td>7.8</td>\n",
       "      <td>4.4</td>\n",
       "      <td>3.9</td>\n",
       "      <td>3.4</td>\n",
       "      <td>2.3</td>\n",
       "      <td>2.2</td>\n",
       "      <td></td>\n",
       "      <td></td>\n",
       "      <td></td>\n",
       "      <td></td>\n",
       "      <td></td>\n",
       "    </tr>\n",
       "    <tr>\n",
       "      <th>2017-12-01</th>\n",
       "      <td>100.0</td>\n",
       "      <td>5.6</td>\n",
       "      <td>3.8</td>\n",
       "      <td>3.1</td>\n",
       "      <td>2</td>\n",
       "      <td>1.9</td>\n",
       "      <td></td>\n",
       "      <td></td>\n",
       "      <td></td>\n",
       "      <td></td>\n",
       "      <td></td>\n",
       "      <td></td>\n",
       "    </tr>\n",
       "    <tr>\n",
       "      <th>2018-01-01</th>\n",
       "      <td>100.0</td>\n",
       "      <td>6</td>\n",
       "      <td>3.9</td>\n",
       "      <td>2.5</td>\n",
       "      <td>2</td>\n",
       "      <td></td>\n",
       "      <td></td>\n",
       "      <td></td>\n",
       "      <td></td>\n",
       "      <td></td>\n",
       "      <td></td>\n",
       "      <td></td>\n",
       "    </tr>\n",
       "    <tr>\n",
       "      <th>2018-02-01</th>\n",
       "      <td>100.0</td>\n",
       "      <td>5.7</td>\n",
       "      <td>2.5</td>\n",
       "      <td>2</td>\n",
       "      <td></td>\n",
       "      <td></td>\n",
       "      <td></td>\n",
       "      <td></td>\n",
       "      <td></td>\n",
       "      <td></td>\n",
       "      <td></td>\n",
       "      <td></td>\n",
       "    </tr>\n",
       "    <tr>\n",
       "      <th>2018-03-01</th>\n",
       "      <td>100.0</td>\n",
       "      <td>4.2</td>\n",
       "      <td>2.7</td>\n",
       "      <td></td>\n",
       "      <td></td>\n",
       "      <td></td>\n",
       "      <td></td>\n",
       "      <td></td>\n",
       "      <td></td>\n",
       "      <td></td>\n",
       "      <td></td>\n",
       "      <td></td>\n",
       "    </tr>\n",
       "    <tr>\n",
       "      <th>2018-04-01</th>\n",
       "      <td>100.0</td>\n",
       "      <td>4.8</td>\n",
       "      <td></td>\n",
       "      <td></td>\n",
       "      <td></td>\n",
       "      <td></td>\n",
       "      <td></td>\n",
       "      <td></td>\n",
       "      <td></td>\n",
       "      <td></td>\n",
       "      <td></td>\n",
       "      <td></td>\n",
       "    </tr>\n",
       "    <tr>\n",
       "      <th>2018-05-01</th>\n",
       "      <td>100.0</td>\n",
       "      <td></td>\n",
       "      <td></td>\n",
       "      <td></td>\n",
       "      <td></td>\n",
       "      <td></td>\n",
       "      <td></td>\n",
       "      <td></td>\n",
       "      <td></td>\n",
       "      <td></td>\n",
       "      <td></td>\n",
       "      <td></td>\n",
       "    </tr>\n",
       "  </tbody>\n",
       "</table>\n",
       "</div>"
      ],
      "text/plain": [
       "lifetime        0    1    2    3    4    5    6    7    8    9    10   11\n",
       "first_visit                                                              \n",
       "2017-06-01   100.0  7.9  5.4  6.1  6.9  7.1  6.1  5.8  5.2  5.1  4.1  4.5\n",
       "2017-07-01   100.0  5.6  5.1  5.6  5.8  4.8  4.5  4.6  3.9  2.9  2.7     \n",
       "2017-08-01   100.0  7.7  6.3  6.3    5  4.4  3.6  3.9  2.8  2.6          \n",
       "2017-09-01   100.0  8.5  6.9  5.1  3.9  3.8  3.6  2.4  2.3               \n",
       "2017-10-01   100.0  7.9  5.2  3.9  3.4  3.2  2.1    2                    \n",
       "2017-11-01   100.0  7.8  4.4  3.9  3.4  2.3  2.2                         \n",
       "2017-12-01   100.0  5.6  3.8  3.1    2  1.9                              \n",
       "2018-01-01   100.0    6  3.9  2.5    2                                   \n",
       "2018-02-01   100.0  5.7  2.5    2                                        \n",
       "2018-03-01   100.0  4.2  2.7                                             \n",
       "2018-04-01   100.0  4.8                                                  \n",
       "2018-05-01   100.0                                                       "
      ]
     },
     "execution_count": 65,
     "metadata": {},
     "output_type": "execute_result"
    }
   ],
   "source": [
    "visit_cohorts['retention'] = (visit_cohorts['uid']/visit_cohorts['initial_users'])*100\n",
    "visit_cohorts.pivot_table(index='first_visit', columns='lifetime', \n",
    "                          values='retention', aggfunc='mean',fill_value='')"
   ]
  },
  {
   "cell_type": "markdown",
   "metadata": {},
   "source": [
    "### Вывод\n",
    "Retention rate показывает, что на следующий месяц жизни мы теряем большую часть пользователей из когорты! Однако, в последующем отток становится уже не таким существенным, и с нами остается достаточно лояльная аудитория. По первой когорте в крайний год жизни видим даже увеличение retention. Как бы увеличить процент возврата...\n",
    "\n",
    "Кроме того, каждый день сервисом пользуется в среднем 1к пользователей, в то время как среднее количество сессий тоже около 1к, то есть один пользователей, как правило незаходит за день дважды. Чаще всего пользователи проводят на сервисе минуту. Так же, судя по графику распределения, пользователям хватает около 5 минут нахождения в Я.Афише, нашлись даже такие, кто сидел на Афише почти сутки (возможно ошибка)."
   ]
  },
  {
   "cell_type": "markdown",
   "metadata": {},
   "source": [
    "## Продажи"
   ]
  },
  {
   "cell_type": "code",
   "execution_count": 66,
   "metadata": {
    "ExecuteTime": {
     "end_time": "2020-08-18T20:29:13.436563Z",
     "start_time": "2020-08-18T20:29:13.389534Z"
    }
   },
   "outputs": [],
   "source": [
    "# найдем дату первой покупки и добавим в df с покупками\n",
    "first_buy = orders.groupby('uid')['buy_ts'].min()\n",
    "first_buy.name = 'first_buy' \n",
    "orders = orders.join(first_buy, on='uid')\n",
    "orders['first_buy_month'] = orders['first_buy'].astype('datetime64[M]') "
   ]
  },
  {
   "cell_type": "code",
   "execution_count": 67,
   "metadata": {
    "ExecuteTime": {
     "end_time": "2020-08-18T20:29:14.280838Z",
     "start_time": "2020-08-18T20:29:13.438565Z"
    }
   },
   "outputs": [],
   "source": [
    "# добавим в таблицу с визитами данные о первой покупке левым мерджем, так как не все посетители совершают покупки\n",
    "visits = visits.merge(orders[['uid','first_buy_month']], on='uid', how='left')"
   ]
  },
  {
   "cell_type": "code",
   "execution_count": 68,
   "metadata": {
    "ExecuteTime": {
     "end_time": "2020-08-18T20:29:14.401557Z",
     "start_time": "2020-08-18T20:29:14.283340Z"
    }
   },
   "outputs": [],
   "source": [
    "# посчитаем сколько дней проходит между первой покупкой и первым визитом\n",
    "visits['days_before_first_order'] = ((visits['first_buy_month'] - visits['first_visit'])/ np.timedelta64(1,'D')).astype('Int64')"
   ]
  },
  {
   "cell_type": "code",
   "execution_count": 69,
   "metadata": {
    "ExecuteTime": {
     "end_time": "2020-08-18T20:29:14.483613Z",
     "start_time": "2020-08-18T20:29:14.405559Z"
    }
   },
   "outputs": [
    {
     "data": {
      "text/plain": [
       "array(['touch', 'desktop'], dtype=object)"
      ]
     },
     "execution_count": 69,
     "metadata": {},
     "output_type": "execute_result"
    }
   ],
   "source": [
    "visits['device'].unique()"
   ]
  },
  {
   "cell_type": "code",
   "execution_count": 70,
   "metadata": {
    "ExecuteTime": {
     "end_time": "2020-08-18T20:29:14.943481Z",
     "start_time": "2020-08-18T20:29:14.487116Z"
    }
   },
   "outputs": [
    {
     "data": {
      "text/plain": [
       "count    48585.00\n",
       "mean        53.98\n",
       "std         78.52\n",
       "min          0.00\n",
       "25%          0.00\n",
       "50%          0.00\n",
       "75%         92.00\n",
       "max        334.00\n",
       "Name: days_before_first_order, dtype: float64"
      ]
     },
     "execution_count": 70,
     "metadata": {},
     "output_type": "execute_result"
    }
   ],
   "source": [
    "visits[visits['device'] == 'touch']['days_before_first_order'].describe()"
   ]
  },
  {
   "cell_type": "code",
   "execution_count": 71,
   "metadata": {
    "ExecuteTime": {
     "end_time": "2020-08-18T20:29:16.147761Z",
     "start_time": "2020-08-18T20:29:14.946484Z"
    }
   },
   "outputs": [
    {
     "data": {
      "text/plain": [
       "count    711198.00\n",
       "mean         13.80\n",
       "std          38.03\n",
       "min           0.00\n",
       "25%           0.00\n",
       "50%           0.00\n",
       "75%           0.00\n",
       "max         334.00\n",
       "Name: days_before_first_order, dtype: float64"
      ]
     },
     "execution_count": 71,
     "metadata": {},
     "output_type": "execute_result"
    }
   ],
   "source": [
    "visits[visits['device'] == 'desktop']['days_before_first_order'].describe()"
   ]
  },
  {
   "cell_type": "markdown",
   "metadata": {
    "ExecuteTime": {
     "end_time": "2020-08-14T17:58:56.827044Z",
     "start_time": "2020-08-14T17:58:56.803698Z"
    }
   },
   "source": [
    "Выяснили, что среднее время между первой покупкой и первым визитом для мобильных устрйоств - 53 дня, для декстопов 13. По всей видимости это значение слишком завышено, так как находятся посетители, которым требуется почти год на то чтобы решиться что-то купить. \n",
    "\n",
    "Медиана же тут более показательна, она равна 0 у всех устройств, значит в большинстве случаев первая покупка приходится на первый визит. Чтобы наверняка, построим гистограмму."
   ]
  },
  {
   "cell_type": "code",
   "execution_count": 72,
   "metadata": {
    "ExecuteTime": {
     "end_time": "2020-08-18T20:29:16.791053Z",
     "start_time": "2020-08-18T20:29:16.150764Z"
    }
   },
   "outputs": [
    {
     "data": {
      "image/png": "[encoded data removed]",
      "text/plain": [
       "<Figure size 432x288 with 1 Axes>"
      ]
     },
     "metadata": {
      "needs_background": "light"
     },
     "output_type": "display_data"
    }
   ],
   "source": [
    "visits.loc[visits['days_before_first_order'].notna(),'days_before_first_order'].hist()\n",
    "plt.title('Количество дней с первого визита до первой покупки для всех устройств');"
   ]
  },
  {
   "cell_type": "markdown",
   "metadata": {},
   "source": [
    "Теперь посморим как часто пользователи покупают. Найдем количество покупкой в день/месяц/год\n",
    "\n",
    "Для этого добавим в таблицу с заказами год/месяц/неделю заказа"
   ]
  },
  {
   "cell_type": "code",
   "execution_count": 73,
   "metadata": {
    "ExecuteTime": {
     "end_time": "2020-08-18T20:29:16.847090Z",
     "start_time": "2020-08-18T20:29:16.794055Z"
    }
   },
   "outputs": [],
   "source": [
    "orders['year'] = orders['buy_ts'].dt.year\n",
    "orders['month'] = orders['buy_ts'].dt.month\n",
    "orders['week'] = orders['buy_ts'].dt.week\n",
    "orders['day'] = orders['buy_ts'].dt.date"
   ]
  },
  {
   "cell_type": "code",
   "execution_count": 74,
   "metadata": {
    "ExecuteTime": {
     "end_time": "2020-08-18T20:29:16.876615Z",
     "start_time": "2020-08-18T20:29:16.849090Z"
    }
   },
   "outputs": [
    {
     "name": "stdout",
     "output_type": "stream",
     "text": [
      "Количество заказов по годам\n"
     ]
    },
    {
     "data": {
      "text/plain": [
       "year\n",
       "2017    27428\n",
       "2018    22936\n",
       "Name: revenue, dtype: int64"
      ]
     },
     "metadata": {},
     "output_type": "display_data"
    }
   ],
   "source": [
    "print('Количество заказов по годам')\n",
    "display(orders.groupby('year')['revenue'].count())"
   ]
  },
  {
   "cell_type": "code",
   "execution_count": 75,
   "metadata": {
    "ExecuteTime": {
     "end_time": "2020-08-18T20:29:16.900635Z",
     "start_time": "2020-08-18T20:29:16.879616Z"
    }
   },
   "outputs": [],
   "source": [
    "# удалим единственный заказ в июне, так как он \"заваливает\" график\n",
    "orders['buy_ts'].max()\n",
    "orders = orders.query('buy_ts != \"2018-06-01 00:02:00\"')"
   ]
  },
  {
   "cell_type": "code",
   "execution_count": 76,
   "metadata": {
    "ExecuteTime": {
     "end_time": "2020-08-18T20:29:17.351946Z",
     "start_time": "2020-08-18T20:29:16.904638Z"
    }
   },
   "outputs": [
    {
     "data": {
      "image/png": "[encoded data removed]",
      "text/plain": [
       "<Figure size 1080x360 with 2 Axes>"
      ]
     },
     "metadata": {
      "needs_background": "light"
     },
     "output_type": "display_data"
    }
   ],
   "source": [
    "fig, axs = plt.subplots(1,2, figsize=(15,5))\n",
    "orders.groupby(['year','month'])['revenue'].count().plot(grid=True, ax=axs[0]).set_title('Продажи по месяцам')\n",
    "orders.groupby(['year','week'])['revenue'].count().plot(grid=True, ax=axs[1]).set_title('Продажи по неделям');"
   ]
  },
  {
   "cell_type": "markdown",
   "metadata": {},
   "source": [
    "Все говорит о том, что первое полугодие было успешнее последующего, по крайней мере в абсолютных цифрах. Может сказывается тот факт, что после зимы люди больше проводят времени в отпусках, на свежем воздухе и т.п.\n",
    "Интересно, что увидем по деньгам."
   ]
  },
  {
   "cell_type": "code",
   "execution_count": 77,
   "metadata": {
    "ExecuteTime": {
     "end_time": "2020-08-18T20:29:17.619013Z",
     "start_time": "2020-08-18T20:29:17.354949Z"
    }
   },
   "outputs": [
    {
     "data": {
      "text/plain": [
       "Text(0.5, 1.0, 'Продажи по дням')"
      ]
     },
     "execution_count": 77,
     "metadata": {},
     "output_type": "execute_result"
    },
    {
     "data": {
      "image/png": "[encoded data removed]",
      "text/plain": [
       "<Figure size 432x288 with 1 Axes>"
      ]
     },
     "metadata": {
      "needs_background": "light"
     },
     "output_type": "display_data"
    }
   ],
   "source": [
    "orders.groupby(['day'])['revenue'].count().plot(grid=True).set_title('Продажи по дням')"
   ]
  },
  {
   "cell_type": "markdown",
   "metadata": {},
   "source": [
    "По дням мы видим что новый год является пиковым значением, а так же на конец первого полугодия приходится много продаж."
   ]
  },
  {
   "cell_type": "code",
   "execution_count": 78,
   "metadata": {
    "ExecuteTime": {
     "end_time": "2020-08-18T20:29:17.847181Z",
     "start_time": "2020-08-18T20:29:17.621015Z"
    }
   },
   "outputs": [
    {
     "data": {
      "image/png": "[encoded data removed]",
      "text/plain": [
       "<Figure size 720x360 with 1 Axes>"
      ]
     },
     "metadata": {
      "needs_background": "light"
     },
     "output_type": "display_data"
    }
   ],
   "source": [
    "plt.figure(figsize=(10, 5))\n",
    "orders.groupby(['year','month'])['revenue'].mean().plot(grid=True)\n",
    "plt.title('Динамика среднего чека по месяцам');"
   ]
  },
  {
   "cell_type": "code",
   "execution_count": 79,
   "metadata": {
    "ExecuteTime": {
     "end_time": "2020-08-18T20:29:18.074346Z",
     "start_time": "2020-08-18T20:29:17.849184Z"
    }
   },
   "outputs": [
    {
     "data": {
      "image/png": "[encoded data removed]",
      "text/plain": [
       "<Figure size 720x360 with 1 Axes>"
      ]
     },
     "metadata": {
      "needs_background": "light"
     },
     "output_type": "display_data"
    }
   ],
   "source": [
    "plt.figure(figsize=(10, 5))\n",
    "orders.groupby(['year','month'])['revenue'].mean().plot(grid=True)\n",
    "plt.title('Динамика среднего чека по месяцам');"
   ]
  },
  {
   "cell_type": "markdown",
   "metadata": {},
   "source": [
    "Средний чек колеблится от 4 - 5,75 у.е., пиковые значения были под НГ (что не удивительно). И вроде бы после январского спада пошел подъем, но потом опять падение. \n",
    "\n",
    "Далее приступим к анализу LTV. "
   ]
  },
  {
   "cell_type": "code",
   "execution_count": 80,
   "metadata": {
    "ExecuteTime": {
     "end_time": "2020-08-18T20:29:18.091364Z",
     "start_time": "2020-08-18T20:29:18.078353Z"
    }
   },
   "outputs": [],
   "source": [
    "# определим месяц покупки \n",
    "orders['buy_month'] = orders['buy_ts'].astype('datetime64[M]')"
   ]
  },
  {
   "cell_type": "code",
   "execution_count": 81,
   "metadata": {
    "ExecuteTime": {
     "end_time": "2020-08-18T20:29:18.157408Z",
     "start_time": "2020-08-18T20:29:18.094368Z"
    }
   },
   "outputs": [
    {
     "data": {
      "text/html": [
       "<div>\n",
       "<style scoped>\n",
       "    .dataframe tbody tr th:only-of-type {\n",
       "        vertical-align: middle;\n",
       "    }\n",
       "\n",
       "    .dataframe tbody tr th {\n",
       "        vertical-align: top;\n",
       "    }\n",
       "\n",
       "    .dataframe thead th {\n",
       "        text-align: right;\n",
       "    }\n",
       "</style>\n",
       "<table border=\"1\" class=\"dataframe\">\n",
       "  <thead>\n",
       "    <tr style=\"text-align: right;\">\n",
       "      <th></th>\n",
       "      <th>first_buy_month</th>\n",
       "      <th>buyers</th>\n",
       "    </tr>\n",
       "  </thead>\n",
       "  <tbody>\n",
       "    <tr>\n",
       "      <th>0</th>\n",
       "      <td>2017-06-01</td>\n",
       "      <td>2022</td>\n",
       "    </tr>\n",
       "    <tr>\n",
       "      <th>1</th>\n",
       "      <td>2017-07-01</td>\n",
       "      <td>1922</td>\n",
       "    </tr>\n",
       "    <tr>\n",
       "      <th>2</th>\n",
       "      <td>2017-08-01</td>\n",
       "      <td>1369</td>\n",
       "    </tr>\n",
       "    <tr>\n",
       "      <th>3</th>\n",
       "      <td>2017-09-01</td>\n",
       "      <td>2579</td>\n",
       "    </tr>\n",
       "    <tr>\n",
       "      <th>4</th>\n",
       "      <td>2017-10-01</td>\n",
       "      <td>4340</td>\n",
       "    </tr>\n",
       "    <tr>\n",
       "      <th>5</th>\n",
       "      <td>2017-11-01</td>\n",
       "      <td>4078</td>\n",
       "    </tr>\n",
       "    <tr>\n",
       "      <th>6</th>\n",
       "      <td>2017-12-01</td>\n",
       "      <td>4380</td>\n",
       "    </tr>\n",
       "    <tr>\n",
       "      <th>7</th>\n",
       "      <td>2018-01-01</td>\n",
       "      <td>3373</td>\n",
       "    </tr>\n",
       "    <tr>\n",
       "      <th>8</th>\n",
       "      <td>2018-02-01</td>\n",
       "      <td>3651</td>\n",
       "    </tr>\n",
       "    <tr>\n",
       "      <th>9</th>\n",
       "      <td>2018-03-01</td>\n",
       "      <td>3534</td>\n",
       "    </tr>\n",
       "    <tr>\n",
       "      <th>10</th>\n",
       "      <td>2018-04-01</td>\n",
       "      <td>2274</td>\n",
       "    </tr>\n",
       "    <tr>\n",
       "      <th>11</th>\n",
       "      <td>2018-05-01</td>\n",
       "      <td>2986</td>\n",
       "    </tr>\n",
       "  </tbody>\n",
       "</table>\n",
       "</div>"
      ],
      "text/plain": [
       "   first_buy_month  buyers\n",
       "0       2017-06-01    2022\n",
       "1       2017-07-01    1922\n",
       "2       2017-08-01    1369\n",
       "3       2017-09-01    2579\n",
       "4       2017-10-01    4340\n",
       "5       2017-11-01    4078\n",
       "6       2017-12-01    4380\n",
       "7       2018-01-01    3373\n",
       "8       2018-02-01    3651\n",
       "9       2018-03-01    3534\n",
       "10      2018-04-01    2274\n",
       "11      2018-05-01    2986"
      ]
     },
     "execution_count": 81,
     "metadata": {},
     "output_type": "execute_result"
    }
   ],
   "source": [
    "# посчитаем количество пользователей каждой когорты \n",
    "orders_cohort_size = orders.groupby('first_buy_month').agg({'uid':'nunique'}).reset_index()\n",
    "orders_cohort_size.columns = ['first_buy_month', 'buyers']\n",
    "orders_cohort_size"
   ]
  },
  {
   "cell_type": "code",
   "execution_count": 82,
   "metadata": {
    "ExecuteTime": {
     "end_time": "2020-08-18T20:29:18.184430Z",
     "start_time": "2020-08-18T20:29:18.160411Z"
    }
   },
   "outputs": [],
   "source": [
    "# рассчитаем выручку каждой когорты по месяцам и объединим таблицу с количеством пользователей и выручкой\n",
    "orders_revenue = orders.groupby(['first_buy_month', 'buy_month'])['revenue'].sum().reset_index()\n",
    "ltv_report = pd.merge(orders_cohort_size,orders_revenue, on='first_buy_month')"
   ]
  },
  {
   "cell_type": "code",
   "execution_count": 83,
   "metadata": {
    "ExecuteTime": {
     "end_time": "2020-08-18T20:29:18.307699Z",
     "start_time": "2020-08-18T20:29:18.188933Z"
    }
   },
   "outputs": [
    {
     "data": {
      "text/html": [
       "<div>\n",
       "<style scoped>\n",
       "    .dataframe tbody tr th:only-of-type {\n",
       "        vertical-align: middle;\n",
       "    }\n",
       "\n",
       "    .dataframe tbody tr th {\n",
       "        vertical-align: top;\n",
       "    }\n",
       "\n",
       "    .dataframe thead th {\n",
       "        text-align: right;\n",
       "    }\n",
       "</style>\n",
       "<table border=\"1\" class=\"dataframe\">\n",
       "  <thead>\n",
       "    <tr style=\"text-align: right;\">\n",
       "      <th>age</th>\n",
       "      <th>0</th>\n",
       "      <th>1</th>\n",
       "      <th>2</th>\n",
       "      <th>3</th>\n",
       "      <th>4</th>\n",
       "      <th>5</th>\n",
       "      <th>6</th>\n",
       "      <th>7</th>\n",
       "      <th>8</th>\n",
       "      <th>9</th>\n",
       "      <th>10</th>\n",
       "      <th>11</th>\n",
       "      <th>All</th>\n",
       "    </tr>\n",
       "    <tr>\n",
       "      <th>first_buy_month</th>\n",
       "      <th></th>\n",
       "      <th></th>\n",
       "      <th></th>\n",
       "      <th></th>\n",
       "      <th></th>\n",
       "      <th></th>\n",
       "      <th></th>\n",
       "      <th></th>\n",
       "      <th></th>\n",
       "      <th></th>\n",
       "      <th></th>\n",
       "      <th></th>\n",
       "      <th></th>\n",
       "    </tr>\n",
       "  </thead>\n",
       "  <tbody>\n",
       "    <tr>\n",
       "      <th>2017-06-01 00:00:00</th>\n",
       "      <td>4.7</td>\n",
       "      <td>0.49</td>\n",
       "      <td>0.44</td>\n",
       "      <td>0.96</td>\n",
       "      <td>1</td>\n",
       "      <td>0.74</td>\n",
       "      <td>0.95</td>\n",
       "      <td>0.58</td>\n",
       "      <td>0.55</td>\n",
       "      <td>0.61</td>\n",
       "      <td>0.57</td>\n",
       "      <td>0.26</td>\n",
       "      <td>12</td>\n",
       "    </tr>\n",
       "    <tr>\n",
       "      <th>2017-07-01 00:00:00</th>\n",
       "      <td>6</td>\n",
       "      <td>0.34</td>\n",
       "      <td>0.62</td>\n",
       "      <td>0.36</td>\n",
       "      <td>0.18</td>\n",
       "      <td>0.16</td>\n",
       "      <td>0.12</td>\n",
       "      <td>0.14</td>\n",
       "      <td>0.16</td>\n",
       "      <td>0.15</td>\n",
       "      <td>0.16</td>\n",
       "      <td></td>\n",
       "      <td>8.4</td>\n",
       "    </tr>\n",
       "    <tr>\n",
       "      <th>2017-08-01 00:00:00</th>\n",
       "      <td>5.3</td>\n",
       "      <td>0.47</td>\n",
       "      <td>0.46</td>\n",
       "      <td>0.39</td>\n",
       "      <td>0.49</td>\n",
       "      <td>0.28</td>\n",
       "      <td>0.21</td>\n",
       "      <td>0.41</td>\n",
       "      <td>0.29</td>\n",
       "      <td>0.19</td>\n",
       "      <td></td>\n",
       "      <td></td>\n",
       "      <td>8.5</td>\n",
       "    </tr>\n",
       "    <tr>\n",
       "      <th>2017-09-01 00:00:00</th>\n",
       "      <td>5.6</td>\n",
       "      <td>1.1</td>\n",
       "      <td>0.52</td>\n",
       "      <td>4</td>\n",
       "      <td>0.4</td>\n",
       "      <td>0.65</td>\n",
       "      <td>0.7</td>\n",
       "      <td>0.24</td>\n",
       "      <td>0.18</td>\n",
       "      <td></td>\n",
       "      <td></td>\n",
       "      <td></td>\n",
       "      <td>13</td>\n",
       "    </tr>\n",
       "    <tr>\n",
       "      <th>2017-10-01 00:00:00</th>\n",
       "      <td>5</td>\n",
       "      <td>0.54</td>\n",
       "      <td>0.19</td>\n",
       "      <td>0.16</td>\n",
       "      <td>0.15</td>\n",
       "      <td>0.12</td>\n",
       "      <td>0.085</td>\n",
       "      <td>0.12</td>\n",
       "      <td></td>\n",
       "      <td></td>\n",
       "      <td></td>\n",
       "      <td></td>\n",
       "      <td>6.4</td>\n",
       "    </tr>\n",
       "    <tr>\n",
       "      <th>2017-11-01 00:00:00</th>\n",
       "      <td>5.2</td>\n",
       "      <td>0.4</td>\n",
       "      <td>0.2</td>\n",
       "      <td>0.33</td>\n",
       "      <td>0.15</td>\n",
       "      <td>0.054</td>\n",
       "      <td>0.12</td>\n",
       "      <td></td>\n",
       "      <td></td>\n",
       "      <td></td>\n",
       "      <td></td>\n",
       "      <td></td>\n",
       "      <td>6.4</td>\n",
       "    </tr>\n",
       "    <tr>\n",
       "      <th>2017-12-01 00:00:00</th>\n",
       "      <td>4.7</td>\n",
       "      <td>0.26</td>\n",
       "      <td>0.93</td>\n",
       "      <td>1.1</td>\n",
       "      <td>0.31</td>\n",
       "      <td>0.34</td>\n",
       "      <td></td>\n",
       "      <td></td>\n",
       "      <td></td>\n",
       "      <td></td>\n",
       "      <td></td>\n",
       "      <td></td>\n",
       "      <td>7.6</td>\n",
       "    </tr>\n",
       "    <tr>\n",
       "      <th>2018-01-01 00:00:00</th>\n",
       "      <td>4.1</td>\n",
       "      <td>0.29</td>\n",
       "      <td>0.3</td>\n",
       "      <td>0.14</td>\n",
       "      <td>0.063</td>\n",
       "      <td></td>\n",
       "      <td></td>\n",
       "      <td></td>\n",
       "      <td></td>\n",
       "      <td></td>\n",
       "      <td></td>\n",
       "      <td></td>\n",
       "      <td>4.9</td>\n",
       "    </tr>\n",
       "    <tr>\n",
       "      <th>2018-02-01 00:00:00</th>\n",
       "      <td>4.2</td>\n",
       "      <td>0.28</td>\n",
       "      <td>0.079</td>\n",
       "      <td>0.074</td>\n",
       "      <td></td>\n",
       "      <td></td>\n",
       "      <td></td>\n",
       "      <td></td>\n",
       "      <td></td>\n",
       "      <td></td>\n",
       "      <td></td>\n",
       "      <td></td>\n",
       "      <td>4.6</td>\n",
       "    </tr>\n",
       "    <tr>\n",
       "      <th>2018-03-01 00:00:00</th>\n",
       "      <td>4.8</td>\n",
       "      <td>0.3</td>\n",
       "      <td>0.32</td>\n",
       "      <td></td>\n",
       "      <td></td>\n",
       "      <td></td>\n",
       "      <td></td>\n",
       "      <td></td>\n",
       "      <td></td>\n",
       "      <td></td>\n",
       "      <td></td>\n",
       "      <td></td>\n",
       "      <td>5.5</td>\n",
       "    </tr>\n",
       "    <tr>\n",
       "      <th>2018-04-01 00:00:00</th>\n",
       "      <td>4.7</td>\n",
       "      <td>0.53</td>\n",
       "      <td></td>\n",
       "      <td></td>\n",
       "      <td></td>\n",
       "      <td></td>\n",
       "      <td></td>\n",
       "      <td></td>\n",
       "      <td></td>\n",
       "      <td></td>\n",
       "      <td></td>\n",
       "      <td></td>\n",
       "      <td>5.2</td>\n",
       "    </tr>\n",
       "    <tr>\n",
       "      <th>2018-05-01 00:00:00</th>\n",
       "      <td>4.7</td>\n",
       "      <td></td>\n",
       "      <td></td>\n",
       "      <td></td>\n",
       "      <td></td>\n",
       "      <td></td>\n",
       "      <td></td>\n",
       "      <td></td>\n",
       "      <td></td>\n",
       "      <td></td>\n",
       "      <td></td>\n",
       "      <td></td>\n",
       "      <td>4.7</td>\n",
       "    </tr>\n",
       "    <tr>\n",
       "      <th>All</th>\n",
       "      <td>59</td>\n",
       "      <td>5</td>\n",
       "      <td>4.1</td>\n",
       "      <td>7.5</td>\n",
       "      <td>2.8</td>\n",
       "      <td>2.3</td>\n",
       "      <td>2.2</td>\n",
       "      <td>1.5</td>\n",
       "      <td>1.2</td>\n",
       "      <td>0.94</td>\n",
       "      <td>0.73</td>\n",
       "      <td>0.26</td>\n",
       "      <td>87</td>\n",
       "    </tr>\n",
       "  </tbody>\n",
       "</table>\n",
       "</div>"
      ],
      "text/plain": [
       "age                    0     1      2      3      4      5      6     7     8  \\\n",
       "first_buy_month                                                                 \n",
       "2017-06-01 00:00:00  4.7  0.49   0.44   0.96      1   0.74   0.95  0.58  0.55   \n",
       "2017-07-01 00:00:00    6  0.34   0.62   0.36   0.18   0.16   0.12  0.14  0.16   \n",
       "2017-08-01 00:00:00  5.3  0.47   0.46   0.39   0.49   0.28   0.21  0.41  0.29   \n",
       "2017-09-01 00:00:00  5.6   1.1   0.52      4    0.4   0.65    0.7  0.24  0.18   \n",
       "2017-10-01 00:00:00    5  0.54   0.19   0.16   0.15   0.12  0.085  0.12         \n",
       "2017-11-01 00:00:00  5.2   0.4    0.2   0.33   0.15  0.054   0.12               \n",
       "2017-12-01 00:00:00  4.7  0.26   0.93    1.1   0.31   0.34                      \n",
       "2018-01-01 00:00:00  4.1  0.29    0.3   0.14  0.063                             \n",
       "2018-02-01 00:00:00  4.2  0.28  0.079  0.074                                    \n",
       "2018-03-01 00:00:00  4.8   0.3   0.32                                           \n",
       "2018-04-01 00:00:00  4.7  0.53                                                  \n",
       "2018-05-01 00:00:00  4.7                                                        \n",
       "All                   59     5    4.1    7.5    2.8    2.3    2.2   1.5   1.2   \n",
       "\n",
       "age                     9    10    11  All  \n",
       "first_buy_month                             \n",
       "2017-06-01 00:00:00  0.61  0.57  0.26   12  \n",
       "2017-07-01 00:00:00  0.15  0.16        8.4  \n",
       "2017-08-01 00:00:00  0.19              8.5  \n",
       "2017-09-01 00:00:00                     13  \n",
       "2017-10-01 00:00:00                    6.4  \n",
       "2017-11-01 00:00:00                    6.4  \n",
       "2017-12-01 00:00:00                    7.6  \n",
       "2018-01-01 00:00:00                    4.9  \n",
       "2018-02-01 00:00:00                    4.6  \n",
       "2018-03-01 00:00:00                    5.5  \n",
       "2018-04-01 00:00:00                    5.2  \n",
       "2018-05-01 00:00:00                    4.7  \n",
       "All                  0.94  0.73  0.26   87  "
      ]
     },
     "execution_count": 83,
     "metadata": {},
     "output_type": "execute_result"
    }
   ],
   "source": [
    "# выделим срок жизни когорт, посчитаем ltv и посмотрим на результат\n",
    "ltv_report['age'] = ((ltv_report['buy_month'] - ltv_report['first_buy_month']) / np.timedelta64(1,'M')).round().astype('int')\n",
    "ltv_report['ltv'] = ltv_report['revenue']/ltv_report['buyers']\n",
    "ltv_report.pivot_table(index='first_buy_month', values='ltv', columns='age', \n",
    "                       aggfunc='sum', fill_value='', margins=True)"
   ]
  },
  {
   "cell_type": "markdown",
   "metadata": {
    "ExecuteTime": {
     "end_time": "2020-08-14T19:15:17.669254Z",
     "start_time": "2020-08-14T19:15:17.636232Z"
    }
   },
   "source": [
    "Итого лучше прочих себя показали, естественно, первая, и, неожиданно, когорта 2017-09-01"
   ]
  },
  {
   "cell_type": "markdown",
   "metadata": {},
   "source": [
    "### Вывод"
   ]
  },
  {
   "cell_type": "markdown",
   "metadata": {},
   "source": [
    "В среднем пользователи начинают покупать на 13 (десктопы) и 53 (мобильные) день. Однако, чаще всего это происходит в день первого визита. Тем не менее, стоит задуматься, может на мобильных устрйоствах процесс покупки затруднен? \n",
    "\n",
    "Пик покупок пришелся на первое полугодие и это связано с активностью на НГ, там было зафиксировано большее всего покупок. В свою очередь, месячный средний чек находится в районе +-5 у.е. с пиковым значением на НГ и падением в январе.\n",
    "\n",
    "Самой прибыльной когортой оказалась 2017-09-01, и, естественно, самая первая, в силу того что она старше всех.\n"
   ]
  },
  {
   "cell_type": "markdown",
   "metadata": {},
   "source": [
    "## Маркетинг"
   ]
  },
  {
   "cell_type": "code",
   "execution_count": 84,
   "metadata": {
    "ExecuteTime": {
     "end_time": "2020-08-18T20:29:18.328713Z",
     "start_time": "2020-08-18T20:29:18.311703Z"
    }
   },
   "outputs": [
    {
     "data": {
      "text/html": [
       "<div>\n",
       "<style scoped>\n",
       "    .dataframe tbody tr th:only-of-type {\n",
       "        vertical-align: middle;\n",
       "    }\n",
       "\n",
       "    .dataframe tbody tr th {\n",
       "        vertical-align: top;\n",
       "    }\n",
       "\n",
       "    .dataframe thead th {\n",
       "        text-align: right;\n",
       "    }\n",
       "</style>\n",
       "<table border=\"1\" class=\"dataframe\">\n",
       "  <thead>\n",
       "    <tr style=\"text-align: right;\">\n",
       "      <th></th>\n",
       "      <th>source_id</th>\n",
       "      <th>dt</th>\n",
       "      <th>costs</th>\n",
       "    </tr>\n",
       "  </thead>\n",
       "  <tbody>\n",
       "    <tr>\n",
       "      <th>0</th>\n",
       "      <td>1</td>\n",
       "      <td>2017-06-01</td>\n",
       "      <td>75.20</td>\n",
       "    </tr>\n",
       "    <tr>\n",
       "      <th>1</th>\n",
       "      <td>1</td>\n",
       "      <td>2017-06-02</td>\n",
       "      <td>62.25</td>\n",
       "    </tr>\n",
       "    <tr>\n",
       "      <th>2</th>\n",
       "      <td>1</td>\n",
       "      <td>2017-06-03</td>\n",
       "      <td>36.53</td>\n",
       "    </tr>\n",
       "    <tr>\n",
       "      <th>3</th>\n",
       "      <td>1</td>\n",
       "      <td>2017-06-04</td>\n",
       "      <td>55.00</td>\n",
       "    </tr>\n",
       "    <tr>\n",
       "      <th>4</th>\n",
       "      <td>1</td>\n",
       "      <td>2017-06-05</td>\n",
       "      <td>57.08</td>\n",
       "    </tr>\n",
       "  </tbody>\n",
       "</table>\n",
       "</div>"
      ],
      "text/plain": [
       "   source_id         dt  costs\n",
       "0          1 2017-06-01  75.20\n",
       "1          1 2017-06-02  62.25\n",
       "2          1 2017-06-03  36.53\n",
       "3          1 2017-06-04  55.00\n",
       "4          1 2017-06-05  57.08"
      ]
     },
     "execution_count": 84,
     "metadata": {},
     "output_type": "execute_result"
    }
   ],
   "source": [
    "costs.head()"
   ]
  },
  {
   "cell_type": "code",
   "execution_count": 85,
   "metadata": {
    "ExecuteTime": {
     "end_time": "2020-08-18T20:29:18.373743Z",
     "start_time": "2020-08-18T20:29:18.331716Z"
    }
   },
   "outputs": [
    {
     "name": "stdout",
     "output_type": "stream",
     "text": [
      "Всего потрачего на продвижение - 329131.62\n"
     ]
    }
   ],
   "source": [
    "print('Всего потрачего на продвижение -',costs['costs'].sum())"
   ]
  },
  {
   "cell_type": "markdown",
   "metadata": {},
   "source": [
    "Сервис за все время потратил значительные средства на маркетинг. "
   ]
  },
  {
   "cell_type": "code",
   "execution_count": 86,
   "metadata": {
    "ExecuteTime": {
     "end_time": "2020-08-18T20:29:18.386257Z",
     "start_time": "2020-08-18T20:29:18.377750Z"
    }
   },
   "outputs": [
    {
     "name": "stdout",
     "output_type": "stream",
     "text": [
      "Выручка всего - 252053.78\n"
     ]
    }
   ],
   "source": [
    "print('Выручка всего -',orders['revenue'].sum())"
   ]
  },
  {
   "cell_type": "markdown",
   "metadata": {},
   "source": [
    "Уже сейчас можно сказать, что за анализируемый период мы оказались в убытке. Изучим подробнее затраты по источникам."
   ]
  },
  {
   "cell_type": "code",
   "execution_count": 87,
   "metadata": {
    "ExecuteTime": {
     "end_time": "2020-08-18T20:29:18.681973Z",
     "start_time": "2020-08-18T20:29:18.389759Z"
    }
   },
   "outputs": [
    {
     "data": {
      "image/png": "[encoded data removed]",
      "text/plain": [
       "<Figure size 432x288 with 1 Axes>"
      ]
     },
     "metadata": {
      "needs_background": "light"
     },
     "output_type": "display_data"
    }
   ],
   "source": [
    "costs_by_source = costs.groupby('source_id')['costs'].sum().reset_index()\n",
    "sns.barplot(x=\"source_id\", y=\"costs\", data=costs_by_source)\n",
    "plt.title('Распределение расходов по источникам');"
   ]
  },
  {
   "cell_type": "markdown",
   "metadata": {},
   "source": [
    "Итого, на источник № 3 мы потратили значительно больше чем на все остальные."
   ]
  },
  {
   "cell_type": "code",
   "execution_count": 88,
   "metadata": {
    "ExecuteTime": {
     "end_time": "2020-08-18T20:29:18.692550Z",
     "start_time": "2020-08-18T20:29:18.684975Z"
    }
   },
   "outputs": [],
   "source": [
    "costs['dt_month'] = costs['dt'].astype('datetime64[M]')"
   ]
  },
  {
   "cell_type": "code",
   "execution_count": 89,
   "metadata": {
    "ExecuteTime": {
     "end_time": "2020-08-18T20:29:18.954237Z",
     "start_time": "2020-08-18T20:29:18.694553Z"
    }
   },
   "outputs": [
    {
     "data": {
      "image/png": "[encoded data removed]",
      "text/plain": [
       "<Figure size 432x288 with 1 Axes>"
      ]
     },
     "metadata": {
      "needs_background": "light"
     },
     "output_type": "display_data"
    }
   ],
   "source": [
    "costs_by_months = costs.groupby(['dt_month'])['costs'].sum()\n",
    "costs_by_months.plot(grid=True, title='Распределение расходов по месяцам');"
   ]
  },
  {
   "cell_type": "code",
   "execution_count": 90,
   "metadata": {
    "ExecuteTime": {
     "end_time": "2020-08-18T20:29:19.285530Z",
     "start_time": "2020-08-18T20:29:18.957239Z"
    }
   },
   "outputs": [
    {
     "data": {
      "image/png": "[encoded data removed]",
      "text/plain": [
       "<Figure size 720x360 with 1 Axes>"
      ]
     },
     "metadata": {
      "needs_background": "light"
     },
     "output_type": "display_data"
    }
   ],
   "source": [
    "sources_costs_by_month = costs.pivot_table(index='dt_month', columns='source_id', values='costs', aggfunc='sum')\n",
    "sources_costs_by_month.plot(figsize=(10, 5), title='Распределение расходов на разные источники, по месяцам');"
   ]
  },
  {
   "cell_type": "markdown",
   "metadata": {},
   "source": [
    "Пик наших расходов (как и доходов) пришлеся на осень/зиму 2017. Примечательно, хоть мы и тратитились в октябре/ноябре/декабре практически одинаково, действительно значимый результат был только в под новый год. "
   ]
  },
  {
   "cell_type": "code",
   "execution_count": 91,
   "metadata": {
    "ExecuteTime": {
     "end_time": "2020-08-18T20:29:19.812972Z",
     "start_time": "2020-08-18T20:29:19.288531Z"
    }
   },
   "outputs": [
    {
     "data": {
      "text/html": [
       "<div>\n",
       "<style scoped>\n",
       "    .dataframe tbody tr th:only-of-type {\n",
       "        vertical-align: middle;\n",
       "    }\n",
       "\n",
       "    .dataframe tbody tr th {\n",
       "        vertical-align: top;\n",
       "    }\n",
       "\n",
       "    .dataframe thead th {\n",
       "        text-align: right;\n",
       "    }\n",
       "</style>\n",
       "<table border=\"1\" class=\"dataframe\">\n",
       "  <thead>\n",
       "    <tr style=\"text-align: right;\">\n",
       "      <th></th>\n",
       "      <th>source_id</th>\n",
       "      <th>n_users</th>\n",
       "    </tr>\n",
       "  </thead>\n",
       "  <tbody>\n",
       "    <tr>\n",
       "      <th>0</th>\n",
       "      <td>1</td>\n",
       "      <td>19266</td>\n",
       "    </tr>\n",
       "    <tr>\n",
       "      <th>1</th>\n",
       "      <td>2</td>\n",
       "      <td>26866</td>\n",
       "    </tr>\n",
       "    <tr>\n",
       "      <th>2</th>\n",
       "      <td>3</td>\n",
       "      <td>76020</td>\n",
       "    </tr>\n",
       "    <tr>\n",
       "      <th>3</th>\n",
       "      <td>4</td>\n",
       "      <td>84920</td>\n",
       "    </tr>\n",
       "    <tr>\n",
       "      <th>4</th>\n",
       "      <td>5</td>\n",
       "      <td>57428</td>\n",
       "    </tr>\n",
       "    <tr>\n",
       "      <th>5</th>\n",
       "      <td>6</td>\n",
       "      <td>6</td>\n",
       "    </tr>\n",
       "    <tr>\n",
       "      <th>6</th>\n",
       "      <td>7</td>\n",
       "      <td>34</td>\n",
       "    </tr>\n",
       "    <tr>\n",
       "      <th>7</th>\n",
       "      <td>9</td>\n",
       "      <td>9481</td>\n",
       "    </tr>\n",
       "    <tr>\n",
       "      <th>8</th>\n",
       "      <td>10</td>\n",
       "      <td>8144</td>\n",
       "    </tr>\n",
       "  </tbody>\n",
       "</table>\n",
       "</div>"
      ],
      "text/plain": [
       "   source_id  n_users\n",
       "0          1    19266\n",
       "1          2    26866\n",
       "2          3    76020\n",
       "3          4    84920\n",
       "4          5    57428\n",
       "5          6        6\n",
       "6          7       34\n",
       "7          9     9481\n",
       "8         10     8144"
      ]
     },
     "execution_count": 91,
     "metadata": {},
     "output_type": "execute_result"
    }
   ],
   "source": [
    "# определим количество ПЕРВЫХ заходов из каждого источника\n",
    "original_source = visits.groupby(['uid','source_id','device'])['start_ss'].min().reset_index()\n",
    "original_source_count = original_source.groupby('source_id')['uid'].count().reset_index().rename(columns={'uid':'n_users'})\n",
    "original_source_count"
   ]
  },
  {
   "cell_type": "code",
   "execution_count": 92,
   "metadata": {
    "ExecuteTime": {
     "end_time": "2020-08-18T20:29:20.528123Z",
     "start_time": "2020-08-18T20:29:19.815481Z"
    }
   },
   "outputs": [
    {
     "data": {
      "image/png": "[encoded data removed]",
      "text/plain": [
       "<Figure size 720x504 with 1 Axes>"
      ]
     },
     "metadata": {
      "needs_background": "light"
     },
     "output_type": "display_data"
    }
   ],
   "source": [
    "# дополнительно визуализируем количество пользователей из разных истоничков по месяцам\n",
    "original_source['start_month'] = original_source['start_ss'].astype('datetime64[M]')\n",
    "original_source_by_month = original_source.groupby(['start_month','source_id'])['uid'].count().reset_index()\n",
    "plt.figure(figsize=(10, 7))\n",
    "plt.title('Количество пользователей по источникам, по месяцам')\n",
    "sns.lineplot(data=original_source_by_month,x='start_month', hue='source_id', y='uid', legend='full', palette='RdYlGn');"
   ]
  },
  {
   "cell_type": "code",
   "execution_count": 93,
   "metadata": {
    "ExecuteTime": {
     "end_time": "2020-08-18T20:29:20.543133Z",
     "start_time": "2020-08-18T20:29:20.532124Z"
    },
    "scrolled": true
   },
   "outputs": [],
   "source": [
    "acquisition_cost = original_source_count.merge(costs_by_source, on='source_id', how='left').fillna(0)\n",
    "acquisition_cost['one_user_cost'] = acquisition_cost['costs'] / acquisition_cost ['n_users']"
   ]
  },
  {
   "cell_type": "code",
   "execution_count": 94,
   "metadata": {
    "ExecuteTime": {
     "end_time": "2020-08-18T20:29:20.875416Z",
     "start_time": "2020-08-18T20:29:20.546133Z"
    }
   },
   "outputs": [
    {
     "data": {
      "image/png": "[encoded data removed]",
      "text/plain": [
       "<Figure size 432x288 with 1 Axes>"
      ]
     },
     "metadata": {
      "needs_background": "light"
     },
     "output_type": "display_data"
    }
   ],
   "source": [
    "acquisition_cost.sort_values(by='one_user_cost').plot(kind='bar', x='source_id', y='one_user_cost', title='Общая стоимость привлечения пользователя');"
   ]
  },
  {
   "cell_type": "code",
   "execution_count": 95,
   "metadata": {
    "ExecuteTime": {
     "end_time": "2020-08-18T20:29:20.930071Z",
     "start_time": "2020-08-18T20:29:20.886430Z"
    }
   },
   "outputs": [
    {
     "data": {
      "text/html": [
       "<div>\n",
       "<style scoped>\n",
       "    .dataframe tbody tr th:only-of-type {\n",
       "        vertical-align: middle;\n",
       "    }\n",
       "\n",
       "    .dataframe tbody tr th {\n",
       "        vertical-align: top;\n",
       "    }\n",
       "\n",
       "    .dataframe thead th {\n",
       "        text-align: right;\n",
       "    }\n",
       "</style>\n",
       "<table border=\"1\" class=\"dataframe\">\n",
       "  <thead>\n",
       "    <tr style=\"text-align: right;\">\n",
       "      <th></th>\n",
       "      <th>start_month</th>\n",
       "      <th>source_id</th>\n",
       "      <th>uid</th>\n",
       "      <th>dt_month</th>\n",
       "      <th>costs</th>\n",
       "      <th>cac</th>\n",
       "    </tr>\n",
       "  </thead>\n",
       "  <tbody>\n",
       "    <tr>\n",
       "      <th>20</th>\n",
       "      <td>2017-08-01</td>\n",
       "      <td>10</td>\n",
       "      <td>241</td>\n",
       "      <td>2017-08-01</td>\n",
       "      <td>232.57</td>\n",
       "      <td>0.97</td>\n",
       "    </tr>\n",
       "    <tr>\n",
       "      <th>12</th>\n",
       "      <td>2017-07-01</td>\n",
       "      <td>9</td>\n",
       "      <td>515</td>\n",
       "      <td>2017-07-01</td>\n",
       "      <td>302.54</td>\n",
       "      <td>0.59</td>\n",
       "    </tr>\n",
       "    <tr>\n",
       "      <th>13</th>\n",
       "      <td>2017-07-01</td>\n",
       "      <td>10</td>\n",
       "      <td>309</td>\n",
       "      <td>2017-07-01</td>\n",
       "      <td>329.82</td>\n",
       "      <td>1.07</td>\n",
       "    </tr>\n",
       "    <tr>\n",
       "      <th>19</th>\n",
       "      <td>2017-08-01</td>\n",
       "      <td>9</td>\n",
       "      <td>524</td>\n",
       "      <td>2017-08-01</td>\n",
       "      <td>248.93</td>\n",
       "      <td>0.48</td>\n",
       "    </tr>\n",
       "    <tr>\n",
       "      <th>10</th>\n",
       "      <td>2017-07-01</td>\n",
       "      <td>4</td>\n",
       "      <td>4012</td>\n",
       "      <td>2017-07-01</td>\n",
       "      <td>3529.73</td>\n",
       "      <td>0.88</td>\n",
       "    </tr>\n",
       "  </tbody>\n",
       "</table>\n",
       "</div>"
      ],
      "text/plain": [
       "   start_month  source_id   uid   dt_month    costs   cac\n",
       "20  2017-08-01         10   241 2017-08-01   232.57  0.97\n",
       "12  2017-07-01          9   515 2017-07-01   302.54  0.59\n",
       "13  2017-07-01         10   309 2017-07-01   329.82  1.07\n",
       "19  2017-08-01          9   524 2017-08-01   248.93  0.48\n",
       "10  2017-07-01          4  4012 2017-07-01  3529.73  0.88"
      ]
     },
     "execution_count": 95,
     "metadata": {},
     "output_type": "execute_result"
    }
   ],
   "source": [
    "# делаю df для расчета cac по месяцам в разрезе источника\n",
    "costs_by_source_by_month = costs.groupby(['dt_month','source_id'])['costs'].sum().reset_index()\n",
    "cac_by_month = original_source_by_month.merge(costs_by_source_by_month, left_on=['start_month','source_id']\n",
    "                                             ,right_on=['dt_month','source_id'])\n",
    "cac_by_month['cac'] = cac_by_month['costs'] / cac_by_month['uid']\n",
    "cac_by_month.sample(5)"
   ]
  },
  {
   "cell_type": "code",
   "execution_count": 96,
   "metadata": {
    "ExecuteTime": {
     "end_time": "2020-08-18T20:29:21.471966Z",
     "start_time": "2020-08-18T20:29:20.935075Z"
    }
   },
   "outputs": [
    {
     "data": {
      "image/png": "[encoded data removed]",
      "text/plain": [
       "<Figure size 720x360 with 1 Axes>"
      ]
     },
     "metadata": {
      "needs_background": "light"
     },
     "output_type": "display_data"
    }
   ],
   "source": [
    "plt.figure(figsize=(10, 5))\n",
    "sns.lineplot(data=cac_by_month, x='dt_month', y='cac', hue='source_id', legend='full', palette='RdYlGn')\n",
    "plt.title('CAC по месяцам, в разрезе рекламных компаний');"
   ]
  },
  {
   "cell_type": "markdown",
   "metadata": {},
   "source": [
    "Дешевле всего обошлись посетители из 6 и 7 источника, там мы не потратили ничего :)\n",
    "\n",
    "Далее топ-3: 9, 10, 4\n",
    "\n",
    "Видно, что самые дорогие пользователи из источника - 3 и 2. Может не стоит так много тратить на них, учитывая что из 4го (дешевого), к нам приходит на много больше пользователей чем с 3го. И второй тоже не выглядит сильно перспективным, в то время как с не дорого 5го мы получили больше клиентов. \n",
    "\n",
    "Далее посмотрим на вопрос обобщенно, рассчитаем CAC и узнаем как окупаются наши расходы."
   ]
  },
  {
   "cell_type": "code",
   "execution_count": 97,
   "metadata": {
    "ExecuteTime": {
     "end_time": "2020-08-18T20:29:21.495989Z",
     "start_time": "2020-08-18T20:29:21.474968Z"
    }
   },
   "outputs": [],
   "source": [
    "romi_report = ltv_report.merge(costs_by_months, left_on='first_buy_month', right_on='dt_month')\n",
    "romi_report['cac'] = romi_report['costs'] / romi_report['buyers']\n",
    "romi_report['romi'] = (romi_report['ltv'] /  romi_report['cac']).round(2)"
   ]
  },
  {
   "cell_type": "code",
   "execution_count": 98,
   "metadata": {
    "ExecuteTime": {
     "end_time": "2020-08-18T20:29:21.533013Z",
     "start_time": "2020-08-18T20:29:21.499991Z"
    }
   },
   "outputs": [],
   "source": [
    "# приводим дату в более читабельный вид\n",
    "romi_report['first_buy_month'] = romi_report['first_buy_month'].dt.strftime('%Y-%m')"
   ]
  },
  {
   "cell_type": "code",
   "execution_count": 99,
   "metadata": {
    "ExecuteTime": {
     "end_time": "2020-08-18T20:29:21.571038Z",
     "start_time": "2020-08-18T20:29:21.538017Z"
    }
   },
   "outputs": [],
   "source": [
    "romi = romi_report.pivot_table(index='first_buy_month', columns='age', values='romi', aggfunc='mean').cumsum(axis=1)"
   ]
  },
  {
   "cell_type": "code",
   "execution_count": 100,
   "metadata": {
    "ExecuteTime": {
     "end_time": "2020-08-18T20:29:22.379634Z",
     "start_time": "2020-08-18T20:29:21.573040Z"
    }
   },
   "outputs": [
    {
     "data": {
      "image/png": "[encoded data removed]",
      "text/plain": [
       "<Figure size 936x648 with 2 Axes>"
      ]
     },
     "metadata": {
      "needs_background": "light"
     },
     "output_type": "display_data"
    }
   ],
   "source": [
    "plt.figure(figsize=(13, 9))\n",
    "plt.title('romi по когортам')\n",
    "sns.heatmap(romi,annot=True, fmt='.2f', linewidths=1, cmap=\"RdYlGn\");"
   ]
  },
  {
   "cell_type": "markdown",
   "metadata": {},
   "source": [
    "Как было отмечено ранее, когорта 2017-09-01 одна из лучших для бизнеса, вышла на окупаемость уже на 3 месяц.\n",
    "Кроме неё окупилась только самая первая когорта, на 6ой месяц жизни. И вторая когорта наиболее близка к тому, чтобы окупиться. Можно отметить, что почти каждая когорта в нулевой месяц жизни окупает свое привлечение +- на половину. Далее, из-за больших потерь пользователей для каждой когорты, окупаемость уже растет не так быстро."
   ]
  },
  {
   "cell_type": "markdown",
   "metadata": {},
   "source": [
    "[План работы](#plan)"
   ]
  },
  {
   "cell_type": "markdown",
   "metadata": {},
   "source": [
    "<a id=plan></a>\n",
    "# Шаг 3. Выводы"
   ]
  },
  {
   "cell_type": "markdown",
   "metadata": {},
   "source": [
    "В работе были достаточно качественные датасеты, ошибок и проблем с ними было мало. \n",
    "\n",
    "Что мы узнали о продукте и какие рекомендации можно дать. Как оказалось, retention Я.Афиши достаточно скромный (по крайней мере был), уже на первый месяц жизни к нам возвращается около 7% пользователей, и почти для каждой новой когорты этот показатель уменьшается. Что неминуемо скзывается на прибыли, окупилось только 2 когорты, следовательно мы в минусе. Необходимо работать над удержанием пользователей, стимулировать их совершать больше покупок, устаривать акции и т.п.\n",
    "\n",
    "Как показали графики выше, мы получаем больше всего пользователей из источника 4, в то время как тратим на привлечение не так много денег. Как минимум можно взять большу часть бюджета 2го источника и перенаправить на 4ый. Так как из второго мы получаем малый отклик. Аналогично нужно поступить с 5ым, его пользователи не дорогие, но оттуда мы имеем хороший поток посетителей, сопоставымий с 3им, который несмотря на свою дороговизну не оправдывает ожиданий.\n",
    "\n",
    "Нелишним будет дополнительно изучить среднее время покупки на мобильных устройствах, почему-то оно значительно выше чем у десктопов. Возможно есть сложности с оплатой в приложени."
   ]
  }
 ],
 "metadata": {
  "kernelspec": {
   "display_name": "Python 3",
   "language": "python",
   "name": "python3"
  },
  "language_info": {
   "codemirror_mode": {
    "name": "ipython",
    "version": 3
   },
   "file_extension": ".py",
   "mimetype": "text/x-python",
   "name": "python",
   "nbconvert_exporter": "python",
   "pygments_lexer": "ipython3",
   "version": "3.7.6"
  },
  "toc": {
   "base_numbering": 1,
   "nav_menu": {},
   "number_sections": true,
   "sideBar": true,
   "skip_h1_title": false,
   "title_cell": "Table of Contents",
   "title_sidebar": "Contents",
   "toc_cell": false,
   "toc_position": {
    "height": "calc(100% - 180px)",
    "left": "10px",
    "top": "150px",
    "width": "273.2px"
   },
   "toc_section_display": true,
   "toc_window_display": false
  }
 },
 "nbformat": 4,
 "nbformat_minor": 4
}

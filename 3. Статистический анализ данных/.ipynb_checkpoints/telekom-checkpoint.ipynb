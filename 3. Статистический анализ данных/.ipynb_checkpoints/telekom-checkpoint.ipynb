{
 "cells": [
  {
   "cell_type": "markdown",
   "metadata": {},
   "source": [
    "# Определение перспективного тарифа для телеком компании"
   ]
  },
  {
   "cell_type": "markdown",
   "metadata": {},
   "source": [
    "<a id=plan></a>\n",
    "# План работы\n",
    "[**Шаг 1. Открыть и изучить доступные данные**](#step1)\n",
    "- [x] Файлы изучены, пропуски определены, проблемы в данных обозначены\n",
    "\n",
    "[**Шаг 2. Подготовить данные к анализу**](#step2)\n",
    "- [x] Данные приведены к нужному типу\n",
    "- [x] Пропуски обработаны, ошибки исправлены \n",
    "*Обратить внимание, что длительность многих звонков — 0.0 минут*\n",
    "\n",
    "[**Шаг 3. Произвести расчеты для каждого пользователя (выделить в отдельный df):**](#step3)\n",
    "- [x] Рассчитано количество сделанных звонков и израсходованных минут разговора по месяцам\n",
    "- [x] Рассчитано количество отправленных сообщений по месяцам\n",
    "- [x] Рассчитан объем израсходованного интернет-трафика по месяцам \n",
    "- [x] Рассчитана помесячная выручка с каждого пользователя \n",
    "*(вычтите бесплатный лимит из суммарного количества звонков, сообщений и интернет-трафика; остаток умножьте на значение из тарифного плана; прибавьте абонентскую плату, соответствующую тарифному плану)*\n",
    "\n",
    "[**Шаг 4. Проанализировать данные**](#step4)\n",
    "- [x] Проанализировать максимальные/минимальные значения, избавиться от выбросов\n",
    "- [x] Указано сколько минут разговора, сколько сообщений и какой объём интернет-трафика требуется пользователям каждого тарифа в месяц\n",
    "- [x] Рассчитано среднее количество, дисперсия и стандартное отклонени\n",
    "- [x] Гистограммы построены\n",
    "- [x] Распределение описано\n",
    "\n",
    "[**Шаг 5. Проверить гипотезы**](#step5)\n",
    "- [x] Гипотеза `средняя выручка пользователей тарифов «Ультра» и «Смарт» различается` проверена, выводы написаны\n",
    "- [x] Гипотеза `средняя выручка пользователей из Москвы отличается от выручки пользователей из других регионов` проверена, выводы написаны\n",
    "- [x] Описано как сформулированы нулевая и альтернативная гипотеза \n",
    "- [x] Описано какой критерий использовали для проверки гипотез и причина выбора этого критерия\n",
    "\n",
    "[**Шаг 6. Написать общие выводы**](#step6)\n",
    "- [x] Расписана проделанная работа\n",
    "- [x] Указан ответ на вопрос, какой из тарифов самый переспективный для компании"
   ]
  },
  {
   "cell_type": "markdown",
   "metadata": {},
   "source": [
    "<a id=step1></a>\n",
    "# Шаг 1. Изучение доступных данных\n",
    "Приступим к изучению данных, начнем с импорта нужных библиотек и создания таблиц "
   ]
  },
  {
   "cell_type": "code",
   "execution_count": 1,
   "metadata": {
    "ExecuteTime": {
     "end_time": "2020-06-26T18:50:59.181435Z",
     "start_time": "2020-06-26T18:50:57.272499Z"
    }
   },
   "outputs": [],
   "source": [
    "import pandas as pd\n",
    "import matplotlib.pyplot as plt\n",
    "import math\n",
    "import seaborn as sns\n",
    "from scipy import stats as st\n",
    "import numpy as np \n",
    "\n",
    "\n",
    "# для отображения в jupiter всех колонок df + сокращу количество цифр после запятой\n",
    "pd.set_option('display.max_columns', None)\n",
    "pd.set_option('display.precision',2)"
   ]
  },
  {
   "cell_type": "code",
   "execution_count": 2,
   "metadata": {
    "ExecuteTime": {
     "end_time": "2020-06-26T18:50:59.835910Z",
     "start_time": "2020-06-26T18:50:59.183429Z"
    }
   },
   "outputs": [],
   "source": [
    "calls = pd.read_csv(r'/datasets/calls.csv')\n",
    "internet = pd.read_csv(r'/datasets/internet.csv', index_col=0)\n",
    "messages = pd.read_csv(r'/datasets/messages.csv')\n",
    "tariffs = pd.read_csv(r'/datasets/tariffs.csv')\n",
    "users = pd.read_csv(r'/datasets/users.csv')"
   ]
  },
  {
   "cell_type": "markdown",
   "metadata": {},
   "source": [
    "Так как предстоит множество однотипных действий по отношению к каждой таблице, придумаю функцию/цикл.\n",
    "Объединим название таблиц в словарь и выведем основные описательные методы."
   ]
  },
  {
   "cell_type": "code",
   "execution_count": 3,
   "metadata": {
    "ExecuteTime": {
     "end_time": "2020-06-26T18:51:01.490583Z",
     "start_time": "2020-06-26T18:50:59.839914Z"
    },
    "scrolled": true
   },
   "outputs": [
    {
     "name": "stdout",
     "output_type": "stream",
     "text": [
      "_______________________________\n",
      "Данные по таблице calls\n",
      "_______________________________\n",
      "\n",
      "Применяем метод .sample\n"
     ]
    },
    {
     "data": {
      "text/html": [
       "<div>\n",
       "<style scoped>\n",
       "    .dataframe tbody tr th:only-of-type {\n",
       "        vertical-align: middle;\n",
       "    }\n",
       "\n",
       "    .dataframe tbody tr th {\n",
       "        vertical-align: top;\n",
       "    }\n",
       "\n",
       "    .dataframe thead th {\n",
       "        text-align: right;\n",
       "    }\n",
       "</style>\n",
       "<table border=\"1\" class=\"dataframe\">\n",
       "  <thead>\n",
       "    <tr style=\"text-align: right;\">\n",
       "      <th></th>\n",
       "      <th>id</th>\n",
       "      <th>call_date</th>\n",
       "      <th>duration</th>\n",
       "      <th>user_id</th>\n",
       "    </tr>\n",
       "  </thead>\n",
       "  <tbody>\n",
       "    <tr>\n",
       "      <td>125079</td>\n",
       "      <td>1321_529</td>\n",
       "      <td>2018-12-06</td>\n",
       "      <td>1.62</td>\n",
       "      <td>1321</td>\n",
       "    </tr>\n",
       "    <tr>\n",
       "      <td>64660</td>\n",
       "      <td>1167_111</td>\n",
       "      <td>2018-10-06</td>\n",
       "      <td>0.00</td>\n",
       "      <td>1167</td>\n",
       "    </tr>\n",
       "  </tbody>\n",
       "</table>\n",
       "</div>"
      ],
      "text/plain": [
       "              id   call_date  duration  user_id\n",
       "125079  1321_529  2018-12-06      1.62     1321\n",
       "64660   1167_111  2018-10-06      0.00     1167"
      ]
     },
     "metadata": {},
     "output_type": "display_data"
    },
    {
     "name": "stdout",
     "output_type": "stream",
     "text": [
      "Применяем метод .info\n",
      "<class 'pandas.core.frame.DataFrame'>\n",
      "RangeIndex: 202607 entries, 0 to 202606\n",
      "Data columns (total 4 columns):\n",
      "id           202607 non-null object\n",
      "call_date    202607 non-null object\n",
      "duration     202607 non-null float64\n",
      "user_id      202607 non-null int64\n",
      "dtypes: float64(1), int64(1), object(2)\n",
      "memory usage: 6.2+ MB\n"
     ]
    },
    {
     "data": {
      "text/plain": [
       "None"
      ]
     },
     "metadata": {},
     "output_type": "display_data"
    },
    {
     "name": "stdout",
     "output_type": "stream",
     "text": [
      "Применяем метод .describe\n"
     ]
    },
    {
     "data": {
      "text/html": [
       "<div>\n",
       "<style scoped>\n",
       "    .dataframe tbody tr th:only-of-type {\n",
       "        vertical-align: middle;\n",
       "    }\n",
       "\n",
       "    .dataframe tbody tr th {\n",
       "        vertical-align: top;\n",
       "    }\n",
       "\n",
       "    .dataframe thead th {\n",
       "        text-align: right;\n",
       "    }\n",
       "</style>\n",
       "<table border=\"1\" class=\"dataframe\">\n",
       "  <thead>\n",
       "    <tr style=\"text-align: right;\">\n",
       "      <th></th>\n",
       "      <th>id</th>\n",
       "      <th>call_date</th>\n",
       "      <th>duration</th>\n",
       "      <th>user_id</th>\n",
       "    </tr>\n",
       "  </thead>\n",
       "  <tbody>\n",
       "    <tr>\n",
       "      <td>count</td>\n",
       "      <td>202607</td>\n",
       "      <td>202607</td>\n",
       "      <td>202607.00</td>\n",
       "      <td>202607.00</td>\n",
       "    </tr>\n",
       "    <tr>\n",
       "      <td>unique</td>\n",
       "      <td>202607</td>\n",
       "      <td>365</td>\n",
       "      <td>NaN</td>\n",
       "      <td>NaN</td>\n",
       "    </tr>\n",
       "    <tr>\n",
       "      <td>top</td>\n",
       "      <td>1479_410</td>\n",
       "      <td>2018-12-31</td>\n",
       "      <td>NaN</td>\n",
       "      <td>NaN</td>\n",
       "    </tr>\n",
       "    <tr>\n",
       "      <td>freq</td>\n",
       "      <td>1</td>\n",
       "      <td>1435</td>\n",
       "      <td>NaN</td>\n",
       "      <td>NaN</td>\n",
       "    </tr>\n",
       "    <tr>\n",
       "      <td>mean</td>\n",
       "      <td>NaN</td>\n",
       "      <td>NaN</td>\n",
       "      <td>6.76</td>\n",
       "      <td>1253.94</td>\n",
       "    </tr>\n",
       "    <tr>\n",
       "      <td>std</td>\n",
       "      <td>NaN</td>\n",
       "      <td>NaN</td>\n",
       "      <td>5.84</td>\n",
       "      <td>144.72</td>\n",
       "    </tr>\n",
       "    <tr>\n",
       "      <td>min</td>\n",
       "      <td>NaN</td>\n",
       "      <td>NaN</td>\n",
       "      <td>0.00</td>\n",
       "      <td>1000.00</td>\n",
       "    </tr>\n",
       "    <tr>\n",
       "      <td>25%</td>\n",
       "      <td>NaN</td>\n",
       "      <td>NaN</td>\n",
       "      <td>1.30</td>\n",
       "      <td>1126.00</td>\n",
       "    </tr>\n",
       "    <tr>\n",
       "      <td>50%</td>\n",
       "      <td>NaN</td>\n",
       "      <td>NaN</td>\n",
       "      <td>6.00</td>\n",
       "      <td>1260.00</td>\n",
       "    </tr>\n",
       "    <tr>\n",
       "      <td>75%</td>\n",
       "      <td>NaN</td>\n",
       "      <td>NaN</td>\n",
       "      <td>10.70</td>\n",
       "      <td>1379.00</td>\n",
       "    </tr>\n",
       "    <tr>\n",
       "      <td>max</td>\n",
       "      <td>NaN</td>\n",
       "      <td>NaN</td>\n",
       "      <td>38.00</td>\n",
       "      <td>1499.00</td>\n",
       "    </tr>\n",
       "  </tbody>\n",
       "</table>\n",
       "</div>"
      ],
      "text/plain": [
       "              id   call_date   duration    user_id\n",
       "count     202607      202607  202607.00  202607.00\n",
       "unique    202607         365        NaN        NaN\n",
       "top     1479_410  2018-12-31        NaN        NaN\n",
       "freq           1        1435        NaN        NaN\n",
       "mean         NaN         NaN       6.76    1253.94\n",
       "std          NaN         NaN       5.84     144.72\n",
       "min          NaN         NaN       0.00    1000.00\n",
       "25%          NaN         NaN       1.30    1126.00\n",
       "50%          NaN         NaN       6.00    1260.00\n",
       "75%          NaN         NaN      10.70    1379.00\n",
       "max          NaN         NaN      38.00    1499.00"
      ]
     },
     "metadata": {},
     "output_type": "display_data"
    },
    {
     "name": "stdout",
     "output_type": "stream",
     "text": [
      "Применяем метод .duplicated\n"
     ]
    },
    {
     "data": {
      "text/plain": [
       "0"
      ]
     },
     "metadata": {},
     "output_type": "display_data"
    },
    {
     "name": "stdout",
     "output_type": "stream",
     "text": [
      "_______________________________\n",
      "Данные по таблице internet\n",
      "_______________________________\n",
      "\n",
      "Применяем метод .sample\n"
     ]
    },
    {
     "data": {
      "text/html": [
       "<div>\n",
       "<style scoped>\n",
       "    .dataframe tbody tr th:only-of-type {\n",
       "        vertical-align: middle;\n",
       "    }\n",
       "\n",
       "    .dataframe tbody tr th {\n",
       "        vertical-align: top;\n",
       "    }\n",
       "\n",
       "    .dataframe thead th {\n",
       "        text-align: right;\n",
       "    }\n",
       "</style>\n",
       "<table border=\"1\" class=\"dataframe\">\n",
       "  <thead>\n",
       "    <tr style=\"text-align: right;\">\n",
       "      <th></th>\n",
       "      <th>id</th>\n",
       "      <th>mb_used</th>\n",
       "      <th>session_date</th>\n",
       "      <th>user_id</th>\n",
       "    </tr>\n",
       "  </thead>\n",
       "  <tbody>\n",
       "    <tr>\n",
       "      <td>86030</td>\n",
       "      <td>1292_146</td>\n",
       "      <td>509.97</td>\n",
       "      <td>2018-09-14</td>\n",
       "      <td>1292</td>\n",
       "    </tr>\n",
       "    <tr>\n",
       "      <td>97402</td>\n",
       "      <td>1327_323</td>\n",
       "      <td>96.34</td>\n",
       "      <td>2018-08-23</td>\n",
       "      <td>1327</td>\n",
       "    </tr>\n",
       "  </tbody>\n",
       "</table>\n",
       "</div>"
      ],
      "text/plain": [
       "             id  mb_used session_date  user_id\n",
       "86030  1292_146   509.97   2018-09-14     1292\n",
       "97402  1327_323    96.34   2018-08-23     1327"
      ]
     },
     "metadata": {},
     "output_type": "display_data"
    },
    {
     "name": "stdout",
     "output_type": "stream",
     "text": [
      "Применяем метод .info\n",
      "<class 'pandas.core.frame.DataFrame'>\n",
      "Int64Index: 149396 entries, 0 to 149395\n",
      "Data columns (total 4 columns):\n",
      "id              149396 non-null object\n",
      "mb_used         149396 non-null float64\n",
      "session_date    149396 non-null object\n",
      "user_id         149396 non-null int64\n",
      "dtypes: float64(1), int64(1), object(2)\n",
      "memory usage: 5.7+ MB\n"
     ]
    },
    {
     "data": {
      "text/plain": [
       "None"
      ]
     },
     "metadata": {},
     "output_type": "display_data"
    },
    {
     "name": "stdout",
     "output_type": "stream",
     "text": [
      "Применяем метод .describe\n"
     ]
    },
    {
     "data": {
      "text/html": [
       "<div>\n",
       "<style scoped>\n",
       "    .dataframe tbody tr th:only-of-type {\n",
       "        vertical-align: middle;\n",
       "    }\n",
       "\n",
       "    .dataframe tbody tr th {\n",
       "        vertical-align: top;\n",
       "    }\n",
       "\n",
       "    .dataframe thead th {\n",
       "        text-align: right;\n",
       "    }\n",
       "</style>\n",
       "<table border=\"1\" class=\"dataframe\">\n",
       "  <thead>\n",
       "    <tr style=\"text-align: right;\">\n",
       "      <th></th>\n",
       "      <th>id</th>\n",
       "      <th>mb_used</th>\n",
       "      <th>session_date</th>\n",
       "      <th>user_id</th>\n",
       "    </tr>\n",
       "  </thead>\n",
       "  <tbody>\n",
       "    <tr>\n",
       "      <td>count</td>\n",
       "      <td>149396</td>\n",
       "      <td>149396.00</td>\n",
       "      <td>149396</td>\n",
       "      <td>149396.00</td>\n",
       "    </tr>\n",
       "    <tr>\n",
       "      <td>unique</td>\n",
       "      <td>149396</td>\n",
       "      <td>NaN</td>\n",
       "      <td>365</td>\n",
       "      <td>NaN</td>\n",
       "    </tr>\n",
       "    <tr>\n",
       "      <td>top</td>\n",
       "      <td>1282_324</td>\n",
       "      <td>NaN</td>\n",
       "      <td>2018-12-31</td>\n",
       "      <td>NaN</td>\n",
       "    </tr>\n",
       "    <tr>\n",
       "      <td>freq</td>\n",
       "      <td>1</td>\n",
       "      <td>NaN</td>\n",
       "      <td>1057</td>\n",
       "      <td>NaN</td>\n",
       "    </tr>\n",
       "    <tr>\n",
       "      <td>mean</td>\n",
       "      <td>NaN</td>\n",
       "      <td>370.19</td>\n",
       "      <td>NaN</td>\n",
       "      <td>1252.10</td>\n",
       "    </tr>\n",
       "    <tr>\n",
       "      <td>std</td>\n",
       "      <td>NaN</td>\n",
       "      <td>278.30</td>\n",
       "      <td>NaN</td>\n",
       "      <td>144.05</td>\n",
       "    </tr>\n",
       "    <tr>\n",
       "      <td>min</td>\n",
       "      <td>NaN</td>\n",
       "      <td>0.00</td>\n",
       "      <td>NaN</td>\n",
       "      <td>1000.00</td>\n",
       "    </tr>\n",
       "    <tr>\n",
       "      <td>25%</td>\n",
       "      <td>NaN</td>\n",
       "      <td>138.19</td>\n",
       "      <td>NaN</td>\n",
       "      <td>1130.00</td>\n",
       "    </tr>\n",
       "    <tr>\n",
       "      <td>50%</td>\n",
       "      <td>NaN</td>\n",
       "      <td>348.01</td>\n",
       "      <td>NaN</td>\n",
       "      <td>1251.00</td>\n",
       "    </tr>\n",
       "    <tr>\n",
       "      <td>75%</td>\n",
       "      <td>NaN</td>\n",
       "      <td>559.55</td>\n",
       "      <td>NaN</td>\n",
       "      <td>1380.00</td>\n",
       "    </tr>\n",
       "    <tr>\n",
       "      <td>max</td>\n",
       "      <td>NaN</td>\n",
       "      <td>1724.83</td>\n",
       "      <td>NaN</td>\n",
       "      <td>1499.00</td>\n",
       "    </tr>\n",
       "  </tbody>\n",
       "</table>\n",
       "</div>"
      ],
      "text/plain": [
       "              id    mb_used session_date    user_id\n",
       "count     149396  149396.00       149396  149396.00\n",
       "unique    149396        NaN          365        NaN\n",
       "top     1282_324        NaN   2018-12-31        NaN\n",
       "freq           1        NaN         1057        NaN\n",
       "mean         NaN     370.19          NaN    1252.10\n",
       "std          NaN     278.30          NaN     144.05\n",
       "min          NaN       0.00          NaN    1000.00\n",
       "25%          NaN     138.19          NaN    1130.00\n",
       "50%          NaN     348.01          NaN    1251.00\n",
       "75%          NaN     559.55          NaN    1380.00\n",
       "max          NaN    1724.83          NaN    1499.00"
      ]
     },
     "metadata": {},
     "output_type": "display_data"
    },
    {
     "name": "stdout",
     "output_type": "stream",
     "text": [
      "Применяем метод .duplicated\n"
     ]
    },
    {
     "data": {
      "text/plain": [
       "0"
      ]
     },
     "metadata": {},
     "output_type": "display_data"
    },
    {
     "name": "stdout",
     "output_type": "stream",
     "text": [
      "_______________________________\n",
      "Данные по таблице messages\n",
      "_______________________________\n",
      "\n",
      "Применяем метод .sample\n"
     ]
    },
    {
     "data": {
      "text/html": [
       "<div>\n",
       "<style scoped>\n",
       "    .dataframe tbody tr th:only-of-type {\n",
       "        vertical-align: middle;\n",
       "    }\n",
       "\n",
       "    .dataframe tbody tr th {\n",
       "        vertical-align: top;\n",
       "    }\n",
       "\n",
       "    .dataframe thead th {\n",
       "        text-align: right;\n",
       "    }\n",
       "</style>\n",
       "<table border=\"1\" class=\"dataframe\">\n",
       "  <thead>\n",
       "    <tr style=\"text-align: right;\">\n",
       "      <th></th>\n",
       "      <th>id</th>\n",
       "      <th>message_date</th>\n",
       "      <th>user_id</th>\n",
       "    </tr>\n",
       "  </thead>\n",
       "  <tbody>\n",
       "    <tr>\n",
       "      <td>21478</td>\n",
       "      <td>1091_31</td>\n",
       "      <td>2018-08-19</td>\n",
       "      <td>1091</td>\n",
       "    </tr>\n",
       "    <tr>\n",
       "      <td>81490</td>\n",
       "      <td>1341_344</td>\n",
       "      <td>2018-08-01</td>\n",
       "      <td>1341</td>\n",
       "    </tr>\n",
       "  </tbody>\n",
       "</table>\n",
       "</div>"
      ],
      "text/plain": [
       "             id message_date  user_id\n",
       "21478   1091_31   2018-08-19     1091\n",
       "81490  1341_344   2018-08-01     1341"
      ]
     },
     "metadata": {},
     "output_type": "display_data"
    },
    {
     "name": "stdout",
     "output_type": "stream",
     "text": [
      "Применяем метод .info\n",
      "<class 'pandas.core.frame.DataFrame'>\n",
      "RangeIndex: 123036 entries, 0 to 123035\n",
      "Data columns (total 3 columns):\n",
      "id              123036 non-null object\n",
      "message_date    123036 non-null object\n",
      "user_id         123036 non-null int64\n",
      "dtypes: int64(1), object(2)\n",
      "memory usage: 2.8+ MB\n"
     ]
    },
    {
     "data": {
      "text/plain": [
       "None"
      ]
     },
     "metadata": {},
     "output_type": "display_data"
    },
    {
     "name": "stdout",
     "output_type": "stream",
     "text": [
      "Применяем метод .describe\n"
     ]
    },
    {
     "data": {
      "text/html": [
       "<div>\n",
       "<style scoped>\n",
       "    .dataframe tbody tr th:only-of-type {\n",
       "        vertical-align: middle;\n",
       "    }\n",
       "\n",
       "    .dataframe tbody tr th {\n",
       "        vertical-align: top;\n",
       "    }\n",
       "\n",
       "    .dataframe thead th {\n",
       "        text-align: right;\n",
       "    }\n",
       "</style>\n",
       "<table border=\"1\" class=\"dataframe\">\n",
       "  <thead>\n",
       "    <tr style=\"text-align: right;\">\n",
       "      <th></th>\n",
       "      <th>id</th>\n",
       "      <th>message_date</th>\n",
       "      <th>user_id</th>\n",
       "    </tr>\n",
       "  </thead>\n",
       "  <tbody>\n",
       "    <tr>\n",
       "      <td>count</td>\n",
       "      <td>123036</td>\n",
       "      <td>123036</td>\n",
       "      <td>123036.00</td>\n",
       "    </tr>\n",
       "    <tr>\n",
       "      <td>unique</td>\n",
       "      <td>123036</td>\n",
       "      <td>364</td>\n",
       "      <td>NaN</td>\n",
       "    </tr>\n",
       "    <tr>\n",
       "      <td>top</td>\n",
       "      <td>1282_324</td>\n",
       "      <td>2018-12-31</td>\n",
       "      <td>NaN</td>\n",
       "    </tr>\n",
       "    <tr>\n",
       "      <td>freq</td>\n",
       "      <td>1</td>\n",
       "      <td>859</td>\n",
       "      <td>NaN</td>\n",
       "    </tr>\n",
       "    <tr>\n",
       "      <td>mean</td>\n",
       "      <td>NaN</td>\n",
       "      <td>NaN</td>\n",
       "      <td>1256.99</td>\n",
       "    </tr>\n",
       "    <tr>\n",
       "      <td>std</td>\n",
       "      <td>NaN</td>\n",
       "      <td>NaN</td>\n",
       "      <td>143.52</td>\n",
       "    </tr>\n",
       "    <tr>\n",
       "      <td>min</td>\n",
       "      <td>NaN</td>\n",
       "      <td>NaN</td>\n",
       "      <td>1000.00</td>\n",
       "    </tr>\n",
       "    <tr>\n",
       "      <td>25%</td>\n",
       "      <td>NaN</td>\n",
       "      <td>NaN</td>\n",
       "      <td>1134.00</td>\n",
       "    </tr>\n",
       "    <tr>\n",
       "      <td>50%</td>\n",
       "      <td>NaN</td>\n",
       "      <td>NaN</td>\n",
       "      <td>1271.00</td>\n",
       "    </tr>\n",
       "    <tr>\n",
       "      <td>75%</td>\n",
       "      <td>NaN</td>\n",
       "      <td>NaN</td>\n",
       "      <td>1381.00</td>\n",
       "    </tr>\n",
       "    <tr>\n",
       "      <td>max</td>\n",
       "      <td>NaN</td>\n",
       "      <td>NaN</td>\n",
       "      <td>1499.00</td>\n",
       "    </tr>\n",
       "  </tbody>\n",
       "</table>\n",
       "</div>"
      ],
      "text/plain": [
       "              id message_date    user_id\n",
       "count     123036       123036  123036.00\n",
       "unique    123036          364        NaN\n",
       "top     1282_324   2018-12-31        NaN\n",
       "freq           1          859        NaN\n",
       "mean         NaN          NaN    1256.99\n",
       "std          NaN          NaN     143.52\n",
       "min          NaN          NaN    1000.00\n",
       "25%          NaN          NaN    1134.00\n",
       "50%          NaN          NaN    1271.00\n",
       "75%          NaN          NaN    1381.00\n",
       "max          NaN          NaN    1499.00"
      ]
     },
     "metadata": {},
     "output_type": "display_data"
    },
    {
     "name": "stdout",
     "output_type": "stream",
     "text": [
      "Применяем метод .duplicated\n"
     ]
    },
    {
     "data": {
      "text/plain": [
       "0"
      ]
     },
     "metadata": {},
     "output_type": "display_data"
    },
    {
     "name": "stdout",
     "output_type": "stream",
     "text": [
      "_______________________________\n",
      "Данные по таблице tariffs\n",
      "_______________________________\n",
      "\n",
      "Применяем метод .sample\n"
     ]
    },
    {
     "data": {
      "text/html": [
       "<div>\n",
       "<style scoped>\n",
       "    .dataframe tbody tr th:only-of-type {\n",
       "        vertical-align: middle;\n",
       "    }\n",
       "\n",
       "    .dataframe tbody tr th {\n",
       "        vertical-align: top;\n",
       "    }\n",
       "\n",
       "    .dataframe thead th {\n",
       "        text-align: right;\n",
       "    }\n",
       "</style>\n",
       "<table border=\"1\" class=\"dataframe\">\n",
       "  <thead>\n",
       "    <tr style=\"text-align: right;\">\n",
       "      <th></th>\n",
       "      <th>messages_included</th>\n",
       "      <th>mb_per_month_included</th>\n",
       "      <th>minutes_included</th>\n",
       "      <th>rub_monthly_fee</th>\n",
       "      <th>rub_per_gb</th>\n",
       "      <th>rub_per_message</th>\n",
       "      <th>rub_per_minute</th>\n",
       "      <th>tariff_name</th>\n",
       "    </tr>\n",
       "  </thead>\n",
       "  <tbody>\n",
       "    <tr>\n",
       "      <td>1</td>\n",
       "      <td>1000</td>\n",
       "      <td>30720</td>\n",
       "      <td>3000</td>\n",
       "      <td>1950</td>\n",
       "      <td>150</td>\n",
       "      <td>1</td>\n",
       "      <td>1</td>\n",
       "      <td>ultra</td>\n",
       "    </tr>\n",
       "    <tr>\n",
       "      <td>0</td>\n",
       "      <td>50</td>\n",
       "      <td>15360</td>\n",
       "      <td>500</td>\n",
       "      <td>550</td>\n",
       "      <td>200</td>\n",
       "      <td>3</td>\n",
       "      <td>3</td>\n",
       "      <td>smart</td>\n",
       "    </tr>\n",
       "  </tbody>\n",
       "</table>\n",
       "</div>"
      ],
      "text/plain": [
       "   messages_included  mb_per_month_included  minutes_included  \\\n",
       "1               1000                  30720              3000   \n",
       "0                 50                  15360               500   \n",
       "\n",
       "   rub_monthly_fee  rub_per_gb  rub_per_message  rub_per_minute tariff_name  \n",
       "1             1950         150                1               1       ultra  \n",
       "0              550         200                3               3       smart  "
      ]
     },
     "metadata": {},
     "output_type": "display_data"
    },
    {
     "name": "stdout",
     "output_type": "stream",
     "text": [
      "Применяем метод .info\n",
      "<class 'pandas.core.frame.DataFrame'>\n",
      "RangeIndex: 2 entries, 0 to 1\n",
      "Data columns (total 8 columns):\n",
      "messages_included        2 non-null int64\n",
      "mb_per_month_included    2 non-null int64\n",
      "minutes_included         2 non-null int64\n",
      "rub_monthly_fee          2 non-null int64\n",
      "rub_per_gb               2 non-null int64\n",
      "rub_per_message          2 non-null int64\n",
      "rub_per_minute           2 non-null int64\n",
      "tariff_name              2 non-null object\n",
      "dtypes: int64(7), object(1)\n",
      "memory usage: 256.0+ bytes\n"
     ]
    },
    {
     "data": {
      "text/plain": [
       "None"
      ]
     },
     "metadata": {},
     "output_type": "display_data"
    },
    {
     "name": "stdout",
     "output_type": "stream",
     "text": [
      "Применяем метод .describe\n"
     ]
    },
    {
     "data": {
      "text/html": [
       "<div>\n",
       "<style scoped>\n",
       "    .dataframe tbody tr th:only-of-type {\n",
       "        vertical-align: middle;\n",
       "    }\n",
       "\n",
       "    .dataframe tbody tr th {\n",
       "        vertical-align: top;\n",
       "    }\n",
       "\n",
       "    .dataframe thead th {\n",
       "        text-align: right;\n",
       "    }\n",
       "</style>\n",
       "<table border=\"1\" class=\"dataframe\">\n",
       "  <thead>\n",
       "    <tr style=\"text-align: right;\">\n",
       "      <th></th>\n",
       "      <th>messages_included</th>\n",
       "      <th>mb_per_month_included</th>\n",
       "      <th>minutes_included</th>\n",
       "      <th>rub_monthly_fee</th>\n",
       "      <th>rub_per_gb</th>\n",
       "      <th>rub_per_message</th>\n",
       "      <th>rub_per_minute</th>\n",
       "      <th>tariff_name</th>\n",
       "    </tr>\n",
       "  </thead>\n",
       "  <tbody>\n",
       "    <tr>\n",
       "      <td>count</td>\n",
       "      <td>2.00</td>\n",
       "      <td>2.00</td>\n",
       "      <td>2.00</td>\n",
       "      <td>2.00</td>\n",
       "      <td>2.00</td>\n",
       "      <td>2.00</td>\n",
       "      <td>2.00</td>\n",
       "      <td>2</td>\n",
       "    </tr>\n",
       "    <tr>\n",
       "      <td>unique</td>\n",
       "      <td>NaN</td>\n",
       "      <td>NaN</td>\n",
       "      <td>NaN</td>\n",
       "      <td>NaN</td>\n",
       "      <td>NaN</td>\n",
       "      <td>NaN</td>\n",
       "      <td>NaN</td>\n",
       "      <td>2</td>\n",
       "    </tr>\n",
       "    <tr>\n",
       "      <td>top</td>\n",
       "      <td>NaN</td>\n",
       "      <td>NaN</td>\n",
       "      <td>NaN</td>\n",
       "      <td>NaN</td>\n",
       "      <td>NaN</td>\n",
       "      <td>NaN</td>\n",
       "      <td>NaN</td>\n",
       "      <td>smart</td>\n",
       "    </tr>\n",
       "    <tr>\n",
       "      <td>freq</td>\n",
       "      <td>NaN</td>\n",
       "      <td>NaN</td>\n",
       "      <td>NaN</td>\n",
       "      <td>NaN</td>\n",
       "      <td>NaN</td>\n",
       "      <td>NaN</td>\n",
       "      <td>NaN</td>\n",
       "      <td>1</td>\n",
       "    </tr>\n",
       "    <tr>\n",
       "      <td>mean</td>\n",
       "      <td>525.00</td>\n",
       "      <td>23040.00</td>\n",
       "      <td>1750.00</td>\n",
       "      <td>1250.00</td>\n",
       "      <td>175.00</td>\n",
       "      <td>2.00</td>\n",
       "      <td>2.00</td>\n",
       "      <td>NaN</td>\n",
       "    </tr>\n",
       "    <tr>\n",
       "      <td>std</td>\n",
       "      <td>671.75</td>\n",
       "      <td>10861.16</td>\n",
       "      <td>1767.77</td>\n",
       "      <td>989.95</td>\n",
       "      <td>35.36</td>\n",
       "      <td>1.41</td>\n",
       "      <td>1.41</td>\n",
       "      <td>NaN</td>\n",
       "    </tr>\n",
       "    <tr>\n",
       "      <td>min</td>\n",
       "      <td>50.00</td>\n",
       "      <td>15360.00</td>\n",
       "      <td>500.00</td>\n",
       "      <td>550.00</td>\n",
       "      <td>150.00</td>\n",
       "      <td>1.00</td>\n",
       "      <td>1.00</td>\n",
       "      <td>NaN</td>\n",
       "    </tr>\n",
       "    <tr>\n",
       "      <td>25%</td>\n",
       "      <td>287.50</td>\n",
       "      <td>19200.00</td>\n",
       "      <td>1125.00</td>\n",
       "      <td>900.00</td>\n",
       "      <td>162.50</td>\n",
       "      <td>1.50</td>\n",
       "      <td>1.50</td>\n",
       "      <td>NaN</td>\n",
       "    </tr>\n",
       "    <tr>\n",
       "      <td>50%</td>\n",
       "      <td>525.00</td>\n",
       "      <td>23040.00</td>\n",
       "      <td>1750.00</td>\n",
       "      <td>1250.00</td>\n",
       "      <td>175.00</td>\n",
       "      <td>2.00</td>\n",
       "      <td>2.00</td>\n",
       "      <td>NaN</td>\n",
       "    </tr>\n",
       "    <tr>\n",
       "      <td>75%</td>\n",
       "      <td>762.50</td>\n",
       "      <td>26880.00</td>\n",
       "      <td>2375.00</td>\n",
       "      <td>1600.00</td>\n",
       "      <td>187.50</td>\n",
       "      <td>2.50</td>\n",
       "      <td>2.50</td>\n",
       "      <td>NaN</td>\n",
       "    </tr>\n",
       "    <tr>\n",
       "      <td>max</td>\n",
       "      <td>1000.00</td>\n",
       "      <td>30720.00</td>\n",
       "      <td>3000.00</td>\n",
       "      <td>1950.00</td>\n",
       "      <td>200.00</td>\n",
       "      <td>3.00</td>\n",
       "      <td>3.00</td>\n",
       "      <td>NaN</td>\n",
       "    </tr>\n",
       "  </tbody>\n",
       "</table>\n",
       "</div>"
      ],
      "text/plain": [
       "        messages_included  mb_per_month_included  minutes_included  \\\n",
       "count                2.00                   2.00              2.00   \n",
       "unique                NaN                    NaN               NaN   \n",
       "top                   NaN                    NaN               NaN   \n",
       "freq                  NaN                    NaN               NaN   \n",
       "mean               525.00               23040.00           1750.00   \n",
       "std                671.75               10861.16           1767.77   \n",
       "min                 50.00               15360.00            500.00   \n",
       "25%                287.50               19200.00           1125.00   \n",
       "50%                525.00               23040.00           1750.00   \n",
       "75%                762.50               26880.00           2375.00   \n",
       "max               1000.00               30720.00           3000.00   \n",
       "\n",
       "        rub_monthly_fee  rub_per_gb  rub_per_message  rub_per_minute  \\\n",
       "count              2.00        2.00             2.00            2.00   \n",
       "unique              NaN         NaN              NaN             NaN   \n",
       "top                 NaN         NaN              NaN             NaN   \n",
       "freq                NaN         NaN              NaN             NaN   \n",
       "mean            1250.00      175.00             2.00            2.00   \n",
       "std              989.95       35.36             1.41            1.41   \n",
       "min              550.00      150.00             1.00            1.00   \n",
       "25%              900.00      162.50             1.50            1.50   \n",
       "50%             1250.00      175.00             2.00            2.00   \n",
       "75%             1600.00      187.50             2.50            2.50   \n",
       "max             1950.00      200.00             3.00            3.00   \n",
       "\n",
       "       tariff_name  \n",
       "count            2  \n",
       "unique           2  \n",
       "top          smart  \n",
       "freq             1  \n",
       "mean           NaN  \n",
       "std            NaN  \n",
       "min            NaN  \n",
       "25%            NaN  \n",
       "50%            NaN  \n",
       "75%            NaN  \n",
       "max            NaN  "
      ]
     },
     "metadata": {},
     "output_type": "display_data"
    },
    {
     "name": "stdout",
     "output_type": "stream",
     "text": [
      "Применяем метод .duplicated\n"
     ]
    },
    {
     "data": {
      "text/plain": [
       "0"
      ]
     },
     "metadata": {},
     "output_type": "display_data"
    },
    {
     "name": "stdout",
     "output_type": "stream",
     "text": [
      "_______________________________\n",
      "Данные по таблице users\n",
      "_______________________________\n",
      "\n",
      "Применяем метод .sample\n"
     ]
    },
    {
     "data": {
      "text/html": [
       "<div>\n",
       "<style scoped>\n",
       "    .dataframe tbody tr th:only-of-type {\n",
       "        vertical-align: middle;\n",
       "    }\n",
       "\n",
       "    .dataframe tbody tr th {\n",
       "        vertical-align: top;\n",
       "    }\n",
       "\n",
       "    .dataframe thead th {\n",
       "        text-align: right;\n",
       "    }\n",
       "</style>\n",
       "<table border=\"1\" class=\"dataframe\">\n",
       "  <thead>\n",
       "    <tr style=\"text-align: right;\">\n",
       "      <th></th>\n",
       "      <th>user_id</th>\n",
       "      <th>age</th>\n",
       "      <th>churn_date</th>\n",
       "      <th>city</th>\n",
       "      <th>first_name</th>\n",
       "      <th>last_name</th>\n",
       "      <th>reg_date</th>\n",
       "      <th>tariff</th>\n",
       "    </tr>\n",
       "  </thead>\n",
       "  <tbody>\n",
       "    <tr>\n",
       "      <td>153</td>\n",
       "      <td>1153</td>\n",
       "      <td>59</td>\n",
       "      <td>NaN</td>\n",
       "      <td>Ульяновск</td>\n",
       "      <td>Евдокия</td>\n",
       "      <td>Одинцова</td>\n",
       "      <td>2018-10-18</td>\n",
       "      <td>smart</td>\n",
       "    </tr>\n",
       "    <tr>\n",
       "      <td>47</td>\n",
       "      <td>1047</td>\n",
       "      <td>67</td>\n",
       "      <td>NaN</td>\n",
       "      <td>Саратов</td>\n",
       "      <td>Милица</td>\n",
       "      <td>Меркулова</td>\n",
       "      <td>2018-10-29</td>\n",
       "      <td>smart</td>\n",
       "    </tr>\n",
       "  </tbody>\n",
       "</table>\n",
       "</div>"
      ],
      "text/plain": [
       "     user_id  age churn_date       city first_name  last_name    reg_date  \\\n",
       "153     1153   59        NaN  Ульяновск    Евдокия   Одинцова  2018-10-18   \n",
       "47      1047   67        NaN    Саратов     Милица  Меркулова  2018-10-29   \n",
       "\n",
       "    tariff  \n",
       "153  smart  \n",
       "47   smart  "
      ]
     },
     "metadata": {},
     "output_type": "display_data"
    },
    {
     "name": "stdout",
     "output_type": "stream",
     "text": [
      "Применяем метод .info\n",
      "<class 'pandas.core.frame.DataFrame'>\n",
      "RangeIndex: 500 entries, 0 to 499\n",
      "Data columns (total 8 columns):\n",
      "user_id       500 non-null int64\n",
      "age           500 non-null int64\n",
      "churn_date    38 non-null object\n",
      "city          500 non-null object\n",
      "first_name    500 non-null object\n",
      "last_name     500 non-null object\n",
      "reg_date      500 non-null object\n",
      "tariff        500 non-null object\n",
      "dtypes: int64(2), object(6)\n",
      "memory usage: 31.4+ KB\n"
     ]
    },
    {
     "data": {
      "text/plain": [
       "None"
      ]
     },
     "metadata": {},
     "output_type": "display_data"
    },
    {
     "name": "stdout",
     "output_type": "stream",
     "text": [
      "Применяем метод .describe\n"
     ]
    },
    {
     "data": {
      "text/html": [
       "<div>\n",
       "<style scoped>\n",
       "    .dataframe tbody tr th:only-of-type {\n",
       "        vertical-align: middle;\n",
       "    }\n",
       "\n",
       "    .dataframe tbody tr th {\n",
       "        vertical-align: top;\n",
       "    }\n",
       "\n",
       "    .dataframe thead th {\n",
       "        text-align: right;\n",
       "    }\n",
       "</style>\n",
       "<table border=\"1\" class=\"dataframe\">\n",
       "  <thead>\n",
       "    <tr style=\"text-align: right;\">\n",
       "      <th></th>\n",
       "      <th>user_id</th>\n",
       "      <th>age</th>\n",
       "      <th>churn_date</th>\n",
       "      <th>city</th>\n",
       "      <th>first_name</th>\n",
       "      <th>last_name</th>\n",
       "      <th>reg_date</th>\n",
       "      <th>tariff</th>\n",
       "    </tr>\n",
       "  </thead>\n",
       "  <tbody>\n",
       "    <tr>\n",
       "      <td>count</td>\n",
       "      <td>500.00</td>\n",
       "      <td>500.00</td>\n",
       "      <td>38</td>\n",
       "      <td>500</td>\n",
       "      <td>500</td>\n",
       "      <td>500</td>\n",
       "      <td>500</td>\n",
       "      <td>500</td>\n",
       "    </tr>\n",
       "    <tr>\n",
       "      <td>unique</td>\n",
       "      <td>NaN</td>\n",
       "      <td>NaN</td>\n",
       "      <td>33</td>\n",
       "      <td>76</td>\n",
       "      <td>246</td>\n",
       "      <td>419</td>\n",
       "      <td>270</td>\n",
       "      <td>2</td>\n",
       "    </tr>\n",
       "    <tr>\n",
       "      <td>top</td>\n",
       "      <td>NaN</td>\n",
       "      <td>NaN</td>\n",
       "      <td>2018-12-21</td>\n",
       "      <td>Москва</td>\n",
       "      <td>Радим</td>\n",
       "      <td>Андреенко</td>\n",
       "      <td>2018-05-28</td>\n",
       "      <td>smart</td>\n",
       "    </tr>\n",
       "    <tr>\n",
       "      <td>freq</td>\n",
       "      <td>NaN</td>\n",
       "      <td>NaN</td>\n",
       "      <td>2</td>\n",
       "      <td>99</td>\n",
       "      <td>6</td>\n",
       "      <td>5</td>\n",
       "      <td>8</td>\n",
       "      <td>351</td>\n",
       "    </tr>\n",
       "    <tr>\n",
       "      <td>mean</td>\n",
       "      <td>1249.50</td>\n",
       "      <td>46.59</td>\n",
       "      <td>NaN</td>\n",
       "      <td>NaN</td>\n",
       "      <td>NaN</td>\n",
       "      <td>NaN</td>\n",
       "      <td>NaN</td>\n",
       "      <td>NaN</td>\n",
       "    </tr>\n",
       "    <tr>\n",
       "      <td>std</td>\n",
       "      <td>144.48</td>\n",
       "      <td>16.67</td>\n",
       "      <td>NaN</td>\n",
       "      <td>NaN</td>\n",
       "      <td>NaN</td>\n",
       "      <td>NaN</td>\n",
       "      <td>NaN</td>\n",
       "      <td>NaN</td>\n",
       "    </tr>\n",
       "    <tr>\n",
       "      <td>min</td>\n",
       "      <td>1000.00</td>\n",
       "      <td>18.00</td>\n",
       "      <td>NaN</td>\n",
       "      <td>NaN</td>\n",
       "      <td>NaN</td>\n",
       "      <td>NaN</td>\n",
       "      <td>NaN</td>\n",
       "      <td>NaN</td>\n",
       "    </tr>\n",
       "    <tr>\n",
       "      <td>25%</td>\n",
       "      <td>1124.75</td>\n",
       "      <td>32.00</td>\n",
       "      <td>NaN</td>\n",
       "      <td>NaN</td>\n",
       "      <td>NaN</td>\n",
       "      <td>NaN</td>\n",
       "      <td>NaN</td>\n",
       "      <td>NaN</td>\n",
       "    </tr>\n",
       "    <tr>\n",
       "      <td>50%</td>\n",
       "      <td>1249.50</td>\n",
       "      <td>46.00</td>\n",
       "      <td>NaN</td>\n",
       "      <td>NaN</td>\n",
       "      <td>NaN</td>\n",
       "      <td>NaN</td>\n",
       "      <td>NaN</td>\n",
       "      <td>NaN</td>\n",
       "    </tr>\n",
       "    <tr>\n",
       "      <td>75%</td>\n",
       "      <td>1374.25</td>\n",
       "      <td>62.00</td>\n",
       "      <td>NaN</td>\n",
       "      <td>NaN</td>\n",
       "      <td>NaN</td>\n",
       "      <td>NaN</td>\n",
       "      <td>NaN</td>\n",
       "      <td>NaN</td>\n",
       "    </tr>\n",
       "    <tr>\n",
       "      <td>max</td>\n",
       "      <td>1499.00</td>\n",
       "      <td>75.00</td>\n",
       "      <td>NaN</td>\n",
       "      <td>NaN</td>\n",
       "      <td>NaN</td>\n",
       "      <td>NaN</td>\n",
       "      <td>NaN</td>\n",
       "      <td>NaN</td>\n",
       "    </tr>\n",
       "  </tbody>\n",
       "</table>\n",
       "</div>"
      ],
      "text/plain": [
       "        user_id     age  churn_date    city first_name  last_name    reg_date  \\\n",
       "count    500.00  500.00          38     500        500        500         500   \n",
       "unique      NaN     NaN          33      76        246        419         270   \n",
       "top         NaN     NaN  2018-12-21  Москва      Радим  Андреенко  2018-05-28   \n",
       "freq        NaN     NaN           2      99          6          5           8   \n",
       "mean    1249.50   46.59         NaN     NaN        NaN        NaN         NaN   \n",
       "std      144.48   16.67         NaN     NaN        NaN        NaN         NaN   \n",
       "min     1000.00   18.00         NaN     NaN        NaN        NaN         NaN   \n",
       "25%     1124.75   32.00         NaN     NaN        NaN        NaN         NaN   \n",
       "50%     1249.50   46.00         NaN     NaN        NaN        NaN         NaN   \n",
       "75%     1374.25   62.00         NaN     NaN        NaN        NaN         NaN   \n",
       "max     1499.00   75.00         NaN     NaN        NaN        NaN         NaN   \n",
       "\n",
       "       tariff  \n",
       "count     500  \n",
       "unique      2  \n",
       "top     smart  \n",
       "freq      351  \n",
       "mean      NaN  \n",
       "std       NaN  \n",
       "min       NaN  \n",
       "25%       NaN  \n",
       "50%       NaN  \n",
       "75%       NaN  \n",
       "max       NaN  "
      ]
     },
     "metadata": {},
     "output_type": "display_data"
    },
    {
     "name": "stdout",
     "output_type": "stream",
     "text": [
      "Применяем метод .duplicated\n"
     ]
    },
    {
     "data": {
      "text/plain": [
       "0"
      ]
     },
     "metadata": {},
     "output_type": "display_data"
    }
   ],
   "source": [
    "df_list = {'calls': calls, 'internet':internet, 'messages':messages, 'tariffs':tariffs, 'users':users}\n",
    "for df in df_list:\n",
    "    print('_______________________________')\n",
    "    print('Данные по таблице {}'.format(df))\n",
    "    print('_______________________________')\n",
    "    print()\n",
    "    print('Применяем метод .sample')\n",
    "    display(df_list[df].sample(2))\n",
    "    print('Применяем метод .info')\n",
    "    display(df_list[df].info())\n",
    "    print('Применяем метод .describe')\n",
    "    display(df_list[df].describe(include='all'))\n",
    "    print('Применяем метод .duplicated')\n",
    "    display(df_list[df].duplicated().sum())    "
   ]
  },
  {
   "cell_type": "code",
   "execution_count": 4,
   "metadata": {
    "ExecuteTime": {
     "end_time": "2020-06-26T18:51:01.504592Z",
     "start_time": "2020-06-26T18:51:01.496587Z"
    }
   },
   "outputs": [
    {
     "data": {
      "text/plain": [
       "array(['Краснодар', 'Москва', 'Стерлитамак', 'Новокузнецк',\n",
       "       'Набережные Челны', 'Ульяновск', 'Челябинск', 'Пермь', 'Тюмень',\n",
       "       'Самара', 'Санкт-Петербург', 'Иваново', 'Чебоксары', 'Омск', 'Уфа',\n",
       "       'Томск', 'Чита', 'Мурманск', 'Петрозаводск', 'Тверь',\n",
       "       'Екатеринбург', 'Махачкала', 'Вологда', 'Череповец', 'Ярославль',\n",
       "       'Сочи', 'Хабаровск', 'Ставрополь', 'Рязань', 'Улан-Удэ', 'Тула',\n",
       "       'Саратов', 'Ростов-на-Дону', 'Казань', 'Иркутск', 'Курск',\n",
       "       'Калуга', 'Якутск', 'Астрахань', 'Химки', 'Владикавказ',\n",
       "       'Волгоград', 'Саранск', 'Ижевск', 'Новосибирск', 'Брянск',\n",
       "       'Тольятти', 'Нижний Тагил', 'Орёл', 'Белгород', 'Воронеж',\n",
       "       'Волжский', 'Курган', 'Барнаул', 'Красноярск', 'Архангельск',\n",
       "       'Липецк', 'Кемерово', 'Киров', 'Сургут', 'Пенза', 'Магнитогорск',\n",
       "       'Нижний Новгород', 'Кострома', 'Владивосток', 'Тамбов', 'Балашиха',\n",
       "       'Севастополь', 'Калининград', 'Оренбург', 'Смоленск',\n",
       "       'Нижневартовск', 'Владимир', 'Новороссийск', 'Грозный', 'Подольск'],\n",
       "      dtype=object)"
      ]
     },
     "execution_count": 4,
     "metadata": {},
     "output_type": "execute_result"
    }
   ],
   "source": [
    "# отдельно изучим города, вдруг там есть ошибки/опечатки/проблемы с регистром и т.п. \n",
    "users['city'].unique()"
   ]
  },
  {
   "cell_type": "markdown",
   "metadata": {},
   "source": [
    "## Вывод\n",
    "- **Calls**\n",
    "\n",
    "Как было отмечено в задании, есть нулевые значения - пропущенный звонок. В следующем шаге необходимо избавить от этих записей, так как они будут размывать среднее значение длительности разговора, в то время как разговора и не было. Пропусков, в классичеком понимании - нет. Любопытное, но в тоже время очевидное наблюдение из анализа таблицы - в какой праздник люди звонят чаще всего? В Новый Год\n",
    "\n",
    "- **Internet**\n",
    "\n",
    "Присутствовал лишний столбец (`Unnamed: 0`), который дублирует индекс записи, нужно будет удалить на этапе чтения csv файла. Пропусков нет, но как и в случае со звонками есть сессии, в которых не было потрачено ни одного мб. Раз небыло потрачено, значит не было сессии. Такие сессии удалим, чтобы они не размывали среднеею\n",
    "\n",
    "- **Messages**\n",
    "\n",
    "Дублей и пропусков нет\n",
    "\n",
    "\n",
    "- **Tarrifs**\n",
    "\n",
    "В таблице указана стоимость за траты сверх тарифа, и тут вспоминается важный момент касательно типов данных. Нужно будет округлить количество потраченных минут и мб в calls & internet. Так как наша компания считает, например, 0.1 мб за 1 мб, а 30 сек. разговора за минуту. \n",
    "\n",
    "- **Users**\n",
    "\n",
    "Как и было заявлено в описании, пропуск есть в churn_date, трогать их не будем. Раз не ушел, значит не ушел)\n",
    "Клиенты из нашей выборки проживают в 76 городах, большая часть в Москве и у большинства тариф smart. Дублей нет. Кроме того, наблюдаем практически идентичное значение средней и медианы по возрасту. \n",
    "\n",
    "Для каждой таблицы с данным по расходу минут/смс/трафика нужно будет добавить столбец с месяцем расхода.\n",
    "Для пользователей месяц регистрации и месяц ухода.\n",
    "\n",
    "Отдельно отмечу, что максимальный и минимальный user_id по всем таблицам совпадает, следовательно считаю что у данные в таблицах содержат данные по интересующим нас клиентам.  "
   ]
  },
  {
   "cell_type": "markdown",
   "metadata": {},
   "source": [
    "[План работы](#plan)"
   ]
  },
  {
   "cell_type": "markdown",
   "metadata": {},
   "source": [
    "<a id=step2></a>\n",
    "# Шаг 2. Подготовка данных к анализу"
   ]
  },
  {
   "cell_type": "markdown",
   "metadata": {},
   "source": [
    "**Calls**\n",
    "\n",
    "Начнем с удаления нулевой длительности разговора, округления этого параметра, сменой типа и добавление столбца с месяцем. "
   ]
  },
  {
   "cell_type": "code",
   "execution_count": 5,
   "metadata": {
    "ExecuteTime": {
     "end_time": "2020-06-26T18:51:01.617677Z",
     "start_time": "2020-06-26T18:51:01.507595Z"
    },
    "scrolled": false
   },
   "outputs": [
    {
     "data": {
      "text/html": [
       "<div>\n",
       "<style scoped>\n",
       "    .dataframe tbody tr th:only-of-type {\n",
       "        vertical-align: middle;\n",
       "    }\n",
       "\n",
       "    .dataframe tbody tr th {\n",
       "        vertical-align: top;\n",
       "    }\n",
       "\n",
       "    .dataframe thead th {\n",
       "        text-align: right;\n",
       "    }\n",
       "</style>\n",
       "<table border=\"1\" class=\"dataframe\">\n",
       "  <thead>\n",
       "    <tr style=\"text-align: right;\">\n",
       "      <th></th>\n",
       "      <th>duration</th>\n",
       "      <th>user_id</th>\n",
       "    </tr>\n",
       "  </thead>\n",
       "  <tbody>\n",
       "    <tr>\n",
       "      <td>count</td>\n",
       "      <td>162994.00</td>\n",
       "      <td>162994.00</td>\n",
       "    </tr>\n",
       "    <tr>\n",
       "      <td>mean</td>\n",
       "      <td>8.40</td>\n",
       "      <td>1254.15</td>\n",
       "    </tr>\n",
       "    <tr>\n",
       "      <td>std</td>\n",
       "      <td>5.35</td>\n",
       "      <td>144.75</td>\n",
       "    </tr>\n",
       "    <tr>\n",
       "      <td>min</td>\n",
       "      <td>0.01</td>\n",
       "      <td>1000.00</td>\n",
       "    </tr>\n",
       "    <tr>\n",
       "      <td>25%</td>\n",
       "      <td>4.17</td>\n",
       "      <td>1126.00</td>\n",
       "    </tr>\n",
       "    <tr>\n",
       "      <td>50%</td>\n",
       "      <td>7.74</td>\n",
       "      <td>1261.00</td>\n",
       "    </tr>\n",
       "    <tr>\n",
       "      <td>75%</td>\n",
       "      <td>11.85</td>\n",
       "      <td>1379.00</td>\n",
       "    </tr>\n",
       "    <tr>\n",
       "      <td>max</td>\n",
       "      <td>38.00</td>\n",
       "      <td>1499.00</td>\n",
       "    </tr>\n",
       "  </tbody>\n",
       "</table>\n",
       "</div>"
      ],
      "text/plain": [
       "        duration    user_id\n",
       "count  162994.00  162994.00\n",
       "mean        8.40    1254.15\n",
       "std         5.35     144.75\n",
       "min         0.01    1000.00\n",
       "25%         4.17    1126.00\n",
       "50%         7.74    1261.00\n",
       "75%        11.85    1379.00\n",
       "max        38.00    1499.00"
      ]
     },
     "execution_count": 5,
     "metadata": {},
     "output_type": "execute_result"
    }
   ],
   "source": [
    "calls = calls.query('duration != 0')\n",
    "calls.describe()"
   ]
  },
  {
   "cell_type": "code",
   "execution_count": 6,
   "metadata": {
    "ExecuteTime": {
     "end_time": "2020-06-26T18:51:01.681728Z",
     "start_time": "2020-06-26T18:51:01.621681Z"
    },
    "scrolled": false
   },
   "outputs": [
    {
     "name": "stderr",
     "output_type": "stream",
     "text": [
      "/opt/conda/lib/python3.7/site-packages/ipykernel_launcher.py:2: SettingWithCopyWarning: \n",
      "A value is trying to be set on a copy of a slice from a DataFrame.\n",
      "Try using .loc[row_indexer,col_indexer] = value instead\n",
      "\n",
      "See the caveats in the documentation: http://pandas.pydata.org/pandas-docs/stable/user_guide/indexing.html#returning-a-view-versus-a-copy\n",
      "  \n"
     ]
    },
    {
     "data": {
      "text/html": [
       "<div>\n",
       "<style scoped>\n",
       "    .dataframe tbody tr th:only-of-type {\n",
       "        vertical-align: middle;\n",
       "    }\n",
       "\n",
       "    .dataframe tbody tr th {\n",
       "        vertical-align: top;\n",
       "    }\n",
       "\n",
       "    .dataframe thead th {\n",
       "        text-align: right;\n",
       "    }\n",
       "</style>\n",
       "<table border=\"1\" class=\"dataframe\">\n",
       "  <thead>\n",
       "    <tr style=\"text-align: right;\">\n",
       "      <th></th>\n",
       "      <th>duration</th>\n",
       "      <th>user_id</th>\n",
       "    </tr>\n",
       "  </thead>\n",
       "  <tbody>\n",
       "    <tr>\n",
       "      <td>count</td>\n",
       "      <td>162994.00</td>\n",
       "      <td>162994.00</td>\n",
       "    </tr>\n",
       "    <tr>\n",
       "      <td>mean</td>\n",
       "      <td>8.90</td>\n",
       "      <td>1254.15</td>\n",
       "    </tr>\n",
       "    <tr>\n",
       "      <td>std</td>\n",
       "      <td>5.35</td>\n",
       "      <td>144.75</td>\n",
       "    </tr>\n",
       "    <tr>\n",
       "      <td>min</td>\n",
       "      <td>1.00</td>\n",
       "      <td>1000.00</td>\n",
       "    </tr>\n",
       "    <tr>\n",
       "      <td>25%</td>\n",
       "      <td>5.00</td>\n",
       "      <td>1126.00</td>\n",
       "    </tr>\n",
       "    <tr>\n",
       "      <td>50%</td>\n",
       "      <td>8.00</td>\n",
       "      <td>1261.00</td>\n",
       "    </tr>\n",
       "    <tr>\n",
       "      <td>75%</td>\n",
       "      <td>12.00</td>\n",
       "      <td>1379.00</td>\n",
       "    </tr>\n",
       "    <tr>\n",
       "      <td>max</td>\n",
       "      <td>38.00</td>\n",
       "      <td>1499.00</td>\n",
       "    </tr>\n",
       "  </tbody>\n",
       "</table>\n",
       "</div>"
      ],
      "text/plain": [
       "        duration    user_id\n",
       "count  162994.00  162994.00\n",
       "mean        8.90    1254.15\n",
       "std         5.35     144.75\n",
       "min         1.00    1000.00\n",
       "25%         5.00    1126.00\n",
       "50%         8.00    1261.00\n",
       "75%        12.00    1379.00\n",
       "max        38.00    1499.00"
      ]
     },
     "execution_count": 6,
     "metadata": {},
     "output_type": "execute_result"
    }
   ],
   "source": [
    "# округлим продолжительность разговора вверх до целого и проверим\n",
    "calls['duration'] = calls['duration'].apply(np.ceil).astype('int64')\n",
    "calls.describe()"
   ]
  },
  {
   "cell_type": "code",
   "execution_count": 7,
   "metadata": {
    "ExecuteTime": {
     "end_time": "2020-06-26T18:51:01.891893Z",
     "start_time": "2020-06-26T18:51:01.684729Z"
    },
    "scrolled": true
   },
   "outputs": [
    {
     "name": "stderr",
     "output_type": "stream",
     "text": [
      "/opt/conda/lib/python3.7/site-packages/ipykernel_launcher.py:2: SettingWithCopyWarning: \n",
      "A value is trying to be set on a copy of a slice from a DataFrame.\n",
      "Try using .loc[row_indexer,col_indexer] = value instead\n",
      "\n",
      "See the caveats in the documentation: http://pandas.pydata.org/pandas-docs/stable/user_guide/indexing.html#returning-a-view-versus-a-copy\n",
      "  \n"
     ]
    },
    {
     "data": {
      "text/html": [
       "<div>\n",
       "<style scoped>\n",
       "    .dataframe tbody tr th:only-of-type {\n",
       "        vertical-align: middle;\n",
       "    }\n",
       "\n",
       "    .dataframe tbody tr th {\n",
       "        vertical-align: top;\n",
       "    }\n",
       "\n",
       "    .dataframe thead th {\n",
       "        text-align: right;\n",
       "    }\n",
       "</style>\n",
       "<table border=\"1\" class=\"dataframe\">\n",
       "  <thead>\n",
       "    <tr style=\"text-align: right;\">\n",
       "      <th></th>\n",
       "      <th>id</th>\n",
       "      <th>call_date</th>\n",
       "      <th>duration</th>\n",
       "      <th>user_id</th>\n",
       "      <th>month</th>\n",
       "    </tr>\n",
       "  </thead>\n",
       "  <tbody>\n",
       "    <tr>\n",
       "      <td>75523</td>\n",
       "      <td>1189_191</td>\n",
       "      <td>2018-08-01</td>\n",
       "      <td>3</td>\n",
       "      <td>1189</td>\n",
       "      <td>8</td>\n",
       "    </tr>\n",
       "    <tr>\n",
       "      <td>72077</td>\n",
       "      <td>1179_349</td>\n",
       "      <td>2018-04-23</td>\n",
       "      <td>9</td>\n",
       "      <td>1179</td>\n",
       "      <td>4</td>\n",
       "    </tr>\n",
       "    <tr>\n",
       "      <td>197167</td>\n",
       "      <td>1483_116</td>\n",
       "      <td>2018-11-29</td>\n",
       "      <td>12</td>\n",
       "      <td>1483</td>\n",
       "      <td>11</td>\n",
       "    </tr>\n",
       "  </tbody>\n",
       "</table>\n",
       "</div>"
      ],
      "text/plain": [
       "              id   call_date  duration  user_id  month\n",
       "75523   1189_191  2018-08-01         3     1189      8\n",
       "72077   1179_349  2018-04-23         9     1179      4\n",
       "197167  1483_116  2018-11-29        12     1483     11"
      ]
     },
     "execution_count": 7,
     "metadata": {},
     "output_type": "execute_result"
    }
   ],
   "source": [
    "# добавляю столбец с месяцем звонка\n",
    "calls['month'] = pd.DatetimeIndex(calls['call_date']).month\n",
    "calls.sample(3)"
   ]
  },
  {
   "cell_type": "markdown",
   "metadata": {},
   "source": [
    "**Internet**\n",
    "\n",
    "Округлим потраченные мб.\n",
    "После удалим записи с нулевым расходом мб и добавим месяц когда сессия имела место."
   ]
  },
  {
   "cell_type": "code",
   "execution_count": 8,
   "metadata": {
    "ExecuteTime": {
     "end_time": "2020-06-26T18:51:01.959945Z",
     "start_time": "2020-06-26T18:51:01.897899Z"
    },
    "scrolled": false
   },
   "outputs": [
    {
     "data": {
      "text/html": [
       "<div>\n",
       "<style scoped>\n",
       "    .dataframe tbody tr th:only-of-type {\n",
       "        vertical-align: middle;\n",
       "    }\n",
       "\n",
       "    .dataframe tbody tr th {\n",
       "        vertical-align: top;\n",
       "    }\n",
       "\n",
       "    .dataframe thead th {\n",
       "        text-align: right;\n",
       "    }\n",
       "</style>\n",
       "<table border=\"1\" class=\"dataframe\">\n",
       "  <thead>\n",
       "    <tr style=\"text-align: right;\">\n",
       "      <th></th>\n",
       "      <th>mb_used</th>\n",
       "      <th>user_id</th>\n",
       "    </tr>\n",
       "  </thead>\n",
       "  <tbody>\n",
       "    <tr>\n",
       "      <td>count</td>\n",
       "      <td>149396.00</td>\n",
       "      <td>149396.00</td>\n",
       "    </tr>\n",
       "    <tr>\n",
       "      <td>mean</td>\n",
       "      <td>370.62</td>\n",
       "      <td>1252.10</td>\n",
       "    </tr>\n",
       "    <tr>\n",
       "      <td>std</td>\n",
       "      <td>278.39</td>\n",
       "      <td>144.05</td>\n",
       "    </tr>\n",
       "    <tr>\n",
       "      <td>min</td>\n",
       "      <td>0.00</td>\n",
       "      <td>1000.00</td>\n",
       "    </tr>\n",
       "    <tr>\n",
       "      <td>25%</td>\n",
       "      <td>139.00</td>\n",
       "      <td>1130.00</td>\n",
       "    </tr>\n",
       "    <tr>\n",
       "      <td>50%</td>\n",
       "      <td>349.00</td>\n",
       "      <td>1251.00</td>\n",
       "    </tr>\n",
       "    <tr>\n",
       "      <td>75%</td>\n",
       "      <td>560.00</td>\n",
       "      <td>1380.00</td>\n",
       "    </tr>\n",
       "    <tr>\n",
       "      <td>max</td>\n",
       "      <td>1725.00</td>\n",
       "      <td>1499.00</td>\n",
       "    </tr>\n",
       "  </tbody>\n",
       "</table>\n",
       "</div>"
      ],
      "text/plain": [
       "         mb_used    user_id\n",
       "count  149396.00  149396.00\n",
       "mean      370.62    1252.10\n",
       "std       278.39     144.05\n",
       "min         0.00    1000.00\n",
       "25%       139.00    1130.00\n",
       "50%       349.00    1251.00\n",
       "75%       560.00    1380.00\n",
       "max      1725.00    1499.00"
      ]
     },
     "execution_count": 8,
     "metadata": {},
     "output_type": "execute_result"
    }
   ],
   "source": [
    "# округляем вверх количество потраченных мб за сессию и меняем тип на целочисленный\n",
    "internet['mb_used'] = internet['mb_used'].apply(np.ceil).astype('int64')\n",
    "internet.describe()"
   ]
  },
  {
   "cell_type": "code",
   "execution_count": 9,
   "metadata": {
    "ExecuteTime": {
     "end_time": "2020-06-26T18:51:01.996698Z",
     "start_time": "2020-06-26T18:51:01.963676Z"
    }
   },
   "outputs": [
    {
     "data": {
      "text/html": [
       "<div>\n",
       "<style scoped>\n",
       "    .dataframe tbody tr th:only-of-type {\n",
       "        vertical-align: middle;\n",
       "    }\n",
       "\n",
       "    .dataframe tbody tr th {\n",
       "        vertical-align: top;\n",
       "    }\n",
       "\n",
       "    .dataframe thead th {\n",
       "        text-align: right;\n",
       "    }\n",
       "</style>\n",
       "<table border=\"1\" class=\"dataframe\">\n",
       "  <thead>\n",
       "    <tr style=\"text-align: right;\">\n",
       "      <th></th>\n",
       "      <th>id</th>\n",
       "      <th>mb_used</th>\n",
       "      <th>session_date</th>\n",
       "      <th>user_id</th>\n",
       "    </tr>\n",
       "  </thead>\n",
       "  <tbody>\n",
       "  </tbody>\n",
       "</table>\n",
       "</div>"
      ],
      "text/plain": [
       "Empty DataFrame\n",
       "Columns: [id, mb_used, session_date, user_id]\n",
       "Index: []"
      ]
     },
     "execution_count": 9,
     "metadata": {},
     "output_type": "execute_result"
    }
   ],
   "source": [
    "# уберем сессии без траты трафика\n",
    "internet = internet.query('mb_used != 0')\n",
    "internet.query('mb_used == 0')"
   ]
  },
  {
   "cell_type": "code",
   "execution_count": 10,
   "metadata": {
    "ExecuteTime": {
     "end_time": "2020-06-26T18:51:02.163322Z",
     "start_time": "2020-06-26T18:51:01.998698Z"
    },
    "scrolled": true
   },
   "outputs": [
    {
     "name": "stderr",
     "output_type": "stream",
     "text": [
      "/opt/conda/lib/python3.7/site-packages/ipykernel_launcher.py:2: SettingWithCopyWarning: \n",
      "A value is trying to be set on a copy of a slice from a DataFrame.\n",
      "Try using .loc[row_indexer,col_indexer] = value instead\n",
      "\n",
      "See the caveats in the documentation: http://pandas.pydata.org/pandas-docs/stable/user_guide/indexing.html#returning-a-view-versus-a-copy\n",
      "  \n"
     ]
    },
    {
     "data": {
      "text/html": [
       "<div>\n",
       "<style scoped>\n",
       "    .dataframe tbody tr th:only-of-type {\n",
       "        vertical-align: middle;\n",
       "    }\n",
       "\n",
       "    .dataframe tbody tr th {\n",
       "        vertical-align: top;\n",
       "    }\n",
       "\n",
       "    .dataframe thead th {\n",
       "        text-align: right;\n",
       "    }\n",
       "</style>\n",
       "<table border=\"1\" class=\"dataframe\">\n",
       "  <thead>\n",
       "    <tr style=\"text-align: right;\">\n",
       "      <th></th>\n",
       "      <th>id</th>\n",
       "      <th>mb_used</th>\n",
       "      <th>session_date</th>\n",
       "      <th>user_id</th>\n",
       "      <th>month</th>\n",
       "    </tr>\n",
       "  </thead>\n",
       "  <tbody>\n",
       "    <tr>\n",
       "      <td>5513</td>\n",
       "      <td>1016_0</td>\n",
       "      <td>448</td>\n",
       "      <td>2018-12-12</td>\n",
       "      <td>1016</td>\n",
       "      <td>12</td>\n",
       "    </tr>\n",
       "    <tr>\n",
       "      <td>133409</td>\n",
       "      <td>1446_192</td>\n",
       "      <td>398</td>\n",
       "      <td>2018-11-06</td>\n",
       "      <td>1446</td>\n",
       "      <td>11</td>\n",
       "    </tr>\n",
       "    <tr>\n",
       "      <td>56071</td>\n",
       "      <td>1187_115</td>\n",
       "      <td>210</td>\n",
       "      <td>2018-11-29</td>\n",
       "      <td>1187</td>\n",
       "      <td>11</td>\n",
       "    </tr>\n",
       "  </tbody>\n",
       "</table>\n",
       "</div>"
      ],
      "text/plain": [
       "              id  mb_used session_date  user_id  month\n",
       "5513      1016_0      448   2018-12-12     1016     12\n",
       "133409  1446_192      398   2018-11-06     1446     11\n",
       "56071   1187_115      210   2018-11-29     1187     11"
      ]
     },
     "execution_count": 10,
     "metadata": {},
     "output_type": "execute_result"
    }
   ],
   "source": [
    "# добавим месяц сессии\n",
    "internet['month'] = pd.DatetimeIndex(internet['session_date']).month\n",
    "internet.sample(3)"
   ]
  },
  {
   "cell_type": "markdown",
   "metadata": {},
   "source": [
    "**Messages**\n",
    "\n",
    "Добавляю столбец с месяцем отправки смс"
   ]
  },
  {
   "cell_type": "code",
   "execution_count": 11,
   "metadata": {
    "ExecuteTime": {
     "end_time": "2020-06-26T18:51:02.322436Z",
     "start_time": "2020-06-26T18:51:02.166323Z"
    }
   },
   "outputs": [
    {
     "data": {
      "text/html": [
       "<div>\n",
       "<style scoped>\n",
       "    .dataframe tbody tr th:only-of-type {\n",
       "        vertical-align: middle;\n",
       "    }\n",
       "\n",
       "    .dataframe tbody tr th {\n",
       "        vertical-align: top;\n",
       "    }\n",
       "\n",
       "    .dataframe thead th {\n",
       "        text-align: right;\n",
       "    }\n",
       "</style>\n",
       "<table border=\"1\" class=\"dataframe\">\n",
       "  <thead>\n",
       "    <tr style=\"text-align: right;\">\n",
       "      <th></th>\n",
       "      <th>id</th>\n",
       "      <th>message_date</th>\n",
       "      <th>user_id</th>\n",
       "      <th>month</th>\n",
       "    </tr>\n",
       "  </thead>\n",
       "  <tbody>\n",
       "    <tr>\n",
       "      <td>111223</td>\n",
       "      <td>1450_24</td>\n",
       "      <td>2018-12-20</td>\n",
       "      <td>1450</td>\n",
       "      <td>12</td>\n",
       "    </tr>\n",
       "    <tr>\n",
       "      <td>72599</td>\n",
       "      <td>1308_59</td>\n",
       "      <td>2018-05-17</td>\n",
       "      <td>1308</td>\n",
       "      <td>5</td>\n",
       "    </tr>\n",
       "    <tr>\n",
       "      <td>17682</td>\n",
       "      <td>1076_831</td>\n",
       "      <td>2018-11-23</td>\n",
       "      <td>1076</td>\n",
       "      <td>11</td>\n",
       "    </tr>\n",
       "  </tbody>\n",
       "</table>\n",
       "</div>"
      ],
      "text/plain": [
       "              id message_date  user_id  month\n",
       "111223   1450_24   2018-12-20     1450     12\n",
       "72599    1308_59   2018-05-17     1308      5\n",
       "17682   1076_831   2018-11-23     1076     11"
      ]
     },
     "execution_count": 11,
     "metadata": {},
     "output_type": "execute_result"
    }
   ],
   "source": [
    "messages['month'] = pd.DatetimeIndex(messages['message_date']).month\n",
    "messages.sample(3)"
   ]
  },
  {
   "cell_type": "markdown",
   "metadata": {},
   "source": [
    "**Users**\n",
    "\n",
    "Добавляю столбцы с месяцами подписания и расторжения контракта"
   ]
  },
  {
   "cell_type": "code",
   "execution_count": 12,
   "metadata": {
    "ExecuteTime": {
     "end_time": "2020-06-26T18:51:02.357462Z",
     "start_time": "2020-06-26T18:51:02.325436Z"
    }
   },
   "outputs": [
    {
     "data": {
      "text/html": [
       "<div>\n",
       "<style scoped>\n",
       "    .dataframe tbody tr th:only-of-type {\n",
       "        vertical-align: middle;\n",
       "    }\n",
       "\n",
       "    .dataframe tbody tr th {\n",
       "        vertical-align: top;\n",
       "    }\n",
       "\n",
       "    .dataframe thead th {\n",
       "        text-align: right;\n",
       "    }\n",
       "</style>\n",
       "<table border=\"1\" class=\"dataframe\">\n",
       "  <thead>\n",
       "    <tr style=\"text-align: right;\">\n",
       "      <th></th>\n",
       "      <th>user_id</th>\n",
       "      <th>age</th>\n",
       "      <th>churn_date</th>\n",
       "      <th>city</th>\n",
       "      <th>first_name</th>\n",
       "      <th>last_name</th>\n",
       "      <th>reg_date</th>\n",
       "      <th>tariff</th>\n",
       "      <th>churn_month</th>\n",
       "      <th>reg_month</th>\n",
       "    </tr>\n",
       "  </thead>\n",
       "  <tbody>\n",
       "    <tr>\n",
       "      <td>143</td>\n",
       "      <td>1143</td>\n",
       "      <td>64</td>\n",
       "      <td>NaN</td>\n",
       "      <td>Пермь</td>\n",
       "      <td>Арсен</td>\n",
       "      <td>Покровский</td>\n",
       "      <td>2018-04-27</td>\n",
       "      <td>ultra</td>\n",
       "      <td>NaN</td>\n",
       "      <td>4</td>\n",
       "    </tr>\n",
       "    <tr>\n",
       "      <td>305</td>\n",
       "      <td>1305</td>\n",
       "      <td>37</td>\n",
       "      <td>NaN</td>\n",
       "      <td>Москва</td>\n",
       "      <td>Эмилия</td>\n",
       "      <td>Лаптева</td>\n",
       "      <td>2018-10-25</td>\n",
       "      <td>smart</td>\n",
       "      <td>NaN</td>\n",
       "      <td>10</td>\n",
       "    </tr>\n",
       "    <tr>\n",
       "      <td>370</td>\n",
       "      <td>1370</td>\n",
       "      <td>48</td>\n",
       "      <td>2018-10-27</td>\n",
       "      <td>Новороссийск</td>\n",
       "      <td>Гектор</td>\n",
       "      <td>Сысоев</td>\n",
       "      <td>2018-02-06</td>\n",
       "      <td>smart</td>\n",
       "      <td>10.0</td>\n",
       "      <td>2</td>\n",
       "    </tr>\n",
       "    <tr>\n",
       "      <td>291</td>\n",
       "      <td>1291</td>\n",
       "      <td>73</td>\n",
       "      <td>NaN</td>\n",
       "      <td>Москва</td>\n",
       "      <td>Мануэла</td>\n",
       "      <td>Анищенко</td>\n",
       "      <td>2018-02-08</td>\n",
       "      <td>smart</td>\n",
       "      <td>NaN</td>\n",
       "      <td>2</td>\n",
       "    </tr>\n",
       "    <tr>\n",
       "      <td>114</td>\n",
       "      <td>1114</td>\n",
       "      <td>53</td>\n",
       "      <td>NaN</td>\n",
       "      <td>Пермь</td>\n",
       "      <td>Маргарита</td>\n",
       "      <td>Колесова</td>\n",
       "      <td>2018-07-26</td>\n",
       "      <td>smart</td>\n",
       "      <td>NaN</td>\n",
       "      <td>7</td>\n",
       "    </tr>\n",
       "    <tr>\n",
       "      <td>139</td>\n",
       "      <td>1139</td>\n",
       "      <td>22</td>\n",
       "      <td>NaN</td>\n",
       "      <td>Казань</td>\n",
       "      <td>Светлана</td>\n",
       "      <td>Корнеева</td>\n",
       "      <td>2018-11-09</td>\n",
       "      <td>smart</td>\n",
       "      <td>NaN</td>\n",
       "      <td>11</td>\n",
       "    </tr>\n",
       "    <tr>\n",
       "      <td>62</td>\n",
       "      <td>1062</td>\n",
       "      <td>24</td>\n",
       "      <td>2018-12-09</td>\n",
       "      <td>Москва</td>\n",
       "      <td>Александр</td>\n",
       "      <td>Коршунов</td>\n",
       "      <td>2018-11-16</td>\n",
       "      <td>smart</td>\n",
       "      <td>12.0</td>\n",
       "      <td>11</td>\n",
       "    </tr>\n",
       "    <tr>\n",
       "      <td>254</td>\n",
       "      <td>1254</td>\n",
       "      <td>75</td>\n",
       "      <td>2018-08-17</td>\n",
       "      <td>Москва</td>\n",
       "      <td>Александра</td>\n",
       "      <td>Сухарева</td>\n",
       "      <td>2018-01-04</td>\n",
       "      <td>ultra</td>\n",
       "      <td>8.0</td>\n",
       "      <td>1</td>\n",
       "    </tr>\n",
       "  </tbody>\n",
       "</table>\n",
       "</div>"
      ],
      "text/plain": [
       "     user_id  age  churn_date          city  first_name   last_name  \\\n",
       "143     1143   64         NaN         Пермь       Арсен  Покровский   \n",
       "305     1305   37         NaN        Москва      Эмилия     Лаптева   \n",
       "370     1370   48  2018-10-27  Новороссийск      Гектор      Сысоев   \n",
       "291     1291   73         NaN        Москва     Мануэла    Анищенко   \n",
       "114     1114   53         NaN         Пермь   Маргарита    Колесова   \n",
       "139     1139   22         NaN        Казань    Светлана    Корнеева   \n",
       "62      1062   24  2018-12-09        Москва   Александр    Коршунов   \n",
       "254     1254   75  2018-08-17        Москва  Александра    Сухарева   \n",
       "\n",
       "       reg_date tariff  churn_month  reg_month  \n",
       "143  2018-04-27  ultra          NaN          4  \n",
       "305  2018-10-25  smart          NaN         10  \n",
       "370  2018-02-06  smart         10.0          2  \n",
       "291  2018-02-08  smart          NaN          2  \n",
       "114  2018-07-26  smart          NaN          7  \n",
       "139  2018-11-09  smart          NaN         11  \n",
       "62   2018-11-16  smart         12.0         11  \n",
       "254  2018-01-04  ultra          8.0          1  "
      ]
     },
     "execution_count": 12,
     "metadata": {},
     "output_type": "execute_result"
    }
   ],
   "source": [
    "users['churn_month'] = pd.DatetimeIndex(users['churn_date']).month\n",
    "users['reg_month'] = pd.DatetimeIndex(users['reg_date']).month\n",
    "users.sample(8)"
   ]
  },
  {
   "cell_type": "markdown",
   "metadata": {},
   "source": [
    "## Вывод\n",
    "\n",
    "Проблем с данными оказалось немного, удалили пропущенные/несостоявшиеся звонки и интернет-сессии без затрат трафика, добавили пару столбцов для последующих более сложных расчетов, поменяли формат и округлили расход минут и интернет - трафика, теперь приступаем к следующему шагу."
   ]
  },
  {
   "cell_type": "markdown",
   "metadata": {},
   "source": [
    "[План работы](#plan)"
   ]
  },
  {
   "cell_type": "markdown",
   "metadata": {},
   "source": [
    "<a id=step3></a>\n",
    "# Шаг 3. Расчеты для каждого пользователя\n",
    "\n",
    "Создадим новую таблицу, в которую поместим данные по потреблению наших пользователей и выручку компании с каждого клиента по месяцам"
   ]
  },
  {
   "cell_type": "code",
   "execution_count": 13,
   "metadata": {
    "ExecuteTime": {
     "end_time": "2020-06-26T18:51:02.382481Z",
     "start_time": "2020-06-26T18:51:02.360464Z"
    }
   },
   "outputs": [
    {
     "data": {
      "text/html": [
       "<div>\n",
       "<style scoped>\n",
       "    .dataframe tbody tr th:only-of-type {\n",
       "        vertical-align: middle;\n",
       "    }\n",
       "\n",
       "    .dataframe tbody tr th {\n",
       "        vertical-align: top;\n",
       "    }\n",
       "\n",
       "    .dataframe thead th {\n",
       "        text-align: right;\n",
       "    }\n",
       "</style>\n",
       "<table border=\"1\" class=\"dataframe\">\n",
       "  <thead>\n",
       "    <tr style=\"text-align: right;\">\n",
       "      <th></th>\n",
       "      <th>id</th>\n",
       "      <th>call_date</th>\n",
       "      <th>duration</th>\n",
       "      <th>user_id</th>\n",
       "      <th>month</th>\n",
       "    </tr>\n",
       "  </thead>\n",
       "  <tbody>\n",
       "    <tr>\n",
       "      <td>129100</td>\n",
       "      <td>1330_964</td>\n",
       "      <td>2018-09-12</td>\n",
       "      <td>10</td>\n",
       "      <td>1330</td>\n",
       "      <td>9</td>\n",
       "    </tr>\n",
       "  </tbody>\n",
       "</table>\n",
       "</div>"
      ],
      "text/plain": [
       "              id   call_date  duration  user_id  month\n",
       "129100  1330_964  2018-09-12        10     1330      9"
      ]
     },
     "execution_count": 13,
     "metadata": {},
     "output_type": "execute_result"
    }
   ],
   "source": [
    "# считаем количество и сумму звонков для каждого пользователя по каждому месяцу\n",
    "calls.sample()"
   ]
  },
  {
   "cell_type": "code",
   "execution_count": 14,
   "metadata": {
    "ExecuteTime": {
     "end_time": "2020-06-26T18:51:02.472554Z",
     "start_time": "2020-06-26T18:51:02.385482Z"
    }
   },
   "outputs": [
    {
     "data": {
      "text/html": [
       "<div>\n",
       "<style scoped>\n",
       "    .dataframe tbody tr th:only-of-type {\n",
       "        vertical-align: middle;\n",
       "    }\n",
       "\n",
       "    .dataframe tbody tr th {\n",
       "        vertical-align: top;\n",
       "    }\n",
       "\n",
       "    .dataframe thead th {\n",
       "        text-align: right;\n",
       "    }\n",
       "</style>\n",
       "<table border=\"1\" class=\"dataframe\">\n",
       "  <thead>\n",
       "    <tr style=\"text-align: right;\">\n",
       "      <th></th>\n",
       "      <th>user_id</th>\n",
       "      <th>month</th>\n",
       "      <th>calls_duration</th>\n",
       "      <th>calls_count</th>\n",
       "    </tr>\n",
       "  </thead>\n",
       "  <tbody>\n",
       "    <tr>\n",
       "      <td>0</td>\n",
       "      <td>1000</td>\n",
       "      <td>5</td>\n",
       "      <td>159</td>\n",
       "      <td>17</td>\n",
       "    </tr>\n",
       "    <tr>\n",
       "      <td>1</td>\n",
       "      <td>1000</td>\n",
       "      <td>6</td>\n",
       "      <td>172</td>\n",
       "      <td>28</td>\n",
       "    </tr>\n",
       "    <tr>\n",
       "      <td>2</td>\n",
       "      <td>1000</td>\n",
       "      <td>7</td>\n",
       "      <td>340</td>\n",
       "      <td>41</td>\n",
       "    </tr>\n",
       "    <tr>\n",
       "      <td>3</td>\n",
       "      <td>1000</td>\n",
       "      <td>8</td>\n",
       "      <td>408</td>\n",
       "      <td>42</td>\n",
       "    </tr>\n",
       "    <tr>\n",
       "      <td>4</td>\n",
       "      <td>1000</td>\n",
       "      <td>9</td>\n",
       "      <td>466</td>\n",
       "      <td>46</td>\n",
       "    </tr>\n",
       "  </tbody>\n",
       "</table>\n",
       "</div>"
      ],
      "text/plain": [
       "   user_id  month  calls_duration  calls_count\n",
       "0     1000      5             159           17\n",
       "1     1000      6             172           28\n",
       "2     1000      7             340           41\n",
       "3     1000      8             408           42\n",
       "4     1000      9             466           46"
      ]
     },
     "execution_count": 14,
     "metadata": {},
     "output_type": "execute_result"
    }
   ],
   "source": [
    "calls_grouped = pd.pivot_table(calls, index=['user_id','month']\n",
    "                               ,values=['duration','id']\n",
    "                               , aggfunc={'duration':sum,'id':'count'}\n",
    "                ).reset_index()\n",
    "calls_grouped.rename(columns={'id':'calls_count','duration':'calls_duration'}, inplace=True)\n",
    "calls_grouped.head()"
   ]
  },
  {
   "cell_type": "code",
   "execution_count": 15,
   "metadata": {
    "ExecuteTime": {
     "end_time": "2020-06-26T18:51:02.491564Z",
     "start_time": "2020-06-26T18:51:02.474555Z"
    },
    "scrolled": true
   },
   "outputs": [
    {
     "data": {
      "text/html": [
       "<div>\n",
       "<style scoped>\n",
       "    .dataframe tbody tr th:only-of-type {\n",
       "        vertical-align: middle;\n",
       "    }\n",
       "\n",
       "    .dataframe tbody tr th {\n",
       "        vertical-align: top;\n",
       "    }\n",
       "\n",
       "    .dataframe thead th {\n",
       "        text-align: right;\n",
       "    }\n",
       "</style>\n",
       "<table border=\"1\" class=\"dataframe\">\n",
       "  <thead>\n",
       "    <tr style=\"text-align: right;\">\n",
       "      <th></th>\n",
       "      <th>id</th>\n",
       "      <th>message_date</th>\n",
       "      <th>user_id</th>\n",
       "      <th>month</th>\n",
       "    </tr>\n",
       "  </thead>\n",
       "  <tbody>\n",
       "    <tr>\n",
       "      <td>21659</td>\n",
       "      <td>1091_212</td>\n",
       "      <td>2018-07-19</td>\n",
       "      <td>1091</td>\n",
       "      <td>7</td>\n",
       "    </tr>\n",
       "  </tbody>\n",
       "</table>\n",
       "</div>"
      ],
      "text/plain": [
       "             id message_date  user_id  month\n",
       "21659  1091_212   2018-07-19     1091      7"
      ]
     },
     "execution_count": 15,
     "metadata": {},
     "output_type": "execute_result"
    }
   ],
   "source": [
    "# считаем количество смс\n",
    "messages.sample()"
   ]
  },
  {
   "cell_type": "code",
   "execution_count": 16,
   "metadata": {
    "ExecuteTime": {
     "end_time": "2020-06-26T18:51:02.589641Z",
     "start_time": "2020-06-26T18:51:02.494567Z"
    }
   },
   "outputs": [
    {
     "data": {
      "text/html": [
       "<div>\n",
       "<style scoped>\n",
       "    .dataframe tbody tr th:only-of-type {\n",
       "        vertical-align: middle;\n",
       "    }\n",
       "\n",
       "    .dataframe tbody tr th {\n",
       "        vertical-align: top;\n",
       "    }\n",
       "\n",
       "    .dataframe thead th {\n",
       "        text-align: right;\n",
       "    }\n",
       "</style>\n",
       "<table border=\"1\" class=\"dataframe\">\n",
       "  <thead>\n",
       "    <tr style=\"text-align: right;\">\n",
       "      <th></th>\n",
       "      <th>user_id</th>\n",
       "      <th>month</th>\n",
       "      <th>messages_count</th>\n",
       "    </tr>\n",
       "  </thead>\n",
       "  <tbody>\n",
       "    <tr>\n",
       "      <td>0</td>\n",
       "      <td>1000</td>\n",
       "      <td>5</td>\n",
       "      <td>22</td>\n",
       "    </tr>\n",
       "    <tr>\n",
       "      <td>1</td>\n",
       "      <td>1000</td>\n",
       "      <td>6</td>\n",
       "      <td>60</td>\n",
       "    </tr>\n",
       "    <tr>\n",
       "      <td>2</td>\n",
       "      <td>1000</td>\n",
       "      <td>7</td>\n",
       "      <td>75</td>\n",
       "    </tr>\n",
       "    <tr>\n",
       "      <td>3</td>\n",
       "      <td>1000</td>\n",
       "      <td>8</td>\n",
       "      <td>81</td>\n",
       "    </tr>\n",
       "    <tr>\n",
       "      <td>4</td>\n",
       "      <td>1000</td>\n",
       "      <td>9</td>\n",
       "      <td>57</td>\n",
       "    </tr>\n",
       "  </tbody>\n",
       "</table>\n",
       "</div>"
      ],
      "text/plain": [
       "   user_id  month  messages_count\n",
       "0     1000      5              22\n",
       "1     1000      6              60\n",
       "2     1000      7              75\n",
       "3     1000      8              81\n",
       "4     1000      9              57"
      ]
     },
     "execution_count": 16,
     "metadata": {},
     "output_type": "execute_result"
    }
   ],
   "source": [
    "messages_grouped = pd.pivot_table(messages, index=['user_id','month']\n",
    "                               ,values=['id']\n",
    "                               , aggfunc='count'\n",
    "                ).reset_index()\n",
    "messages_grouped.rename(columns={'id':'messages_count'}, inplace=True)\n",
    "messages_grouped.head()"
   ]
  },
  {
   "cell_type": "code",
   "execution_count": 17,
   "metadata": {
    "ExecuteTime": {
     "end_time": "2020-06-26T18:51:02.620662Z",
     "start_time": "2020-06-26T18:51:02.591642Z"
    }
   },
   "outputs": [
    {
     "data": {
      "text/html": [
       "<div>\n",
       "<style scoped>\n",
       "    .dataframe tbody tr th:only-of-type {\n",
       "        vertical-align: middle;\n",
       "    }\n",
       "\n",
       "    .dataframe tbody tr th {\n",
       "        vertical-align: top;\n",
       "    }\n",
       "\n",
       "    .dataframe thead th {\n",
       "        text-align: right;\n",
       "    }\n",
       "</style>\n",
       "<table border=\"1\" class=\"dataframe\">\n",
       "  <thead>\n",
       "    <tr style=\"text-align: right;\">\n",
       "      <th></th>\n",
       "      <th>id</th>\n",
       "      <th>mb_used</th>\n",
       "      <th>session_date</th>\n",
       "      <th>user_id</th>\n",
       "      <th>month</th>\n",
       "    </tr>\n",
       "  </thead>\n",
       "  <tbody>\n",
       "    <tr>\n",
       "      <td>129113</td>\n",
       "      <td>1431_147</td>\n",
       "      <td>538</td>\n",
       "      <td>2018-11-03</td>\n",
       "      <td>1431</td>\n",
       "      <td>11</td>\n",
       "    </tr>\n",
       "  </tbody>\n",
       "</table>\n",
       "</div>"
      ],
      "text/plain": [
       "              id  mb_used session_date  user_id  month\n",
       "129113  1431_147      538   2018-11-03     1431     11"
      ]
     },
     "execution_count": 17,
     "metadata": {},
     "output_type": "execute_result"
    }
   ],
   "source": [
    "# считаем сумму трафика\n",
    "internet.sample()"
   ]
  },
  {
   "cell_type": "code",
   "execution_count": 18,
   "metadata": {
    "ExecuteTime": {
     "end_time": "2020-06-26T18:51:02.690717Z",
     "start_time": "2020-06-26T18:51:02.623665Z"
    }
   },
   "outputs": [
    {
     "data": {
      "text/html": [
       "<div>\n",
       "<style scoped>\n",
       "    .dataframe tbody tr th:only-of-type {\n",
       "        vertical-align: middle;\n",
       "    }\n",
       "\n",
       "    .dataframe tbody tr th {\n",
       "        vertical-align: top;\n",
       "    }\n",
       "\n",
       "    .dataframe thead th {\n",
       "        text-align: right;\n",
       "    }\n",
       "</style>\n",
       "<table border=\"1\" class=\"dataframe\">\n",
       "  <thead>\n",
       "    <tr style=\"text-align: right;\">\n",
       "      <th></th>\n",
       "      <th>user_id</th>\n",
       "      <th>month</th>\n",
       "      <th>mb_used</th>\n",
       "    </tr>\n",
       "  </thead>\n",
       "  <tbody>\n",
       "    <tr>\n",
       "      <td>0</td>\n",
       "      <td>1000</td>\n",
       "      <td>5</td>\n",
       "      <td>2256</td>\n",
       "    </tr>\n",
       "    <tr>\n",
       "      <td>1</td>\n",
       "      <td>1000</td>\n",
       "      <td>6</td>\n",
       "      <td>23257</td>\n",
       "    </tr>\n",
       "    <tr>\n",
       "      <td>2</td>\n",
       "      <td>1000</td>\n",
       "      <td>7</td>\n",
       "      <td>14016</td>\n",
       "    </tr>\n",
       "    <tr>\n",
       "      <td>3</td>\n",
       "      <td>1000</td>\n",
       "      <td>8</td>\n",
       "      <td>14070</td>\n",
       "    </tr>\n",
       "    <tr>\n",
       "      <td>4</td>\n",
       "      <td>1000</td>\n",
       "      <td>9</td>\n",
       "      <td>14581</td>\n",
       "    </tr>\n",
       "  </tbody>\n",
       "</table>\n",
       "</div>"
      ],
      "text/plain": [
       "   user_id  month  mb_used\n",
       "0     1000      5     2256\n",
       "1     1000      6    23257\n",
       "2     1000      7    14016\n",
       "3     1000      8    14070\n",
       "4     1000      9    14581"
      ]
     },
     "execution_count": 18,
     "metadata": {},
     "output_type": "execute_result"
    }
   ],
   "source": [
    "internet_grouped = pd.pivot_table(internet, index=['user_id','month']\n",
    "                               ,values=['mb_used']\n",
    "                               , aggfunc=sum\n",
    "                ).reset_index()\n",
    "internet_grouped.head()"
   ]
  },
  {
   "cell_type": "markdown",
   "metadata": {},
   "source": [
    "Объединим полученные данные в одну таблицу, добавим тариф и город каждого пользователя, и заменим пропуски на 0. Так как пустое значение соответсвует нулевому потребленю смс/трафика/сообещний в конкретном месяце. Для дальнейшего анализатам понадобиться учитывать и нулевое потребление, например при расчете средней (ведь nan в расчете средней не участвует)"
   ]
  },
  {
   "cell_type": "code",
   "execution_count": 19,
   "metadata": {
    "ExecuteTime": {
     "end_time": "2020-06-26T18:51:02.750259Z",
     "start_time": "2020-06-26T18:51:02.692719Z"
    },
    "scrolled": true
   },
   "outputs": [
    {
     "data": {
      "text/html": [
       "<div>\n",
       "<style scoped>\n",
       "    .dataframe tbody tr th:only-of-type {\n",
       "        vertical-align: middle;\n",
       "    }\n",
       "\n",
       "    .dataframe tbody tr th {\n",
       "        vertical-align: top;\n",
       "    }\n",
       "\n",
       "    .dataframe thead th {\n",
       "        text-align: right;\n",
       "    }\n",
       "</style>\n",
       "<table border=\"1\" class=\"dataframe\">\n",
       "  <thead>\n",
       "    <tr style=\"text-align: right;\">\n",
       "      <th></th>\n",
       "      <th>user_id</th>\n",
       "      <th>month</th>\n",
       "      <th>calls_duration</th>\n",
       "      <th>calls_count</th>\n",
       "      <th>mb_used</th>\n",
       "      <th>messages_count</th>\n",
       "      <th>tariff</th>\n",
       "      <th>city</th>\n",
       "    </tr>\n",
       "  </thead>\n",
       "  <tbody>\n",
       "    <tr>\n",
       "      <td>0</td>\n",
       "      <td>1000</td>\n",
       "      <td>5</td>\n",
       "      <td>159.0</td>\n",
       "      <td>17.0</td>\n",
       "      <td>2256.0</td>\n",
       "      <td>22.0</td>\n",
       "      <td>ultra</td>\n",
       "      <td>Краснодар</td>\n",
       "    </tr>\n",
       "    <tr>\n",
       "      <td>1</td>\n",
       "      <td>1000</td>\n",
       "      <td>6</td>\n",
       "      <td>172.0</td>\n",
       "      <td>28.0</td>\n",
       "      <td>23257.0</td>\n",
       "      <td>60.0</td>\n",
       "      <td>ultra</td>\n",
       "      <td>Краснодар</td>\n",
       "    </tr>\n",
       "    <tr>\n",
       "      <td>2</td>\n",
       "      <td>1000</td>\n",
       "      <td>7</td>\n",
       "      <td>340.0</td>\n",
       "      <td>41.0</td>\n",
       "      <td>14016.0</td>\n",
       "      <td>75.0</td>\n",
       "      <td>ultra</td>\n",
       "      <td>Краснодар</td>\n",
       "    </tr>\n",
       "    <tr>\n",
       "      <td>3</td>\n",
       "      <td>1000</td>\n",
       "      <td>8</td>\n",
       "      <td>408.0</td>\n",
       "      <td>42.0</td>\n",
       "      <td>14070.0</td>\n",
       "      <td>81.0</td>\n",
       "      <td>ultra</td>\n",
       "      <td>Краснодар</td>\n",
       "    </tr>\n",
       "    <tr>\n",
       "      <td>4</td>\n",
       "      <td>1000</td>\n",
       "      <td>9</td>\n",
       "      <td>466.0</td>\n",
       "      <td>46.0</td>\n",
       "      <td>14581.0</td>\n",
       "      <td>57.0</td>\n",
       "      <td>ultra</td>\n",
       "      <td>Краснодар</td>\n",
       "    </tr>\n",
       "  </tbody>\n",
       "</table>\n",
       "</div>"
      ],
      "text/plain": [
       "   user_id  month  calls_duration  calls_count  mb_used  messages_count  \\\n",
       "0     1000      5           159.0         17.0   2256.0            22.0   \n",
       "1     1000      6           172.0         28.0  23257.0            60.0   \n",
       "2     1000      7           340.0         41.0  14016.0            75.0   \n",
       "3     1000      8           408.0         42.0  14070.0            81.0   \n",
       "4     1000      9           466.0         46.0  14581.0            57.0   \n",
       "\n",
       "  tariff       city  \n",
       "0  ultra  Краснодар  \n",
       "1  ultra  Краснодар  \n",
       "2  ultra  Краснодар  \n",
       "3  ultra  Краснодар  \n",
       "4  ultra  Краснодар  "
      ]
     },
     "execution_count": 19,
     "metadata": {},
     "output_type": "execute_result"
    }
   ],
   "source": [
    "\n",
    "users_consumption = calls_grouped.merge(internet_grouped, on=['user_id','month'], how ='outer')\n",
    "users_consumption = users_consumption.merge(messages_grouped, on=['user_id','month'], how ='outer')\n",
    "users_consumption = users_consumption.merge(users[['user_id','tariff']], on=['user_id'], how ='left')\n",
    "users_consumption = users_consumption.merge(users[['user_id','city']], on=['user_id'], how ='left')\n",
    "users_consumption.fillna(0, inplace=True)\n",
    "users_consumption.head(5)"
   ]
  },
  {
   "cell_type": "code",
   "execution_count": 20,
   "metadata": {
    "ExecuteTime": {
     "end_time": "2020-06-26T18:51:02.758766Z",
     "start_time": "2020-06-26T18:51:02.753262Z"
    }
   },
   "outputs": [],
   "source": [
    "users_consumption.reset_index(inplace=True)"
   ]
  },
  {
   "cell_type": "markdown",
   "metadata": {
    "ExecuteTime": {
     "end_time": "2020-06-21T19:29:38.751953Z",
     "start_time": "2020-06-21T19:29:38.743946Z"
    }
   },
   "source": [
    "Посчитаю доход от клиентов, сначала добавлю столбец с доходом от клиента, затем помесячную выручку с каждого клиента"
   ]
  },
  {
   "cell_type": "code",
   "execution_count": 21,
   "metadata": {
    "ExecuteTime": {
     "end_time": "2020-06-26T18:51:02.774781Z",
     "start_time": "2020-06-26T18:51:02.762773Z"
    }
   },
   "outputs": [],
   "source": [
    "# функция для расчета прибыли\n",
    "def users_revenue(row):       \n",
    "    tariff = tariffs.loc[tariffs['tariff_name'] == row['tariff']]\n",
    "    # считаем сколько за месяц потратил пользователь исходя из его тарифа\n",
    "    revenue = 0\n",
    "    monthly_fee = tariff.iloc[0,3]\n",
    "    revenue += monthly_fee\n",
    "    # минуты \n",
    "    if row['calls_duration'] > tariff.iloc[0,2]:\n",
    "        extra_minutes_cost = (row['calls_duration'] - tariff.iloc[0,2]) * tariff.iloc[0,-2]\n",
    "        revenue += extra_minutes_cost\n",
    "    # сообщения\n",
    "\n",
    "    if row['messages_count'] > tariff.iloc[0,0]:\n",
    "        extra_message_cost = (row['messages_count'] - tariff.iloc[0,0]) * tariff.iloc[0,-3]\n",
    "        revenue += extra_message_cost\n",
    "     \n",
    "    # трафик\n",
    "    if row['mb_used'] > tariff.iloc[0,1]:\n",
    "        # так как клиент может докупать только гигабайты а не мб, рассчитаем сколько гб докупил пользовател\n",
    "        # и исходя из этого рассчитаем стоимость доп трафика\n",
    "        extra_gb_used = np.ceil((row['mb_used'] - tariff.iloc[0,1]) / 1024)\n",
    "        extra_traffic_cost = extra_gb_used * tariff.iloc[0,-4]\n",
    "        revenue += extra_traffic_cost\n",
    "\n",
    "    return revenue\n"
   ]
  },
  {
   "cell_type": "code",
   "execution_count": 22,
   "metadata": {
    "ExecuteTime": {
     "end_time": "2020-06-26T18:51:07.219025Z",
     "start_time": "2020-06-26T18:51:02.776783Z"
    },
    "scrolled": false
   },
   "outputs": [],
   "source": [
    "users_consumption['company_revenue'] = users_consumption.apply(users_revenue, axis=1)"
   ]
  },
  {
   "cell_type": "code",
   "execution_count": 23,
   "metadata": {
    "ExecuteTime": {
     "end_time": "2020-06-26T18:51:07.251048Z",
     "start_time": "2020-06-26T18:51:07.226024Z"
    }
   },
   "outputs": [
    {
     "data": {
      "text/html": [
       "<div>\n",
       "<style scoped>\n",
       "    .dataframe tbody tr th:only-of-type {\n",
       "        vertical-align: middle;\n",
       "    }\n",
       "\n",
       "    .dataframe tbody tr th {\n",
       "        vertical-align: top;\n",
       "    }\n",
       "\n",
       "    .dataframe thead th {\n",
       "        text-align: right;\n",
       "    }\n",
       "</style>\n",
       "<table border=\"1\" class=\"dataframe\">\n",
       "  <thead>\n",
       "    <tr style=\"text-align: right;\">\n",
       "      <th></th>\n",
       "      <th>index</th>\n",
       "      <th>user_id</th>\n",
       "      <th>month</th>\n",
       "      <th>calls_duration</th>\n",
       "      <th>calls_count</th>\n",
       "      <th>mb_used</th>\n",
       "      <th>messages_count</th>\n",
       "      <th>tariff</th>\n",
       "      <th>city</th>\n",
       "      <th>company_revenue</th>\n",
       "    </tr>\n",
       "  </thead>\n",
       "  <tbody>\n",
       "    <tr>\n",
       "      <td>2189</td>\n",
       "      <td>2189</td>\n",
       "      <td>1352</td>\n",
       "      <td>10</td>\n",
       "      <td>816.0</td>\n",
       "      <td>88.0</td>\n",
       "      <td>15693.0</td>\n",
       "      <td>6.0</td>\n",
       "      <td>ultra</td>\n",
       "      <td>Рязань</td>\n",
       "      <td>1950.0</td>\n",
       "    </tr>\n",
       "    <tr>\n",
       "      <td>702</td>\n",
       "      <td>702</td>\n",
       "      <td>1113</td>\n",
       "      <td>7</td>\n",
       "      <td>692.0</td>\n",
       "      <td>71.0</td>\n",
       "      <td>15346.0</td>\n",
       "      <td>44.0</td>\n",
       "      <td>smart</td>\n",
       "      <td>Чита</td>\n",
       "      <td>1126.0</td>\n",
       "    </tr>\n",
       "    <tr>\n",
       "      <td>76</td>\n",
       "      <td>76</td>\n",
       "      <td>1010</td>\n",
       "      <td>11</td>\n",
       "      <td>290.0</td>\n",
       "      <td>31.0</td>\n",
       "      <td>19260.0</td>\n",
       "      <td>0.0</td>\n",
       "      <td>smart</td>\n",
       "      <td>Тюмень</td>\n",
       "      <td>1350.0</td>\n",
       "    </tr>\n",
       "    <tr>\n",
       "      <td>2636</td>\n",
       "      <td>2636</td>\n",
       "      <td>1416</td>\n",
       "      <td>10</td>\n",
       "      <td>1084.0</td>\n",
       "      <td>127.0</td>\n",
       "      <td>18733.0</td>\n",
       "      <td>101.0</td>\n",
       "      <td>ultra</td>\n",
       "      <td>Санкт-Петербург</td>\n",
       "      <td>1950.0</td>\n",
       "    </tr>\n",
       "    <tr>\n",
       "      <td>1653</td>\n",
       "      <td>1653</td>\n",
       "      <td>1266</td>\n",
       "      <td>8</td>\n",
       "      <td>305.0</td>\n",
       "      <td>41.0</td>\n",
       "      <td>16439.0</td>\n",
       "      <td>37.0</td>\n",
       "      <td>smart</td>\n",
       "      <td>Калуга</td>\n",
       "      <td>950.0</td>\n",
       "    </tr>\n",
       "  </tbody>\n",
       "</table>\n",
       "</div>"
      ],
      "text/plain": [
       "      index  user_id  month  calls_duration  calls_count  mb_used  \\\n",
       "2189   2189     1352     10           816.0         88.0  15693.0   \n",
       "702     702     1113      7           692.0         71.0  15346.0   \n",
       "76       76     1010     11           290.0         31.0  19260.0   \n",
       "2636   2636     1416     10          1084.0        127.0  18733.0   \n",
       "1653   1653     1266      8           305.0         41.0  16439.0   \n",
       "\n",
       "      messages_count tariff             city  company_revenue  \n",
       "2189             6.0  ultra           Рязань           1950.0  \n",
       "702             44.0  smart             Чита           1126.0  \n",
       "76               0.0  smart           Тюмень           1350.0  \n",
       "2636           101.0  ultra  Санкт-Петербург           1950.0  \n",
       "1653            37.0  smart           Калуга            950.0  "
      ]
     },
     "execution_count": 23,
     "metadata": {},
     "output_type": "execute_result"
    }
   ],
   "source": [
    "# выведем несколько строк и проверим в ручную корректность расчетов \n",
    "users_consumption.sample(5)"
   ]
  },
  {
   "cell_type": "code",
   "execution_count": 24,
   "metadata": {
    "ExecuteTime": {
     "end_time": "2020-06-26T18:51:07.263555Z",
     "start_time": "2020-06-26T18:51:07.255551Z"
    },
    "scrolled": true
   },
   "outputs": [],
   "source": [
    "#  удалим лишний столбец index и поменяем формат на целочисленный\n",
    "users_consumption.drop(axis='columns', labels=['index'], inplace=True)"
   ]
  },
  {
   "cell_type": "code",
   "execution_count": 25,
   "metadata": {
    "ExecuteTime": {
     "end_time": "2020-06-26T18:51:07.294079Z",
     "start_time": "2020-06-26T18:51:07.267061Z"
    }
   },
   "outputs": [
    {
     "name": "stdout",
     "output_type": "stream",
     "text": [
      "<class 'pandas.core.frame.DataFrame'>\n",
      "RangeIndex: 3214 entries, 0 to 3213\n",
      "Data columns (total 9 columns):\n",
      "user_id            3214 non-null int64\n",
      "month              3214 non-null int64\n",
      "calls_duration     3214 non-null int64\n",
      "calls_count        3214 non-null int64\n",
      "mb_used            3214 non-null int64\n",
      "messages_count     3214 non-null int64\n",
      "tariff             3214 non-null object\n",
      "city               3214 non-null object\n",
      "company_revenue    3214 non-null int64\n",
      "dtypes: int64(7), object(2)\n",
      "memory usage: 226.1+ KB\n"
     ]
    }
   ],
   "source": [
    "columns_to_change_type=['calls_duration','calls_count','mb_used','messages_count','company_revenue']\n",
    "users_consumption[columns_to_change_type] = users_consumption[columns_to_change_type].astype('int64')\n",
    "users_consumption.info()"
   ]
  },
  {
   "cell_type": "code",
   "execution_count": 26,
   "metadata": {
    "ExecuteTime": {
     "end_time": "2020-06-26T18:51:07.318095Z",
     "start_time": "2020-06-26T18:51:07.298085Z"
    }
   },
   "outputs": [
    {
     "data": {
      "text/html": [
       "<div>\n",
       "<style scoped>\n",
       "    .dataframe tbody tr th:only-of-type {\n",
       "        vertical-align: middle;\n",
       "    }\n",
       "\n",
       "    .dataframe tbody tr th {\n",
       "        vertical-align: top;\n",
       "    }\n",
       "\n",
       "    .dataframe thead th {\n",
       "        text-align: right;\n",
       "    }\n",
       "</style>\n",
       "<table border=\"1\" class=\"dataframe\">\n",
       "  <thead>\n",
       "    <tr style=\"text-align: right;\">\n",
       "      <th></th>\n",
       "      <th>calls_duration</th>\n",
       "      <th>calls_count</th>\n",
       "      <th>mb_used</th>\n",
       "      <th>messages_count</th>\n",
       "      <th>company_revenue</th>\n",
       "    </tr>\n",
       "  </thead>\n",
       "  <tbody>\n",
       "    <tr>\n",
       "      <td>0</td>\n",
       "      <td>159</td>\n",
       "      <td>17</td>\n",
       "      <td>2256</td>\n",
       "      <td>22</td>\n",
       "      <td>1950</td>\n",
       "    </tr>\n",
       "    <tr>\n",
       "      <td>1</td>\n",
       "      <td>172</td>\n",
       "      <td>28</td>\n",
       "      <td>23257</td>\n",
       "      <td>60</td>\n",
       "      <td>1950</td>\n",
       "    </tr>\n",
       "    <tr>\n",
       "      <td>2</td>\n",
       "      <td>340</td>\n",
       "      <td>41</td>\n",
       "      <td>14016</td>\n",
       "      <td>75</td>\n",
       "      <td>1950</td>\n",
       "    </tr>\n",
       "    <tr>\n",
       "      <td>3</td>\n",
       "      <td>408</td>\n",
       "      <td>42</td>\n",
       "      <td>14070</td>\n",
       "      <td>81</td>\n",
       "      <td>1950</td>\n",
       "    </tr>\n",
       "    <tr>\n",
       "      <td>4</td>\n",
       "      <td>466</td>\n",
       "      <td>46</td>\n",
       "      <td>14581</td>\n",
       "      <td>57</td>\n",
       "      <td>1950</td>\n",
       "    </tr>\n",
       "    <tr>\n",
       "      <td>...</td>\n",
       "      <td>...</td>\n",
       "      <td>...</td>\n",
       "      <td>...</td>\n",
       "      <td>...</td>\n",
       "      <td>...</td>\n",
       "    </tr>\n",
       "    <tr>\n",
       "      <td>3209</td>\n",
       "      <td>0</td>\n",
       "      <td>0</td>\n",
       "      <td>11066</td>\n",
       "      <td>17</td>\n",
       "      <td>550</td>\n",
       "    </tr>\n",
       "    <tr>\n",
       "      <td>3210</td>\n",
       "      <td>0</td>\n",
       "      <td>0</td>\n",
       "      <td>17232</td>\n",
       "      <td>32</td>\n",
       "      <td>950</td>\n",
       "    </tr>\n",
       "    <tr>\n",
       "      <td>3211</td>\n",
       "      <td>0</td>\n",
       "      <td>0</td>\n",
       "      <td>19588</td>\n",
       "      <td>21</td>\n",
       "      <td>1550</td>\n",
       "    </tr>\n",
       "    <tr>\n",
       "      <td>3212</td>\n",
       "      <td>0</td>\n",
       "      <td>0</td>\n",
       "      <td>17516</td>\n",
       "      <td>20</td>\n",
       "      <td>1150</td>\n",
       "    </tr>\n",
       "    <tr>\n",
       "      <td>3213</td>\n",
       "      <td>0</td>\n",
       "      <td>0</td>\n",
       "      <td>17341</td>\n",
       "      <td>35</td>\n",
       "      <td>950</td>\n",
       "    </tr>\n",
       "  </tbody>\n",
       "</table>\n",
       "<p>3214 rows × 5 columns</p>\n",
       "</div>"
      ],
      "text/plain": [
       "      calls_duration  calls_count  mb_used  messages_count  company_revenue\n",
       "0                159           17     2256              22             1950\n",
       "1                172           28    23257              60             1950\n",
       "2                340           41    14016              75             1950\n",
       "3                408           42    14070              81             1950\n",
       "4                466           46    14581              57             1950\n",
       "...              ...          ...      ...             ...              ...\n",
       "3209               0            0    11066              17              550\n",
       "3210               0            0    17232              32              950\n",
       "3211               0            0    19588              21             1550\n",
       "3212               0            0    17516              20             1150\n",
       "3213               0            0    17341              35              950\n",
       "\n",
       "[3214 rows x 5 columns]"
      ]
     },
     "execution_count": 26,
     "metadata": {},
     "output_type": "execute_result"
    }
   ],
   "source": [
    "users_consumption[['calls_duration','calls_count','mb_used','messages_count','company_revenue']]"
   ]
  },
  {
   "cell_type": "code",
   "execution_count": 27,
   "metadata": {
    "ExecuteTime": {
     "end_time": "2020-06-26T18:51:07.330103Z",
     "start_time": "2020-06-26T18:51:07.322098Z"
    }
   },
   "outputs": [
    {
     "data": {
      "text/plain": [
       "(3214, 9)"
      ]
     },
     "execution_count": 27,
     "metadata": {},
     "output_type": "execute_result"
    }
   ],
   "source": [
    "# ручные расчеты подтвердили корректность работы функции\n",
    "# оценим размер получившейся таблицы\n",
    "users_consumption.shape"
   ]
  },
  {
   "cell_type": "markdown",
   "metadata": {},
   "source": [
    "## Вывод\n",
    "Посчитали количество звонков, сообщений и потраченных мб по месяцам для каждого клиента.\n",
    "Рассчитали выручку компании от каждого клиента по месяцам и удалил лишний звонок. "
   ]
  },
  {
   "cell_type": "markdown",
   "metadata": {},
   "source": [
    "[План работы](#plan)"
   ]
  },
  {
   "cell_type": "markdown",
   "metadata": {},
   "source": [
    "<a id=step4></a>\n",
    "# Шаг 4. Анализ данных"
   ]
  },
  {
   "cell_type": "markdown",
   "metadata": {},
   "source": [
    "Основная таблица для анализа `users_consumption` сформирована, приступим к её анализу. Построим boxplot-ы и изучим меры центральной тенденции (.describe), изученим значение минут разговора, сообщений и трафика. Поработаем с выбросами, чтобы в нашей выборке осталось только наиболее типичное поведение пользователей."
   ]
  },
  {
   "cell_type": "code",
   "execution_count": 28,
   "metadata": {
    "ExecuteTime": {
     "end_time": "2020-06-26T18:51:08.005356Z",
     "start_time": "2020-06-26T18:51:07.334106Z"
    }
   },
   "outputs": [
    {
     "data": {
      "text/plain": [
       "calls_duration       AxesSubplot(0.125,0.125;0.227941x0.755)\n",
       "mb_used           AxesSubplot(0.398529,0.125;0.227941x0.755)\n",
       "messages_count    AxesSubplot(0.672059,0.125;0.227941x0.755)\n",
       "dtype: object"
      ]
     },
     "execution_count": 28,
     "metadata": {},
     "output_type": "execute_result"
    },
    {
     "data": {
      "image/png": "[encoded data removed]",
      "text/plain": [
       "<Figure size 1080x288 with 3 Axes>"
      ]
     },
     "metadata": {
      "needs_background": "light"
     },
     "output_type": "display_data"
    }
   ],
   "source": [
    "columns_list = ['calls_duration', 'mb_used', 'messages_count']\n",
    "users_consumption[columns_list].plot(subplots=True, layout=(1, 3), \n",
    "                                    kind = 'box' \n",
    "                                   ,figsize=(15, 4)\n",
    "                                   ,grid=True\n",
    "                                      )"
   ]
  },
  {
   "cell_type": "code",
   "execution_count": 29,
   "metadata": {
    "ExecuteTime": {
     "end_time": "2020-06-26T18:51:08.068917Z",
     "start_time": "2020-06-26T18:51:08.008359Z"
    }
   },
   "outputs": [
    {
     "name": "stdout",
     "output_type": "stream",
     "text": [
      "------------------------\n",
      "Данные столбца calls_duration\n",
      "------------------------\n",
      "Верхняя граница 1049.5\n"
     ]
    },
    {
     "data": {
      "text/plain": [
       "count    3214.00\n",
       "mean      451.24\n",
       "std       241.91\n",
       "min         0.00\n",
       "25%       282.00\n",
       "50%       443.00\n",
       "75%       589.00\n",
       "max      1673.00\n",
       "Name: calls_duration, dtype: float64"
      ]
     },
     "metadata": {},
     "output_type": "display_data"
    },
    {
     "name": "stdout",
     "output_type": "stream",
     "text": [
      "------------------------\n",
      "Данные столбца mb_used\n",
      "------------------------\n",
      "Верхняя граница 34867.125\n"
     ]
    },
    {
     "data": {
      "text/plain": [
       "count     3214.00\n",
       "mean     17227.59\n",
       "std       7578.26\n",
       "min          0.00\n",
       "25%      12505.25\n",
       "50%      16966.50\n",
       "75%      21450.00\n",
       "max      49789.00\n",
       "Name: mb_used, dtype: float64"
      ]
     },
     "metadata": {},
     "output_type": "display_data"
    },
    {
     "name": "stdout",
     "output_type": "stream",
     "text": [
      "------------------------\n",
      "Данные столбца messages_count\n",
      "------------------------\n",
      "Верхняя граница 129.0\n"
     ]
    },
    {
     "data": {
      "text/plain": [
       "count    3214.00\n",
       "mean       38.28\n",
       "std        36.15\n",
       "min         0.00\n",
       "25%         9.00\n",
       "50%        30.00\n",
       "75%        57.00\n",
       "max       224.00\n",
       "Name: messages_count, dtype: float64"
      ]
     },
     "metadata": {},
     "output_type": "display_data"
    }
   ],
   "source": [
    "# рассчитаем границы для выбросов\n",
    "for column in columns_list:\n",
    "    print('------------------------\\nДанные столбца {}\\n------------------------'.format(column))\n",
    "    q1=users_consumption[column].describe()[4]\n",
    "    q3=users_consumption[column].describe()[6]\n",
    "    iqr = q3 - q1\n",
    "    top_edge = q3 + 1.5 * iqr\n",
    "    print ('Верхняя граница {}'.format(top_edge))\n",
    "    display(users_consumption[column].describe())"
   ]
  },
  {
   "cell_type": "markdown",
   "metadata": {},
   "source": [
    "Отмечу, что средняя и медиана по каждому столбцу находятся достаточно близко, после удаления выбросов станут еще ближе\n",
    "\n",
    "Чтобы в нашей выборке остались наиболее типичные значения, уберем следующие значения\n",
    "- **calls_duration**\n",
    "Считаем выбросами все что выше 1049 минут\n",
    "- **mb_used**\n",
    "Считаем выбросами все что выше 34867 мб\n",
    "- **messages_count**\n",
    "Считаем выбросами все что выше 129 сообщений"
   ]
  },
  {
   "cell_type": "code",
   "execution_count": 30,
   "metadata": {
    "ExecuteTime": {
     "end_time": "2020-06-26T18:51:08.084927Z",
     "start_time": "2020-06-26T18:51:08.071920Z"
    }
   },
   "outputs": [],
   "source": [
    "users_consumption_clean = users_consumption.query('calls_duration < 1049 and mb_used < 34867 and messages_count < 129')"
   ]
  },
  {
   "cell_type": "code",
   "execution_count": 31,
   "metadata": {
    "ExecuteTime": {
     "end_time": "2020-06-26T18:51:08.655871Z",
     "start_time": "2020-06-26T18:51:08.087929Z"
    }
   },
   "outputs": [
    {
     "data": {
      "text/plain": [
       "calls_duration       AxesSubplot(0.125,0.125;0.227941x0.755)\n",
       "mb_used           AxesSubplot(0.398529,0.125;0.227941x0.755)\n",
       "messages_count    AxesSubplot(0.672059,0.125;0.227941x0.755)\n",
       "dtype: object"
      ]
     },
     "execution_count": 31,
     "metadata": {},
     "output_type": "execute_result"
    },
    {
     "data": {
      "image/png": "[encoded data removed]",
      "text/plain": [
       "<Figure size 1080x288 with 3 Axes>"
      ]
     },
     "metadata": {
      "needs_background": "light"
     },
     "output_type": "display_data"
    }
   ],
   "source": [
    "users_consumption_clean[columns_list].plot(subplots=True, layout=(1, 3), \n",
    "                                    kind = 'box' \n",
    "                                   ,figsize=(15, 4)\n",
    "                                   ,grid=True\n",
    "                                      )"
   ]
  },
  {
   "cell_type": "code",
   "execution_count": 32,
   "metadata": {
    "ExecuteTime": {
     "end_time": "2020-06-26T18:51:08.673389Z",
     "start_time": "2020-06-26T18:51:08.658411Z"
    }
   },
   "outputs": [
    {
     "name": "stderr",
     "output_type": "stream",
     "text": [
      "/opt/conda/lib/python3.7/site-packages/pandas/core/frame.py:3494: SettingWithCopyWarning: \n",
      "A value is trying to be set on a copy of a slice from a DataFrame.\n",
      "Try using .loc[row_indexer,col_indexer] = value instead\n",
      "\n",
      "See the caveats in the documentation: http://pandas.pydata.org/pandas-docs/stable/user_guide/indexing.html#returning-a-view-versus-a-copy\n",
      "  self[k1] = value[k2]\n"
     ]
    },
    {
     "data": {
      "text/plain": [
       "206"
      ]
     },
     "execution_count": 32,
     "metadata": {},
     "output_type": "execute_result"
    }
   ],
   "source": [
    "# избавились от 206 строк с ярковыраженными выбросами + поменяем тип данных у анализируемых колонок\n",
    "users_consumption_clean[columns_list] = users_consumption_clean[columns_list].astype('int64')\n",
    "users_consumption.shape[0] - users_consumption_clean.shape[0]"
   ]
  },
  {
   "cell_type": "markdown",
   "metadata": {
    "ExecuteTime": {
     "end_time": "2020-06-23T21:15:51.375959Z",
     "start_time": "2020-06-23T21:15:51.370957Z"
    }
   },
   "source": [
    "Изучим данные по ключевым столбцам (звонки, трафик, сообщения) в преобразованной таблицы. Начнем с тарифа `smart`"
   ]
  },
  {
   "cell_type": "code",
   "execution_count": 33,
   "metadata": {
    "ExecuteTime": {
     "end_time": "2020-06-26T18:51:08.725422Z",
     "start_time": "2020-06-26T18:51:08.676390Z"
    },
    "scrolled": false
   },
   "outputs": [
    {
     "data": {
      "text/html": [
       "<div>\n",
       "<style scoped>\n",
       "    .dataframe tbody tr th:only-of-type {\n",
       "        vertical-align: middle;\n",
       "    }\n",
       "\n",
       "    .dataframe tbody tr th {\n",
       "        vertical-align: top;\n",
       "    }\n",
       "\n",
       "    .dataframe thead th {\n",
       "        text-align: right;\n",
       "    }\n",
       "</style>\n",
       "<table border=\"1\" class=\"dataframe\">\n",
       "  <thead>\n",
       "    <tr style=\"text-align: right;\">\n",
       "      <th></th>\n",
       "      <th>calls_duration</th>\n",
       "      <th>mb_used</th>\n",
       "      <th>messages_count</th>\n",
       "    </tr>\n",
       "    <tr>\n",
       "      <th>month</th>\n",
       "      <th></th>\n",
       "      <th></th>\n",
       "      <th></th>\n",
       "    </tr>\n",
       "  </thead>\n",
       "  <tbody>\n",
       "    <tr>\n",
       "      <td>1</td>\n",
       "      <td>6931</td>\n",
       "      <td>289831</td>\n",
       "      <td>620</td>\n",
       "    </tr>\n",
       "    <tr>\n",
       "      <td>2</td>\n",
       "      <td>17324</td>\n",
       "      <td>673461</td>\n",
       "      <td>1397</td>\n",
       "    </tr>\n",
       "    <tr>\n",
       "      <td>3</td>\n",
       "      <td>30034</td>\n",
       "      <td>1164537</td>\n",
       "      <td>2453</td>\n",
       "    </tr>\n",
       "    <tr>\n",
       "      <td>4</td>\n",
       "      <td>41119</td>\n",
       "      <td>1509702</td>\n",
       "      <td>3443</td>\n",
       "    </tr>\n",
       "    <tr>\n",
       "      <td>5</td>\n",
       "      <td>54618</td>\n",
       "      <td>2231353</td>\n",
       "      <td>4762</td>\n",
       "    </tr>\n",
       "    <tr>\n",
       "      <td>6</td>\n",
       "      <td>64128</td>\n",
       "      <td>2567622</td>\n",
       "      <td>5344</td>\n",
       "    </tr>\n",
       "    <tr>\n",
       "      <td>7</td>\n",
       "      <td>81360</td>\n",
       "      <td>3148348</td>\n",
       "      <td>6647</td>\n",
       "    </tr>\n",
       "    <tr>\n",
       "      <td>8</td>\n",
       "      <td>98263</td>\n",
       "      <td>3884973</td>\n",
       "      <td>7771</td>\n",
       "    </tr>\n",
       "    <tr>\n",
       "      <td>9</td>\n",
       "      <td>110724</td>\n",
       "      <td>4220810</td>\n",
       "      <td>8610</td>\n",
       "    </tr>\n",
       "    <tr>\n",
       "      <td>10</td>\n",
       "      <td>124446</td>\n",
       "      <td>4905965</td>\n",
       "      <td>9788</td>\n",
       "    </tr>\n",
       "    <tr>\n",
       "      <td>11</td>\n",
       "      <td>136780</td>\n",
       "      <td>5309621</td>\n",
       "      <td>10672</td>\n",
       "    </tr>\n",
       "    <tr>\n",
       "      <td>12</td>\n",
       "      <td>152355</td>\n",
       "      <td>5781220</td>\n",
       "      <td>11480</td>\n",
       "    </tr>\n",
       "  </tbody>\n",
       "</table>\n",
       "</div>"
      ],
      "text/plain": [
       "       calls_duration  mb_used  messages_count\n",
       "month                                         \n",
       "1                6931   289831             620\n",
       "2               17324   673461            1397\n",
       "3               30034  1164537            2453\n",
       "4               41119  1509702            3443\n",
       "5               54618  2231353            4762\n",
       "6               64128  2567622            5344\n",
       "7               81360  3148348            6647\n",
       "8               98263  3884973            7771\n",
       "9              110724  4220810            8610\n",
       "10             124446  4905965            9788\n",
       "11             136780  5309621           10672\n",
       "12             152355  5781220           11480"
      ]
     },
     "execution_count": 33,
     "metadata": {},
     "output_type": "execute_result"
    }
   ],
   "source": [
    "users_consumption_summary_smart = pd.pivot_table(\n",
    "    data=users_consumption_clean.loc[users_consumption_clean['tariff']=='smart'],\n",
    "    index = 'month', values=columns_list , aggfunc=sum)\n",
    "users_consumption_summary_smart"
   ]
  },
  {
   "cell_type": "markdown",
   "metadata": {},
   "source": [
    "Интересно, что с каждым месяц потребление становится больше. Может потому что пользователей становится больше? Проверим"
   ]
  },
  {
   "cell_type": "code",
   "execution_count": 34,
   "metadata": {
    "ExecuteTime": {
     "end_time": "2020-06-26T18:51:08.755945Z",
     "start_time": "2020-06-26T18:51:08.728424Z"
    },
    "scrolled": false
   },
   "outputs": [
    {
     "data": {
      "text/html": [
       "<div>\n",
       "<style scoped>\n",
       "    .dataframe tbody tr th:only-of-type {\n",
       "        vertical-align: middle;\n",
       "    }\n",
       "\n",
       "    .dataframe tbody tr th {\n",
       "        vertical-align: top;\n",
       "    }\n",
       "\n",
       "    .dataframe thead th {\n",
       "        text-align: right;\n",
       "    }\n",
       "</style>\n",
       "<table border=\"1\" class=\"dataframe\">\n",
       "  <thead>\n",
       "    <tr style=\"text-align: right;\">\n",
       "      <th></th>\n",
       "      <th>user_id</th>\n",
       "    </tr>\n",
       "    <tr>\n",
       "      <th>month</th>\n",
       "      <th></th>\n",
       "    </tr>\n",
       "  </thead>\n",
       "  <tbody>\n",
       "    <tr>\n",
       "      <td>1</td>\n",
       "      <td>34</td>\n",
       "    </tr>\n",
       "    <tr>\n",
       "      <td>2</td>\n",
       "      <td>58</td>\n",
       "    </tr>\n",
       "    <tr>\n",
       "      <td>3</td>\n",
       "      <td>77</td>\n",
       "    </tr>\n",
       "    <tr>\n",
       "      <td>4</td>\n",
       "      <td>112</td>\n",
       "    </tr>\n",
       "    <tr>\n",
       "      <td>5</td>\n",
       "      <td>141</td>\n",
       "    </tr>\n",
       "    <tr>\n",
       "      <td>6</td>\n",
       "      <td>163</td>\n",
       "    </tr>\n",
       "    <tr>\n",
       "      <td>7</td>\n",
       "      <td>200</td>\n",
       "    </tr>\n",
       "    <tr>\n",
       "      <td>8</td>\n",
       "      <td>234</td>\n",
       "    </tr>\n",
       "    <tr>\n",
       "      <td>9</td>\n",
       "      <td>259</td>\n",
       "    </tr>\n",
       "    <tr>\n",
       "      <td>10</td>\n",
       "      <td>293</td>\n",
       "    </tr>\n",
       "    <tr>\n",
       "      <td>11</td>\n",
       "      <td>315</td>\n",
       "    </tr>\n",
       "    <tr>\n",
       "      <td>12</td>\n",
       "      <td>326</td>\n",
       "    </tr>\n",
       "  </tbody>\n",
       "</table>\n",
       "</div>"
      ],
      "text/plain": [
       "       user_id\n",
       "month         \n",
       "1           34\n",
       "2           58\n",
       "3           77\n",
       "4          112\n",
       "5          141\n",
       "6          163\n",
       "7          200\n",
       "8          234\n",
       "9          259\n",
       "10         293\n",
       "11         315\n",
       "12         326"
      ]
     },
     "execution_count": 34,
     "metadata": {},
     "output_type": "execute_result"
    }
   ],
   "source": [
    " pd.pivot_table(data=users_consumption_clean.loc[users_consumption_clean['tariff']=='smart'],\n",
    "    index = 'month', values='user_id' , aggfunc='count')"
   ]
  },
  {
   "cell_type": "markdown",
   "metadata": {},
   "source": [
    "Действительно, у нас становится больше пользователей с каждым месяцем\n",
    "\n",
    "Теперь рассчитаем среднюю, дисперсию и стандартное отклонение, но уже без группировки по месяцам. \n",
    "\n",
    "Простым способо (describe) и чуть сложным. "
   ]
  },
  {
   "cell_type": "code",
   "execution_count": 35,
   "metadata": {
    "ExecuteTime": {
     "end_time": "2020-06-26T18:51:08.767458Z",
     "start_time": "2020-06-26T18:51:08.758447Z"
    }
   },
   "outputs": [],
   "source": [
    "users_consumption_clean_smart = users_consumption_clean.loc[users_consumption_clean['tariff']=='smart']"
   ]
  },
  {
   "cell_type": "code",
   "execution_count": 36,
   "metadata": {
    "ExecuteTime": {
     "end_time": "2020-06-26T18:51:08.828500Z",
     "start_time": "2020-06-26T18:51:08.770462Z"
    }
   },
   "outputs": [
    {
     "name": "stdout",
     "output_type": "stream",
     "text": [
      "|Проверка с помощью .describe()|\n",
      "--------------------------------\n"
     ]
    },
    {
     "data": {
      "text/html": [
       "<div>\n",
       "<style scoped>\n",
       "    .dataframe tbody tr th:only-of-type {\n",
       "        vertical-align: middle;\n",
       "    }\n",
       "\n",
       "    .dataframe tbody tr th {\n",
       "        vertical-align: top;\n",
       "    }\n",
       "\n",
       "    .dataframe thead th {\n",
       "        text-align: right;\n",
       "    }\n",
       "</style>\n",
       "<table border=\"1\" class=\"dataframe\">\n",
       "  <thead>\n",
       "    <tr style=\"text-align: right;\">\n",
       "      <th></th>\n",
       "      <th>user_id</th>\n",
       "      <th>month</th>\n",
       "      <th>calls_duration</th>\n",
       "      <th>calls_count</th>\n",
       "      <th>mb_used</th>\n",
       "      <th>messages_count</th>\n",
       "      <th>company_revenue</th>\n",
       "    </tr>\n",
       "  </thead>\n",
       "  <tbody>\n",
       "    <tr>\n",
       "      <td>count</td>\n",
       "      <td>2212</td>\n",
       "      <td>2212</td>\n",
       "      <td>2212</td>\n",
       "      <td>2212</td>\n",
       "      <td>2212</td>\n",
       "      <td>2212</td>\n",
       "      <td>2212</td>\n",
       "    </tr>\n",
       "    <tr>\n",
       "      <td>mean</td>\n",
       "      <td>1246</td>\n",
       "      <td>8</td>\n",
       "      <td>415</td>\n",
       "      <td>46</td>\n",
       "      <td>16133</td>\n",
       "      <td>32</td>\n",
       "      <td>1271</td>\n",
       "    </tr>\n",
       "    <tr>\n",
       "      <td>std</td>\n",
       "      <td>146</td>\n",
       "      <td>2</td>\n",
       "      <td>186</td>\n",
       "      <td>20</td>\n",
       "      <td>5763</td>\n",
       "      <td>27</td>\n",
       "      <td>771</td>\n",
       "    </tr>\n",
       "    <tr>\n",
       "      <td>min</td>\n",
       "      <td>1001</td>\n",
       "      <td>1</td>\n",
       "      <td>0</td>\n",
       "      <td>0</td>\n",
       "      <td>0</td>\n",
       "      <td>0</td>\n",
       "      <td>550</td>\n",
       "    </tr>\n",
       "    <tr>\n",
       "      <td>25%</td>\n",
       "      <td>1121</td>\n",
       "      <td>6</td>\n",
       "      <td>281</td>\n",
       "      <td>32</td>\n",
       "      <td>12631</td>\n",
       "      <td>10</td>\n",
       "      <td>550</td>\n",
       "    </tr>\n",
       "    <tr>\n",
       "      <td>50%</td>\n",
       "      <td>1239</td>\n",
       "      <td>9</td>\n",
       "      <td>420</td>\n",
       "      <td>47</td>\n",
       "      <td>16479</td>\n",
       "      <td>28</td>\n",
       "      <td>1016</td>\n",
       "    </tr>\n",
       "    <tr>\n",
       "      <td>75%</td>\n",
       "      <td>1376</td>\n",
       "      <td>11</td>\n",
       "      <td>543</td>\n",
       "      <td>61</td>\n",
       "      <td>19999</td>\n",
       "      <td>50</td>\n",
       "      <td>1750</td>\n",
       "    </tr>\n",
       "    <tr>\n",
       "      <td>max</td>\n",
       "      <td>1499</td>\n",
       "      <td>12</td>\n",
       "      <td>1022</td>\n",
       "      <td>109</td>\n",
       "      <td>33927</td>\n",
       "      <td>127</td>\n",
       "      <td>4664</td>\n",
       "    </tr>\n",
       "  </tbody>\n",
       "</table>\n",
       "</div>"
      ],
      "text/plain": [
       "       user_id  month  calls_duration  calls_count  mb_used  messages_count  \\\n",
       "count     2212   2212            2212         2212     2212            2212   \n",
       "mean      1246      8             415           46    16133              32   \n",
       "std        146      2             186           20     5763              27   \n",
       "min       1001      1               0            0        0               0   \n",
       "25%       1121      6             281           32    12631              10   \n",
       "50%       1239      9             420           47    16479              28   \n",
       "75%       1376     11             543           61    19999              50   \n",
       "max       1499     12            1022          109    33927             127   \n",
       "\n",
       "       company_revenue  \n",
       "count             2212  \n",
       "mean              1271  \n",
       "std                771  \n",
       "min                550  \n",
       "25%                550  \n",
       "50%               1016  \n",
       "75%               1750  \n",
       "max               4664  "
      ]
     },
     "metadata": {},
     "output_type": "display_data"
    },
    {
     "name": "stdout",
     "output_type": "stream",
     "text": [
      "|Ручная проверка|\n",
      "-----------------\n",
      "Среднее значение в столбце calls_duration - 415.0\n",
      "Дисперсия в столбце calls_duration - 34946.9\n",
      "Стандартное отклонение в столбце calls_duration - 186.9\n",
      "----------------\n",
      "Среднее значение в столбце mb_used - 16133.6\n",
      "Дисперсия в столбце mb_used - 33216257.9\n",
      "Стандартное отклонение в столбце mb_used - 5763.4\n",
      "----------------\n",
      "Среднее значение в столбце messages_count - 33.0\n",
      "Дисперсия в столбце messages_count - 763.5\n",
      "Стандартное отклонение в столбце messages_count - 27.6\n",
      "----------------\n"
     ]
    }
   ],
   "source": [
    "print('|Проверка с помощью .describe()|\\n--------------------------------')\n",
    "display(users_consumption_clean_smart.describe().astype('int64'))\n",
    "print('|Ручная проверка|\\n-----------------')\n",
    "for column in columns_list:\n",
    "    mean = round(users_consumption_clean_smart[column].mean(),ndigits=1)\n",
    "    print('Среднее значение в столбце {} - {}'.format(column,mean))\n",
    "    var = round(sum([(i - mean)**2 for i in users_consumption_clean_smart[column]]) / (len(users_consumption_clean_smart[column]) - 1),ndigits=1)\n",
    "    print('Дисперсия в столбце {} - {}'.format(column,var))\n",
    "    std = round(np.sqrt(var),ndigits=1)\n",
    "    print('Стандартное отклонение в столбце {} - {}\\n----------------'.format(column,std))    "
   ]
  },
  {
   "cell_type": "markdown",
   "metadata": {
    "ExecuteTime": {
     "end_time": "2020-06-23T21:46:33.537492Z",
     "start_time": "2020-06-23T21:46:33.526103Z"
    }
   },
   "source": [
    "Метод describe и ручная проверка выдают одинаковые значения. Средние значения для каждого месяца тарифа `smart` определены.\n",
    "\n",
    "Расчитаем помесячное потребление минут/трафика/смс для `ultra`\n",
    "\n",
    "Затем выведем статистические данные, на этот раз только с помощью метода describe."
   ]
  },
  {
   "cell_type": "code",
   "execution_count": 37,
   "metadata": {
    "ExecuteTime": {
     "end_time": "2020-06-26T18:51:08.862026Z",
     "start_time": "2020-06-26T18:51:08.833502Z"
    }
   },
   "outputs": [
    {
     "data": {
      "text/html": [
       "<div>\n",
       "<style scoped>\n",
       "    .dataframe tbody tr th:only-of-type {\n",
       "        vertical-align: middle;\n",
       "    }\n",
       "\n",
       "    .dataframe tbody tr th {\n",
       "        vertical-align: top;\n",
       "    }\n",
       "\n",
       "    .dataframe thead th {\n",
       "        text-align: right;\n",
       "    }\n",
       "</style>\n",
       "<table border=\"1\" class=\"dataframe\">\n",
       "  <thead>\n",
       "    <tr style=\"text-align: right;\">\n",
       "      <th></th>\n",
       "      <th>calls_duration</th>\n",
       "      <th>mb_used</th>\n",
       "      <th>messages_count</th>\n",
       "    </tr>\n",
       "    <tr>\n",
       "      <th>month</th>\n",
       "      <th></th>\n",
       "      <th></th>\n",
       "      <th></th>\n",
       "    </tr>\n",
       "  </thead>\n",
       "  <tbody>\n",
       "    <tr>\n",
       "      <td>1</td>\n",
       "      <td>3853</td>\n",
       "      <td>118382</td>\n",
       "      <td>304</td>\n",
       "    </tr>\n",
       "    <tr>\n",
       "      <td>2</td>\n",
       "      <td>7131</td>\n",
       "      <td>282887</td>\n",
       "      <td>527</td>\n",
       "    </tr>\n",
       "    <tr>\n",
       "      <td>3</td>\n",
       "      <td>13149</td>\n",
       "      <td>514100</td>\n",
       "      <td>741</td>\n",
       "    </tr>\n",
       "    <tr>\n",
       "      <td>4</td>\n",
       "      <td>22821</td>\n",
       "      <td>814148</td>\n",
       "      <td>1446</td>\n",
       "    </tr>\n",
       "    <tr>\n",
       "      <td>5</td>\n",
       "      <td>29244</td>\n",
       "      <td>1061489</td>\n",
       "      <td>2030</td>\n",
       "    </tr>\n",
       "    <tr>\n",
       "      <td>6</td>\n",
       "      <td>33770</td>\n",
       "      <td>1293839</td>\n",
       "      <td>2534</td>\n",
       "    </tr>\n",
       "    <tr>\n",
       "      <td>7</td>\n",
       "      <td>34729</td>\n",
       "      <td>1144441</td>\n",
       "      <td>2617</td>\n",
       "    </tr>\n",
       "    <tr>\n",
       "      <td>8</td>\n",
       "      <td>41478</td>\n",
       "      <td>1518605</td>\n",
       "      <td>3512</td>\n",
       "    </tr>\n",
       "    <tr>\n",
       "      <td>9</td>\n",
       "      <td>45351</td>\n",
       "      <td>1690275</td>\n",
       "      <td>3732</td>\n",
       "    </tr>\n",
       "    <tr>\n",
       "      <td>10</td>\n",
       "      <td>48293</td>\n",
       "      <td>1742126</td>\n",
       "      <td>4345</td>\n",
       "    </tr>\n",
       "    <tr>\n",
       "      <td>11</td>\n",
       "      <td>51037</td>\n",
       "      <td>1794827</td>\n",
       "      <td>4594</td>\n",
       "    </tr>\n",
       "    <tr>\n",
       "      <td>12</td>\n",
       "      <td>53861</td>\n",
       "      <td>1921715</td>\n",
       "      <td>4791</td>\n",
       "    </tr>\n",
       "  </tbody>\n",
       "</table>\n",
       "</div>"
      ],
      "text/plain": [
       "       calls_duration  mb_used  messages_count\n",
       "month                                         \n",
       "1                3853   118382             304\n",
       "2                7131   282887             527\n",
       "3               13149   514100             741\n",
       "4               22821   814148            1446\n",
       "5               29244  1061489            2030\n",
       "6               33770  1293839            2534\n",
       "7               34729  1144441            2617\n",
       "8               41478  1518605            3512\n",
       "9               45351  1690275            3732\n",
       "10              48293  1742126            4345\n",
       "11              51037  1794827            4594\n",
       "12              53861  1921715            4791"
      ]
     },
     "execution_count": 37,
     "metadata": {},
     "output_type": "execute_result"
    }
   ],
   "source": [
    "users_consumption_summary_ultra = pd.pivot_table(\n",
    "    data=users_consumption_clean.loc[users_consumption_clean['tariff']=='ultra'],\n",
    "    index = 'month', values=columns_list , aggfunc=sum)\n",
    "users_consumption_summary_ultra"
   ]
  },
  {
   "cell_type": "markdown",
   "metadata": {},
   "source": [
    "Теперь тариф ультра"
   ]
  },
  {
   "cell_type": "code",
   "execution_count": 38,
   "metadata": {
    "ExecuteTime": {
     "end_time": "2020-06-26T18:51:08.882548Z",
     "start_time": "2020-06-26T18:51:08.866529Z"
    }
   },
   "outputs": [],
   "source": [
    "users_consumption_clean_ultra = users_consumption_clean.loc[users_consumption_clean['tariff']=='ultra']"
   ]
  },
  {
   "cell_type": "code",
   "execution_count": 39,
   "metadata": {
    "ExecuteTime": {
     "end_time": "2020-06-26T18:51:08.921571Z",
     "start_time": "2020-06-26T18:51:08.885547Z"
    },
    "scrolled": true
   },
   "outputs": [
    {
     "data": {
      "text/html": [
       "<div>\n",
       "<style scoped>\n",
       "    .dataframe tbody tr th:only-of-type {\n",
       "        vertical-align: middle;\n",
       "    }\n",
       "\n",
       "    .dataframe tbody tr th {\n",
       "        vertical-align: top;\n",
       "    }\n",
       "\n",
       "    .dataframe thead th {\n",
       "        text-align: right;\n",
       "    }\n",
       "</style>\n",
       "<table border=\"1\" class=\"dataframe\">\n",
       "  <thead>\n",
       "    <tr style=\"text-align: right;\">\n",
       "      <th></th>\n",
       "      <th>calls_duration</th>\n",
       "      <th>mb_used</th>\n",
       "      <th>messages_count</th>\n",
       "    </tr>\n",
       "  </thead>\n",
       "  <tbody>\n",
       "    <tr>\n",
       "      <td>count</td>\n",
       "      <td>796</td>\n",
       "      <td>796</td>\n",
       "      <td>796</td>\n",
       "    </tr>\n",
       "    <tr>\n",
       "      <td>mean</td>\n",
       "      <td>483</td>\n",
       "      <td>17458</td>\n",
       "      <td>39</td>\n",
       "    </tr>\n",
       "    <tr>\n",
       "      <td>std</td>\n",
       "      <td>266</td>\n",
       "      <td>8715</td>\n",
       "      <td>35</td>\n",
       "    </tr>\n",
       "    <tr>\n",
       "      <td>min</td>\n",
       "      <td>0</td>\n",
       "      <td>0</td>\n",
       "      <td>0</td>\n",
       "    </tr>\n",
       "    <tr>\n",
       "      <td>25%</td>\n",
       "      <td>280</td>\n",
       "      <td>10771</td>\n",
       "      <td>4</td>\n",
       "    </tr>\n",
       "    <tr>\n",
       "      <td>50%</td>\n",
       "      <td>497</td>\n",
       "      <td>17424</td>\n",
       "      <td>31</td>\n",
       "    </tr>\n",
       "    <tr>\n",
       "      <td>75%</td>\n",
       "      <td>683</td>\n",
       "      <td>23885</td>\n",
       "      <td>65</td>\n",
       "    </tr>\n",
       "    <tr>\n",
       "      <td>max</td>\n",
       "      <td>1045</td>\n",
       "      <td>34735</td>\n",
       "      <td>128</td>\n",
       "    </tr>\n",
       "  </tbody>\n",
       "</table>\n",
       "</div>"
      ],
      "text/plain": [
       "       calls_duration  mb_used  messages_count\n",
       "count             796      796             796\n",
       "mean              483    17458              39\n",
       "std               266     8715              35\n",
       "min                 0        0               0\n",
       "25%               280    10771               4\n",
       "50%               497    17424              31\n",
       "75%               683    23885              65\n",
       "max              1045    34735             128"
      ]
     },
     "execution_count": 39,
     "metadata": {},
     "output_type": "execute_result"
    }
   ],
   "source": [
    "users_consumption_clean_ultra[columns_list].describe().astype('int64')"
   ]
  },
  {
   "cell_type": "code",
   "execution_count": 40,
   "metadata": {
    "ExecuteTime": {
     "end_time": "2020-06-26T18:51:08.984631Z",
     "start_time": "2020-06-26T18:51:08.924573Z"
    },
    "scrolled": true
   },
   "outputs": [
    {
     "name": "stdout",
     "output_type": "stream",
     "text": [
      "Среднее значение calls_duration тарифа smart отличается от  ultra на -68.3\n",
      "Медиана calls_duration тарифа smart отличается от  ultra на -77.5\n",
      "____________________\n",
      "Среднее значение mb_used тарифа smart отличается от  ultra на -1324.8\n",
      "Медиана mb_used тарифа smart отличается от  ultra на -945.5\n",
      "____________________\n",
      "Среднее значение messages_count тарифа smart отличается от  ultra на -6.2\n",
      "Медиана messages_count тарифа smart отличается от  ultra на -3.0\n",
      "____________________\n"
     ]
    }
   ],
   "source": [
    "# посмотрим на различия тарифа смарт от ультра\n",
    "for column in columns_list:\n",
    "    mean_difference = round(users_consumption_clean_smart[column].describe()[1] - users_consumption_clean_ultra[column].describe()[1]\n",
    "                            ,ndigits=1\n",
    "                           )\n",
    "    median_difference = round(users_consumption_clean_smart[column].describe()[5] - users_consumption_clean_ultra[column].describe()[5],\n",
    "                             ndigits=1)\n",
    "    print('Среднее значение {} тарифа smart отличается от  ultra на {}'.format(column, mean_difference))\n",
    "    print('Медиана {} тарифа smart отличается от  ultra на {}\\n____________________'.format(column, median_difference))"
   ]
  },
  {
   "cell_type": "code",
   "execution_count": 41,
   "metadata": {
    "ExecuteTime": {
     "end_time": "2020-06-26T18:51:09.110721Z",
     "start_time": "2020-06-26T18:51:08.987632Z"
    }
   },
   "outputs": [
    {
     "data": {
      "text/plain": [
       "tariff\n",
       "smart    351\n",
       "ultra    149\n",
       "Name: tariff, dtype: int64"
      ]
     },
     "metadata": {},
     "output_type": "display_data"
    },
    {
     "data": {
      "text/plain": [
       "<matplotlib.axes._subplots.AxesSubplot at 0x7fc401b98550>"
      ]
     },
     "execution_count": 41,
     "metadata": {},
     "output_type": "execute_result"
    },
    {
     "data": {
      "image/png": "[encoded data removed]",
      "text/plain": [
       "<Figure size 432x288 with 1 Axes>"
      ]
     },
     "metadata": {},
     "output_type": "display_data"
    }
   ],
   "source": [
    "display(users.groupby('tariff')['tariff'].count())\n",
    "users.groupby('tariff')['tariff'].count().plot(kind='pie',  title='Доля тарифов в выборке')"
   ]
  },
  {
   "cell_type": "markdown",
   "metadata": {},
   "source": [
    "Пользователи тарифа ultra говорят в среднем на час дольше чем пользователя тарифа smart. Так же им, как правило, требуется больше трафика, в среднем потребление больше на +-1гб. В то время как разница в количестве сообщений почти не ощущается. \n",
    "\n",
    "Общее потребление пользователей тарифа smart по всем статьям выше тарифа ultra. Как минимум потому, что таких пользователей у нас больше. Интересно будет узнать как обстоит ситуация с выручкой от этих тарифов. \n",
    "\n",
    "Но прежде чем приступить к проверке гипотиз, посмотрим на распределение этих тарифов. Построим гистограммы плотности для каждого интересующего значения по каждому из тарифов."
   ]
  },
  {
   "cell_type": "code",
   "execution_count": 42,
   "metadata": {
    "ExecuteTime": {
     "end_time": "2020-06-26T18:51:11.100688Z",
     "start_time": "2020-06-26T18:51:09.113722Z"
    }
   },
   "outputs": [
    {
     "data": {
      "image/png": "[encoded data removed]",
      "text/plain": [
       "<Figure size 1440x360 with 3 Axes>"
      ]
     },
     "metadata": {
      "needs_background": "light"
     },
     "output_type": "display_data"
    },
    {
     "data": {
      "image/png": "[encoded data removed]",
      "text/plain": [
       "<Figure size 1440x360 with 3 Axes>"
      ]
     },
     "metadata": {
      "needs_background": "light"
     },
     "output_type": "display_data"
    }
   ],
   "source": [
    "fig, axs = plt.subplots(1,3, figsize=[20,5])\n",
    "fig.suptitle('Гистограммы плотности для количества звонков, потраченного трафика и отправленных сообщений тарифа smart',fontsize=18)\n",
    "for i, column in enumerate(columns_list):\n",
    "    sns.distplot(users_consumption_clean_smart[column], ax=axs[i], color='green')\n",
    "    \n",
    "plt.show()\n",
    "\n",
    "fig, axs = plt.subplots(1,3, figsize=[20,5])\n",
    "fig.suptitle('Гистограммы плотности для количества звонков, потраченного трафика и отправленных сообщений тарифа ultra',fontsize=18)\n",
    "for i, column in enumerate(columns_list):\n",
    "    sns.distplot(users_consumption_clean_ultra[column], ax=axs[i], color='red')"
   ]
  },
  {
   "cell_type": "code",
   "execution_count": 43,
   "metadata": {
    "ExecuteTime": {
     "end_time": "2020-06-26T18:51:11.207769Z",
     "start_time": "2020-06-26T18:51:11.105692Z"
    },
    "scrolled": true
   },
   "outputs": [
    {
     "name": "stdout",
     "output_type": "stream",
     "text": [
      "Выручка компании от каждого тарифа\n"
     ]
    },
    {
     "data": {
      "text/plain": [
       "tariff\n",
       "smart    2812783\n",
       "ultra    1571100\n",
       "Name: company_revenue, dtype: int64"
      ]
     },
     "metadata": {},
     "output_type": "display_data"
    },
    {
     "data": {
      "image/png": "[encoded data removed]",
      "text/plain": [
       "<Figure size 288x288 with 1 Axes>"
      ]
     },
     "metadata": {},
     "output_type": "display_data"
    }
   ],
   "source": [
    "print('Выручка компании от каждого тарифа')\n",
    "display(users_consumption_clean.groupby('tariff')['company_revenue'].sum().astype(int))\n",
    "users_consumption_clean.groupby('tariff')['company_revenue']\\\n",
    "    .sum().plot.pie(autopct='%.1f', fontsize=12, figsize=(4, 4))\n",
    "plt.show()\n"
   ]
  },
  {
   "cell_type": "markdown",
   "metadata": {},
   "source": [
    "## Вывод\n",
    "Распределения обоих тарифов имеют схожие формы. Клиенты ведут себя примерно одинаково.\n",
    "Для звонков и трафика график почти симметричный, немного скошен влево. Сообщения же ассиметричны ввиду того, что мало кто использует сообщения.\n",
    "Так как тариф ультра включает в себя больше минут/мб/сообщений видим, что их потребление в тарифе ультра больше, чем у смарт (колокол \"шире\")."
   ]
  },
  {
   "cell_type": "markdown",
   "metadata": {},
   "source": [
    "[План работы](#plan)"
   ]
  },
  {
   "cell_type": "markdown",
   "metadata": {},
   "source": [
    "<a id=step5></a>\n",
    "# Шаг 5. Проверка гипотиз\n",
    "\n",
    "Приступим к проверке гипотиз и решим, какой же тариф лучше. \n",
    "\n",
    "Первая - `средняя выручка компании от пользователей тарифов «Ультра» и «Смарт» различается`\n",
    "\n",
    "Будем проверять две генеральные совокупности на равенство их средних (`st.ttest_ind`). Считаем, что первая ген совокупность это клиенты тарифа `smart`, вторая `ultra`. У нас больше 30 наблюдений в каждой выборке, соответственно можем применить t-критерий. Приступим к формулированию гипотиз исходя из поставленной задачи, держим в голове, что нулевая гипотеза всегда формируется со знаком равенства. \n",
    "\n",
    "**Гипотизы для стат анализа**:\n",
    "- Н0 - `средняя выручка компании от пользователей тарифов «Ультра» и «Смарт» одинаковая`\n",
    "- H1 - `средняя выручка компании от пользователей тарифов «Ультра» и «Смарт» отличается`\n",
    "\n",
    "Уровень значимости зададим равным 5%\n",
    "\n",
    "Прежде чем приступить, сравним дисперсии выборок (чтобы корректно выбрать значени аргумента  `equal_var` метода `st.ttest_ind`."
   ]
  },
  {
   "cell_type": "code",
   "execution_count": 53,
   "metadata": {},
   "outputs": [],
   "source": [
    "ultra = users_consumption_clean.query(\"tariff == 'ultra'\")\n",
    "smart = users_consumption_clean.query(\"tariff == 'smart'\")"
   ]
  },
  {
   "cell_type": "code",
   "execution_count": 54,
   "metadata": {
    "ExecuteTime": {
     "end_time": "2020-06-26T18:51:11.436754Z",
     "start_time": "2020-06-26T18:51:11.210771Z"
    }
   },
   "outputs": [
    {
     "name": "stdout",
     "output_type": "stream",
     "text": [
      "Дисперсия выручки тарифа smart - 594441\n",
      "\n",
      "Дисперсия выручки тарифа ultra - 9801\n"
     ]
    }
   ],
   "source": [
    "print('Дисперсия выручки тарифа smart - {}'.format(int(smart['company_revenue'].describe()[2])**2))\n",
    "print()\n",
    "print('Дисперсия выручки тарифа ultra - {}'.format(int(ultra['company_revenue'].describe()[2])**2))"
   ]
  },
  {
   "cell_type": "markdown",
   "metadata": {},
   "source": [
    "Видим значительное отличие, в процессе проведения t-теста в методе пропишем `equal_var=False`.\n",
    "\n",
    "Подготовка закончена, приступим к проверке первой гипотизы."
   ]
  },
  {
   "cell_type": "code",
   "execution_count": 55,
   "metadata": {
    "ExecuteTime": {
     "end_time": "2020-06-26T18:51:11.442756Z",
     "start_time": "2020-06-26T18:50:57.816Z"
    }
   },
   "outputs": [
    {
     "name": "stdout",
     "output_type": "stream",
     "text": [
      "p-значение: 0.0\n"
     ]
    }
   ],
   "source": [
    "result = st.ttest_ind(smart['company_revenue'], ultra['company_revenue'], equal_var=False)\n",
    "print('p-значение:', round(result.pvalue,ndigits=5))"
   ]
  },
  {
   "cell_type": "markdown",
   "metadata": {},
   "source": [
    "p-уровень значимости получился очень очень маленьким, что свидетельствует о ничтожно малом шансе жизнеспособности нашей нулевой гипотизи при условии, что H0 верна. Тоже самое справедливо, задай мы уровень значимости 1%\n",
    "\n",
    "Таким образом, Н0 отвергается, **средняя выручка компании от тарифов Смарт и Ультра отличается**."
   ]
  },
  {
   "cell_type": "code",
   "execution_count": 56,
   "metadata": {
    "ExecuteTime": {
     "end_time": "2020-06-26T18:51:11.443757Z",
     "start_time": "2020-06-26T18:50:57.829Z"
    }
   },
   "outputs": [
    {
     "name": "stdout",
     "output_type": "stream",
     "text": [
      "Средняя вырочка компании от тарифа smart - 1271.6 руб\n",
      "Вырочка компании от тарифа smart - 2812783 руб\n",
      "\n",
      "Средняя вырочка компании от тарифа ultra - 1973.7 руб\n",
      "Вырочка компании от тарифа ultra - 1571100 руб\n"
     ]
    }
   ],
   "source": [
    "print('Средняя вырочка компании от тарифа smart - {} руб'.format(round(smart['company_revenue'].describe()[1],ndigits=1)))\n",
    "print('Вырочка компании от тарифа smart - {} руб'.format(smart['company_revenue'].sum()))\n",
    "print()\n",
    "print('Средняя вырочка компании от тарифа ultra - {} руб'.format(round(ultra['company_revenue'].describe()[1],ndigits=1)))\n",
    "print('Вырочка компании от тарифа ultra - {} руб'.format(ultra['company_revenue'].sum()))"
   ]
  },
  {
   "cell_type": "markdown",
   "metadata": {},
   "source": [
    "Средняя выручка компании от одного пользователя тарифа ultra больше, чем от smart. Кроме того, можно сделать вывод, что пользователи тариф ultra, в отличии от smart, укладываются в рамки своего тарифного плана и редко доплачивают за доп минуты/трафик/сообщения. Так как средняя выручка компании примерно равна стоимости пакета.  \n",
    "\n",
    "Суммарные же показатели указывают на то, что в нашей выборке больше клиентов с тарифом smart, тем не менее, около 35% процентов всей выручки составляет выручка от тарифа ultra."
   ]
  },
  {
   "cell_type": "markdown",
   "metadata": {},
   "source": [
    "Приступим к проверке второй гипотизи - `средняя выручка пользователей из Москвы отличается от выручки пользователей из других регионов`.\n",
    "Тест проведем по аналогии с предыдущим, пользователи из Москвы одна ген совокупность, остальные - другая. Для этого наложим фильтры на таблицу `users_consumption_clean`, проверим равенство дисперсий и проверим гипотизу.\n",
    "\n",
    "**Гипотизы для стат анализа**:\n",
    "- Н0 - `средняя выручка компании в Москве равна выручке из других регионов`\n",
    "- H1 - `средняя выручка компании в Москвы НЕ равна выручке из других регионов`\n",
    "\n",
    "Уровень значимости установим на уровне 5%"
   ]
  },
  {
   "cell_type": "code",
   "execution_count": 57,
   "metadata": {
    "ExecuteTime": {
     "end_time": "2020-06-26T18:51:11.446759Z",
     "start_time": "2020-06-26T18:50:57.839Z"
    },
    "scrolled": true
   },
   "outputs": [
    {
     "data": {
      "text/plain": [
       "21      1950\n",
       "2839     993\n",
       "1094     550\n",
       "Name: company_revenue, dtype: int64"
      ]
     },
     "execution_count": 57,
     "metadata": {},
     "output_type": "execute_result"
    }
   ],
   "source": [
    "moskow_revenue = users_consumption_clean.loc[users_consumption_clean['city']== 'Москва','company_revenue'] \n",
    "moskow_revenue.sample(3)"
   ]
  },
  {
   "cell_type": "code",
   "execution_count": 58,
   "metadata": {
    "ExecuteTime": {
     "end_time": "2020-06-26T18:51:11.448760Z",
     "start_time": "2020-06-26T18:50:57.846Z"
    }
   },
   "outputs": [
    {
     "data": {
      "text/plain": [
       "852      550\n",
       "2487     550\n",
       "2583    1092\n",
       "Name: company_revenue, dtype: int64"
      ]
     },
     "execution_count": 58,
     "metadata": {},
     "output_type": "execute_result"
    }
   ],
   "source": [
    "regions_revenue = users_consumption_clean.loc[users_consumption_clean['city'] != 'Москва','company_revenue'] \n",
    "regions_revenue.sample(3)"
   ]
  },
  {
   "cell_type": "code",
   "execution_count": 59,
   "metadata": {
    "ExecuteTime": {
     "end_time": "2020-06-26T18:51:11.453771Z",
     "start_time": "2020-06-26T18:50:57.852Z"
    }
   },
   "outputs": [
    {
     "name": "stdout",
     "output_type": "stream",
     "text": [
      "Дисперсия выручки в Москве - 483025\n",
      "\n",
      "Дисперсия выручки в регионах - 549081\n"
     ]
    }
   ],
   "source": [
    "print('Дисперсия выручки в Москве - {}'.format(int(moskow_revenue.describe()[2])**2))\n",
    "print()\n",
    "print('Дисперсия выручки в регионах - {}'.format(int(regions_revenue.describe()[2])**2))"
   ]
  },
  {
   "cell_type": "code",
   "execution_count": 60,
   "metadata": {
    "ExecuteTime": {
     "end_time": "2020-06-26T18:51:11.457771Z",
     "start_time": "2020-06-26T18:50:57.859Z"
    }
   },
   "outputs": [
    {
     "name": "stdout",
     "output_type": "stream",
     "text": [
      "0.016006076223733234\n"
     ]
    }
   ],
   "source": [
    "# глазами получается не очевидно, поверим при помощи теста Левена, зададим уровень значимости 5%\n",
    "stat, p = st.levene(moskow_revenue, regions_revenue)\n",
    "print(p)"
   ]
  },
  {
   "cell_type": "markdown",
   "metadata": {},
   "source": [
    "p-значение теста Левена оказалось меньше 5%, значит отвергаем нулевую гипотезу о равенстве дисперсий наших выборок, устанавливаем `equal_var=False`"
   ]
  },
  {
   "cell_type": "code",
   "execution_count": 61,
   "metadata": {
    "ExecuteTime": {
     "end_time": "2020-06-26T18:51:11.460275Z",
     "start_time": "2020-06-26T18:50:57.864Z"
    }
   },
   "outputs": [
    {
     "name": "stdout",
     "output_type": "stream",
     "text": [
      "p-значение: 0.4067\n"
     ]
    }
   ],
   "source": [
    "result = st.ttest_ind(moskow_revenue, regions_revenue, equal_var=False)\n",
    "print('p-значение:', round(result.pvalue,ndigits=5))"
   ]
  },
  {
   "cell_type": "markdown",
   "metadata": {},
   "source": [
    "p-уровень значимости получился равен 40%, что не позволяет нам отвергнуть нулевую гипотизу. \n",
    "\n",
    "Следовательно, **выручка компании в Москве не отличается от выручки в регионах**."
   ]
  },
  {
   "cell_type": "markdown",
   "metadata": {},
   "source": [
    "## Вывод\n",
    "При помощи t-теста (так как выборки содержат > 30 наблюдений) для выборок из двух разных генеральных совокупностей было проверено две гипотезы:\n",
    "    - средняя выручка пользователей тарифов «Ультра» и «Смарт» \n",
    "    - средняя выручка пользователей из Москвы отличается от выручки пользователей из других регионов \n",
    "\n",
    "*Первая гипотеза подтвердилась*, средняя выручка отличается, так же увидели, что средняя выручка тарифа ultra - больше. В тоже время, пользователи тарифа smart, как правило, докупают минуты/трафик/сообщения. \n",
    "\n",
    "*Вторая гипотеза не подтвердилась*, нет разницы в выручке между Москвой и регионами"
   ]
  },
  {
   "cell_type": "markdown",
   "metadata": {},
   "source": [
    "[План работы](#plan)"
   ]
  },
  {
   "cell_type": "markdown",
   "metadata": {},
   "source": [
    "<a id=step6></a>\n",
    "# Шаг 7. Общие выводы"
   ]
  },
  {
   "cell_type": "markdown",
   "metadata": {},
   "source": [
    "В ходе анализа было изучено два тарифа телеком компании - smart & ultra.\n",
    "А именно:\n",
    "- Качество данных оказалось на достаточно высоком уровне, большой предобработки не потребовалось. Самая большая ошибка была в таблице `Internet`, туда попал лишний столбец.\n",
    "- Была подготовлена таблица с общим потреблением минут/трафика/сообщений для каждого пользователя в месяц, а так же рассчитана прибыль компании для каждого месяца.\n",
    "- Из последующего анализа исключили месяца, в которых пользователи израсходовали слишком много минут/трафика/сообщений\n",
    "- Распределение потребления минут и трафика нормальное, в то время как у сообщений сильно скошено вправо. Что указывает на не популярность СМС. Так же в процессе анализа выяснили, что в выборке больше клиентов с тарифом smart, что значительно сказывается на разнице потраченных минут/трафика/сообщений м/у тарифами.\n",
    "\n",
    "Перспективный тариф:\n",
    "С большой долей вероятность было установлено, что средняя выручка у разных тарифов не равна, и средняя выручка от клиента тарифа ultra оказалась выше, чем у тарифа smart, 1973 рубля против 1271 рубля. \n",
    "\n",
    "На данном этапе можно дать рекомендацию рассмотреть тариф ultra как наиболее перспективный. \n",
    "\n",
    "С одним заменичание, необходимо проанализировать расходы связанные с обслуживанием/маркетингом/содержанием инфраструктуры и т.п. Может оказаться, что на привлечение и обслуживание тарифа smart мы тратим на много меньше и учтя все затраты будет уже не так очевидно кто перспективней. Необходимо всесторонне рассчитать экономику тарифов, чтобы сделать однозначный вывод.  \n",
    "\n",
    "Важно отметить, что нет нужды концентрироваться только на Москве, так как не установлено значительного различие в выручке между Москвой и регионами. \n"
   ]
  },
  {
   "cell_type": "markdown",
   "metadata": {},
   "source": [
    "\n",
    "***На данном этапе можно дать рекомендацию рассмотреть тариф ultra как наиболее перспективный. \n",
    "С одним заменичание, необходимо проанализировать расходы связанные с обслуживанием/маркетингом/содержанием инфраструктуры и т.п. Может оказаться, что на привлечение и обслуживание тарифа smart мы тратим на много меньше и учтя все затраты будет уже не так очевидно кто перспективней. Необходимо всесторонне рассчитать экономику тарифов, чтобы сделать однозначный вывод.***"
   ]
  }
 ],
 "metadata": {
  "kernelspec": {
   "display_name": "Python 3",
   "language": "python",
   "name": "python3"
  },
  "language_info": {
   "codemirror_mode": {
    "name": "ipython",
    "version": 3
   },
   "file_extension": ".py",
   "mimetype": "text/x-python",
   "name": "python",
   "nbconvert_exporter": "python",
   "pygments_lexer": "ipython3",
   "version": "3.7.6"
  },
  "toc": {
   "base_numbering": 1,
   "nav_menu": {},
   "number_sections": true,
   "sideBar": true,
   "skip_h1_title": false,
   "title_cell": "Table of Contents",
   "title_sidebar": "Contents",
   "toc_cell": false,
   "toc_position": {
    "height": "calc(100% - 180px)",
    "left": "10px",
    "top": "150px",
    "width": "273.2px"
   },
   "toc_section_display": true,
   "toc_window_display": false
  }
 },
 "nbformat": 4,
 "nbformat_minor": 4
}

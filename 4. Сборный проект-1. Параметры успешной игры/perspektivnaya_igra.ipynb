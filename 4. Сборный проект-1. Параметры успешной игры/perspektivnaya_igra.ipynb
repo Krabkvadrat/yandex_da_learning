{
 "cells": [
  {
   "cell_type": "markdown",
   "metadata": {},
   "source": [
    "#  Определение параметров успешной игры"
   ]
  },
  {
   "cell_type": "markdown",
   "metadata": {},
   "source": [
    "<a id=plan></a>\n",
    "# План работы"
   ]
  },
  {
   "cell_type": "markdown",
   "metadata": {},
   "source": [
    "[**Шаг 1. Открыть файл с данными и изучите общую информацию**](#step1)\n",
    "- [x] файл открыт, получено первое представление о содержимом \n",
    "- [x] поиск пропусков, дубликатов, некорректных значений и т.п.\n",
    "\n",
    "[**Шаг 2. Подготовка данных**](#step2)\n",
    "- [x] привести названия столбцов к нижнему регистру\n",
    "- [x] преобразовать данные в нужный тип (описать, в каких столбцах произведена замена  и почему)\n",
    "- [x] обработать пропуски (описать как обработаны и почему именно так; высказать предположение о причине появления пропусков) \n",
    "- [x] аббревиатура \"tbd\" в столбце с рейтингом обработана\n",
    "- [x] объединены рейтинг \"E\" & \"K-A\" в столбце с рейтингом ESRB обработана\n",
    "- [x] посчитать суммарные продажи во всех регионах и добавить их в отедльный столбец\n",
    "- [x] привести значения столбца user_score к одному формату с critic_score\n",
    "\n",
    "[**Шаг 3. EDA**](#step3)\n",
    "- [x] узнать сколько игр выпускалось в разные года. (Дать ответ на вопросы : \"Важны ли данные за все периоды?\")\n",
    "- [x] изучить динамику продаж игр по платформам в разные года\n",
    "- [x] выбрать платформы с наибольшими суммарными продажами и построить распределение по годам\n",
    "- [x] указать за какой характерный срок появляются новые и исчезают старые платформы\n",
    "- [x] определить актуальный период для анализа\n",
    "- [x] определить какие платформы лидируют по продажам, растут или падают\n",
    "- [x] определить потенциально прибыльные платформы \n",
    "- [x] построить график «ящик с усами» по глобальным продажам игр в разбивке по платформам, описать результат\n",
    "- [x] изучить влияние отзывов пользователей и критиков на продажи внутри одной популярной платформы\n",
    "- [x] построить диаграмму рассеяния и посчитать корреляцию между отзывами и продажами\n",
    "- [x] соотнести выводы с продажами игр на других платформах\n",
    "- [x] изучить распределение игр по жанрам. Какой самый прибыльный жанр? Выделяются ли жанры с высокими и низкими продажами?\n",
    "\n",
    "\n",
    "[**Шаг 4. Составить портрет пользователя каждого региона**](#step4)\n",
    "(NA, EU, JP):\n",
    "\n",
    "- [x] Самые популярные платформы (топ-5). Опишите различия в долях продаж.\n",
    "- [x] Самые популярные жанры (топ-5). Поясните разницу.\n",
    "- [x] Влияет ли рейтинг ESRB на продажи в отдельном регионе?\n",
    "\n",
    "[**Шаг 5. Проверка гипотез**](#step5)\n",
    "\n",
    "- [x] Проверить гипотезу `Средние пользовательские рейтинги платформ Xbox One и PC одинаковые`\n",
    "- [x] Проверить гипотезу `Средние пользовательские рейтинги жанров Action (англ. «действие», экшен-игры) и Sports (англ. «спортивные соревнования») разные`\n",
    "\n",
    "\n",
    "**Шаг 6. Общий вывод**\n",
    "- [x] Определить факторы, влияющие на успех игры"
   ]
  },
  {
   "cell_type": "markdown",
   "metadata": {},
   "source": [
    "<a id=step1></a>\n",
    "# Шаг 1. Изучение доступных данных"
   ]
  },
  {
   "cell_type": "code",
   "execution_count": 1,
   "metadata": {
    "ExecuteTime": {
     "end_time": "2020-07-12T17:05:54.065781Z",
     "start_time": "2020-07-12T17:05:52.287074Z"
    },
    "scrolled": true
   },
   "outputs": [],
   "source": [
    "# импорт необходимых библиотек и настройка jupiter\n",
    "import pandas as pd\n",
    "import matplotlib.pyplot as plt\n",
    "import math\n",
    "import seaborn as sns\n",
    "from scipy import stats as st\n",
    "import numpy as np \n",
    "# pip install sidetable\n",
    "import sidetable\n",
    "\n",
    "\n",
    "# для отображения в jupiter всех колонок и столбцов df + сокращу количество цифр после запятой\n",
    "pd.set_option('display.max_columns', None)\n",
    "pd.set_option('display.max_rows', None)\n",
    "pd.set_option('display.precision',2)"
   ]
  },
  {
   "cell_type": "code",
   "execution_count": 2,
   "metadata": {
    "ExecuteTime": {
     "end_time": "2020-07-12T17:05:54.144535Z",
     "start_time": "2020-07-12T17:05:54.067781Z"
    },
    "scrolled": true
   },
   "outputs": [
    {
     "data": {
      "text/html": [
       "<div>\n",
       "<style scoped>\n",
       "    .dataframe tbody tr th:only-of-type {\n",
       "        vertical-align: middle;\n",
       "    }\n",
       "\n",
       "    .dataframe tbody tr th {\n",
       "        vertical-align: top;\n",
       "    }\n",
       "\n",
       "    .dataframe thead th {\n",
       "        text-align: right;\n",
       "    }\n",
       "</style>\n",
       "<table border=\"1\" class=\"dataframe\">\n",
       "  <thead>\n",
       "    <tr style=\"text-align: right;\">\n",
       "      <th></th>\n",
       "      <th>Name</th>\n",
       "      <th>Platform</th>\n",
       "      <th>Year_of_Release</th>\n",
       "      <th>Genre</th>\n",
       "      <th>NA_sales</th>\n",
       "      <th>EU_sales</th>\n",
       "      <th>JP_sales</th>\n",
       "      <th>Other_sales</th>\n",
       "      <th>Critic_Score</th>\n",
       "      <th>User_Score</th>\n",
       "      <th>Rating</th>\n",
       "    </tr>\n",
       "  </thead>\n",
       "  <tbody>\n",
       "    <tr>\n",
       "      <th>1366</th>\n",
       "      <td>Sonic's Ultimate Genesis Collection</td>\n",
       "      <td>X360</td>\n",
       "      <td>2009.0</td>\n",
       "      <td>Misc</td>\n",
       "      <td>0.85</td>\n",
       "      <td>0.43</td>\n",
       "      <td>0.00</td>\n",
       "      <td>0.13</td>\n",
       "      <td>79.0</td>\n",
       "      <td>8.5</td>\n",
       "      <td>E10+</td>\n",
       "    </tr>\n",
       "    <tr>\n",
       "      <th>16241</th>\n",
       "      <td>NHL 16</td>\n",
       "      <td>PS3</td>\n",
       "      <td>2015.0</td>\n",
       "      <td>Sports</td>\n",
       "      <td>0.00</td>\n",
       "      <td>0.01</td>\n",
       "      <td>0.00</td>\n",
       "      <td>0.00</td>\n",
       "      <td>NaN</td>\n",
       "      <td>NaN</td>\n",
       "      <td>NaN</td>\n",
       "    </tr>\n",
       "    <tr>\n",
       "      <th>4292</th>\n",
       "      <td>American Girl: Kit Mystery Challenge!</td>\n",
       "      <td>DS</td>\n",
       "      <td>2008.0</td>\n",
       "      <td>Adventure</td>\n",
       "      <td>0.42</td>\n",
       "      <td>0.00</td>\n",
       "      <td>0.00</td>\n",
       "      <td>0.03</td>\n",
       "      <td>NaN</td>\n",
       "      <td>tbd</td>\n",
       "      <td>E</td>\n",
       "    </tr>\n",
       "    <tr>\n",
       "      <th>688</th>\n",
       "      <td>Guild Wars 2</td>\n",
       "      <td>PC</td>\n",
       "      <td>2012.0</td>\n",
       "      <td>Action</td>\n",
       "      <td>0.96</td>\n",
       "      <td>1.07</td>\n",
       "      <td>0.00</td>\n",
       "      <td>0.27</td>\n",
       "      <td>90.0</td>\n",
       "      <td>7.9</td>\n",
       "      <td>T</td>\n",
       "    </tr>\n",
       "    <tr>\n",
       "      <th>15272</th>\n",
       "      <td>Quiz Present Variety Q-Sama!! DS: Pressure Stu...</td>\n",
       "      <td>DS</td>\n",
       "      <td>2011.0</td>\n",
       "      <td>Misc</td>\n",
       "      <td>0.00</td>\n",
       "      <td>0.00</td>\n",
       "      <td>0.02</td>\n",
       "      <td>0.00</td>\n",
       "      <td>NaN</td>\n",
       "      <td>NaN</td>\n",
       "      <td>NaN</td>\n",
       "    </tr>\n",
       "  </tbody>\n",
       "</table>\n",
       "</div>"
      ],
      "text/plain": [
       "                                                    Name Platform  \\\n",
       "1366                 Sonic's Ultimate Genesis Collection     X360   \n",
       "16241                                             NHL 16      PS3   \n",
       "4292               American Girl: Kit Mystery Challenge!       DS   \n",
       "688                                         Guild Wars 2       PC   \n",
       "15272  Quiz Present Variety Q-Sama!! DS: Pressure Stu...       DS   \n",
       "\n",
       "       Year_of_Release      Genre  NA_sales  EU_sales  JP_sales  Other_sales  \\\n",
       "1366            2009.0       Misc      0.85      0.43      0.00         0.13   \n",
       "16241           2015.0     Sports      0.00      0.01      0.00         0.00   \n",
       "4292            2008.0  Adventure      0.42      0.00      0.00         0.03   \n",
       "688             2012.0     Action      0.96      1.07      0.00         0.27   \n",
       "15272           2011.0       Misc      0.00      0.00      0.02         0.00   \n",
       "\n",
       "       Critic_Score User_Score Rating  \n",
       "1366           79.0        8.5   E10+  \n",
       "16241           NaN        NaN    NaN  \n",
       "4292            NaN        tbd      E  \n",
       "688            90.0        7.9      T  \n",
       "15272           NaN        NaN    NaN  "
      ]
     },
     "execution_count": 2,
     "metadata": {},
     "output_type": "execute_result"
    }
   ],
   "source": [
    "# создание датасета для анализа и первый взгляд\n",
    "games = pd.read_csv('datasets\\games.csv')\n",
    "games.sample(5)"
   ]
  },
  {
   "cell_type": "code",
   "execution_count": 3,
   "metadata": {
    "ExecuteTime": {
     "end_time": "2020-07-12T17:05:54.182560Z",
     "start_time": "2020-07-12T17:05:54.147537Z"
    },
    "scrolled": true
   },
   "outputs": [
    {
     "name": "stdout",
     "output_type": "stream",
     "text": [
      "Количество дублей: 0\n"
     ]
    }
   ],
   "source": [
    "print('Количество дублей:', games.duplicated().sum())"
   ]
  },
  {
   "cell_type": "code",
   "execution_count": 4,
   "metadata": {
    "ExecuteTime": {
     "end_time": "2020-07-12T17:05:54.244086Z",
     "start_time": "2020-07-12T17:05:54.185562Z"
    },
    "scrolled": true
   },
   "outputs": [
    {
     "data": {
      "text/html": [
       "<div>\n",
       "<style scoped>\n",
       "    .dataframe tbody tr th:only-of-type {\n",
       "        vertical-align: middle;\n",
       "    }\n",
       "\n",
       "    .dataframe tbody tr th {\n",
       "        vertical-align: top;\n",
       "    }\n",
       "\n",
       "    .dataframe thead th {\n",
       "        text-align: right;\n",
       "    }\n",
       "</style>\n",
       "<table border=\"1\" class=\"dataframe\">\n",
       "  <thead>\n",
       "    <tr style=\"text-align: right;\">\n",
       "      <th></th>\n",
       "      <th>Year_of_Release</th>\n",
       "      <th>NA_sales</th>\n",
       "      <th>EU_sales</th>\n",
       "      <th>JP_sales</th>\n",
       "      <th>Other_sales</th>\n",
       "      <th>Critic_Score</th>\n",
       "    </tr>\n",
       "  </thead>\n",
       "  <tbody>\n",
       "    <tr>\n",
       "      <th>count</th>\n",
       "      <td>16446.00</td>\n",
       "      <td>16715.00</td>\n",
       "      <td>16715.00</td>\n",
       "      <td>16715.00</td>\n",
       "      <td>16715.00</td>\n",
       "      <td>8137.00</td>\n",
       "    </tr>\n",
       "    <tr>\n",
       "      <th>mean</th>\n",
       "      <td>2006.48</td>\n",
       "      <td>0.26</td>\n",
       "      <td>0.15</td>\n",
       "      <td>0.08</td>\n",
       "      <td>0.05</td>\n",
       "      <td>68.97</td>\n",
       "    </tr>\n",
       "    <tr>\n",
       "      <th>std</th>\n",
       "      <td>5.88</td>\n",
       "      <td>0.81</td>\n",
       "      <td>0.50</td>\n",
       "      <td>0.31</td>\n",
       "      <td>0.19</td>\n",
       "      <td>13.94</td>\n",
       "    </tr>\n",
       "    <tr>\n",
       "      <th>min</th>\n",
       "      <td>1980.00</td>\n",
       "      <td>0.00</td>\n",
       "      <td>0.00</td>\n",
       "      <td>0.00</td>\n",
       "      <td>0.00</td>\n",
       "      <td>13.00</td>\n",
       "    </tr>\n",
       "    <tr>\n",
       "      <th>25%</th>\n",
       "      <td>2003.00</td>\n",
       "      <td>0.00</td>\n",
       "      <td>0.00</td>\n",
       "      <td>0.00</td>\n",
       "      <td>0.00</td>\n",
       "      <td>60.00</td>\n",
       "    </tr>\n",
       "    <tr>\n",
       "      <th>50%</th>\n",
       "      <td>2007.00</td>\n",
       "      <td>0.08</td>\n",
       "      <td>0.02</td>\n",
       "      <td>0.00</td>\n",
       "      <td>0.01</td>\n",
       "      <td>71.00</td>\n",
       "    </tr>\n",
       "    <tr>\n",
       "      <th>75%</th>\n",
       "      <td>2010.00</td>\n",
       "      <td>0.24</td>\n",
       "      <td>0.11</td>\n",
       "      <td>0.04</td>\n",
       "      <td>0.03</td>\n",
       "      <td>79.00</td>\n",
       "    </tr>\n",
       "    <tr>\n",
       "      <th>max</th>\n",
       "      <td>2016.00</td>\n",
       "      <td>41.36</td>\n",
       "      <td>28.96</td>\n",
       "      <td>10.22</td>\n",
       "      <td>10.57</td>\n",
       "      <td>98.00</td>\n",
       "    </tr>\n",
       "  </tbody>\n",
       "</table>\n",
       "</div>"
      ],
      "text/plain": [
       "       Year_of_Release  NA_sales  EU_sales  JP_sales  Other_sales  \\\n",
       "count         16446.00  16715.00  16715.00  16715.00     16715.00   \n",
       "mean           2006.48      0.26      0.15      0.08         0.05   \n",
       "std               5.88      0.81      0.50      0.31         0.19   \n",
       "min            1980.00      0.00      0.00      0.00         0.00   \n",
       "25%            2003.00      0.00      0.00      0.00         0.00   \n",
       "50%            2007.00      0.08      0.02      0.00         0.01   \n",
       "75%            2010.00      0.24      0.11      0.04         0.03   \n",
       "max            2016.00     41.36     28.96     10.22        10.57   \n",
       "\n",
       "       Critic_Score  \n",
       "count       8137.00  \n",
       "mean          68.97  \n",
       "std           13.94  \n",
       "min           13.00  \n",
       "25%           60.00  \n",
       "50%           71.00  \n",
       "75%           79.00  \n",
       "max           98.00  "
      ]
     },
     "execution_count": 4,
     "metadata": {},
     "output_type": "execute_result"
    }
   ],
   "source": [
    "games.describe()"
   ]
  },
  {
   "cell_type": "code",
   "execution_count": 5,
   "metadata": {
    "ExecuteTime": {
     "end_time": "2020-07-12T17:05:54.265101Z",
     "start_time": "2020-07-12T17:05:54.246087Z"
    },
    "scrolled": true
   },
   "outputs": [
    {
     "name": "stdout",
     "output_type": "stream",
     "text": [
      "<class 'pandas.core.frame.DataFrame'>\n",
      "RangeIndex: 16715 entries, 0 to 16714\n",
      "Data columns (total 11 columns):\n",
      " #   Column           Non-Null Count  Dtype  \n",
      "---  ------           --------------  -----  \n",
      " 0   Name             16713 non-null  object \n",
      " 1   Platform         16715 non-null  object \n",
      " 2   Year_of_Release  16446 non-null  float64\n",
      " 3   Genre            16713 non-null  object \n",
      " 4   NA_sales         16715 non-null  float64\n",
      " 5   EU_sales         16715 non-null  float64\n",
      " 6   JP_sales         16715 non-null  float64\n",
      " 7   Other_sales      16715 non-null  float64\n",
      " 8   Critic_Score     8137 non-null   float64\n",
      " 9   User_Score       10014 non-null  object \n",
      " 10  Rating           9949 non-null   object \n",
      "dtypes: float64(6), object(5)\n",
      "memory usage: 1.4+ MB\n"
     ]
    }
   ],
   "source": [
    "games.info()"
   ]
  },
  {
   "cell_type": "markdown",
   "metadata": {},
   "source": [
    "## Вывод\n",
    "В `Year_of_Release`, `Critic_Score`нужно заменить тип данных на целочисленный. Так как значения в данных столбцах не имеют дробной части.\n",
    "\n",
    "Дублей нет. \n",
    "\n",
    "Есть пропуски в столбце `Name`, `Year_of_Release`, `Genre`, `Critic_Score`, `User_Score`, `Rating`.\n",
    "Гипотизы о причине их возникновнения и способы обработки обсудим на следующем шаге. \n"
   ]
  },
  {
   "cell_type": "markdown",
   "metadata": {},
   "source": [
    "[План работы](#plan)"
   ]
  },
  {
   "cell_type": "markdown",
   "metadata": {},
   "source": [
    "<a id=step1></a>\n",
    "# Шаг 2. Подготовка данных"
   ]
  },
  {
   "cell_type": "markdown",
   "metadata": {
    "ExecuteTime": {
     "end_time": "2020-07-03T19:52:41.915040Z",
     "start_time": "2020-07-03T19:52:41.867838Z"
    }
   },
   "source": [
    "Меняем регистр в названии колонок на нижний и проверяем результат"
   ]
  },
  {
   "cell_type": "code",
   "execution_count": 6,
   "metadata": {
    "ExecuteTime": {
     "end_time": "2020-07-12T17:05:54.299129Z",
     "start_time": "2020-07-12T17:05:54.268102Z"
    },
    "scrolled": true
   },
   "outputs": [
    {
     "data": {
      "text/html": [
       "<div>\n",
       "<style scoped>\n",
       "    .dataframe tbody tr th:only-of-type {\n",
       "        vertical-align: middle;\n",
       "    }\n",
       "\n",
       "    .dataframe tbody tr th {\n",
       "        vertical-align: top;\n",
       "    }\n",
       "\n",
       "    .dataframe thead th {\n",
       "        text-align: right;\n",
       "    }\n",
       "</style>\n",
       "<table border=\"1\" class=\"dataframe\">\n",
       "  <thead>\n",
       "    <tr style=\"text-align: right;\">\n",
       "      <th></th>\n",
       "      <th>name</th>\n",
       "      <th>platform</th>\n",
       "      <th>year_of_release</th>\n",
       "      <th>genre</th>\n",
       "      <th>na_sales</th>\n",
       "      <th>eu_sales</th>\n",
       "      <th>jp_sales</th>\n",
       "      <th>other_sales</th>\n",
       "      <th>critic_score</th>\n",
       "      <th>user_score</th>\n",
       "      <th>rating</th>\n",
       "    </tr>\n",
       "  </thead>\n",
       "  <tbody>\n",
       "    <tr>\n",
       "      <th>8438</th>\n",
       "      <td>Bomberman Land</td>\n",
       "      <td>Wii</td>\n",
       "      <td>2007.0</td>\n",
       "      <td>Misc</td>\n",
       "      <td>0.11</td>\n",
       "      <td>0.01</td>\n",
       "      <td>0.03</td>\n",
       "      <td>0.01</td>\n",
       "      <td>57.0</td>\n",
       "      <td>8</td>\n",
       "      <td>E</td>\n",
       "    </tr>\n",
       "  </tbody>\n",
       "</table>\n",
       "</div>"
      ],
      "text/plain": [
       "                name platform  year_of_release genre  na_sales  eu_sales  \\\n",
       "8438  Bomberman Land      Wii           2007.0  Misc      0.11      0.01   \n",
       "\n",
       "      jp_sales  other_sales  critic_score user_score rating  \n",
       "8438      0.03         0.01          57.0          8      E  "
      ]
     },
     "execution_count": 6,
     "metadata": {},
     "output_type": "execute_result"
    }
   ],
   "source": [
    "games.columns=games.columns.str.lower()\n",
    "games.sample()"
   ]
  },
  {
   "cell_type": "code",
   "execution_count": 7,
   "metadata": {
    "ExecuteTime": {
     "end_time": "2020-07-12T17:05:54.340160Z",
     "start_time": "2020-07-12T17:05:54.303131Z"
    },
    "scrolled": true
   },
   "outputs": [
    {
     "data": {
      "text/html": [
       "<div>\n",
       "<style scoped>\n",
       "    .dataframe tbody tr th:only-of-type {\n",
       "        vertical-align: middle;\n",
       "    }\n",
       "\n",
       "    .dataframe tbody tr th {\n",
       "        vertical-align: top;\n",
       "    }\n",
       "\n",
       "    .dataframe thead th {\n",
       "        text-align: right;\n",
       "    }\n",
       "</style>\n",
       "<table border=\"1\" class=\"dataframe\">\n",
       "  <thead>\n",
       "    <tr style=\"text-align: right;\">\n",
       "      <th></th>\n",
       "      <th>name</th>\n",
       "      <th>platform</th>\n",
       "      <th>year_of_release</th>\n",
       "      <th>genre</th>\n",
       "      <th>na_sales</th>\n",
       "      <th>eu_sales</th>\n",
       "      <th>jp_sales</th>\n",
       "      <th>other_sales</th>\n",
       "      <th>critic_score</th>\n",
       "      <th>user_score</th>\n",
       "      <th>rating</th>\n",
       "    </tr>\n",
       "  </thead>\n",
       "  <tbody>\n",
       "    <tr>\n",
       "      <th>183</th>\n",
       "      <td>Madden NFL 2004</td>\n",
       "      <td>PS2</td>\n",
       "      <td>NaN</td>\n",
       "      <td>Sports</td>\n",
       "      <td>4.26</td>\n",
       "      <td>0.26</td>\n",
       "      <td>0.01</td>\n",
       "      <td>0.71</td>\n",
       "      <td>94.0</td>\n",
       "      <td>8.5</td>\n",
       "      <td>E</td>\n",
       "    </tr>\n",
       "    <tr>\n",
       "      <th>377</th>\n",
       "      <td>FIFA Soccer 2004</td>\n",
       "      <td>PS2</td>\n",
       "      <td>NaN</td>\n",
       "      <td>Sports</td>\n",
       "      <td>0.59</td>\n",
       "      <td>2.36</td>\n",
       "      <td>0.04</td>\n",
       "      <td>0.51</td>\n",
       "      <td>84.0</td>\n",
       "      <td>6.4</td>\n",
       "      <td>E</td>\n",
       "    </tr>\n",
       "    <tr>\n",
       "      <th>456</th>\n",
       "      <td>LEGO Batman: The Videogame</td>\n",
       "      <td>Wii</td>\n",
       "      <td>NaN</td>\n",
       "      <td>Action</td>\n",
       "      <td>1.80</td>\n",
       "      <td>0.97</td>\n",
       "      <td>0.00</td>\n",
       "      <td>0.29</td>\n",
       "      <td>74.0</td>\n",
       "      <td>7.9</td>\n",
       "      <td>E10+</td>\n",
       "    </tr>\n",
       "    <tr>\n",
       "      <th>475</th>\n",
       "      <td>wwe Smackdown vs. Raw 2006</td>\n",
       "      <td>PS2</td>\n",
       "      <td>NaN</td>\n",
       "      <td>Fighting</td>\n",
       "      <td>1.57</td>\n",
       "      <td>1.02</td>\n",
       "      <td>0.00</td>\n",
       "      <td>0.41</td>\n",
       "      <td>NaN</td>\n",
       "      <td>NaN</td>\n",
       "      <td>NaN</td>\n",
       "    </tr>\n",
       "    <tr>\n",
       "      <th>609</th>\n",
       "      <td>Space Invaders</td>\n",
       "      <td>2600</td>\n",
       "      <td>NaN</td>\n",
       "      <td>Shooter</td>\n",
       "      <td>2.36</td>\n",
       "      <td>0.14</td>\n",
       "      <td>0.00</td>\n",
       "      <td>0.03</td>\n",
       "      <td>NaN</td>\n",
       "      <td>NaN</td>\n",
       "      <td>NaN</td>\n",
       "    </tr>\n",
       "    <tr>\n",
       "      <th>627</th>\n",
       "      <td>Rock Band</td>\n",
       "      <td>X360</td>\n",
       "      <td>NaN</td>\n",
       "      <td>Misc</td>\n",
       "      <td>1.93</td>\n",
       "      <td>0.33</td>\n",
       "      <td>0.00</td>\n",
       "      <td>0.21</td>\n",
       "      <td>92.0</td>\n",
       "      <td>8.2</td>\n",
       "      <td>T</td>\n",
       "    </tr>\n",
       "    <tr>\n",
       "      <th>657</th>\n",
       "      <td>Frogger's Adventures: Temple of the Frog</td>\n",
       "      <td>GBA</td>\n",
       "      <td>NaN</td>\n",
       "      <td>Adventure</td>\n",
       "      <td>2.15</td>\n",
       "      <td>0.18</td>\n",
       "      <td>0.00</td>\n",
       "      <td>0.07</td>\n",
       "      <td>73.0</td>\n",
       "      <td>tbd</td>\n",
       "      <td>E</td>\n",
       "    </tr>\n",
       "    <tr>\n",
       "      <th>678</th>\n",
       "      <td>LEGO Indiana Jones: The Original Adventures</td>\n",
       "      <td>Wii</td>\n",
       "      <td>NaN</td>\n",
       "      <td>Action</td>\n",
       "      <td>1.51</td>\n",
       "      <td>0.61</td>\n",
       "      <td>0.00</td>\n",
       "      <td>0.21</td>\n",
       "      <td>78.0</td>\n",
       "      <td>6.6</td>\n",
       "      <td>E10+</td>\n",
       "    </tr>\n",
       "    <tr>\n",
       "      <th>719</th>\n",
       "      <td>Call of Duty 3</td>\n",
       "      <td>Wii</td>\n",
       "      <td>NaN</td>\n",
       "      <td>Shooter</td>\n",
       "      <td>1.17</td>\n",
       "      <td>0.84</td>\n",
       "      <td>0.00</td>\n",
       "      <td>0.23</td>\n",
       "      <td>69.0</td>\n",
       "      <td>6.7</td>\n",
       "      <td>T</td>\n",
       "    </tr>\n",
       "    <tr>\n",
       "      <th>805</th>\n",
       "      <td>Rock Band</td>\n",
       "      <td>Wii</td>\n",
       "      <td>NaN</td>\n",
       "      <td>Misc</td>\n",
       "      <td>1.33</td>\n",
       "      <td>0.56</td>\n",
       "      <td>0.00</td>\n",
       "      <td>0.20</td>\n",
       "      <td>80.0</td>\n",
       "      <td>6.3</td>\n",
       "      <td>T</td>\n",
       "    </tr>\n",
       "  </tbody>\n",
       "</table>\n",
       "</div>"
      ],
      "text/plain": [
       "                                            name platform  year_of_release  \\\n",
       "183                              Madden NFL 2004      PS2              NaN   \n",
       "377                             FIFA Soccer 2004      PS2              NaN   \n",
       "456                   LEGO Batman: The Videogame      Wii              NaN   \n",
       "475                   wwe Smackdown vs. Raw 2006      PS2              NaN   \n",
       "609                               Space Invaders     2600              NaN   \n",
       "627                                    Rock Band     X360              NaN   \n",
       "657     Frogger's Adventures: Temple of the Frog      GBA              NaN   \n",
       "678  LEGO Indiana Jones: The Original Adventures      Wii              NaN   \n",
       "719                               Call of Duty 3      Wii              NaN   \n",
       "805                                    Rock Band      Wii              NaN   \n",
       "\n",
       "         genre  na_sales  eu_sales  jp_sales  other_sales  critic_score  \\\n",
       "183     Sports      4.26      0.26      0.01         0.71          94.0   \n",
       "377     Sports      0.59      2.36      0.04         0.51          84.0   \n",
       "456     Action      1.80      0.97      0.00         0.29          74.0   \n",
       "475   Fighting      1.57      1.02      0.00         0.41           NaN   \n",
       "609    Shooter      2.36      0.14      0.00         0.03           NaN   \n",
       "627       Misc      1.93      0.33      0.00         0.21          92.0   \n",
       "657  Adventure      2.15      0.18      0.00         0.07          73.0   \n",
       "678     Action      1.51      0.61      0.00         0.21          78.0   \n",
       "719    Shooter      1.17      0.84      0.00         0.23          69.0   \n",
       "805       Misc      1.33      0.56      0.00         0.20          80.0   \n",
       "\n",
       "    user_score rating  \n",
       "183        8.5      E  \n",
       "377        6.4      E  \n",
       "456        7.9   E10+  \n",
       "475        NaN    NaN  \n",
       "609        NaN    NaN  \n",
       "627        8.2      T  \n",
       "657        tbd      E  \n",
       "678        6.6   E10+  \n",
       "719        6.7      T  \n",
       "805        6.3      T  "
      ]
     },
     "execution_count": 7,
     "metadata": {},
     "output_type": "execute_result"
    }
   ],
   "source": [
    "games.loc[games['year_of_release'].isna()].head(10)"
   ]
  },
  {
   "cell_type": "markdown",
   "metadata": {},
   "source": [
    "Пропуска в столбце `year_of_release` можно было бы заполнить в ручную при помощи гугла, но их слишком много для ручной обработки (269 строк). Либо извлечь дату из названия игр, но далеко не все игры её содержат, так что это выглядит мало эффективным. Возможно это следствие ошибки при выгрузке, так как год выпуска должен быть у каждой игры. \n",
    "\n",
    "Удалим строки с пропусками, так как год релиза важен при дальнейшем анализе. "
   ]
  },
  {
   "cell_type": "code",
   "execution_count": 8,
   "metadata": {
    "ExecuteTime": {
     "end_time": "2020-07-12T17:05:54.376185Z",
     "start_time": "2020-07-12T17:05:54.347165Z"
    },
    "scrolled": true
   },
   "outputs": [
    {
     "name": "stdout",
     "output_type": "stream",
     "text": [
      "<class 'pandas.core.frame.DataFrame'>\n",
      "Int64Index: 16446 entries, 0 to 16714\n",
      "Data columns (total 11 columns):\n",
      " #   Column           Non-Null Count  Dtype  \n",
      "---  ------           --------------  -----  \n",
      " 0   name             16444 non-null  object \n",
      " 1   platform         16446 non-null  object \n",
      " 2   year_of_release  16446 non-null  float64\n",
      " 3   genre            16444 non-null  object \n",
      " 4   na_sales         16446 non-null  float64\n",
      " 5   eu_sales         16446 non-null  float64\n",
      " 6   jp_sales         16446 non-null  float64\n",
      " 7   other_sales      16446 non-null  float64\n",
      " 8   critic_score     7983 non-null   float64\n",
      " 9   user_score       9839 non-null   object \n",
      " 10  rating           9768 non-null   object \n",
      "dtypes: float64(6), object(5)\n",
      "memory usage: 1.5+ MB\n"
     ]
    }
   ],
   "source": [
    "games.dropna(subset=['year_of_release'],inplace=True)\n",
    "# сразу проверим\n",
    "games.info()"
   ]
  },
  {
   "cell_type": "code",
   "execution_count": 9,
   "metadata": {
    "ExecuteTime": {
     "end_time": "2020-07-12T17:05:54.411253Z",
     "start_time": "2020-07-12T17:05:54.381190Z"
    },
    "scrolled": true
   },
   "outputs": [
    {
     "data": {
      "text/html": [
       "<div>\n",
       "<style scoped>\n",
       "    .dataframe tbody tr th:only-of-type {\n",
       "        vertical-align: middle;\n",
       "    }\n",
       "\n",
       "    .dataframe tbody tr th {\n",
       "        vertical-align: top;\n",
       "    }\n",
       "\n",
       "    .dataframe thead th {\n",
       "        text-align: right;\n",
       "    }\n",
       "</style>\n",
       "<table border=\"1\" class=\"dataframe\">\n",
       "  <thead>\n",
       "    <tr style=\"text-align: right;\">\n",
       "      <th></th>\n",
       "      <th>name</th>\n",
       "      <th>platform</th>\n",
       "      <th>year_of_release</th>\n",
       "      <th>genre</th>\n",
       "      <th>na_sales</th>\n",
       "      <th>eu_sales</th>\n",
       "      <th>jp_sales</th>\n",
       "      <th>other_sales</th>\n",
       "      <th>critic_score</th>\n",
       "      <th>user_score</th>\n",
       "      <th>rating</th>\n",
       "    </tr>\n",
       "  </thead>\n",
       "  <tbody>\n",
       "    <tr>\n",
       "      <th>659</th>\n",
       "      <td>NaN</td>\n",
       "      <td>GEN</td>\n",
       "      <td>1993.0</td>\n",
       "      <td>NaN</td>\n",
       "      <td>1.78</td>\n",
       "      <td>0.53</td>\n",
       "      <td>0.00</td>\n",
       "      <td>0.08</td>\n",
       "      <td>NaN</td>\n",
       "      <td>NaN</td>\n",
       "      <td>NaN</td>\n",
       "    </tr>\n",
       "    <tr>\n",
       "      <th>14244</th>\n",
       "      <td>NaN</td>\n",
       "      <td>GEN</td>\n",
       "      <td>1993.0</td>\n",
       "      <td>NaN</td>\n",
       "      <td>0.00</td>\n",
       "      <td>0.00</td>\n",
       "      <td>0.03</td>\n",
       "      <td>0.00</td>\n",
       "      <td>NaN</td>\n",
       "      <td>NaN</td>\n",
       "      <td>NaN</td>\n",
       "    </tr>\n",
       "  </tbody>\n",
       "</table>\n",
       "</div>"
      ],
      "text/plain": [
       "      name platform  year_of_release genre  na_sales  eu_sales  jp_sales  \\\n",
       "659    NaN      GEN           1993.0   NaN      1.78      0.53      0.00   \n",
       "14244  NaN      GEN           1993.0   NaN      0.00      0.00      0.03   \n",
       "\n",
       "       other_sales  critic_score user_score rating  \n",
       "659           0.08           NaN        NaN    NaN  \n",
       "14244         0.00           NaN        NaN    NaN  "
      ]
     },
     "execution_count": 9,
     "metadata": {},
     "output_type": "execute_result"
    }
   ],
   "source": [
    "# проверим пропуска в столбце имя. \n",
    "games.loc[games['name'].isna()]"
   ]
  },
  {
   "cell_type": "code",
   "execution_count": 10,
   "metadata": {
    "ExecuteTime": {
     "end_time": "2020-07-12T17:05:54.452281Z",
     "start_time": "2020-07-12T17:05:54.415256Z"
    },
    "scrolled": true
   },
   "outputs": [
    {
     "name": "stdout",
     "output_type": "stream",
     "text": [
      "<class 'pandas.core.frame.DataFrame'>\n",
      "Int64Index: 16444 entries, 0 to 16714\n",
      "Data columns (total 11 columns):\n",
      " #   Column           Non-Null Count  Dtype  \n",
      "---  ------           --------------  -----  \n",
      " 0   name             16444 non-null  object \n",
      " 1   platform         16444 non-null  object \n",
      " 2   year_of_release  16444 non-null  float64\n",
      " 3   genre            16444 non-null  object \n",
      " 4   na_sales         16444 non-null  float64\n",
      " 5   eu_sales         16444 non-null  float64\n",
      " 6   jp_sales         16444 non-null  float64\n",
      " 7   other_sales      16444 non-null  float64\n",
      " 8   critic_score     7983 non-null   float64\n",
      " 9   user_score       9839 non-null   object \n",
      " 10  rating           9768 non-null   object \n",
      "dtypes: float64(6), object(5)\n",
      "memory usage: 1.5+ MB\n"
     ]
    }
   ],
   "source": [
    "# в тех же строках имеем пропуска в столбце жанр,  убиваем двух зайцев\n",
    "games.dropna(subset=['name'],inplace=True)\n",
    "games.info()"
   ]
  },
  {
   "cell_type": "markdown",
   "metadata": {
    "ExecuteTime": {
     "end_time": "2020-07-03T20:31:54.210898Z",
     "start_time": "2020-07-03T20:31:54.172636Z"
    }
   },
   "source": [
    "Еще осталось пропуска в оценках критиков/пользователей и рейтинге\n",
    "\n",
    "Заменить оценки средними/медианами и т.п. в данном случае - некорректно, как и удалять такие строки. Так как пропусков слишком много и это повлияет на итоговый результат. \n",
    "\n",
    "Причина появления таких пропусков - загадка. Мы не знаем какой источник данных (кроме того что он \"открытый\"), может быть на стороне истоничка проблемы, ведь у каждой игры должен быть рейтинг и оценки. Кроме тех, для которых он еще не определен, но для таких у нас есть абривиатура 'tbd' и 'RP'.\n",
    "\n",
    "Посмотрим как распределились пропуски по годам выпуска игр, чтобы окончательно понять что с ними делать."
   ]
  },
  {
   "cell_type": "code",
   "execution_count": 11,
   "metadata": {
    "ExecuteTime": {
     "end_time": "2020-07-12T17:05:54.999399Z",
     "start_time": "2020-07-12T17:05:54.455284Z"
    },
    "scrolled": true
   },
   "outputs": [
    {
     "data": {
      "image/png": "[encoded data removed]",
      "text/plain": [
       "<Figure size 1440x360 with 1 Axes>"
      ]
     },
     "metadata": {
      "needs_background": "light"
     },
     "output_type": "display_data"
    }
   ],
   "source": [
    "fig, ax = plt.subplots( figsize=[20,5])\n",
    "games.loc[games['critic_score'].isna(),'year_of_release'].hist(alpha=0.5,color='red')\n",
    "\n",
    "games.loc[games['user_score'].isna(),'year_of_release'].hist(alpha=0.5, color='green')\n",
    "\n",
    "games.loc[games['rating'].isna(),'year_of_release'].hist(alpha=0.5, color='blue')\n",
    "\n",
    "fig.suptitle('Распределение пропусков в разных рейтингах по годам',fontsize=18)\n",
    "plt.show()"
   ]
  },
  {
   "cell_type": "markdown",
   "metadata": {},
   "source": [
    "Было предположение, что рейтинга нет у старых игр, однако это оказалось не так. С каждый годом становилось все больше игр без рейтинга. Возможно это связано с особенностями рейтинговой системы, должно пройти определенное количество лет после выпуска, должно быть получено определенное количество оценок и т.п. Что примечательно, часто рейтинг отсутствует у тех же игр, у которых нет пользовательской оценки, на графике они слились.\n",
    "\n",
    "В любом случае, пустые значения мы не трогаем, а в заданиях где нужно проводить анализ на основании рейтинга мы будем использовать только строки с заполненными значениями, ведь нас интересуеют только заполннные значения, имеющие смысловую нагркузку. \n",
    "\n",
    "Касательно tbd в оценке пользователей и RP в рейтинге. Попробуем в этом проекте другой подход, будем не избавляться от пропусков, а создавать их. Заменим tbd и RP на NaN! Так как по факту это индикатор отсутствия оценки/рейтинга, причина же уже вторична. "
   ]
  },
  {
   "cell_type": "code",
   "execution_count": 12,
   "metadata": {
    "ExecuteTime": {
     "end_time": "2020-07-12T17:05:55.432245Z",
     "start_time": "2020-07-12T17:05:55.002401Z"
    },
    "scrolled": true
   },
   "outputs": [
    {
     "data": {
      "text/html": [
       "<div>\n",
       "<style scoped>\n",
       "    .dataframe tbody tr th:only-of-type {\n",
       "        vertical-align: middle;\n",
       "    }\n",
       "\n",
       "    .dataframe tbody tr th {\n",
       "        vertical-align: top;\n",
       "    }\n",
       "\n",
       "    .dataframe thead th {\n",
       "        text-align: right;\n",
       "    }\n",
       "</style>\n",
       "<table border=\"1\" class=\"dataframe\">\n",
       "  <thead>\n",
       "    <tr style=\"text-align: right;\">\n",
       "      <th></th>\n",
       "      <th>name</th>\n",
       "      <th>platform</th>\n",
       "      <th>year_of_release</th>\n",
       "      <th>genre</th>\n",
       "      <th>na_sales</th>\n",
       "      <th>eu_sales</th>\n",
       "      <th>jp_sales</th>\n",
       "      <th>other_sales</th>\n",
       "      <th>critic_score</th>\n",
       "      <th>user_score</th>\n",
       "      <th>rating</th>\n",
       "    </tr>\n",
       "  </thead>\n",
       "  <tbody>\n",
       "  </tbody>\n",
       "</table>\n",
       "</div>"
      ],
      "text/plain": [
       "Empty DataFrame\n",
       "Columns: [name, platform, year_of_release, genre, na_sales, eu_sales, jp_sales, other_sales, critic_score, user_score, rating]\n",
       "Index: []"
      ]
     },
     "execution_count": 12,
     "metadata": {},
     "output_type": "execute_result"
    }
   ],
   "source": [
    "games.loc[games['user_score']=='tbd','user_score'] = np.nan\n",
    "games.loc[games['user_score']=='tbd']"
   ]
  },
  {
   "cell_type": "code",
   "execution_count": 13,
   "metadata": {
    "ExecuteTime": {
     "end_time": "2020-07-12T17:05:55.819208Z",
     "start_time": "2020-07-12T17:05:55.435248Z"
    },
    "scrolled": true
   },
   "outputs": [
    {
     "data": {
      "text/html": [
       "<div>\n",
       "<style scoped>\n",
       "    .dataframe tbody tr th:only-of-type {\n",
       "        vertical-align: middle;\n",
       "    }\n",
       "\n",
       "    .dataframe tbody tr th {\n",
       "        vertical-align: top;\n",
       "    }\n",
       "\n",
       "    .dataframe thead th {\n",
       "        text-align: right;\n",
       "    }\n",
       "</style>\n",
       "<table border=\"1\" class=\"dataframe\">\n",
       "  <thead>\n",
       "    <tr style=\"text-align: right;\">\n",
       "      <th></th>\n",
       "      <th>name</th>\n",
       "      <th>platform</th>\n",
       "      <th>year_of_release</th>\n",
       "      <th>genre</th>\n",
       "      <th>na_sales</th>\n",
       "      <th>eu_sales</th>\n",
       "      <th>jp_sales</th>\n",
       "      <th>other_sales</th>\n",
       "      <th>critic_score</th>\n",
       "      <th>user_score</th>\n",
       "      <th>rating</th>\n",
       "    </tr>\n",
       "  </thead>\n",
       "  <tbody>\n",
       "  </tbody>\n",
       "</table>\n",
       "</div>"
      ],
      "text/plain": [
       "Empty DataFrame\n",
       "Columns: [name, platform, year_of_release, genre, na_sales, eu_sales, jp_sales, other_sales, critic_score, user_score, rating]\n",
       "Index: []"
      ]
     },
     "execution_count": 13,
     "metadata": {},
     "output_type": "execute_result"
    }
   ],
   "source": [
    "games.loc[games['rating']=='RP','rating'] = np.nan\n",
    "games.loc[games['rating']=='RP']"
   ]
  },
  {
   "cell_type": "code",
   "execution_count": 14,
   "metadata": {
    "ExecuteTime": {
     "end_time": "2020-07-12T17:05:56.192207Z",
     "start_time": "2020-07-12T17:05:55.821210Z"
    },
    "scrolled": true
   },
   "outputs": [
    {
     "data": {
      "text/html": [
       "<div>\n",
       "<style scoped>\n",
       "    .dataframe tbody tr th:only-of-type {\n",
       "        vertical-align: middle;\n",
       "    }\n",
       "\n",
       "    .dataframe tbody tr th {\n",
       "        vertical-align: top;\n",
       "    }\n",
       "\n",
       "    .dataframe thead th {\n",
       "        text-align: right;\n",
       "    }\n",
       "</style>\n",
       "<table border=\"1\" class=\"dataframe\">\n",
       "  <thead>\n",
       "    <tr style=\"text-align: right;\">\n",
       "      <th></th>\n",
       "      <th>name</th>\n",
       "      <th>platform</th>\n",
       "      <th>year_of_release</th>\n",
       "      <th>genre</th>\n",
       "      <th>na_sales</th>\n",
       "      <th>eu_sales</th>\n",
       "      <th>jp_sales</th>\n",
       "      <th>other_sales</th>\n",
       "      <th>critic_score</th>\n",
       "      <th>user_score</th>\n",
       "      <th>rating</th>\n",
       "    </tr>\n",
       "  </thead>\n",
       "  <tbody>\n",
       "  </tbody>\n",
       "</table>\n",
       "</div>"
      ],
      "text/plain": [
       "Empty DataFrame\n",
       "Columns: [name, platform, year_of_release, genre, na_sales, eu_sales, jp_sales, other_sales, critic_score, user_score, rating]\n",
       "Index: []"
      ]
     },
     "execution_count": 14,
     "metadata": {},
     "output_type": "execute_result"
    }
   ],
   "source": [
    "# переименуем рейтинг K-A на E\n",
    "games.loc[games['rating']=='K-A','rating'] = 'E'\n",
    "games.loc[games['rating']=='K-A']"
   ]
  },
  {
   "cell_type": "markdown",
   "metadata": {},
   "source": [
    "Теперь поменяем типы данных.\n",
    "\n",
    "`year_of_release` сделаем целочисленным числом, ноль после запятой явно лишний. \n",
    "`user_score` приведем к одному формату с оценками критиков (умножим на 10) и поменяем формат на целочисленный (как и у оценок критиков)"
   ]
  },
  {
   "cell_type": "code",
   "execution_count": 15,
   "metadata": {
    "ExecuteTime": {
     "end_time": "2020-07-12T17:05:56.250255Z",
     "start_time": "2020-07-12T17:05:56.195210Z"
    },
    "scrolled": true
   },
   "outputs": [
    {
     "data": {
      "text/html": [
       "<div>\n",
       "<style scoped>\n",
       "    .dataframe tbody tr th:only-of-type {\n",
       "        vertical-align: middle;\n",
       "    }\n",
       "\n",
       "    .dataframe tbody tr th {\n",
       "        vertical-align: top;\n",
       "    }\n",
       "\n",
       "    .dataframe thead th {\n",
       "        text-align: right;\n",
       "    }\n",
       "</style>\n",
       "<table border=\"1\" class=\"dataframe\">\n",
       "  <thead>\n",
       "    <tr style=\"text-align: right;\">\n",
       "      <th></th>\n",
       "      <th>name</th>\n",
       "      <th>platform</th>\n",
       "      <th>year_of_release</th>\n",
       "      <th>genre</th>\n",
       "      <th>na_sales</th>\n",
       "      <th>eu_sales</th>\n",
       "      <th>jp_sales</th>\n",
       "      <th>other_sales</th>\n",
       "      <th>critic_score</th>\n",
       "      <th>user_score</th>\n",
       "      <th>rating</th>\n",
       "    </tr>\n",
       "  </thead>\n",
       "  <tbody>\n",
       "    <tr>\n",
       "      <th>1409</th>\n",
       "      <td>Deus Ex: Human Revolution</td>\n",
       "      <td>X360</td>\n",
       "      <td>2011</td>\n",
       "      <td>Shooter</td>\n",
       "      <td>0.76</td>\n",
       "      <td>0.47</td>\n",
       "      <td>0.02</td>\n",
       "      <td>0.12</td>\n",
       "      <td>89</td>\n",
       "      <td>83</td>\n",
       "      <td>M</td>\n",
       "    </tr>\n",
       "    <tr>\n",
       "      <th>1825</th>\n",
       "      <td>Call Of Duty 2: Big Red One</td>\n",
       "      <td>XB</td>\n",
       "      <td>2005</td>\n",
       "      <td>Shooter</td>\n",
       "      <td>0.66</td>\n",
       "      <td>0.40</td>\n",
       "      <td>0.00</td>\n",
       "      <td>0.05</td>\n",
       "      <td>78</td>\n",
       "      <td>51</td>\n",
       "      <td>T</td>\n",
       "    </tr>\n",
       "    <tr>\n",
       "      <th>7177</th>\n",
       "      <td>Dino Stalker</td>\n",
       "      <td>PS2</td>\n",
       "      <td>2002</td>\n",
       "      <td>Shooter</td>\n",
       "      <td>0.07</td>\n",
       "      <td>0.06</td>\n",
       "      <td>0.08</td>\n",
       "      <td>0.02</td>\n",
       "      <td>50</td>\n",
       "      <td>63</td>\n",
       "      <td>M</td>\n",
       "    </tr>\n",
       "  </tbody>\n",
       "</table>\n",
       "</div>"
      ],
      "text/plain": [
       "                             name platform  year_of_release    genre  \\\n",
       "1409    Deus Ex: Human Revolution     X360             2011  Shooter   \n",
       "1825  Call Of Duty 2: Big Red One       XB             2005  Shooter   \n",
       "7177                 Dino Stalker      PS2             2002  Shooter   \n",
       "\n",
       "      na_sales  eu_sales  jp_sales  other_sales  critic_score  user_score  \\\n",
       "1409      0.76      0.47      0.02         0.12            89          83   \n",
       "1825      0.66      0.40      0.00         0.05            78          51   \n",
       "7177      0.07      0.06      0.08         0.02            50          63   \n",
       "\n",
       "     rating  \n",
       "1409      M  \n",
       "1825      T  \n",
       "7177      M  "
      ]
     },
     "execution_count": 15,
     "metadata": {},
     "output_type": "execute_result"
    }
   ],
   "source": [
    "games.year_of_release=games.year_of_release.astype('int64')\n",
    "games.user_score = games.user_score.astype('float64')\n",
    "games.user_score = games.user_score * 10\n",
    "# нужно выбрать именно Int64 с большой буквы, чтобы обработались и пустые значения\n",
    "games.user_score = games.user_score.astype('Int64')\n",
    "games.critic_score = games.critic_score.astype('Int64')\n",
    "games.sample(3)"
   ]
  },
  {
   "cell_type": "code",
   "execution_count": 16,
   "metadata": {
    "ExecuteTime": {
     "end_time": "2020-07-12T17:05:56.290281Z",
     "start_time": "2020-07-12T17:05:56.253257Z"
    },
    "scrolled": true
   },
   "outputs": [
    {
     "data": {
      "text/html": [
       "<div>\n",
       "<style scoped>\n",
       "    .dataframe tbody tr th:only-of-type {\n",
       "        vertical-align: middle;\n",
       "    }\n",
       "\n",
       "    .dataframe tbody tr th {\n",
       "        vertical-align: top;\n",
       "    }\n",
       "\n",
       "    .dataframe thead th {\n",
       "        text-align: right;\n",
       "    }\n",
       "</style>\n",
       "<table border=\"1\" class=\"dataframe\">\n",
       "  <thead>\n",
       "    <tr style=\"text-align: right;\">\n",
       "      <th></th>\n",
       "      <th>name</th>\n",
       "      <th>platform</th>\n",
       "      <th>year_of_release</th>\n",
       "      <th>genre</th>\n",
       "      <th>na_sales</th>\n",
       "      <th>eu_sales</th>\n",
       "      <th>jp_sales</th>\n",
       "      <th>other_sales</th>\n",
       "      <th>total_sales</th>\n",
       "      <th>critic_score</th>\n",
       "      <th>user_score</th>\n",
       "      <th>rating</th>\n",
       "    </tr>\n",
       "  </thead>\n",
       "  <tbody>\n",
       "    <tr>\n",
       "      <th>14590</th>\n",
       "      <td>Tenka-bito</td>\n",
       "      <td>PS2</td>\n",
       "      <td>2006</td>\n",
       "      <td>Strategy</td>\n",
       "      <td>0.00</td>\n",
       "      <td>0.00</td>\n",
       "      <td>0.03</td>\n",
       "      <td>0.0</td>\n",
       "      <td>0.03</td>\n",
       "      <td>&lt;NA&gt;</td>\n",
       "      <td>&lt;NA&gt;</td>\n",
       "      <td>NaN</td>\n",
       "    </tr>\n",
       "    <tr>\n",
       "      <th>16665</th>\n",
       "      <td>Sweet Honey Coming</td>\n",
       "      <td>PS2</td>\n",
       "      <td>2009</td>\n",
       "      <td>Adventure</td>\n",
       "      <td>0.00</td>\n",
       "      <td>0.00</td>\n",
       "      <td>0.01</td>\n",
       "      <td>0.0</td>\n",
       "      <td>0.01</td>\n",
       "      <td>&lt;NA&gt;</td>\n",
       "      <td>&lt;NA&gt;</td>\n",
       "      <td>NaN</td>\n",
       "    </tr>\n",
       "    <tr>\n",
       "      <th>10091</th>\n",
       "      <td>Spy vs Spy</td>\n",
       "      <td>XB</td>\n",
       "      <td>2005</td>\n",
       "      <td>Action</td>\n",
       "      <td>0.08</td>\n",
       "      <td>0.02</td>\n",
       "      <td>0.00</td>\n",
       "      <td>0.0</td>\n",
       "      <td>0.10</td>\n",
       "      <td>53</td>\n",
       "      <td>80</td>\n",
       "      <td>T</td>\n",
       "    </tr>\n",
       "  </tbody>\n",
       "</table>\n",
       "</div>"
      ],
      "text/plain": [
       "                     name platform  year_of_release      genre  na_sales  \\\n",
       "14590          Tenka-bito      PS2             2006   Strategy      0.00   \n",
       "16665  Sweet Honey Coming      PS2             2009  Adventure      0.00   \n",
       "10091          Spy vs Spy       XB             2005     Action      0.08   \n",
       "\n",
       "       eu_sales  jp_sales  other_sales  total_sales  critic_score  user_score  \\\n",
       "14590      0.00      0.03          0.0         0.03          <NA>        <NA>   \n",
       "16665      0.00      0.01          0.0         0.01          <NA>        <NA>   \n",
       "10091      0.02      0.00          0.0         0.10            53          80   \n",
       "\n",
       "      rating  \n",
       "14590    NaN  \n",
       "16665    NaN  \n",
       "10091      T  "
      ]
     },
     "execution_count": 16,
     "metadata": {},
     "output_type": "execute_result"
    }
   ],
   "source": [
    "# добавляю суммарные продажи\n",
    "games.insert(8,'total_sales',games['na_sales'] + games['eu_sales'] + games['jp_sales'] + games['other_sales'])\n",
    "games.sample(3)"
   ]
  },
  {
   "cell_type": "markdown",
   "metadata": {},
   "source": [
    "## Вывод"
   ]
  },
  {
   "cell_type": "markdown",
   "metadata": {},
   "source": [
    "Данные подготовлены для дальнейшего анализа. \n",
    "\n",
    "Название столбцов приведено к нижнему регистру, призведена замена типов данных в годе выпуска,  оценках критиков и пользователей (так же оценки приведены к единому формату), удалены пропуски в годе выпуска, добавлен столбец с общими продажами, объединены два одинаковых по смыслу, но разных по названию рейтинга."
   ]
  },
  {
   "cell_type": "markdown",
   "metadata": {},
   "source": [
    "# Шаг 3. EDA"
   ]
  },
  {
   "cell_type": "markdown",
   "metadata": {},
   "source": [
    "Изучим сколько игр выпускалось в разные годы, и посмотрим на динамику по платформам. Постепенно определимся какой период нам зафиксировать для дальнейшего анализа и какие платформы в этом анализе будут учавствовать.  \n",
    "Для анализа применим знания из изученных спринтов, а так же применим метод crosstab (аналог pivot_table). Начнем с последнего."
   ]
  },
  {
   "cell_type": "code",
   "execution_count": 17,
   "metadata": {
    "ExecuteTime": {
     "end_time": "2020-07-12T17:05:56.506447Z",
     "start_time": "2020-07-12T17:05:56.293282Z"
    }
   },
   "outputs": [
    {
     "data": {
      "text/html": [
       "<div>\n",
       "<style scoped>\n",
       "    .dataframe tbody tr th:only-of-type {\n",
       "        vertical-align: middle;\n",
       "    }\n",
       "\n",
       "    .dataframe tbody tr th {\n",
       "        vertical-align: top;\n",
       "    }\n",
       "\n",
       "    .dataframe thead th {\n",
       "        text-align: right;\n",
       "    }\n",
       "</style>\n",
       "<table border=\"1\" class=\"dataframe\">\n",
       "  <thead>\n",
       "    <tr style=\"text-align: right;\">\n",
       "      <th>year_of_release</th>\n",
       "      <th>1980</th>\n",
       "      <th>1981</th>\n",
       "      <th>1982</th>\n",
       "      <th>1983</th>\n",
       "      <th>1984</th>\n",
       "      <th>1985</th>\n",
       "      <th>1986</th>\n",
       "      <th>1987</th>\n",
       "      <th>1988</th>\n",
       "      <th>1989</th>\n",
       "      <th>1990</th>\n",
       "      <th>1991</th>\n",
       "      <th>1992</th>\n",
       "      <th>1993</th>\n",
       "      <th>1994</th>\n",
       "      <th>1995</th>\n",
       "      <th>1996</th>\n",
       "      <th>1997</th>\n",
       "      <th>1998</th>\n",
       "      <th>1999</th>\n",
       "      <th>2000</th>\n",
       "      <th>2001</th>\n",
       "      <th>2002</th>\n",
       "      <th>2003</th>\n",
       "      <th>2004</th>\n",
       "      <th>2005</th>\n",
       "      <th>2006</th>\n",
       "      <th>2007</th>\n",
       "      <th>2008</th>\n",
       "      <th>2009</th>\n",
       "      <th>2010</th>\n",
       "      <th>2011</th>\n",
       "      <th>2012</th>\n",
       "      <th>2013</th>\n",
       "      <th>2014</th>\n",
       "      <th>2015</th>\n",
       "      <th>2016</th>\n",
       "      <th>Total</th>\n",
       "    </tr>\n",
       "    <tr>\n",
       "      <th>platform</th>\n",
       "      <th></th>\n",
       "      <th></th>\n",
       "      <th></th>\n",
       "      <th></th>\n",
       "      <th></th>\n",
       "      <th></th>\n",
       "      <th></th>\n",
       "      <th></th>\n",
       "      <th></th>\n",
       "      <th></th>\n",
       "      <th></th>\n",
       "      <th></th>\n",
       "      <th></th>\n",
       "      <th></th>\n",
       "      <th></th>\n",
       "      <th></th>\n",
       "      <th></th>\n",
       "      <th></th>\n",
       "      <th></th>\n",
       "      <th></th>\n",
       "      <th></th>\n",
       "      <th></th>\n",
       "      <th></th>\n",
       "      <th></th>\n",
       "      <th></th>\n",
       "      <th></th>\n",
       "      <th></th>\n",
       "      <th></th>\n",
       "      <th></th>\n",
       "      <th></th>\n",
       "      <th></th>\n",
       "      <th></th>\n",
       "      <th></th>\n",
       "      <th></th>\n",
       "      <th></th>\n",
       "      <th></th>\n",
       "      <th></th>\n",
       "      <th></th>\n",
       "    </tr>\n",
       "  </thead>\n",
       "  <tbody>\n",
       "    <tr>\n",
       "      <th>2600</th>\n",
       "      <td>9</td>\n",
       "      <td>46</td>\n",
       "      <td>36</td>\n",
       "      <td>11</td>\n",
       "      <td>1</td>\n",
       "      <td>1</td>\n",
       "      <td>2</td>\n",
       "      <td>6</td>\n",
       "      <td>2</td>\n",
       "      <td>2</td>\n",
       "      <td>0</td>\n",
       "      <td>0</td>\n",
       "      <td>0</td>\n",
       "      <td>0</td>\n",
       "      <td>0</td>\n",
       "      <td>0</td>\n",
       "      <td>0</td>\n",
       "      <td>0</td>\n",
       "      <td>0</td>\n",
       "      <td>0</td>\n",
       "      <td>0</td>\n",
       "      <td>0</td>\n",
       "      <td>0</td>\n",
       "      <td>0</td>\n",
       "      <td>0</td>\n",
       "      <td>0</td>\n",
       "      <td>0</td>\n",
       "      <td>0</td>\n",
       "      <td>0</td>\n",
       "      <td>0</td>\n",
       "      <td>0</td>\n",
       "      <td>0</td>\n",
       "      <td>0</td>\n",
       "      <td>0</td>\n",
       "      <td>0</td>\n",
       "      <td>0</td>\n",
       "      <td>0</td>\n",
       "      <td>116</td>\n",
       "    </tr>\n",
       "    <tr>\n",
       "      <th>3DO</th>\n",
       "      <td>0</td>\n",
       "      <td>0</td>\n",
       "      <td>0</td>\n",
       "      <td>0</td>\n",
       "      <td>0</td>\n",
       "      <td>0</td>\n",
       "      <td>0</td>\n",
       "      <td>0</td>\n",
       "      <td>0</td>\n",
       "      <td>0</td>\n",
       "      <td>0</td>\n",
       "      <td>0</td>\n",
       "      <td>0</td>\n",
       "      <td>0</td>\n",
       "      <td>1</td>\n",
       "      <td>2</td>\n",
       "      <td>0</td>\n",
       "      <td>0</td>\n",
       "      <td>0</td>\n",
       "      <td>0</td>\n",
       "      <td>0</td>\n",
       "      <td>0</td>\n",
       "      <td>0</td>\n",
       "      <td>0</td>\n",
       "      <td>0</td>\n",
       "      <td>0</td>\n",
       "      <td>0</td>\n",
       "      <td>0</td>\n",
       "      <td>0</td>\n",
       "      <td>0</td>\n",
       "      <td>0</td>\n",
       "      <td>0</td>\n",
       "      <td>0</td>\n",
       "      <td>0</td>\n",
       "      <td>0</td>\n",
       "      <td>0</td>\n",
       "      <td>0</td>\n",
       "      <td>3</td>\n",
       "    </tr>\n",
       "    <tr>\n",
       "      <th>3DS</th>\n",
       "      <td>0</td>\n",
       "      <td>0</td>\n",
       "      <td>0</td>\n",
       "      <td>0</td>\n",
       "      <td>0</td>\n",
       "      <td>0</td>\n",
       "      <td>0</td>\n",
       "      <td>0</td>\n",
       "      <td>0</td>\n",
       "      <td>0</td>\n",
       "      <td>0</td>\n",
       "      <td>0</td>\n",
       "      <td>0</td>\n",
       "      <td>0</td>\n",
       "      <td>0</td>\n",
       "      <td>0</td>\n",
       "      <td>0</td>\n",
       "      <td>0</td>\n",
       "      <td>0</td>\n",
       "      <td>0</td>\n",
       "      <td>0</td>\n",
       "      <td>0</td>\n",
       "      <td>0</td>\n",
       "      <td>0</td>\n",
       "      <td>0</td>\n",
       "      <td>0</td>\n",
       "      <td>0</td>\n",
       "      <td>0</td>\n",
       "      <td>0</td>\n",
       "      <td>0</td>\n",
       "      <td>0</td>\n",
       "      <td>116</td>\n",
       "      <td>93</td>\n",
       "      <td>91</td>\n",
       "      <td>80</td>\n",
       "      <td>86</td>\n",
       "      <td>46</td>\n",
       "      <td>512</td>\n",
       "    </tr>\n",
       "    <tr>\n",
       "      <th>DC</th>\n",
       "      <td>0</td>\n",
       "      <td>0</td>\n",
       "      <td>0</td>\n",
       "      <td>0</td>\n",
       "      <td>0</td>\n",
       "      <td>0</td>\n",
       "      <td>0</td>\n",
       "      <td>0</td>\n",
       "      <td>0</td>\n",
       "      <td>0</td>\n",
       "      <td>0</td>\n",
       "      <td>0</td>\n",
       "      <td>0</td>\n",
       "      <td>0</td>\n",
       "      <td>0</td>\n",
       "      <td>0</td>\n",
       "      <td>0</td>\n",
       "      <td>0</td>\n",
       "      <td>7</td>\n",
       "      <td>14</td>\n",
       "      <td>20</td>\n",
       "      <td>8</td>\n",
       "      <td>1</td>\n",
       "      <td>0</td>\n",
       "      <td>0</td>\n",
       "      <td>0</td>\n",
       "      <td>0</td>\n",
       "      <td>1</td>\n",
       "      <td>1</td>\n",
       "      <td>0</td>\n",
       "      <td>0</td>\n",
       "      <td>0</td>\n",
       "      <td>0</td>\n",
       "      <td>0</td>\n",
       "      <td>0</td>\n",
       "      <td>0</td>\n",
       "      <td>0</td>\n",
       "      <td>52</td>\n",
       "    </tr>\n",
       "    <tr>\n",
       "      <th>DS</th>\n",
       "      <td>0</td>\n",
       "      <td>0</td>\n",
       "      <td>0</td>\n",
       "      <td>0</td>\n",
       "      <td>0</td>\n",
       "      <td>1</td>\n",
       "      <td>0</td>\n",
       "      <td>0</td>\n",
       "      <td>0</td>\n",
       "      <td>0</td>\n",
       "      <td>0</td>\n",
       "      <td>0</td>\n",
       "      <td>0</td>\n",
       "      <td>0</td>\n",
       "      <td>0</td>\n",
       "      <td>0</td>\n",
       "      <td>0</td>\n",
       "      <td>0</td>\n",
       "      <td>0</td>\n",
       "      <td>0</td>\n",
       "      <td>0</td>\n",
       "      <td>0</td>\n",
       "      <td>0</td>\n",
       "      <td>0</td>\n",
       "      <td>23</td>\n",
       "      <td>118</td>\n",
       "      <td>201</td>\n",
       "      <td>376</td>\n",
       "      <td>492</td>\n",
       "      <td>403</td>\n",
       "      <td>323</td>\n",
       "      <td>153</td>\n",
       "      <td>23</td>\n",
       "      <td>8</td>\n",
       "      <td>0</td>\n",
       "      <td>0</td>\n",
       "      <td>0</td>\n",
       "      <td>2121</td>\n",
       "    </tr>\n",
       "    <tr>\n",
       "      <th>GB</th>\n",
       "      <td>0</td>\n",
       "      <td>0</td>\n",
       "      <td>0</td>\n",
       "      <td>0</td>\n",
       "      <td>0</td>\n",
       "      <td>0</td>\n",
       "      <td>0</td>\n",
       "      <td>0</td>\n",
       "      <td>1</td>\n",
       "      <td>10</td>\n",
       "      <td>3</td>\n",
       "      <td>9</td>\n",
       "      <td>7</td>\n",
       "      <td>0</td>\n",
       "      <td>3</td>\n",
       "      <td>4</td>\n",
       "      <td>6</td>\n",
       "      <td>8</td>\n",
       "      <td>8</td>\n",
       "      <td>11</td>\n",
       "      <td>17</td>\n",
       "      <td>10</td>\n",
       "      <td>0</td>\n",
       "      <td>0</td>\n",
       "      <td>0</td>\n",
       "      <td>0</td>\n",
       "      <td>0</td>\n",
       "      <td>0</td>\n",
       "      <td>0</td>\n",
       "      <td>0</td>\n",
       "      <td>0</td>\n",
       "      <td>0</td>\n",
       "      <td>0</td>\n",
       "      <td>0</td>\n",
       "      <td>0</td>\n",
       "      <td>0</td>\n",
       "      <td>0</td>\n",
       "      <td>97</td>\n",
       "    </tr>\n",
       "    <tr>\n",
       "      <th>GBA</th>\n",
       "      <td>0</td>\n",
       "      <td>0</td>\n",
       "      <td>0</td>\n",
       "      <td>0</td>\n",
       "      <td>0</td>\n",
       "      <td>0</td>\n",
       "      <td>0</td>\n",
       "      <td>0</td>\n",
       "      <td>0</td>\n",
       "      <td>0</td>\n",
       "      <td>0</td>\n",
       "      <td>0</td>\n",
       "      <td>0</td>\n",
       "      <td>0</td>\n",
       "      <td>0</td>\n",
       "      <td>0</td>\n",
       "      <td>0</td>\n",
       "      <td>0</td>\n",
       "      <td>0</td>\n",
       "      <td>0</td>\n",
       "      <td>1</td>\n",
       "      <td>107</td>\n",
       "      <td>198</td>\n",
       "      <td>150</td>\n",
       "      <td>175</td>\n",
       "      <td>135</td>\n",
       "      <td>39</td>\n",
       "      <td>6</td>\n",
       "      <td>0</td>\n",
       "      <td>0</td>\n",
       "      <td>0</td>\n",
       "      <td>0</td>\n",
       "      <td>0</td>\n",
       "      <td>0</td>\n",
       "      <td>0</td>\n",
       "      <td>0</td>\n",
       "      <td>0</td>\n",
       "      <td>811</td>\n",
       "    </tr>\n",
       "    <tr>\n",
       "      <th>GC</th>\n",
       "      <td>0</td>\n",
       "      <td>0</td>\n",
       "      <td>0</td>\n",
       "      <td>0</td>\n",
       "      <td>0</td>\n",
       "      <td>0</td>\n",
       "      <td>0</td>\n",
       "      <td>0</td>\n",
       "      <td>0</td>\n",
       "      <td>0</td>\n",
       "      <td>0</td>\n",
       "      <td>0</td>\n",
       "      <td>0</td>\n",
       "      <td>0</td>\n",
       "      <td>0</td>\n",
       "      <td>0</td>\n",
       "      <td>0</td>\n",
       "      <td>0</td>\n",
       "      <td>0</td>\n",
       "      <td>0</td>\n",
       "      <td>0</td>\n",
       "      <td>22</td>\n",
       "      <td>152</td>\n",
       "      <td>144</td>\n",
       "      <td>83</td>\n",
       "      <td>97</td>\n",
       "      <td>40</td>\n",
       "      <td>4</td>\n",
       "      <td>0</td>\n",
       "      <td>0</td>\n",
       "      <td>0</td>\n",
       "      <td>0</td>\n",
       "      <td>0</td>\n",
       "      <td>0</td>\n",
       "      <td>0</td>\n",
       "      <td>0</td>\n",
       "      <td>0</td>\n",
       "      <td>542</td>\n",
       "    </tr>\n",
       "    <tr>\n",
       "      <th>GEN</th>\n",
       "      <td>0</td>\n",
       "      <td>0</td>\n",
       "      <td>0</td>\n",
       "      <td>0</td>\n",
       "      <td>0</td>\n",
       "      <td>0</td>\n",
       "      <td>0</td>\n",
       "      <td>0</td>\n",
       "      <td>0</td>\n",
       "      <td>0</td>\n",
       "      <td>1</td>\n",
       "      <td>1</td>\n",
       "      <td>6</td>\n",
       "      <td>7</td>\n",
       "      <td>12</td>\n",
       "      <td>0</td>\n",
       "      <td>0</td>\n",
       "      <td>0</td>\n",
       "      <td>0</td>\n",
       "      <td>0</td>\n",
       "      <td>0</td>\n",
       "      <td>0</td>\n",
       "      <td>0</td>\n",
       "      <td>0</td>\n",
       "      <td>0</td>\n",
       "      <td>0</td>\n",
       "      <td>0</td>\n",
       "      <td>0</td>\n",
       "      <td>0</td>\n",
       "      <td>0</td>\n",
       "      <td>0</td>\n",
       "      <td>0</td>\n",
       "      <td>0</td>\n",
       "      <td>0</td>\n",
       "      <td>0</td>\n",
       "      <td>0</td>\n",
       "      <td>0</td>\n",
       "      <td>27</td>\n",
       "    </tr>\n",
       "    <tr>\n",
       "      <th>GG</th>\n",
       "      <td>0</td>\n",
       "      <td>0</td>\n",
       "      <td>0</td>\n",
       "      <td>0</td>\n",
       "      <td>0</td>\n",
       "      <td>0</td>\n",
       "      <td>0</td>\n",
       "      <td>0</td>\n",
       "      <td>0</td>\n",
       "      <td>0</td>\n",
       "      <td>0</td>\n",
       "      <td>0</td>\n",
       "      <td>1</td>\n",
       "      <td>0</td>\n",
       "      <td>0</td>\n",
       "      <td>0</td>\n",
       "      <td>0</td>\n",
       "      <td>0</td>\n",
       "      <td>0</td>\n",
       "      <td>0</td>\n",
       "      <td>0</td>\n",
       "      <td>0</td>\n",
       "      <td>0</td>\n",
       "      <td>0</td>\n",
       "      <td>0</td>\n",
       "      <td>0</td>\n",
       "      <td>0</td>\n",
       "      <td>0</td>\n",
       "      <td>0</td>\n",
       "      <td>0</td>\n",
       "      <td>0</td>\n",
       "      <td>0</td>\n",
       "      <td>0</td>\n",
       "      <td>0</td>\n",
       "      <td>0</td>\n",
       "      <td>0</td>\n",
       "      <td>0</td>\n",
       "      <td>1</td>\n",
       "    </tr>\n",
       "    <tr>\n",
       "      <th>N64</th>\n",
       "      <td>0</td>\n",
       "      <td>0</td>\n",
       "      <td>0</td>\n",
       "      <td>0</td>\n",
       "      <td>0</td>\n",
       "      <td>0</td>\n",
       "      <td>0</td>\n",
       "      <td>0</td>\n",
       "      <td>0</td>\n",
       "      <td>0</td>\n",
       "      <td>0</td>\n",
       "      <td>0</td>\n",
       "      <td>0</td>\n",
       "      <td>0</td>\n",
       "      <td>0</td>\n",
       "      <td>0</td>\n",
       "      <td>18</td>\n",
       "      <td>49</td>\n",
       "      <td>77</td>\n",
       "      <td>102</td>\n",
       "      <td>60</td>\n",
       "      <td>9</td>\n",
       "      <td>1</td>\n",
       "      <td>0</td>\n",
       "      <td>0</td>\n",
       "      <td>0</td>\n",
       "      <td>0</td>\n",
       "      <td>0</td>\n",
       "      <td>0</td>\n",
       "      <td>0</td>\n",
       "      <td>0</td>\n",
       "      <td>0</td>\n",
       "      <td>0</td>\n",
       "      <td>0</td>\n",
       "      <td>0</td>\n",
       "      <td>0</td>\n",
       "      <td>0</td>\n",
       "      <td>316</td>\n",
       "    </tr>\n",
       "    <tr>\n",
       "      <th>NES</th>\n",
       "      <td>0</td>\n",
       "      <td>0</td>\n",
       "      <td>0</td>\n",
       "      <td>6</td>\n",
       "      <td>13</td>\n",
       "      <td>11</td>\n",
       "      <td>19</td>\n",
       "      <td>10</td>\n",
       "      <td>11</td>\n",
       "      <td>5</td>\n",
       "      <td>8</td>\n",
       "      <td>7</td>\n",
       "      <td>3</td>\n",
       "      <td>4</td>\n",
       "      <td>1</td>\n",
       "      <td>0</td>\n",
       "      <td>0</td>\n",
       "      <td>0</td>\n",
       "      <td>0</td>\n",
       "      <td>0</td>\n",
       "      <td>0</td>\n",
       "      <td>0</td>\n",
       "      <td>0</td>\n",
       "      <td>0</td>\n",
       "      <td>0</td>\n",
       "      <td>0</td>\n",
       "      <td>0</td>\n",
       "      <td>0</td>\n",
       "      <td>0</td>\n",
       "      <td>0</td>\n",
       "      <td>0</td>\n",
       "      <td>0</td>\n",
       "      <td>0</td>\n",
       "      <td>0</td>\n",
       "      <td>0</td>\n",
       "      <td>0</td>\n",
       "      <td>0</td>\n",
       "      <td>98</td>\n",
       "    </tr>\n",
       "    <tr>\n",
       "      <th>NG</th>\n",
       "      <td>0</td>\n",
       "      <td>0</td>\n",
       "      <td>0</td>\n",
       "      <td>0</td>\n",
       "      <td>0</td>\n",
       "      <td>0</td>\n",
       "      <td>0</td>\n",
       "      <td>0</td>\n",
       "      <td>0</td>\n",
       "      <td>0</td>\n",
       "      <td>0</td>\n",
       "      <td>0</td>\n",
       "      <td>0</td>\n",
       "      <td>2</td>\n",
       "      <td>4</td>\n",
       "      <td>4</td>\n",
       "      <td>2</td>\n",
       "      <td>0</td>\n",
       "      <td>0</td>\n",
       "      <td>0</td>\n",
       "      <td>0</td>\n",
       "      <td>0</td>\n",
       "      <td>0</td>\n",
       "      <td>0</td>\n",
       "      <td>0</td>\n",
       "      <td>0</td>\n",
       "      <td>0</td>\n",
       "      <td>0</td>\n",
       "      <td>0</td>\n",
       "      <td>0</td>\n",
       "      <td>0</td>\n",
       "      <td>0</td>\n",
       "      <td>0</td>\n",
       "      <td>0</td>\n",
       "      <td>0</td>\n",
       "      <td>0</td>\n",
       "      <td>0</td>\n",
       "      <td>12</td>\n",
       "    </tr>\n",
       "    <tr>\n",
       "      <th>PC</th>\n",
       "      <td>0</td>\n",
       "      <td>0</td>\n",
       "      <td>0</td>\n",
       "      <td>0</td>\n",
       "      <td>0</td>\n",
       "      <td>1</td>\n",
       "      <td>0</td>\n",
       "      <td>0</td>\n",
       "      <td>1</td>\n",
       "      <td>0</td>\n",
       "      <td>0</td>\n",
       "      <td>0</td>\n",
       "      <td>5</td>\n",
       "      <td>0</td>\n",
       "      <td>6</td>\n",
       "      <td>2</td>\n",
       "      <td>4</td>\n",
       "      <td>6</td>\n",
       "      <td>8</td>\n",
       "      <td>7</td>\n",
       "      <td>7</td>\n",
       "      <td>15</td>\n",
       "      <td>19</td>\n",
       "      <td>33</td>\n",
       "      <td>30</td>\n",
       "      <td>37</td>\n",
       "      <td>52</td>\n",
       "      <td>62</td>\n",
       "      <td>76</td>\n",
       "      <td>107</td>\n",
       "      <td>90</td>\n",
       "      <td>139</td>\n",
       "      <td>61</td>\n",
       "      <td>38</td>\n",
       "      <td>47</td>\n",
       "      <td>50</td>\n",
       "      <td>54</td>\n",
       "      <td>957</td>\n",
       "    </tr>\n",
       "    <tr>\n",
       "      <th>PCFX</th>\n",
       "      <td>0</td>\n",
       "      <td>0</td>\n",
       "      <td>0</td>\n",
       "      <td>0</td>\n",
       "      <td>0</td>\n",
       "      <td>0</td>\n",
       "      <td>0</td>\n",
       "      <td>0</td>\n",
       "      <td>0</td>\n",
       "      <td>0</td>\n",
       "      <td>0</td>\n",
       "      <td>0</td>\n",
       "      <td>0</td>\n",
       "      <td>0</td>\n",
       "      <td>0</td>\n",
       "      <td>0</td>\n",
       "      <td>1</td>\n",
       "      <td>0</td>\n",
       "      <td>0</td>\n",
       "      <td>0</td>\n",
       "      <td>0</td>\n",
       "      <td>0</td>\n",
       "      <td>0</td>\n",
       "      <td>0</td>\n",
       "      <td>0</td>\n",
       "      <td>0</td>\n",
       "      <td>0</td>\n",
       "      <td>0</td>\n",
       "      <td>0</td>\n",
       "      <td>0</td>\n",
       "      <td>0</td>\n",
       "      <td>0</td>\n",
       "      <td>0</td>\n",
       "      <td>0</td>\n",
       "      <td>0</td>\n",
       "      <td>0</td>\n",
       "      <td>0</td>\n",
       "      <td>1</td>\n",
       "    </tr>\n",
       "    <tr>\n",
       "      <th>PS</th>\n",
       "      <td>0</td>\n",
       "      <td>0</td>\n",
       "      <td>0</td>\n",
       "      <td>0</td>\n",
       "      <td>0</td>\n",
       "      <td>0</td>\n",
       "      <td>0</td>\n",
       "      <td>0</td>\n",
       "      <td>0</td>\n",
       "      <td>0</td>\n",
       "      <td>0</td>\n",
       "      <td>0</td>\n",
       "      <td>0</td>\n",
       "      <td>0</td>\n",
       "      <td>17</td>\n",
       "      <td>99</td>\n",
       "      <td>164</td>\n",
       "      <td>188</td>\n",
       "      <td>248</td>\n",
       "      <td>200</td>\n",
       "      <td>160</td>\n",
       "      <td>91</td>\n",
       "      <td>20</td>\n",
       "      <td>3</td>\n",
       "      <td>0</td>\n",
       "      <td>0</td>\n",
       "      <td>0</td>\n",
       "      <td>0</td>\n",
       "      <td>0</td>\n",
       "      <td>0</td>\n",
       "      <td>0</td>\n",
       "      <td>0</td>\n",
       "      <td>0</td>\n",
       "      <td>0</td>\n",
       "      <td>0</td>\n",
       "      <td>0</td>\n",
       "      <td>0</td>\n",
       "      <td>1190</td>\n",
       "    </tr>\n",
       "    <tr>\n",
       "      <th>PS2</th>\n",
       "      <td>0</td>\n",
       "      <td>0</td>\n",
       "      <td>0</td>\n",
       "      <td>0</td>\n",
       "      <td>0</td>\n",
       "      <td>0</td>\n",
       "      <td>0</td>\n",
       "      <td>0</td>\n",
       "      <td>0</td>\n",
       "      <td>0</td>\n",
       "      <td>0</td>\n",
       "      <td>0</td>\n",
       "      <td>0</td>\n",
       "      <td>0</td>\n",
       "      <td>0</td>\n",
       "      <td>0</td>\n",
       "      <td>0</td>\n",
       "      <td>0</td>\n",
       "      <td>0</td>\n",
       "      <td>0</td>\n",
       "      <td>82</td>\n",
       "      <td>185</td>\n",
       "      <td>280</td>\n",
       "      <td>256</td>\n",
       "      <td>259</td>\n",
       "      <td>260</td>\n",
       "      <td>259</td>\n",
       "      <td>214</td>\n",
       "      <td>191</td>\n",
       "      <td>96</td>\n",
       "      <td>38</td>\n",
       "      <td>7</td>\n",
       "      <td>0</td>\n",
       "      <td>0</td>\n",
       "      <td>0</td>\n",
       "      <td>0</td>\n",
       "      <td>0</td>\n",
       "      <td>2127</td>\n",
       "    </tr>\n",
       "    <tr>\n",
       "      <th>PS3</th>\n",
       "      <td>0</td>\n",
       "      <td>0</td>\n",
       "      <td>0</td>\n",
       "      <td>0</td>\n",
       "      <td>0</td>\n",
       "      <td>0</td>\n",
       "      <td>0</td>\n",
       "      <td>0</td>\n",
       "      <td>0</td>\n",
       "      <td>0</td>\n",
       "      <td>0</td>\n",
       "      <td>0</td>\n",
       "      <td>0</td>\n",
       "      <td>0</td>\n",
       "      <td>0</td>\n",
       "      <td>0</td>\n",
       "      <td>0</td>\n",
       "      <td>0</td>\n",
       "      <td>0</td>\n",
       "      <td>0</td>\n",
       "      <td>0</td>\n",
       "      <td>0</td>\n",
       "      <td>0</td>\n",
       "      <td>0</td>\n",
       "      <td>0</td>\n",
       "      <td>0</td>\n",
       "      <td>27</td>\n",
       "      <td>90</td>\n",
       "      <td>138</td>\n",
       "      <td>162</td>\n",
       "      <td>181</td>\n",
       "      <td>215</td>\n",
       "      <td>148</td>\n",
       "      <td>126</td>\n",
       "      <td>108</td>\n",
       "      <td>73</td>\n",
       "      <td>38</td>\n",
       "      <td>1306</td>\n",
       "    </tr>\n",
       "    <tr>\n",
       "      <th>PS4</th>\n",
       "      <td>0</td>\n",
       "      <td>0</td>\n",
       "      <td>0</td>\n",
       "      <td>0</td>\n",
       "      <td>0</td>\n",
       "      <td>0</td>\n",
       "      <td>0</td>\n",
       "      <td>0</td>\n",
       "      <td>0</td>\n",
       "      <td>0</td>\n",
       "      <td>0</td>\n",
       "      <td>0</td>\n",
       "      <td>0</td>\n",
       "      <td>0</td>\n",
       "      <td>0</td>\n",
       "      <td>0</td>\n",
       "      <td>0</td>\n",
       "      <td>0</td>\n",
       "      <td>0</td>\n",
       "      <td>0</td>\n",
       "      <td>0</td>\n",
       "      <td>0</td>\n",
       "      <td>0</td>\n",
       "      <td>0</td>\n",
       "      <td>0</td>\n",
       "      <td>0</td>\n",
       "      <td>0</td>\n",
       "      <td>0</td>\n",
       "      <td>0</td>\n",
       "      <td>0</td>\n",
       "      <td>0</td>\n",
       "      <td>0</td>\n",
       "      <td>0</td>\n",
       "      <td>16</td>\n",
       "      <td>75</td>\n",
       "      <td>137</td>\n",
       "      <td>164</td>\n",
       "      <td>392</td>\n",
       "    </tr>\n",
       "    <tr>\n",
       "      <th>PSP</th>\n",
       "      <td>0</td>\n",
       "      <td>0</td>\n",
       "      <td>0</td>\n",
       "      <td>0</td>\n",
       "      <td>0</td>\n",
       "      <td>0</td>\n",
       "      <td>0</td>\n",
       "      <td>0</td>\n",
       "      <td>0</td>\n",
       "      <td>0</td>\n",
       "      <td>0</td>\n",
       "      <td>0</td>\n",
       "      <td>0</td>\n",
       "      <td>0</td>\n",
       "      <td>0</td>\n",
       "      <td>0</td>\n",
       "      <td>0</td>\n",
       "      <td>0</td>\n",
       "      <td>0</td>\n",
       "      <td>0</td>\n",
       "      <td>0</td>\n",
       "      <td>0</td>\n",
       "      <td>0</td>\n",
       "      <td>0</td>\n",
       "      <td>15</td>\n",
       "      <td>95</td>\n",
       "      <td>189</td>\n",
       "      <td>133</td>\n",
       "      <td>100</td>\n",
       "      <td>161</td>\n",
       "      <td>188</td>\n",
       "      <td>139</td>\n",
       "      <td>106</td>\n",
       "      <td>54</td>\n",
       "      <td>10</td>\n",
       "      <td>3</td>\n",
       "      <td>0</td>\n",
       "      <td>1193</td>\n",
       "    </tr>\n",
       "    <tr>\n",
       "      <th>PSV</th>\n",
       "      <td>0</td>\n",
       "      <td>0</td>\n",
       "      <td>0</td>\n",
       "      <td>0</td>\n",
       "      <td>0</td>\n",
       "      <td>0</td>\n",
       "      <td>0</td>\n",
       "      <td>0</td>\n",
       "      <td>0</td>\n",
       "      <td>0</td>\n",
       "      <td>0</td>\n",
       "      <td>0</td>\n",
       "      <td>0</td>\n",
       "      <td>0</td>\n",
       "      <td>0</td>\n",
       "      <td>0</td>\n",
       "      <td>0</td>\n",
       "      <td>0</td>\n",
       "      <td>0</td>\n",
       "      <td>0</td>\n",
       "      <td>0</td>\n",
       "      <td>0</td>\n",
       "      <td>0</td>\n",
       "      <td>0</td>\n",
       "      <td>0</td>\n",
       "      <td>0</td>\n",
       "      <td>0</td>\n",
       "      <td>0</td>\n",
       "      <td>0</td>\n",
       "      <td>0</td>\n",
       "      <td>0</td>\n",
       "      <td>18</td>\n",
       "      <td>53</td>\n",
       "      <td>63</td>\n",
       "      <td>100</td>\n",
       "      <td>110</td>\n",
       "      <td>85</td>\n",
       "      <td>429</td>\n",
       "    </tr>\n",
       "    <tr>\n",
       "      <th>SAT</th>\n",
       "      <td>0</td>\n",
       "      <td>0</td>\n",
       "      <td>0</td>\n",
       "      <td>0</td>\n",
       "      <td>0</td>\n",
       "      <td>0</td>\n",
       "      <td>0</td>\n",
       "      <td>0</td>\n",
       "      <td>0</td>\n",
       "      <td>0</td>\n",
       "      <td>0</td>\n",
       "      <td>0</td>\n",
       "      <td>0</td>\n",
       "      <td>0</td>\n",
       "      <td>19</td>\n",
       "      <td>52</td>\n",
       "      <td>38</td>\n",
       "      <td>34</td>\n",
       "      <td>29</td>\n",
       "      <td>1</td>\n",
       "      <td>0</td>\n",
       "      <td>0</td>\n",
       "      <td>0</td>\n",
       "      <td>0</td>\n",
       "      <td>0</td>\n",
       "      <td>0</td>\n",
       "      <td>0</td>\n",
       "      <td>0</td>\n",
       "      <td>0</td>\n",
       "      <td>0</td>\n",
       "      <td>0</td>\n",
       "      <td>0</td>\n",
       "      <td>0</td>\n",
       "      <td>0</td>\n",
       "      <td>0</td>\n",
       "      <td>0</td>\n",
       "      <td>0</td>\n",
       "      <td>173</td>\n",
       "    </tr>\n",
       "    <tr>\n",
       "      <th>SCD</th>\n",
       "      <td>0</td>\n",
       "      <td>0</td>\n",
       "      <td>0</td>\n",
       "      <td>0</td>\n",
       "      <td>0</td>\n",
       "      <td>0</td>\n",
       "      <td>0</td>\n",
       "      <td>0</td>\n",
       "      <td>0</td>\n",
       "      <td>0</td>\n",
       "      <td>0</td>\n",
       "      <td>0</td>\n",
       "      <td>0</td>\n",
       "      <td>1</td>\n",
       "      <td>5</td>\n",
       "      <td>0</td>\n",
       "      <td>0</td>\n",
       "      <td>0</td>\n",
       "      <td>0</td>\n",
       "      <td>0</td>\n",
       "      <td>0</td>\n",
       "      <td>0</td>\n",
       "      <td>0</td>\n",
       "      <td>0</td>\n",
       "      <td>0</td>\n",
       "      <td>0</td>\n",
       "      <td>0</td>\n",
       "      <td>0</td>\n",
       "      <td>0</td>\n",
       "      <td>0</td>\n",
       "      <td>0</td>\n",
       "      <td>0</td>\n",
       "      <td>0</td>\n",
       "      <td>0</td>\n",
       "      <td>0</td>\n",
       "      <td>0</td>\n",
       "      <td>0</td>\n",
       "      <td>6</td>\n",
       "    </tr>\n",
       "    <tr>\n",
       "      <th>SNES</th>\n",
       "      <td>0</td>\n",
       "      <td>0</td>\n",
       "      <td>0</td>\n",
       "      <td>0</td>\n",
       "      <td>0</td>\n",
       "      <td>0</td>\n",
       "      <td>0</td>\n",
       "      <td>0</td>\n",
       "      <td>0</td>\n",
       "      <td>0</td>\n",
       "      <td>4</td>\n",
       "      <td>24</td>\n",
       "      <td>21</td>\n",
       "      <td>46</td>\n",
       "      <td>53</td>\n",
       "      <td>54</td>\n",
       "      <td>30</td>\n",
       "      <td>4</td>\n",
       "      <td>2</td>\n",
       "      <td>1</td>\n",
       "      <td>0</td>\n",
       "      <td>0</td>\n",
       "      <td>0</td>\n",
       "      <td>0</td>\n",
       "      <td>0</td>\n",
       "      <td>0</td>\n",
       "      <td>0</td>\n",
       "      <td>0</td>\n",
       "      <td>0</td>\n",
       "      <td>0</td>\n",
       "      <td>0</td>\n",
       "      <td>0</td>\n",
       "      <td>0</td>\n",
       "      <td>0</td>\n",
       "      <td>0</td>\n",
       "      <td>0</td>\n",
       "      <td>0</td>\n",
       "      <td>239</td>\n",
       "    </tr>\n",
       "    <tr>\n",
       "      <th>TG16</th>\n",
       "      <td>0</td>\n",
       "      <td>0</td>\n",
       "      <td>0</td>\n",
       "      <td>0</td>\n",
       "      <td>0</td>\n",
       "      <td>0</td>\n",
       "      <td>0</td>\n",
       "      <td>0</td>\n",
       "      <td>0</td>\n",
       "      <td>0</td>\n",
       "      <td>0</td>\n",
       "      <td>0</td>\n",
       "      <td>0</td>\n",
       "      <td>0</td>\n",
       "      <td>0</td>\n",
       "      <td>2</td>\n",
       "      <td>0</td>\n",
       "      <td>0</td>\n",
       "      <td>0</td>\n",
       "      <td>0</td>\n",
       "      <td>0</td>\n",
       "      <td>0</td>\n",
       "      <td>0</td>\n",
       "      <td>0</td>\n",
       "      <td>0</td>\n",
       "      <td>0</td>\n",
       "      <td>0</td>\n",
       "      <td>0</td>\n",
       "      <td>0</td>\n",
       "      <td>0</td>\n",
       "      <td>0</td>\n",
       "      <td>0</td>\n",
       "      <td>0</td>\n",
       "      <td>0</td>\n",
       "      <td>0</td>\n",
       "      <td>0</td>\n",
       "      <td>0</td>\n",
       "      <td>2</td>\n",
       "    </tr>\n",
       "    <tr>\n",
       "      <th>WS</th>\n",
       "      <td>0</td>\n",
       "      <td>0</td>\n",
       "      <td>0</td>\n",
       "      <td>0</td>\n",
       "      <td>0</td>\n",
       "      <td>0</td>\n",
       "      <td>0</td>\n",
       "      <td>0</td>\n",
       "      <td>0</td>\n",
       "      <td>0</td>\n",
       "      <td>0</td>\n",
       "      <td>0</td>\n",
       "      <td>0</td>\n",
       "      <td>0</td>\n",
       "      <td>0</td>\n",
       "      <td>0</td>\n",
       "      <td>0</td>\n",
       "      <td>0</td>\n",
       "      <td>0</td>\n",
       "      <td>2</td>\n",
       "      <td>2</td>\n",
       "      <td>2</td>\n",
       "      <td>0</td>\n",
       "      <td>0</td>\n",
       "      <td>0</td>\n",
       "      <td>0</td>\n",
       "      <td>0</td>\n",
       "      <td>0</td>\n",
       "      <td>0</td>\n",
       "      <td>0</td>\n",
       "      <td>0</td>\n",
       "      <td>0</td>\n",
       "      <td>0</td>\n",
       "      <td>0</td>\n",
       "      <td>0</td>\n",
       "      <td>0</td>\n",
       "      <td>0</td>\n",
       "      <td>6</td>\n",
       "    </tr>\n",
       "    <tr>\n",
       "      <th>Wii</th>\n",
       "      <td>0</td>\n",
       "      <td>0</td>\n",
       "      <td>0</td>\n",
       "      <td>0</td>\n",
       "      <td>0</td>\n",
       "      <td>0</td>\n",
       "      <td>0</td>\n",
       "      <td>0</td>\n",
       "      <td>0</td>\n",
       "      <td>0</td>\n",
       "      <td>0</td>\n",
       "      <td>0</td>\n",
       "      <td>0</td>\n",
       "      <td>0</td>\n",
       "      <td>0</td>\n",
       "      <td>0</td>\n",
       "      <td>0</td>\n",
       "      <td>0</td>\n",
       "      <td>0</td>\n",
       "      <td>0</td>\n",
       "      <td>0</td>\n",
       "      <td>0</td>\n",
       "      <td>0</td>\n",
       "      <td>0</td>\n",
       "      <td>0</td>\n",
       "      <td>0</td>\n",
       "      <td>44</td>\n",
       "      <td>185</td>\n",
       "      <td>282</td>\n",
       "      <td>325</td>\n",
       "      <td>253</td>\n",
       "      <td>143</td>\n",
       "      <td>31</td>\n",
       "      <td>12</td>\n",
       "      <td>6</td>\n",
       "      <td>4</td>\n",
       "      <td>1</td>\n",
       "      <td>1286</td>\n",
       "    </tr>\n",
       "    <tr>\n",
       "      <th>WiiU</th>\n",
       "      <td>0</td>\n",
       "      <td>0</td>\n",
       "      <td>0</td>\n",
       "      <td>0</td>\n",
       "      <td>0</td>\n",
       "      <td>0</td>\n",
       "      <td>0</td>\n",
       "      <td>0</td>\n",
       "      <td>0</td>\n",
       "      <td>0</td>\n",
       "      <td>0</td>\n",
       "      <td>0</td>\n",
       "      <td>0</td>\n",
       "      <td>0</td>\n",
       "      <td>0</td>\n",
       "      <td>0</td>\n",
       "      <td>0</td>\n",
       "      <td>0</td>\n",
       "      <td>0</td>\n",
       "      <td>0</td>\n",
       "      <td>0</td>\n",
       "      <td>0</td>\n",
       "      <td>0</td>\n",
       "      <td>0</td>\n",
       "      <td>0</td>\n",
       "      <td>0</td>\n",
       "      <td>0</td>\n",
       "      <td>0</td>\n",
       "      <td>0</td>\n",
       "      <td>0</td>\n",
       "      <td>0</td>\n",
       "      <td>0</td>\n",
       "      <td>32</td>\n",
       "      <td>42</td>\n",
       "      <td>31</td>\n",
       "      <td>28</td>\n",
       "      <td>14</td>\n",
       "      <td>147</td>\n",
       "    </tr>\n",
       "    <tr>\n",
       "      <th>X360</th>\n",
       "      <td>0</td>\n",
       "      <td>0</td>\n",
       "      <td>0</td>\n",
       "      <td>0</td>\n",
       "      <td>0</td>\n",
       "      <td>0</td>\n",
       "      <td>0</td>\n",
       "      <td>0</td>\n",
       "      <td>0</td>\n",
       "      <td>0</td>\n",
       "      <td>0</td>\n",
       "      <td>0</td>\n",
       "      <td>0</td>\n",
       "      <td>0</td>\n",
       "      <td>0</td>\n",
       "      <td>0</td>\n",
       "      <td>0</td>\n",
       "      <td>0</td>\n",
       "      <td>0</td>\n",
       "      <td>0</td>\n",
       "      <td>0</td>\n",
       "      <td>0</td>\n",
       "      <td>0</td>\n",
       "      <td>0</td>\n",
       "      <td>0</td>\n",
       "      <td>18</td>\n",
       "      <td>93</td>\n",
       "      <td>123</td>\n",
       "      <td>146</td>\n",
       "      <td>172</td>\n",
       "      <td>182</td>\n",
       "      <td>206</td>\n",
       "      <td>106</td>\n",
       "      <td>75</td>\n",
       "      <td>63</td>\n",
       "      <td>35</td>\n",
       "      <td>13</td>\n",
       "      <td>1232</td>\n",
       "    </tr>\n",
       "    <tr>\n",
       "      <th>XB</th>\n",
       "      <td>0</td>\n",
       "      <td>0</td>\n",
       "      <td>0</td>\n",
       "      <td>0</td>\n",
       "      <td>0</td>\n",
       "      <td>0</td>\n",
       "      <td>0</td>\n",
       "      <td>0</td>\n",
       "      <td>0</td>\n",
       "      <td>0</td>\n",
       "      <td>0</td>\n",
       "      <td>0</td>\n",
       "      <td>0</td>\n",
       "      <td>0</td>\n",
       "      <td>0</td>\n",
       "      <td>0</td>\n",
       "      <td>0</td>\n",
       "      <td>0</td>\n",
       "      <td>0</td>\n",
       "      <td>0</td>\n",
       "      <td>1</td>\n",
       "      <td>33</td>\n",
       "      <td>158</td>\n",
       "      <td>189</td>\n",
       "      <td>177</td>\n",
       "      <td>179</td>\n",
       "      <td>62</td>\n",
       "      <td>3</td>\n",
       "      <td>1</td>\n",
       "      <td>0</td>\n",
       "      <td>0</td>\n",
       "      <td>0</td>\n",
       "      <td>0</td>\n",
       "      <td>0</td>\n",
       "      <td>0</td>\n",
       "      <td>0</td>\n",
       "      <td>0</td>\n",
       "      <td>803</td>\n",
       "    </tr>\n",
       "    <tr>\n",
       "      <th>XOne</th>\n",
       "      <td>0</td>\n",
       "      <td>0</td>\n",
       "      <td>0</td>\n",
       "      <td>0</td>\n",
       "      <td>0</td>\n",
       "      <td>0</td>\n",
       "      <td>0</td>\n",
       "      <td>0</td>\n",
       "      <td>0</td>\n",
       "      <td>0</td>\n",
       "      <td>0</td>\n",
       "      <td>0</td>\n",
       "      <td>0</td>\n",
       "      <td>0</td>\n",
       "      <td>0</td>\n",
       "      <td>0</td>\n",
       "      <td>0</td>\n",
       "      <td>0</td>\n",
       "      <td>0</td>\n",
       "      <td>0</td>\n",
       "      <td>0</td>\n",
       "      <td>0</td>\n",
       "      <td>0</td>\n",
       "      <td>0</td>\n",
       "      <td>0</td>\n",
       "      <td>0</td>\n",
       "      <td>0</td>\n",
       "      <td>0</td>\n",
       "      <td>0</td>\n",
       "      <td>0</td>\n",
       "      <td>0</td>\n",
       "      <td>0</td>\n",
       "      <td>0</td>\n",
       "      <td>19</td>\n",
       "      <td>61</td>\n",
       "      <td>80</td>\n",
       "      <td>87</td>\n",
       "      <td>247</td>\n",
       "    </tr>\n",
       "    <tr>\n",
       "      <th>Total</th>\n",
       "      <td>9</td>\n",
       "      <td>46</td>\n",
       "      <td>36</td>\n",
       "      <td>17</td>\n",
       "      <td>14</td>\n",
       "      <td>14</td>\n",
       "      <td>21</td>\n",
       "      <td>16</td>\n",
       "      <td>15</td>\n",
       "      <td>17</td>\n",
       "      <td>16</td>\n",
       "      <td>41</td>\n",
       "      <td>43</td>\n",
       "      <td>60</td>\n",
       "      <td>121</td>\n",
       "      <td>219</td>\n",
       "      <td>263</td>\n",
       "      <td>289</td>\n",
       "      <td>379</td>\n",
       "      <td>338</td>\n",
       "      <td>350</td>\n",
       "      <td>482</td>\n",
       "      <td>829</td>\n",
       "      <td>775</td>\n",
       "      <td>762</td>\n",
       "      <td>939</td>\n",
       "      <td>1006</td>\n",
       "      <td>1197</td>\n",
       "      <td>1427</td>\n",
       "      <td>1426</td>\n",
       "      <td>1255</td>\n",
       "      <td>1136</td>\n",
       "      <td>653</td>\n",
       "      <td>544</td>\n",
       "      <td>581</td>\n",
       "      <td>606</td>\n",
       "      <td>502</td>\n",
       "      <td>16444</td>\n",
       "    </tr>\n",
       "  </tbody>\n",
       "</table>\n",
       "</div>"
      ],
      "text/plain": [
       "year_of_release  1980  1981  1982  1983  1984  1985  1986  1987  1988  1989  \\\n",
       "platform                                                                      \n",
       "2600                9    46    36    11     1     1     2     6     2     2   \n",
       "3DO                 0     0     0     0     0     0     0     0     0     0   \n",
       "3DS                 0     0     0     0     0     0     0     0     0     0   \n",
       "DC                  0     0     0     0     0     0     0     0     0     0   \n",
       "DS                  0     0     0     0     0     1     0     0     0     0   \n",
       "GB                  0     0     0     0     0     0     0     0     1    10   \n",
       "GBA                 0     0     0     0     0     0     0     0     0     0   \n",
       "GC                  0     0     0     0     0     0     0     0     0     0   \n",
       "GEN                 0     0     0     0     0     0     0     0     0     0   \n",
       "GG                  0     0     0     0     0     0     0     0     0     0   \n",
       "N64                 0     0     0     0     0     0     0     0     0     0   \n",
       "NES                 0     0     0     6    13    11    19    10    11     5   \n",
       "NG                  0     0     0     0     0     0     0     0     0     0   \n",
       "PC                  0     0     0     0     0     1     0     0     1     0   \n",
       "PCFX                0     0     0     0     0     0     0     0     0     0   \n",
       "PS                  0     0     0     0     0     0     0     0     0     0   \n",
       "PS2                 0     0     0     0     0     0     0     0     0     0   \n",
       "PS3                 0     0     0     0     0     0     0     0     0     0   \n",
       "PS4                 0     0     0     0     0     0     0     0     0     0   \n",
       "PSP                 0     0     0     0     0     0     0     0     0     0   \n",
       "PSV                 0     0     0     0     0     0     0     0     0     0   \n",
       "SAT                 0     0     0     0     0     0     0     0     0     0   \n",
       "SCD                 0     0     0     0     0     0     0     0     0     0   \n",
       "SNES                0     0     0     0     0     0     0     0     0     0   \n",
       "TG16                0     0     0     0     0     0     0     0     0     0   \n",
       "WS                  0     0     0     0     0     0     0     0     0     0   \n",
       "Wii                 0     0     0     0     0     0     0     0     0     0   \n",
       "WiiU                0     0     0     0     0     0     0     0     0     0   \n",
       "X360                0     0     0     0     0     0     0     0     0     0   \n",
       "XB                  0     0     0     0     0     0     0     0     0     0   \n",
       "XOne                0     0     0     0     0     0     0     0     0     0   \n",
       "Total               9    46    36    17    14    14    21    16    15    17   \n",
       "\n",
       "year_of_release  1990  1991  1992  1993  1994  1995  1996  1997  1998  1999  \\\n",
       "platform                                                                      \n",
       "2600                0     0     0     0     0     0     0     0     0     0   \n",
       "3DO                 0     0     0     0     1     2     0     0     0     0   \n",
       "3DS                 0     0     0     0     0     0     0     0     0     0   \n",
       "DC                  0     0     0     0     0     0     0     0     7    14   \n",
       "DS                  0     0     0     0     0     0     0     0     0     0   \n",
       "GB                  3     9     7     0     3     4     6     8     8    11   \n",
       "GBA                 0     0     0     0     0     0     0     0     0     0   \n",
       "GC                  0     0     0     0     0     0     0     0     0     0   \n",
       "GEN                 1     1     6     7    12     0     0     0     0     0   \n",
       "GG                  0     0     1     0     0     0     0     0     0     0   \n",
       "N64                 0     0     0     0     0     0    18    49    77   102   \n",
       "NES                 8     7     3     4     1     0     0     0     0     0   \n",
       "NG                  0     0     0     2     4     4     2     0     0     0   \n",
       "PC                  0     0     5     0     6     2     4     6     8     7   \n",
       "PCFX                0     0     0     0     0     0     1     0     0     0   \n",
       "PS                  0     0     0     0    17    99   164   188   248   200   \n",
       "PS2                 0     0     0     0     0     0     0     0     0     0   \n",
       "PS3                 0     0     0     0     0     0     0     0     0     0   \n",
       "PS4                 0     0     0     0     0     0     0     0     0     0   \n",
       "PSP                 0     0     0     0     0     0     0     0     0     0   \n",
       "PSV                 0     0     0     0     0     0     0     0     0     0   \n",
       "SAT                 0     0     0     0    19    52    38    34    29     1   \n",
       "SCD                 0     0     0     1     5     0     0     0     0     0   \n",
       "SNES                4    24    21    46    53    54    30     4     2     1   \n",
       "TG16                0     0     0     0     0     2     0     0     0     0   \n",
       "WS                  0     0     0     0     0     0     0     0     0     2   \n",
       "Wii                 0     0     0     0     0     0     0     0     0     0   \n",
       "WiiU                0     0     0     0     0     0     0     0     0     0   \n",
       "X360                0     0     0     0     0     0     0     0     0     0   \n",
       "XB                  0     0     0     0     0     0     0     0     0     0   \n",
       "XOne                0     0     0     0     0     0     0     0     0     0   \n",
       "Total              16    41    43    60   121   219   263   289   379   338   \n",
       "\n",
       "year_of_release  2000  2001  2002  2003  2004  2005  2006  2007  2008  2009  \\\n",
       "platform                                                                      \n",
       "2600                0     0     0     0     0     0     0     0     0     0   \n",
       "3DO                 0     0     0     0     0     0     0     0     0     0   \n",
       "3DS                 0     0     0     0     0     0     0     0     0     0   \n",
       "DC                 20     8     1     0     0     0     0     1     1     0   \n",
       "DS                  0     0     0     0    23   118   201   376   492   403   \n",
       "GB                 17    10     0     0     0     0     0     0     0     0   \n",
       "GBA                 1   107   198   150   175   135    39     6     0     0   \n",
       "GC                  0    22   152   144    83    97    40     4     0     0   \n",
       "GEN                 0     0     0     0     0     0     0     0     0     0   \n",
       "GG                  0     0     0     0     0     0     0     0     0     0   \n",
       "N64                60     9     1     0     0     0     0     0     0     0   \n",
       "NES                 0     0     0     0     0     0     0     0     0     0   \n",
       "NG                  0     0     0     0     0     0     0     0     0     0   \n",
       "PC                  7    15    19    33    30    37    52    62    76   107   \n",
       "PCFX                0     0     0     0     0     0     0     0     0     0   \n",
       "PS                160    91    20     3     0     0     0     0     0     0   \n",
       "PS2                82   185   280   256   259   260   259   214   191    96   \n",
       "PS3                 0     0     0     0     0     0    27    90   138   162   \n",
       "PS4                 0     0     0     0     0     0     0     0     0     0   \n",
       "PSP                 0     0     0     0    15    95   189   133   100   161   \n",
       "PSV                 0     0     0     0     0     0     0     0     0     0   \n",
       "SAT                 0     0     0     0     0     0     0     0     0     0   \n",
       "SCD                 0     0     0     0     0     0     0     0     0     0   \n",
       "SNES                0     0     0     0     0     0     0     0     0     0   \n",
       "TG16                0     0     0     0     0     0     0     0     0     0   \n",
       "WS                  2     2     0     0     0     0     0     0     0     0   \n",
       "Wii                 0     0     0     0     0     0    44   185   282   325   \n",
       "WiiU                0     0     0     0     0     0     0     0     0     0   \n",
       "X360                0     0     0     0     0    18    93   123   146   172   \n",
       "XB                  1    33   158   189   177   179    62     3     1     0   \n",
       "XOne                0     0     0     0     0     0     0     0     0     0   \n",
       "Total             350   482   829   775   762   939  1006  1197  1427  1426   \n",
       "\n",
       "year_of_release  2010  2011  2012  2013  2014  2015  2016  Total  \n",
       "platform                                                          \n",
       "2600                0     0     0     0     0     0     0    116  \n",
       "3DO                 0     0     0     0     0     0     0      3  \n",
       "3DS                 0   116    93    91    80    86    46    512  \n",
       "DC                  0     0     0     0     0     0     0     52  \n",
       "DS                323   153    23     8     0     0     0   2121  \n",
       "GB                  0     0     0     0     0     0     0     97  \n",
       "GBA                 0     0     0     0     0     0     0    811  \n",
       "GC                  0     0     0     0     0     0     0    542  \n",
       "GEN                 0     0     0     0     0     0     0     27  \n",
       "GG                  0     0     0     0     0     0     0      1  \n",
       "N64                 0     0     0     0     0     0     0    316  \n",
       "NES                 0     0     0     0     0     0     0     98  \n",
       "NG                  0     0     0     0     0     0     0     12  \n",
       "PC                 90   139    61    38    47    50    54    957  \n",
       "PCFX                0     0     0     0     0     0     0      1  \n",
       "PS                  0     0     0     0     0     0     0   1190  \n",
       "PS2                38     7     0     0     0     0     0   2127  \n",
       "PS3               181   215   148   126   108    73    38   1306  \n",
       "PS4                 0     0     0    16    75   137   164    392  \n",
       "PSP               188   139   106    54    10     3     0   1193  \n",
       "PSV                 0    18    53    63   100   110    85    429  \n",
       "SAT                 0     0     0     0     0     0     0    173  \n",
       "SCD                 0     0     0     0     0     0     0      6  \n",
       "SNES                0     0     0     0     0     0     0    239  \n",
       "TG16                0     0     0     0     0     0     0      2  \n",
       "WS                  0     0     0     0     0     0     0      6  \n",
       "Wii               253   143    31    12     6     4     1   1286  \n",
       "WiiU                0     0    32    42    31    28    14    147  \n",
       "X360              182   206   106    75    63    35    13   1232  \n",
       "XB                  0     0     0     0     0     0     0    803  \n",
       "XOne                0     0     0    19    61    80    87    247  \n",
       "Total            1255  1136   653   544   581   606   502  16444  "
      ]
     },
     "execution_count": 17,
     "metadata": {},
     "output_type": "execute_result"
    }
   ],
   "source": [
    "pd.crosstab(games.platform, games.year_of_release, margins=True, margins_name=\"Total\")"
   ]
  },
  {
   "cell_type": "markdown",
   "metadata": {},
   "source": [
    "На первый взгляд получившаяся таблица выглядит очень громоздко, но в тоже время она достаточна информативна. Можно увидеть как с каждым годом растет количество выпускаемых игр (хотя после 2009 видим обратный тренд, с последующим плато в районе +-600 игр в год), и, что более важно, то как устаревают платформы. "
   ]
  },
  {
   "cell_type": "markdown",
   "metadata": {},
   "source": [
    "Касательно устаривания платформ, в таблице выше видно, что единственная платформа которая не подвержена устареванию это PC. Что не удивительно, потому что \"железо\" для компьютера обновить можно, в то время как для приставки это невозможно. Для остальных же срок жизни составлял около 4-7 лет. Стоит отметить, что это не касалось предшественников самых новых и популярных консолей. Таких как xbox 360, PS 2/3, PSP и Wii. Эти платформы оставались актуальными +- 10 лет. "
   ]
  },
  {
   "cell_type": "code",
   "execution_count": 18,
   "metadata": {
    "ExecuteTime": {
     "end_time": "2020-07-12T17:05:56.682402Z",
     "start_time": "2020-07-12T17:05:56.509449Z"
    }
   },
   "outputs": [],
   "source": [
    "# Дополнительно, для точности, посчитаем срок жизни каждой платформы и определим год её рождения\n",
    "platform_list = games['platform'].unique().tolist()\n",
    "\n",
    "data = []\n",
    "first_year = []\n",
    "for platform in platform_list:\n",
    "    lifetime = len(games.loc[games['platform'] == platform,'year_of_release'].unique())\n",
    "    year = games.loc[games['platform'] == platform,'year_of_release'].min()\n",
    "    data.append(lifetime)\n",
    "    first_year.append(year)"
   ]
  },
  {
   "cell_type": "code",
   "execution_count": 19,
   "metadata": {
    "ExecuteTime": {
     "end_time": "2020-07-12T17:05:56.704421Z",
     "start_time": "2020-07-12T17:05:56.684401Z"
    }
   },
   "outputs": [
    {
     "data": {
      "text/html": [
       "<div>\n",
       "<style scoped>\n",
       "    .dataframe tbody tr th:only-of-type {\n",
       "        vertical-align: middle;\n",
       "    }\n",
       "\n",
       "    .dataframe tbody tr th {\n",
       "        vertical-align: top;\n",
       "    }\n",
       "\n",
       "    .dataframe thead th {\n",
       "        text-align: right;\n",
       "    }\n",
       "</style>\n",
       "<table border=\"1\" class=\"dataframe\">\n",
       "  <thead>\n",
       "    <tr style=\"text-align: right;\">\n",
       "      <th></th>\n",
       "      <th>platform</th>\n",
       "      <th>lifetime</th>\n",
       "      <th>first_year</th>\n",
       "    </tr>\n",
       "  </thead>\n",
       "  <tbody>\n",
       "    <tr>\n",
       "      <th>4</th>\n",
       "      <td>X360</td>\n",
       "      <td>12</td>\n",
       "      <td>2005</td>\n",
       "    </tr>\n",
       "    <tr>\n",
       "      <th>22</th>\n",
       "      <td>PSV</td>\n",
       "      <td>6</td>\n",
       "      <td>2011</td>\n",
       "    </tr>\n",
       "    <tr>\n",
       "      <th>26</th>\n",
       "      <td>NG</td>\n",
       "      <td>4</td>\n",
       "      <td>1993</td>\n",
       "    </tr>\n",
       "  </tbody>\n",
       "</table>\n",
       "</div>"
      ],
      "text/plain": [
       "   platform  lifetime  first_year\n",
       "4      X360        12        2005\n",
       "22      PSV         6        2011\n",
       "26       NG         4        1993"
      ]
     },
     "execution_count": 19,
     "metadata": {},
     "output_type": "execute_result"
    }
   ],
   "source": [
    "platform_list = pd.Series(platform_list, name='platform')\n",
    "data = pd.Series(data, name='lifetime')\n",
    "first_year = pd.Series(first_year, name='first_year')\n",
    "\n",
    "platforms_lifetime = pd.concat([platform_list, data, first_year],axis=1)\n",
    "\n",
    "platforms_lifetime = platforms_lifetime.sort_values(by='lifetime')\n",
    "platforms_lifetime.sample(3)"
   ]
  },
  {
   "cell_type": "code",
   "execution_count": 20,
   "metadata": {
    "ExecuteTime": {
     "end_time": "2020-07-12T17:05:56.738947Z",
     "start_time": "2020-07-12T17:05:56.707421Z"
    }
   },
   "outputs": [
    {
     "name": "stdout",
     "output_type": "stream",
     "text": [
      "Средний срок жизни платформы 7.7 лет\n"
     ]
    }
   ],
   "source": [
    "avg_platform_lifetime = platforms_lifetime['lifetime'].mean()\n",
    "print('Средний срок жизни платформы {:.2} лет'.format(avg_platform_lifetime))"
   ]
  },
  {
   "cell_type": "code",
   "execution_count": 21,
   "metadata": {
    "ExecuteTime": {
     "end_time": "2020-07-12T17:05:57.142075Z",
     "start_time": "2020-07-12T17:05:56.741948Z"
    }
   },
   "outputs": [
    {
     "data": {
      "image/png": "[encoded data removed]",
      "text/plain": [
       "<Figure size 1080x360 with 1 Axes>"
      ]
     },
     "metadata": {
      "needs_background": "light"
     },
     "output_type": "display_data"
    }
   ],
   "source": [
    "# Попробуем получить более точные цифры, для начала построим график\n",
    "platforms_lifetime.query('lifetime>3').plot(kind='scatter', \n",
    "                                            x='platform', \n",
    "                                            y='lifetime', \n",
    "                                            figsize=(15,5),\n",
    "                                           grid=True,\n",
    "                                            title='Срок жизни платформ');"
   ]
  },
  {
   "cell_type": "code",
   "execution_count": 22,
   "metadata": {
    "ExecuteTime": {
     "end_time": "2020-07-12T17:05:57.153083Z",
     "start_time": "2020-07-12T17:05:57.145077Z"
    }
   },
   "outputs": [
    {
     "name": "stdout",
     "output_type": "stream",
     "text": [
      "Средний срок жизни платформы (v.2) 7.5 лет\n"
     ]
    }
   ],
   "source": [
    "# ПК вне конкуренции, жил жив и будет жить, уберем его из расчетов\n",
    "# кроме того, нужно убрать еще \"живие\" платформы\n",
    "platform_to_exclude = ['PC', 'XOne', 'PS4', '3DS', 'WiiU', 'PSV']\n",
    "avg_platform_lifetime = platforms_lifetime \\\n",
    "    .loc[~platforms_lifetime['platform'].isin(platform_to_exclude),'lifetime'].mean()\n",
    "print('Средний срок жизни платформы (v.2) {:.2} лет'.format(avg_platform_lifetime))"
   ]
  },
  {
   "cell_type": "markdown",
   "metadata": {},
   "source": [
    "Большой разницы не получилось. \n",
    "\n",
    "Попробуем разбить на периоды. Наше тысячелетие и прошлое."
   ]
  },
  {
   "cell_type": "code",
   "execution_count": 23,
   "metadata": {
    "ExecuteTime": {
     "end_time": "2020-07-12T17:05:57.195110Z",
     "start_time": "2020-07-12T17:05:57.161087Z"
    },
    "scrolled": true
   },
   "outputs": [
    {
     "name": "stdout",
     "output_type": "stream",
     "text": [
      "Средний срок жизни платформы выпущенной после 2000 - 10.25 лет\n"
     ]
    }
   ],
   "source": [
    "avg_platform_lifetime = platforms_lifetime.query('first_year >= 2000') \\\n",
    "    .loc[~platforms_lifetime['platform'].isin(platform_to_exclude), 'lifetime'].mean()\n",
    "print('Средний срок жизни платформы выпущенной после 2000 - {} лет'.format(avg_platform_lifetime))"
   ]
  },
  {
   "cell_type": "code",
   "execution_count": 24,
   "metadata": {
    "ExecuteTime": {
     "end_time": "2020-07-12T17:05:57.210624Z",
     "start_time": "2020-07-12T17:05:57.200117Z"
    }
   },
   "outputs": [
    {
     "name": "stdout",
     "output_type": "stream",
     "text": [
      "Средний срок жизни платформы выпущенной до 2000 - 6.18 лет\n"
     ]
    }
   ],
   "source": [
    "avg_platform_lifetime = platforms_lifetime.query('first_year < 2000') \\\n",
    "    .loc[~platforms_lifetime['platform'].isin(platform_to_exclude), 'lifetime'].mean()\n",
    "print('Средний срок жизни платформы выпущенной до 2000 - {:.2f} лет'.format(avg_platform_lifetime))"
   ]
  },
  {
   "cell_type": "markdown",
   "metadata": {},
   "source": [
    "При таком подходе разница уже более ощутима. 4 года. Как и было отмечено ранее, со временем платформы стали жить дольше."
   ]
  },
  {
   "cell_type": "markdown",
   "metadata": {},
   "source": [
    "Далее, представим графически продажи и количество релизов по годам. Увидим наглядно как менялось общее количество релизов и суммарные продажи."
   ]
  },
  {
   "cell_type": "code",
   "execution_count": 25,
   "metadata": {
    "ExecuteTime": {
     "end_time": "2020-07-12T17:05:57.572658Z",
     "start_time": "2020-07-12T17:05:57.214130Z"
    }
   },
   "outputs": [
    {
     "data": {
      "image/png": "[encoded data removed]",
      "text/plain": [
       "<Figure size 432x288 with 1 Axes>"
      ]
     },
     "metadata": {
      "needs_background": "light"
     },
     "output_type": "display_data"
    }
   ],
   "source": [
    "games.groupby('year_of_release')['total_sales'].sum().plot(legend=True, title='Продажи и количество релизов по годам')\n",
    "games.groupby('year_of_release')['name'].count().plot(legend=True, grid=True)\n",
    "plt.ylabel('Кол-во выпущенных игр / Продажи в млн $')\n",
    "plt.show()"
   ]
  },
  {
   "cell_type": "markdown",
   "metadata": {},
   "source": [
    "Примечательно, что несмотря на резкий рост релизов в начале 2000-х, выручка от продаж игр выросла не на столько сильно. В последнее время и вовсе наблюдается значительное сокращение продаж, до уровня поздних девяностых. \n",
    "\n",
    "Кроме этого, изучим продажи по годам по платформам с наибольшими продажами. Для этих целей можно использовать метод `groupby()`, однако мы попробуем что-то новенькое, а именно `sidetabel`. \n",
    "Для выбора платформ с наибольшими суммарными продажами укажем отсчеку в 60% (*подбиралась эксперементальным путем, чтобы в выборку попали платформы с наиболее значимой долей от общих продаж*). "
   ]
  },
  {
   "cell_type": "code",
   "execution_count": 26,
   "metadata": {
    "ExecuteTime": {
     "end_time": "2020-07-12T17:05:57.915895Z",
     "start_time": "2020-07-12T17:05:57.575659Z"
    }
   },
   "outputs": [
    {
     "data": {
      "text/html": [
       "<div>\n",
       "<style scoped>\n",
       "    .dataframe tbody tr th:only-of-type {\n",
       "        vertical-align: middle;\n",
       "    }\n",
       "\n",
       "    .dataframe tbody tr th {\n",
       "        vertical-align: top;\n",
       "    }\n",
       "\n",
       "    .dataframe thead th {\n",
       "        text-align: right;\n",
       "    }\n",
       "</style>\n",
       "<table border=\"1\" class=\"dataframe\">\n",
       "  <thead>\n",
       "    <tr style=\"text-align: right;\">\n",
       "      <th></th>\n",
       "      <th>platform</th>\n",
       "      <th>total_sales</th>\n",
       "      <th>Percent</th>\n",
       "      <th>Cumulative total_sales</th>\n",
       "      <th>Cumulative Percent</th>\n",
       "    </tr>\n",
       "  </thead>\n",
       "  <tbody>\n",
       "    <tr>\n",
       "      <th>0</th>\n",
       "      <td>PS2</td>\n",
       "      <td>1233.56</td>\n",
       "      <td>0.14</td>\n",
       "      <td>1233.56</td>\n",
       "      <td>0.14</td>\n",
       "    </tr>\n",
       "    <tr>\n",
       "      <th>1</th>\n",
       "      <td>X360</td>\n",
       "      <td>961.24</td>\n",
       "      <td>0.11</td>\n",
       "      <td>2194.80</td>\n",
       "      <td>0.25</td>\n",
       "    </tr>\n",
       "    <tr>\n",
       "      <th>2</th>\n",
       "      <td>PS3</td>\n",
       "      <td>931.34</td>\n",
       "      <td>0.11</td>\n",
       "      <td>3126.14</td>\n",
       "      <td>0.35</td>\n",
       "    </tr>\n",
       "    <tr>\n",
       "      <th>3</th>\n",
       "      <td>Wii</td>\n",
       "      <td>891.18</td>\n",
       "      <td>0.10</td>\n",
       "      <td>4017.32</td>\n",
       "      <td>0.46</td>\n",
       "    </tr>\n",
       "    <tr>\n",
       "      <th>4</th>\n",
       "      <td>DS</td>\n",
       "      <td>802.78</td>\n",
       "      <td>0.09</td>\n",
       "      <td>4820.10</td>\n",
       "      <td>0.55</td>\n",
       "    </tr>\n",
       "    <tr>\n",
       "      <th>5</th>\n",
       "      <td>Others</td>\n",
       "      <td>3994.27</td>\n",
       "      <td>0.45</td>\n",
       "      <td>8814.37</td>\n",
       "      <td>1.00</td>\n",
       "    </tr>\n",
       "  </tbody>\n",
       "</table>\n",
       "</div>"
      ],
      "text/plain": [
       "  platform  total_sales  Percent  Cumulative total_sales  Cumulative Percent\n",
       "0      PS2      1233.56     0.14                 1233.56                0.14\n",
       "1     X360       961.24     0.11                 2194.80                0.25\n",
       "2      PS3       931.34     0.11                 3126.14                0.35\n",
       "3      Wii       891.18     0.10                 4017.32                0.46\n",
       "4       DS       802.78     0.09                 4820.10                0.55\n",
       "5   Others      3994.27     0.45                 8814.37                1.00"
      ]
     },
     "metadata": {},
     "output_type": "display_data"
    },
    {
     "data": {
      "image/png": "[encoded data removed]",
      "text/plain": [
       "<Figure size 432x288 with 1 Axes>"
      ]
     },
     "metadata": {
      "needs_background": "light"
     },
     "output_type": "display_data"
    }
   ],
   "source": [
    "display(games.stb.freq(['platform'], value='total_sales', thresh=.6))\n",
    "games.stb.freq(\n",
    "    ['platform'], \n",
    "    value='total_sales', \n",
    "    thresh=.6\n",
    ").sort_values(by='total_sales').plot(kind='bar', \n",
    "                                    x='platform', \n",
    "                                    y='total_sales', \n",
    "                                    grid=True,\n",
    "                                    title='Продажи по платформам, млн $')\n",
    "\n",
    "plt.show()"
   ]
  },
  {
   "cell_type": "markdown",
   "metadata": {},
   "source": [
    "Таким образом, если брать данные за все время, начиная с 1980 года, около 60% продаж пришлось на PS2, X360, PS3, Wii и DS."
   ]
  },
  {
   "cell_type": "markdown",
   "metadata": {},
   "source": [
    "Для целей последющего анализа некорректно опираться на данные за все время. Например PS2, лидер по продажам за все времена, уже сильно устарела, значит нам необходимо проделать примерно такое же упражнения, но на срезе с более актуальными данными.\n",
    "\n",
    "Учитывая данные из первой **большой** таблицы и график релизов/продаж, для целей последующего анализа выберем промежуток с 2012 года. Время когда закончился наиболее прибыльныq период для индустрии. Кроме того, таким образом мы получим примерно равное количество игр в каждому году и в выборке будут представлены наиболее популярные на данный момент платформы. Старые же данные нас не интересуют, так как для нашей цели объективно не интересно сколько игр было выпущено для устаревших консолей. "
   ]
  },
  {
   "cell_type": "code",
   "execution_count": 27,
   "metadata": {
    "ExecuteTime": {
     "end_time": "2020-07-12T17:05:57.937910Z",
     "start_time": "2020-07-12T17:05:57.924900Z"
    }
   },
   "outputs": [],
   "source": [
    "games_from_2012 = games.query('year_of_release >= 2012')"
   ]
  },
  {
   "cell_type": "code",
   "execution_count": 28,
   "metadata": {
    "ExecuteTime": {
     "end_time": "2020-07-12T17:05:58.031976Z",
     "start_time": "2020-07-12T17:05:57.940911Z"
    },
    "scrolled": true
   },
   "outputs": [
    {
     "data": {
      "text/html": [
       "<div>\n",
       "<style scoped>\n",
       "    .dataframe tbody tr th:only-of-type {\n",
       "        vertical-align: middle;\n",
       "    }\n",
       "\n",
       "    .dataframe tbody tr th {\n",
       "        vertical-align: top;\n",
       "    }\n",
       "\n",
       "    .dataframe thead th {\n",
       "        text-align: right;\n",
       "    }\n",
       "</style>\n",
       "<table border=\"1\" class=\"dataframe\">\n",
       "  <thead>\n",
       "    <tr style=\"text-align: right;\">\n",
       "      <th>year_of_release</th>\n",
       "      <th>2012</th>\n",
       "      <th>2013</th>\n",
       "      <th>2014</th>\n",
       "      <th>2015</th>\n",
       "      <th>2016</th>\n",
       "      <th>total</th>\n",
       "    </tr>\n",
       "    <tr>\n",
       "      <th>platform</th>\n",
       "      <th></th>\n",
       "      <th></th>\n",
       "      <th></th>\n",
       "      <th></th>\n",
       "      <th></th>\n",
       "      <th></th>\n",
       "    </tr>\n",
       "  </thead>\n",
       "  <tbody>\n",
       "    <tr>\n",
       "      <th>total</th>\n",
       "      <td>355.84</td>\n",
       "      <td>361.24</td>\n",
       "      <td>331.53</td>\n",
       "      <td>267.98</td>\n",
       "      <td>129.94</td>\n",
       "      <td>1446.53</td>\n",
       "    </tr>\n",
       "    <tr>\n",
       "      <th>PS4</th>\n",
       "      <td>NaN</td>\n",
       "      <td>25.99</td>\n",
       "      <td>100.00</td>\n",
       "      <td>118.90</td>\n",
       "      <td>69.25</td>\n",
       "      <td>314.14</td>\n",
       "    </tr>\n",
       "    <tr>\n",
       "      <th>PS3</th>\n",
       "      <td>107.36</td>\n",
       "      <td>113.25</td>\n",
       "      <td>47.76</td>\n",
       "      <td>16.82</td>\n",
       "      <td>3.60</td>\n",
       "      <td>288.79</td>\n",
       "    </tr>\n",
       "    <tr>\n",
       "      <th>X360</th>\n",
       "      <td>99.74</td>\n",
       "      <td>88.58</td>\n",
       "      <td>34.74</td>\n",
       "      <td>11.96</td>\n",
       "      <td>1.52</td>\n",
       "      <td>236.54</td>\n",
       "    </tr>\n",
       "    <tr>\n",
       "      <th>3DS</th>\n",
       "      <td>51.36</td>\n",
       "      <td>56.57</td>\n",
       "      <td>43.76</td>\n",
       "      <td>27.78</td>\n",
       "      <td>15.14</td>\n",
       "      <td>194.61</td>\n",
       "    </tr>\n",
       "    <tr>\n",
       "      <th>XOne</th>\n",
       "      <td>NaN</td>\n",
       "      <td>18.96</td>\n",
       "      <td>54.07</td>\n",
       "      <td>60.14</td>\n",
       "      <td>26.15</td>\n",
       "      <td>159.32</td>\n",
       "    </tr>\n",
       "    <tr>\n",
       "      <th>WiiU</th>\n",
       "      <td>17.56</td>\n",
       "      <td>21.65</td>\n",
       "      <td>22.03</td>\n",
       "      <td>16.35</td>\n",
       "      <td>4.60</td>\n",
       "      <td>82.19</td>\n",
       "    </tr>\n",
       "    <tr>\n",
       "      <th>PC</th>\n",
       "      <td>23.22</td>\n",
       "      <td>12.38</td>\n",
       "      <td>13.28</td>\n",
       "      <td>8.52</td>\n",
       "      <td>5.25</td>\n",
       "      <td>62.65</td>\n",
       "    </tr>\n",
       "    <tr>\n",
       "      <th>PSV</th>\n",
       "      <td>16.19</td>\n",
       "      <td>10.59</td>\n",
       "      <td>11.90</td>\n",
       "      <td>6.25</td>\n",
       "      <td>4.25</td>\n",
       "      <td>49.18</td>\n",
       "    </tr>\n",
       "    <tr>\n",
       "      <th>Wii</th>\n",
       "      <td>21.71</td>\n",
       "      <td>8.59</td>\n",
       "      <td>3.75</td>\n",
       "      <td>1.14</td>\n",
       "      <td>0.18</td>\n",
       "      <td>35.37</td>\n",
       "    </tr>\n",
       "    <tr>\n",
       "      <th>DS</th>\n",
       "      <td>11.01</td>\n",
       "      <td>1.54</td>\n",
       "      <td>NaN</td>\n",
       "      <td>NaN</td>\n",
       "      <td>NaN</td>\n",
       "      <td>12.55</td>\n",
       "    </tr>\n",
       "    <tr>\n",
       "      <th>PSP</th>\n",
       "      <td>7.69</td>\n",
       "      <td>3.14</td>\n",
       "      <td>0.24</td>\n",
       "      <td>0.12</td>\n",
       "      <td>NaN</td>\n",
       "      <td>11.19</td>\n",
       "    </tr>\n",
       "  </tbody>\n",
       "</table>\n",
       "</div>"
      ],
      "text/plain": [
       "year_of_release    2012    2013    2014    2015    2016    total\n",
       "platform                                                        \n",
       "total            355.84  361.24  331.53  267.98  129.94  1446.53\n",
       "PS4                 NaN   25.99  100.00  118.90   69.25   314.14\n",
       "PS3              107.36  113.25   47.76   16.82    3.60   288.79\n",
       "X360              99.74   88.58   34.74   11.96    1.52   236.54\n",
       "3DS               51.36   56.57   43.76   27.78   15.14   194.61\n",
       "XOne                NaN   18.96   54.07   60.14   26.15   159.32\n",
       "WiiU              17.56   21.65   22.03   16.35    4.60    82.19\n",
       "PC                23.22   12.38   13.28    8.52    5.25    62.65\n",
       "PSV               16.19   10.59   11.90    6.25    4.25    49.18\n",
       "Wii               21.71    8.59    3.75    1.14    0.18    35.37\n",
       "DS                11.01    1.54     NaN     NaN     NaN    12.55\n",
       "PSP                7.69    3.14    0.24    0.12     NaN    11.19"
      ]
     },
     "execution_count": 28,
     "metadata": {},
     "output_type": "execute_result"
    }
   ],
   "source": [
    "pd.crosstab(games_from_2012.platform, \n",
    "            games_from_2012.year_of_release,\n",
    "            values=games_from_2012.total_sales,\n",
    "            aggfunc='sum',\n",
    "            margins=True, margins_name=\"total\"\n",
    "           ).sort_values(by='total', ascending=False)\n"
   ]
  },
  {
   "cell_type": "markdown",
   "metadata": {},
   "source": [
    "По итогам анализа среза видим совсем других лидеров. \n",
    "\n",
    "- PS4 - появилась в 2013 году и за не полных четыре года стала лидером по продажам. \n",
    "- PS3 - предыдущее поколение приставок Sony после выхода консоли нового поколения стало терять позиции, но тем не менее оказалось на втором месте\n",
    "- X360 - предыдущее поколение приставок Microsoft, так же как и PS3, с выходом приставки нового поколения стало терять позиции.\n",
    "- 3DS - единственная портативная консоль в топе, продажи которой с каждым годом уменьшаются\n",
    "- XOne - конкурент PS4, последнеее поколение консолей от Mocrosoft, по цифрам очевидно, что проигрывает конкуренцию PS4, тем не менее продажи до 2016 растут.\n",
    "\n",
    "Делаем вывод, что за последнее время продажи растут только у нового поколения приставок - PS4 и XOne. Как правило, это связано с тем, что на старые консоли просто перестают выпускать новые игры. Отдельно посмотрим на количество выпускаемых игр."
   ]
  },
  {
   "cell_type": "code",
   "execution_count": 29,
   "metadata": {
    "ExecuteTime": {
     "end_time": "2020-07-12T17:05:58.128051Z",
     "start_time": "2020-07-12T17:05:58.034979Z"
    }
   },
   "outputs": [
    {
     "data": {
      "text/html": [
       "<div>\n",
       "<style scoped>\n",
       "    .dataframe tbody tr th:only-of-type {\n",
       "        vertical-align: middle;\n",
       "    }\n",
       "\n",
       "    .dataframe tbody tr th {\n",
       "        vertical-align: top;\n",
       "    }\n",
       "\n",
       "    .dataframe thead th {\n",
       "        text-align: right;\n",
       "    }\n",
       "</style>\n",
       "<table border=\"1\" class=\"dataframe\">\n",
       "  <thead>\n",
       "    <tr style=\"text-align: right;\">\n",
       "      <th>year_of_release</th>\n",
       "      <th>2012</th>\n",
       "      <th>2013</th>\n",
       "      <th>2014</th>\n",
       "      <th>2015</th>\n",
       "      <th>2016</th>\n",
       "      <th>total</th>\n",
       "    </tr>\n",
       "    <tr>\n",
       "      <th>platform</th>\n",
       "      <th></th>\n",
       "      <th></th>\n",
       "      <th></th>\n",
       "      <th></th>\n",
       "      <th></th>\n",
       "      <th></th>\n",
       "    </tr>\n",
       "  </thead>\n",
       "  <tbody>\n",
       "    <tr>\n",
       "      <th>total</th>\n",
       "      <td>653</td>\n",
       "      <td>544</td>\n",
       "      <td>581</td>\n",
       "      <td>606</td>\n",
       "      <td>502</td>\n",
       "      <td>2886</td>\n",
       "    </tr>\n",
       "    <tr>\n",
       "      <th>PS3</th>\n",
       "      <td>148</td>\n",
       "      <td>126</td>\n",
       "      <td>108</td>\n",
       "      <td>73</td>\n",
       "      <td>38</td>\n",
       "      <td>493</td>\n",
       "    </tr>\n",
       "    <tr>\n",
       "      <th>PSV</th>\n",
       "      <td>53</td>\n",
       "      <td>63</td>\n",
       "      <td>100</td>\n",
       "      <td>110</td>\n",
       "      <td>85</td>\n",
       "      <td>411</td>\n",
       "    </tr>\n",
       "    <tr>\n",
       "      <th>3DS</th>\n",
       "      <td>93</td>\n",
       "      <td>91</td>\n",
       "      <td>80</td>\n",
       "      <td>86</td>\n",
       "      <td>46</td>\n",
       "      <td>396</td>\n",
       "    </tr>\n",
       "    <tr>\n",
       "      <th>PS4</th>\n",
       "      <td>0</td>\n",
       "      <td>16</td>\n",
       "      <td>75</td>\n",
       "      <td>137</td>\n",
       "      <td>164</td>\n",
       "      <td>392</td>\n",
       "    </tr>\n",
       "    <tr>\n",
       "      <th>X360</th>\n",
       "      <td>106</td>\n",
       "      <td>75</td>\n",
       "      <td>63</td>\n",
       "      <td>35</td>\n",
       "      <td>13</td>\n",
       "      <td>292</td>\n",
       "    </tr>\n",
       "    <tr>\n",
       "      <th>PC</th>\n",
       "      <td>61</td>\n",
       "      <td>38</td>\n",
       "      <td>47</td>\n",
       "      <td>50</td>\n",
       "      <td>54</td>\n",
       "      <td>250</td>\n",
       "    </tr>\n",
       "    <tr>\n",
       "      <th>XOne</th>\n",
       "      <td>0</td>\n",
       "      <td>19</td>\n",
       "      <td>61</td>\n",
       "      <td>80</td>\n",
       "      <td>87</td>\n",
       "      <td>247</td>\n",
       "    </tr>\n",
       "    <tr>\n",
       "      <th>PSP</th>\n",
       "      <td>106</td>\n",
       "      <td>54</td>\n",
       "      <td>10</td>\n",
       "      <td>3</td>\n",
       "      <td>0</td>\n",
       "      <td>173</td>\n",
       "    </tr>\n",
       "    <tr>\n",
       "      <th>WiiU</th>\n",
       "      <td>32</td>\n",
       "      <td>42</td>\n",
       "      <td>31</td>\n",
       "      <td>28</td>\n",
       "      <td>14</td>\n",
       "      <td>147</td>\n",
       "    </tr>\n",
       "    <tr>\n",
       "      <th>Wii</th>\n",
       "      <td>31</td>\n",
       "      <td>12</td>\n",
       "      <td>6</td>\n",
       "      <td>4</td>\n",
       "      <td>1</td>\n",
       "      <td>54</td>\n",
       "    </tr>\n",
       "    <tr>\n",
       "      <th>DS</th>\n",
       "      <td>23</td>\n",
       "      <td>8</td>\n",
       "      <td>0</td>\n",
       "      <td>0</td>\n",
       "      <td>0</td>\n",
       "      <td>31</td>\n",
       "    </tr>\n",
       "  </tbody>\n",
       "</table>\n",
       "</div>"
      ],
      "text/plain": [
       "year_of_release  2012  2013  2014  2015  2016  total\n",
       "platform                                            \n",
       "total             653   544   581   606   502   2886\n",
       "PS3               148   126   108    73    38    493\n",
       "PSV                53    63   100   110    85    411\n",
       "3DS                93    91    80    86    46    396\n",
       "PS4                 0    16    75   137   164    392\n",
       "X360              106    75    63    35    13    292\n",
       "PC                 61    38    47    50    54    250\n",
       "XOne                0    19    61    80    87    247\n",
       "PSP               106    54    10     3     0    173\n",
       "WiiU               32    42    31    28    14    147\n",
       "Wii                31    12     6     4     1     54\n",
       "DS                 23     8     0     0     0     31"
      ]
     },
     "execution_count": 29,
     "metadata": {},
     "output_type": "execute_result"
    }
   ],
   "source": [
    "pd.crosstab(games_from_2012.platform, \n",
    "            games_from_2012.year_of_release,\n",
    "            margins=True, margins_name=\"total\"\n",
    "           ).sort_values(by='total', ascending=False)"
   ]
  },
  {
   "cell_type": "markdown",
   "metadata": {},
   "source": [
    "Получаем относительно предсказуемый результат.\n",
    "На старое поколение платформ (PS3, X360) со временем выпускают все меньше игр, на новое больше.\n",
    "Заметна плохая ситуация с консолью PSV, не смотря на то что выпускает очень много игр, продажи этой консоли очень малы. Это уже точно не та платформа, упор на которую нужно делать в рекламной компании. \n",
    "\n",
    "Можно сделать вывод, что потенциально прибыльные платформы - это платформы нового поколения. PS4, XOne, и среди портативных консолей выделяется 3DS. На них выпускается достаточное количество новых игр и уже в 2015/2016 годах они принесли больше выручки."
   ]
  },
  {
   "cell_type": "code",
   "execution_count": 30,
   "metadata": {
    "ExecuteTime": {
     "end_time": "2020-07-12T17:05:58.135056Z",
     "start_time": "2020-07-12T17:05:58.130051Z"
    }
   },
   "outputs": [],
   "source": [
    "promising_platforms = ['PS4','XOne','3DS']"
   ]
  },
  {
   "cell_type": "code",
   "execution_count": 31,
   "metadata": {
    "ExecuteTime": {
     "end_time": "2020-07-12T17:05:59.162807Z",
     "start_time": "2020-07-12T17:05:58.138058Z"
    }
   },
   "outputs": [
    {
     "data": {
      "image/png": "[encoded data removed]",
      "text/plain": [
       "<Figure size 432x288 with 1 Axes>"
      ]
     },
     "metadata": {
      "needs_background": "light"
     },
     "output_type": "display_data"
    }
   ],
   "source": [
    "sns.barplot(y='total_sales', \n",
    "            x='year_of_release', \n",
    "            hue='platform', \n",
    "            data = games_from_2012.query('platform in @promising_platforms'),\n",
    "            hue_order=promising_platforms\n",
    "           )\n",
    "plt.title('Продажи игр, потенциально прибыльные платформы, млн $ ')\n",
    "plt.show()"
   ]
  },
  {
   "cell_type": "markdown",
   "metadata": {},
   "source": [
    "На столбчатом графике выше виден ранее отмеченный тренд сокращения доходов всей индукстрии. На платформе PS4 это явление сказывается в больше степени.\n",
    "\n",
    "Далее построим диаграмму размаха по глобальным продажам для этих 3х платформ. Чтобы график был более читабельным ограничим продажи до 4 млн $. "
   ]
  },
  {
   "cell_type": "code",
   "execution_count": 32,
   "metadata": {
    "ExecuteTime": {
     "end_time": "2020-07-12T17:05:59.476040Z",
     "start_time": "2020-07-12T17:05:59.165810Z"
    },
    "scrolled": true
   },
   "outputs": [
    {
     "data": {
      "image/png": "[encoded data removed]",
      "text/plain": [
       "<Figure size 1080x360 with 1 Axes>"
      ]
     },
     "metadata": {
      "needs_background": "light"
     },
     "output_type": "display_data"
    }
   ],
   "source": [
    "plt.figure(figsize=(15,5))\n",
    "sns.boxplot(y='platform', x='total_sales',\n",
    "            data = games_from_2012.query('platform in @promising_platforms and total_sales < 4')\n",
    "            ,order=promising_platforms\n",
    "           )\n",
    "plt.show()"
   ]
  },
  {
   "cell_type": "markdown",
   "metadata": {},
   "source": [
    "Исходя из графика видно, что продажи PS4 и XOne очень похожи на друг друга. Скорее всего это вызвано тем, что многие игры выпускают одновременно и на одну и на другую платформу. Конечно встречаются эксклюзивные релизы, которые выводят PS4 в топ по выручке и количеству игр. Однако, boxplot показывает, что в своем большинстве разброс выручки от игр на PS4 & XOne одинаковый. \n",
    "Что касается 3DS, то у неё разброс цен в два раза меньше. Что говорит о том, что консоль уступает по популярности первым двум. \n",
    "\n",
    "Далее изучим влияние отзывов критиков и пользователей на продажи игры на платформе PS4. \n",
    "Сделаем отдельный df, уберем пропуска в оценках и оставим продажи до 5 млн."
   ]
  },
  {
   "cell_type": "code",
   "execution_count": 33,
   "metadata": {
    "ExecuteTime": {
     "end_time": "2020-07-12T17:05:59.494055Z",
     "start_time": "2020-07-12T17:05:59.478039Z"
    },
    "scrolled": false
   },
   "outputs": [],
   "source": [
    "ps4_data = games_from_2012.loc[(games_from_2012['total_sales'] <5) \n",
    "                               & (games_from_2012['platform']=='PS4') \n",
    "                               & (games_from_2012['critic_score'].notna()) \n",
    "                               & (games_from_2012['user_score'].notna())]"
   ]
  },
  {
   "cell_type": "code",
   "execution_count": 34,
   "metadata": {
    "ExecuteTime": {
     "end_time": "2020-07-12T17:06:02.363208Z",
     "start_time": "2020-07-12T17:05:59.497052Z"
    }
   },
   "outputs": [
    {
     "data": {
      "image/png": "[encoded data removed]",
      "text/plain": [
       "<Figure size 540x540 with 12 Axes>"
      ]
     },
     "metadata": {
      "needs_background": "light"
     },
     "output_type": "display_data"
    }
   ],
   "source": [
    "g = sns.pairplot(ps4_data[['total_sales','critic_score', 'user_score']])\n",
    "g.fig.suptitle('PS4', y= 1.05)\n",
    "plt.show()"
   ]
  },
  {
   "cell_type": "code",
   "execution_count": 35,
   "metadata": {
    "ExecuteTime": {
     "end_time": "2020-07-12T17:06:02.638412Z",
     "start_time": "2020-07-12T17:06:02.365207Z"
    },
    "scrolled": true
   },
   "outputs": [
    {
     "data": {
      "image/png": "[encoded data removed]",
      "text/plain": [
       "<Figure size 432x288 with 2 Axes>"
      ]
     },
     "metadata": {
      "needs_background": "light"
     },
     "output_type": "display_data"
    }
   ],
   "source": [
    "sns.heatmap(ps4_data[['total_sales','critic_score', 'user_score']].corr(), linewidths=.2,annot = True)\n",
    "plt.title('Heatmap PS4');"
   ]
  },
  {
   "cell_type": "markdown",
   "metadata": {},
   "source": [
    "На основе диаграммы рассеяния и корреляции между отзывами и продажами можно сделать следующий вывод.\n",
    "\n",
    "*Существует умеренная зависимость между отзывами критиков и продажами*, видно что у значительной части игр с большими продажами нормальные/хорошие отзывы. Плохих отзывов критиков у прибыльных проектов - нет. Что тут от чего зависит конечно сложно сказать, так как крупные и дорогие проекты вкладывают большие деньги в продвижение, в том числе это может повлиять на оценки критиков. \n",
    "\n",
    "В свою очередь, *оценки пользователей демонстрируют около нулевую корреляцию*, и на диаграмме рассеяния сложно отметить какие-либо тенденции. Вероятно справедливо такое утверждение - пользователи более критичны в отношении игр. Так как даже у очень успешных в финансовом плане проектов есть плохие оценки пользователей.\n",
    "\n",
    "Любопытно отметить, что *оценки пользователей имеют не плохую корреляцию с оценками критиков*. Особенно ярко это видно на графике.  То есть, не редки случаи, когда оценки пользователейи критиков совпадают, либо находятся рядом друг с другом.\n",
    "\n",
    "Посмотрим, справедливо ли это для остальных перспективных платформ, сравним корреляции."
   ]
  },
  {
   "cell_type": "code",
   "execution_count": 36,
   "metadata": {
    "ExecuteTime": {
     "end_time": "2020-07-12T17:06:03.412491Z",
     "start_time": "2020-07-12T17:06:02.641417Z"
    }
   },
   "outputs": [
    {
     "data": {
      "image/png": "[encoded data removed]",
      "text/plain": [
       "<Figure size 432x288 with 2 Axes>"
      ]
     },
     "metadata": {
      "needs_background": "light"
     },
     "output_type": "display_data"
    },
    {
     "data": {
      "image/png": "[encoded data removed]",
      "text/plain": [
       "<Figure size 432x288 with 2 Axes>"
      ]
     },
     "metadata": {
      "needs_background": "light"
     },
     "output_type": "display_data"
    },
    {
     "data": {
      "image/png": "[encoded data removed]",
      "text/plain": [
       "<Figure size 432x288 with 2 Axes>"
      ]
     },
     "metadata": {
      "needs_background": "light"
     },
     "output_type": "display_data"
    }
   ],
   "source": [
    "xone_data = games_from_2012.loc[(games_from_2012['total_sales'] <5) \n",
    "                               & (games_from_2012['platform']=='XOne') \n",
    "                               & (games_from_2012['critic_score'].notna()) \n",
    "                               & (games_from_2012['user_score'].notna())]\n",
    "\n",
    "data_3DS = games_from_2012.loc[(games_from_2012['total_sales'] <5) \n",
    "                               & (games_from_2012['platform']=='3DS') \n",
    "                               & (games_from_2012['critic_score'].notna()) \n",
    "                               & (games_from_2012['user_score'].notna())]\n",
    "sns.heatmap(ps4_data[['total_sales','critic_score', 'user_score']].corr(), linewidths=.2,annot = True)\n",
    "plt.title('Heatmap PS4')\n",
    "plt.show()\n",
    "sns.heatmap(xone_data[['total_sales','critic_score', 'user_score']].corr(), linewidths=.2,annot = True)\n",
    "plt.title('Heatmap XOne')\n",
    "plt.show()\n",
    "sns.heatmap(data_3DS[['total_sales','critic_score', 'user_score']].corr(), linewidths=.2,annot = True)\n",
    "plt.title('Heatmap 3DS')\n",
    "plt.show()"
   ]
  },
  {
   "cell_type": "markdown",
   "metadata": {},
   "source": [
    "Как и было замечено ранее, PS4 и XOne очень похоже, коэффициенты корреляции так же очень схожи. В то время как на 3DS необходимо посмотреть внимательнее. Здесь более выражена зависимость продаж от оценок пользователей, а так же высокая корреляция у оценок критиков и пользователей. "
   ]
  },
  {
   "cell_type": "code",
   "execution_count": 37,
   "metadata": {
    "ExecuteTime": {
     "end_time": "2020-07-12T17:06:05.904019Z",
     "start_time": "2020-07-12T17:06:03.415494Z"
    }
   },
   "outputs": [
    {
     "data": {
      "image/png": "[encoded data removed]",
      "text/plain": [
       "<Figure size 540x540 with 12 Axes>"
      ]
     },
     "metadata": {
      "needs_background": "light"
     },
     "output_type": "display_data"
    }
   ],
   "source": [
    "g = sns.pairplot(data_3DS[['total_sales','critic_score', 'user_score']])\n",
    "g.fig.suptitle(\"3DS\", y=1.05)\n",
    "plt.show()"
   ]
  },
  {
   "cell_type": "markdown",
   "metadata": {},
   "source": [
    "И действительно, на графике видим, что оценки пользователей и критиков для платформы 3DS часто совпадают.\n",
    "\n",
    "Далее изучим распределение игр по жанрам, и определим самый прибыльный жанр. "
   ]
  },
  {
   "cell_type": "code",
   "execution_count": 38,
   "metadata": {
    "ExecuteTime": {
     "end_time": "2020-07-12T17:06:05.982079Z",
     "start_time": "2020-07-12T17:06:05.907026Z"
    }
   },
   "outputs": [
    {
     "data": {
      "text/html": [
       "<div>\n",
       "<style scoped>\n",
       "    .dataframe tbody tr th:only-of-type {\n",
       "        vertical-align: middle;\n",
       "    }\n",
       "\n",
       "    .dataframe tbody tr th {\n",
       "        vertical-align: top;\n",
       "    }\n",
       "\n",
       "    .dataframe thead th {\n",
       "        text-align: right;\n",
       "    }\n",
       "</style>\n",
       "<table border=\"1\" class=\"dataframe\">\n",
       "  <thead>\n",
       "    <tr style=\"text-align: right;\">\n",
       "      <th>year_of_release</th>\n",
       "      <th>2012</th>\n",
       "      <th>2013</th>\n",
       "      <th>2014</th>\n",
       "      <th>2015</th>\n",
       "      <th>2016</th>\n",
       "      <th>total</th>\n",
       "    </tr>\n",
       "    <tr>\n",
       "      <th>genre</th>\n",
       "      <th></th>\n",
       "      <th></th>\n",
       "      <th></th>\n",
       "      <th></th>\n",
       "      <th></th>\n",
       "      <th></th>\n",
       "    </tr>\n",
       "  </thead>\n",
       "  <tbody>\n",
       "    <tr>\n",
       "      <th>total</th>\n",
       "      <td>355.84</td>\n",
       "      <td>361.24</td>\n",
       "      <td>331.53</td>\n",
       "      <td>267.98</td>\n",
       "      <td>129.94</td>\n",
       "      <td>1446.53</td>\n",
       "    </tr>\n",
       "    <tr>\n",
       "      <th>Action</th>\n",
       "      <td>119.25</td>\n",
       "      <td>122.51</td>\n",
       "      <td>97.23</td>\n",
       "      <td>72.02</td>\n",
       "      <td>30.11</td>\n",
       "      <td>441.12</td>\n",
       "    </tr>\n",
       "    <tr>\n",
       "      <th>Shooter</th>\n",
       "      <td>71.75</td>\n",
       "      <td>62.04</td>\n",
       "      <td>65.21</td>\n",
       "      <td>67.51</td>\n",
       "      <td>38.22</td>\n",
       "      <td>304.73</td>\n",
       "    </tr>\n",
       "    <tr>\n",
       "      <th>Role-Playing</th>\n",
       "      <td>46.91</td>\n",
       "      <td>44.45</td>\n",
       "      <td>45.62</td>\n",
       "      <td>37.64</td>\n",
       "      <td>18.18</td>\n",
       "      <td>192.80</td>\n",
       "    </tr>\n",
       "    <tr>\n",
       "      <th>Sports</th>\n",
       "      <td>30.42</td>\n",
       "      <td>41.17</td>\n",
       "      <td>45.15</td>\n",
       "      <td>40.84</td>\n",
       "      <td>23.49</td>\n",
       "      <td>181.07</td>\n",
       "    </tr>\n",
       "    <tr>\n",
       "      <th>Misc</th>\n",
       "      <td>22.22</td>\n",
       "      <td>25.27</td>\n",
       "      <td>23.38</td>\n",
       "      <td>11.57</td>\n",
       "      <td>2.60</td>\n",
       "      <td>85.04</td>\n",
       "    </tr>\n",
       "    <tr>\n",
       "      <th>Platform</th>\n",
       "      <td>18.37</td>\n",
       "      <td>24.54</td>\n",
       "      <td>8.81</td>\n",
       "      <td>6.05</td>\n",
       "      <td>3.23</td>\n",
       "      <td>61.00</td>\n",
       "    </tr>\n",
       "    <tr>\n",
       "      <th>Racing</th>\n",
       "      <td>13.61</td>\n",
       "      <td>12.37</td>\n",
       "      <td>16.66</td>\n",
       "      <td>8.07</td>\n",
       "      <td>2.79</td>\n",
       "      <td>53.50</td>\n",
       "    </tr>\n",
       "    <tr>\n",
       "      <th>Fighting</th>\n",
       "      <td>9.18</td>\n",
       "      <td>7.09</td>\n",
       "      <td>15.85</td>\n",
       "      <td>7.90</td>\n",
       "      <td>4.47</td>\n",
       "      <td>44.49</td>\n",
       "    </tr>\n",
       "    <tr>\n",
       "      <th>Simulation</th>\n",
       "      <td>13.36</td>\n",
       "      <td>8.63</td>\n",
       "      <td>5.58</td>\n",
       "      <td>5.66</td>\n",
       "      <td>1.89</td>\n",
       "      <td>35.12</td>\n",
       "    </tr>\n",
       "    <tr>\n",
       "      <th>Adventure</th>\n",
       "      <td>5.79</td>\n",
       "      <td>6.09</td>\n",
       "      <td>5.57</td>\n",
       "      <td>8.16</td>\n",
       "      <td>3.82</td>\n",
       "      <td>29.43</td>\n",
       "    </tr>\n",
       "    <tr>\n",
       "      <th>Strategy</th>\n",
       "      <td>3.26</td>\n",
       "      <td>6.12</td>\n",
       "      <td>0.98</td>\n",
       "      <td>1.85</td>\n",
       "      <td>1.13</td>\n",
       "      <td>13.34</td>\n",
       "    </tr>\n",
       "    <tr>\n",
       "      <th>Puzzle</th>\n",
       "      <td>1.72</td>\n",
       "      <td>0.96</td>\n",
       "      <td>1.49</td>\n",
       "      <td>0.71</td>\n",
       "      <td>0.01</td>\n",
       "      <td>4.89</td>\n",
       "    </tr>\n",
       "  </tbody>\n",
       "</table>\n",
       "</div>"
      ],
      "text/plain": [
       "year_of_release    2012    2013    2014    2015    2016    total\n",
       "genre                                                           \n",
       "total            355.84  361.24  331.53  267.98  129.94  1446.53\n",
       "Action           119.25  122.51   97.23   72.02   30.11   441.12\n",
       "Shooter           71.75   62.04   65.21   67.51   38.22   304.73\n",
       "Role-Playing      46.91   44.45   45.62   37.64   18.18   192.80\n",
       "Sports            30.42   41.17   45.15   40.84   23.49   181.07\n",
       "Misc              22.22   25.27   23.38   11.57    2.60    85.04\n",
       "Platform          18.37   24.54    8.81    6.05    3.23    61.00\n",
       "Racing            13.61   12.37   16.66    8.07    2.79    53.50\n",
       "Fighting           9.18    7.09   15.85    7.90    4.47    44.49\n",
       "Simulation        13.36    8.63    5.58    5.66    1.89    35.12\n",
       "Adventure          5.79    6.09    5.57    8.16    3.82    29.43\n",
       "Strategy           3.26    6.12    0.98    1.85    1.13    13.34\n",
       "Puzzle             1.72    0.96    1.49    0.71    0.01     4.89"
      ]
     },
     "execution_count": 38,
     "metadata": {},
     "output_type": "execute_result"
    }
   ],
   "source": [
    "games_from_2012.pivot_table(index='genre'\n",
    "                           ,columns='year_of_release'\n",
    "                           ,values='total_sales'\n",
    "                           ,aggfunc='sum'\n",
    "                           ,margins=True\n",
    "                           ,margins_name='total').sort_values(by='total', ascending=False)"
   ]
  },
  {
   "cell_type": "code",
   "execution_count": 39,
   "metadata": {
    "ExecuteTime": {
     "end_time": "2020-07-12T17:06:06.014103Z",
     "start_time": "2020-07-12T17:06:05.984080Z"
    }
   },
   "outputs": [],
   "source": [
    "#выделяем топ-5 прибыльных жанров, чтобы построить график. Если строить все жанры на графике, то будет непонятная мешанина\n",
    "top_genres=['Action', 'Shooter', 'Role-Playing', 'Sports','Misc']\n",
    "# тоже самое но без общего, чтобы построить график\n",
    "sales_by_genres = games_from_2012.query('genre in @top_genres').pivot_table(index='genre'\n",
    "                           ,columns='year_of_release'\n",
    "                           ,values='total_sales'\n",
    "                           ,aggfunc='sum')\n",
    "#sns.relplot(x='year_of_release', y='total_sales', hue='genre')"
   ]
  },
  {
   "cell_type": "code",
   "execution_count": 40,
   "metadata": {
    "ExecuteTime": {
     "end_time": "2020-07-12T17:06:06.402378Z",
     "start_time": "2020-07-12T17:06:06.016605Z"
    }
   },
   "outputs": [
    {
     "data": {
      "image/png": "[encoded data removed]",
      "text/plain": [
       "<Figure size 1440x504 with 1 Axes>"
      ]
     },
     "metadata": {
      "needs_background": "light"
     },
     "output_type": "display_data"
    }
   ],
   "source": [
    "# создадим список для значений по оси х\n",
    "x_ticks = games_from_2012['year_of_release'].unique()\n",
    "\n",
    "fig, ax = plt.subplots(figsize=(20,7))\n",
    "sales_by_genres.T.plot(kind='line',  ax=ax, grid=True, xticks=x_ticks)\n",
    "plt.ylabel('total_sales',fontsize='x-large')\n",
    "plt.xlabel('year_of_release',fontsize='x-large')\n",
    "plt.legend(fontsize='x-large')\n",
    "plt.show()"
   ]
  },
  {
   "cell_type": "markdown",
   "metadata": {
    "ExecuteTime": {
     "end_time": "2020-07-06T14:17:34.595443Z",
     "start_time": "2020-07-06T14:17:34.516886Z"
    }
   },
   "source": [
    "Жанр Action испытывает не лучшие времена, с 2013 года испытывает значительное падение. В то время как остальные жанры держатся примерно одинаково, с выраженным падением только в 2016 году, но как мы знаем, за этот год данные предоставлены не в полном объеме. Хотя вряд ли это спасет Action. \n",
    "\n",
    "Таким образом, наиболее прибыльным жанром является shooter, затем Sports & Role-Plaing делят второе место. С учетом отрицательной тендеции прошлых лет Action занимает третье место и замыкает Misc."
   ]
  },
  {
   "cell_type": "markdown",
   "metadata": {},
   "source": [
    "## Выводы"
   ]
  },
  {
   "cell_type": "markdown",
   "metadata": {},
   "source": [
    "Общие тенденции в игровой индустрии: после значительного роста, который начался в 90-х, \n",
    "количество выпускаемых игр на разные платорфмы и выручка с продаж достигли своего максимума в 2006-2007 годах. \n",
    "На протяжении же последних лет выпуск и выручка сократились до уровня конца 90х.\n",
    "\n",
    "Скорость устаревания старых платформ от 4-7 лет, консоли нового поколения остаются актульаными дольше, до 10 лет. \n",
    "\n",
    "Самые прибыльные платорфмы с 1980 года, с порядке убывания популярнсти: PS2, X360, PS3, Wii и DS\n",
    "На промежутке с 2012 года - PS4, PS3, X360, 3DS, XOne. Из них наиболее перспективные в части прибыли - PS4, XOne и 3DS. \n",
    "\n",
    "Диаграмма размаха продемонстрировала, что в большинстве игры на PS4 & XOne продаются в одинаковом коридоре. \n",
    "Графики размаха почти идентичны, за исключением выбросов. На PS4 выходит больше экслюзивов.\n",
    "\n",
    "Существует зависимость умеренная зависимость между оценка критиков и продажами. Критики как правило более благосклонны к играм. \n",
    "В то время как зависимость между отзывами пользователей и продажами почти не прослеживается. Пользователи более критичны в своих оценках.\n",
    "Тем не менее, оценки пользователей и критиков выставляются примерно в одном направлении. \n",
    "Если игра имееют отличную оценку от критиков, то с большйодолей вероятности можно сказать что и от пользователей оценка будет как минимум нормальная. \n",
    "\n",
    "Самый прибыльный жанр с 2012 года - Shooter, за ним Sports & Role-Plaing, далее Action занимает третье место и замыкает Misc.\n"
   ]
  },
  {
   "cell_type": "markdown",
   "metadata": {},
   "source": [
    "# Шаг 4. Составить портрет пользователя каждого региона"
   ]
  },
  {
   "cell_type": "markdown",
   "metadata": {},
   "source": [
    "Определим, какой он, типичный пользователь в каждом регионе. Начнем с Северной-Америки.\n",
    "\n",
    "Изучим общие продажи по платформам и выделим топ-5"
   ]
  },
  {
   "cell_type": "code",
   "execution_count": 41,
   "metadata": {
    "ExecuteTime": {
     "end_time": "2020-07-12T17:06:06.452423Z",
     "start_time": "2020-07-12T17:06:06.405386Z"
    },
    "scrolled": true
   },
   "outputs": [
    {
     "data": {
      "text/html": [
       "<div>\n",
       "<style scoped>\n",
       "    .dataframe tbody tr th:only-of-type {\n",
       "        vertical-align: middle;\n",
       "    }\n",
       "\n",
       "    .dataframe tbody tr th {\n",
       "        vertical-align: top;\n",
       "    }\n",
       "\n",
       "    .dataframe thead th {\n",
       "        text-align: right;\n",
       "    }\n",
       "</style>\n",
       "<table border=\"1\" class=\"dataframe\">\n",
       "  <thead>\n",
       "    <tr style=\"text-align: right;\">\n",
       "      <th></th>\n",
       "      <th>platform</th>\n",
       "      <th>na_sales</th>\n",
       "      <th>Percent</th>\n",
       "      <th>Cumulative na_sales</th>\n",
       "      <th>Cumulative Percent</th>\n",
       "    </tr>\n",
       "  </thead>\n",
       "  <tbody>\n",
       "    <tr>\n",
       "      <th>0</th>\n",
       "      <td>X360</td>\n",
       "      <td>140.05</td>\n",
       "      <td>0.24</td>\n",
       "      <td>140.05</td>\n",
       "      <td>0.24</td>\n",
       "    </tr>\n",
       "    <tr>\n",
       "      <th>1</th>\n",
       "      <td>PS4</td>\n",
       "      <td>108.74</td>\n",
       "      <td>0.18</td>\n",
       "      <td>248.79</td>\n",
       "      <td>0.42</td>\n",
       "    </tr>\n",
       "    <tr>\n",
       "      <th>2</th>\n",
       "      <td>PS3</td>\n",
       "      <td>103.38</td>\n",
       "      <td>0.17</td>\n",
       "      <td>352.17</td>\n",
       "      <td>0.60</td>\n",
       "    </tr>\n",
       "    <tr>\n",
       "      <th>3</th>\n",
       "      <td>XOne</td>\n",
       "      <td>93.12</td>\n",
       "      <td>0.16</td>\n",
       "      <td>445.29</td>\n",
       "      <td>0.75</td>\n",
       "    </tr>\n",
       "    <tr>\n",
       "      <th>4</th>\n",
       "      <td>3DS</td>\n",
       "      <td>55.31</td>\n",
       "      <td>0.09</td>\n",
       "      <td>500.60</td>\n",
       "      <td>0.85</td>\n",
       "    </tr>\n",
       "    <tr>\n",
       "      <th>5</th>\n",
       "      <td>Others</td>\n",
       "      <td>90.37</td>\n",
       "      <td>0.15</td>\n",
       "      <td>590.97</td>\n",
       "      <td>1.00</td>\n",
       "    </tr>\n",
       "  </tbody>\n",
       "</table>\n",
       "</div>"
      ],
      "text/plain": [
       "  platform  na_sales  Percent  Cumulative na_sales  Cumulative Percent\n",
       "0     X360    140.05     0.24               140.05                0.24\n",
       "1      PS4    108.74     0.18               248.79                0.42\n",
       "2      PS3    103.38     0.17               352.17                0.60\n",
       "3     XOne     93.12     0.16               445.29                0.75\n",
       "4      3DS     55.31     0.09               500.60                0.85\n",
       "5   Others     90.37     0.15               590.97                1.00"
      ]
     },
     "execution_count": 41,
     "metadata": {},
     "output_type": "execute_result"
    }
   ],
   "source": [
    "games_from_2012.stb.freq(['platform'], value='na_sales', thresh=.9)"
   ]
  },
  {
   "cell_type": "markdown",
   "metadata": {},
   "source": [
    "85% рынка приставок занимаются X-Боксы, PS и 3DS.\n",
    "Отметим, что на долю X-Боксов приходится больше продаж чем на PS в целом. Хотя доля продаж на PS4 немного больше чем у XOne, что может свидетельствовать о смене предпочтений игроков, но пока судить рано и вермя покажет. Посмотрим в динамике по годам."
   ]
  },
  {
   "cell_type": "code",
   "execution_count": 42,
   "metadata": {
    "ExecuteTime": {
     "end_time": "2020-07-12T17:06:06.544490Z",
     "start_time": "2020-07-12T17:06:06.454422Z"
    },
    "scrolled": true
   },
   "outputs": [
    {
     "data": {
      "text/html": [
       "<div>\n",
       "<style scoped>\n",
       "    .dataframe tbody tr th:only-of-type {\n",
       "        vertical-align: middle;\n",
       "    }\n",
       "\n",
       "    .dataframe tbody tr th {\n",
       "        vertical-align: top;\n",
       "    }\n",
       "\n",
       "    .dataframe thead th {\n",
       "        text-align: right;\n",
       "    }\n",
       "</style>\n",
       "<table border=\"1\" class=\"dataframe\">\n",
       "  <thead>\n",
       "    <tr style=\"text-align: right;\">\n",
       "      <th>year_of_release</th>\n",
       "      <th>2012</th>\n",
       "      <th>2013</th>\n",
       "      <th>2014</th>\n",
       "      <th>2015</th>\n",
       "      <th>2016</th>\n",
       "      <th>total</th>\n",
       "    </tr>\n",
       "    <tr>\n",
       "      <th>platform</th>\n",
       "      <th></th>\n",
       "      <th></th>\n",
       "      <th></th>\n",
       "      <th></th>\n",
       "      <th></th>\n",
       "      <th></th>\n",
       "    </tr>\n",
       "  </thead>\n",
       "  <tbody>\n",
       "    <tr>\n",
       "      <th>total</th>\n",
       "      <td>153.26</td>\n",
       "      <td>153.65</td>\n",
       "      <td>132.27</td>\n",
       "      <td>106.86</td>\n",
       "      <td>44.93</td>\n",
       "      <td>590.97</td>\n",
       "    </tr>\n",
       "    <tr>\n",
       "      <th>X360</th>\n",
       "      <td>58.39</td>\n",
       "      <td>53.36</td>\n",
       "      <td>20.25</td>\n",
       "      <td>7.36</td>\n",
       "      <td>0.69</td>\n",
       "      <td>140.05</td>\n",
       "    </tr>\n",
       "    <tr>\n",
       "      <th>PS4</th>\n",
       "      <td>NaN</td>\n",
       "      <td>10.13</td>\n",
       "      <td>34.75</td>\n",
       "      <td>42.37</td>\n",
       "      <td>21.49</td>\n",
       "      <td>108.74</td>\n",
       "    </tr>\n",
       "    <tr>\n",
       "      <th>PS3</th>\n",
       "      <td>39.88</td>\n",
       "      <td>41.45</td>\n",
       "      <td>16.39</td>\n",
       "      <td>4.99</td>\n",
       "      <td>0.67</td>\n",
       "      <td>103.38</td>\n",
       "    </tr>\n",
       "    <tr>\n",
       "      <th>XOne</th>\n",
       "      <td>NaN</td>\n",
       "      <td>11.85</td>\n",
       "      <td>30.97</td>\n",
       "      <td>36.03</td>\n",
       "      <td>14.27</td>\n",
       "      <td>93.12</td>\n",
       "    </tr>\n",
       "    <tr>\n",
       "      <th>3DS</th>\n",
       "      <td>17.11</td>\n",
       "      <td>15.56</td>\n",
       "      <td>12.33</td>\n",
       "      <td>6.17</td>\n",
       "      <td>4.14</td>\n",
       "      <td>55.31</td>\n",
       "    </tr>\n",
       "    <tr>\n",
       "      <th>WiiU</th>\n",
       "      <td>8.89</td>\n",
       "      <td>9.85</td>\n",
       "      <td>10.50</td>\n",
       "      <td>6.76</td>\n",
       "      <td>2.10</td>\n",
       "      <td>38.10</td>\n",
       "    </tr>\n",
       "    <tr>\n",
       "      <th>PC</th>\n",
       "      <td>8.01</td>\n",
       "      <td>3.88</td>\n",
       "      <td>3.51</td>\n",
       "      <td>2.36</td>\n",
       "      <td>1.36</td>\n",
       "      <td>19.12</td>\n",
       "    </tr>\n",
       "    <tr>\n",
       "      <th>Wii</th>\n",
       "      <td>10.89</td>\n",
       "      <td>4.48</td>\n",
       "      <td>1.59</td>\n",
       "      <td>0.43</td>\n",
       "      <td>0.06</td>\n",
       "      <td>17.45</td>\n",
       "    </tr>\n",
       "    <tr>\n",
       "      <th>PSV</th>\n",
       "      <td>5.94</td>\n",
       "      <td>2.52</td>\n",
       "      <td>1.98</td>\n",
       "      <td>0.39</td>\n",
       "      <td>0.15</td>\n",
       "      <td>10.98</td>\n",
       "    </tr>\n",
       "    <tr>\n",
       "      <th>DS</th>\n",
       "      <td>4.02</td>\n",
       "      <td>0.57</td>\n",
       "      <td>NaN</td>\n",
       "      <td>NaN</td>\n",
       "      <td>NaN</td>\n",
       "      <td>4.59</td>\n",
       "    </tr>\n",
       "    <tr>\n",
       "      <th>PSP</th>\n",
       "      <td>0.13</td>\n",
       "      <td>0.00</td>\n",
       "      <td>0.00</td>\n",
       "      <td>0.00</td>\n",
       "      <td>NaN</td>\n",
       "      <td>0.13</td>\n",
       "    </tr>\n",
       "  </tbody>\n",
       "</table>\n",
       "</div>"
      ],
      "text/plain": [
       "year_of_release    2012    2013    2014    2015   2016   total\n",
       "platform                                                      \n",
       "total            153.26  153.65  132.27  106.86  44.93  590.97\n",
       "X360              58.39   53.36   20.25    7.36   0.69  140.05\n",
       "PS4                 NaN   10.13   34.75   42.37  21.49  108.74\n",
       "PS3               39.88   41.45   16.39    4.99   0.67  103.38\n",
       "XOne                NaN   11.85   30.97   36.03  14.27   93.12\n",
       "3DS               17.11   15.56   12.33    6.17   4.14   55.31\n",
       "WiiU               8.89    9.85   10.50    6.76   2.10   38.10\n",
       "PC                 8.01    3.88    3.51    2.36   1.36   19.12\n",
       "Wii               10.89    4.48    1.59    0.43   0.06   17.45\n",
       "PSV                5.94    2.52    1.98    0.39   0.15   10.98\n",
       "DS                 4.02    0.57     NaN     NaN    NaN    4.59\n",
       "PSP                0.13    0.00    0.00    0.00    NaN    0.13"
      ]
     },
     "execution_count": 42,
     "metadata": {},
     "output_type": "execute_result"
    }
   ],
   "source": [
    "pd.crosstab(games_from_2012.platform, \n",
    "            games_from_2012.year_of_release,\n",
    "            values=games_from_2012.na_sales,\n",
    "            aggfunc='sum',\n",
    "           margins=True,\n",
    "           margins_name='total').sort_values(by='total', ascending=False)"
   ]
  },
  {
   "cell_type": "markdown",
   "metadata": {},
   "source": [
    "Действительно, пока что абсолютные цифры за Microsoft, однако в последние года Play Station чуть подвинула конкурентов.\n",
    "\n",
    "Если анализировать причины текущего превосходства Microsoft, то можно предположить, что влияние оказывает такой фактор как патриотизм. Жители Северной Америки могут отдавать предпочтение компании из Америки, нежели из Японии. \n",
    "\n",
    "Изучим популярные на этом континенте жанры, добавим немного визуализации. "
   ]
  },
  {
   "cell_type": "code",
   "execution_count": 43,
   "metadata": {
    "ExecuteTime": {
     "end_time": "2020-07-12T17:06:06.819192Z",
     "start_time": "2020-07-12T17:06:06.547492Z"
    }
   },
   "outputs": [
    {
     "data": {
      "image/png": "[encoded data removed]",
      "text/plain": [
       "<Figure size 432x288 with 1 Axes>"
      ]
     },
     "metadata": {
      "needs_background": "light"
     },
     "output_type": "display_data"
    }
   ],
   "source": [
    "na_genres_dist = games_from_2012.stb.freq(['genre'], value='na_sales', thresh=.86)\n",
    "sns.barplot(data=na_genres_dist, y='na_sales' , x='genre')\n",
    "plt.title('Продажи по жанрам в Cеверной - Америке')\n",
    "plt.show()"
   ]
  },
  {
   "cell_type": "code",
   "execution_count": 44,
   "metadata": {
    "ExecuteTime": {
     "end_time": "2020-07-12T17:06:07.101892Z",
     "start_time": "2020-07-12T17:06:06.821696Z"
    }
   },
   "outputs": [
    {
     "data": {
      "image/png": "[encoded data removed]",
      "text/plain": [
       "<Figure size 1080x360 with 1 Axes>"
      ]
     },
     "metadata": {
      "needs_background": "light"
     },
     "output_type": "display_data"
    }
   ],
   "source": [
    "games_from_2012_na_top_genres = games_from_2012.query('genre in [\"Action\",\"Shooter\",\"Sports\",\"Role-Playing\",\"Misc\"]')\n",
    "fig, ax = plt.subplots(figsize=(15,5))\n",
    "pd.crosstab(games_from_2012_na_top_genres.genre, \n",
    "            games_from_2012_na_top_genres.year_of_release,\n",
    "            values=games_from_2012_na_top_genres.na_sales,\n",
    "            aggfunc='sum').T.plot(ax = ax, xticks=x_ticks)\n",
    "plt.title('Динамика по продажам разных жанров')\n",
    "plt.show()"
   ]
  },
  {
   "cell_type": "markdown",
   "metadata": {},
   "source": [
    "Как было отмечено в предыдущей части работы, жанр Action переживает не лучшие времена. Продажи падают, а может и игр выпускает в принципе меньше. Тем не менее он входит в пятерку лидеров. И сама пятерка такая же как и во всем мире.\n",
    "\n",
    "Изучим пользователей в Европе. "
   ]
  },
  {
   "cell_type": "code",
   "execution_count": 45,
   "metadata": {
    "ExecuteTime": {
     "end_time": "2020-07-12T17:06:07.539219Z",
     "start_time": "2020-07-12T17:06:07.104894Z"
    }
   },
   "outputs": [
    {
     "data": {
      "image/png": "[encoded data removed]",
      "text/plain": [
       "<Figure size 1080x360 with 1 Axes>"
      ]
     },
     "metadata": {
      "needs_background": "light"
     },
     "output_type": "display_data"
    }
   ],
   "source": [
    "fig, ax = plt.subplots(figsize=(15, 5))\n",
    "pd.crosstab(games_from_2012.platform, \n",
    "            games_from_2012.year_of_release,\n",
    "            values=games_from_2012.eu_sales,\n",
    "            aggfunc='sum',\n",
    "           ).plot(kind='bar', ax=ax)\n",
    "plt.title('Распределение продаж по платформам в Европе')\n",
    "plt.show()"
   ]
  },
  {
   "cell_type": "markdown",
   "metadata": {},
   "source": [
    "По графику становится очевидно, что в Европе большей популярностью пользуются Play Station, затем XBox. Чтобы выбрать пятую по полуряности платформу построим таблицу."
   ]
  },
  {
   "cell_type": "code",
   "execution_count": 46,
   "metadata": {
    "ExecuteTime": {
     "end_time": "2020-07-12T17:06:07.589250Z",
     "start_time": "2020-07-12T17:06:07.542220Z"
    }
   },
   "outputs": [
    {
     "data": {
      "text/html": [
       "<div>\n",
       "<style scoped>\n",
       "    .dataframe tbody tr th:only-of-type {\n",
       "        vertical-align: middle;\n",
       "    }\n",
       "\n",
       "    .dataframe tbody tr th {\n",
       "        vertical-align: top;\n",
       "    }\n",
       "\n",
       "    .dataframe thead th {\n",
       "        text-align: right;\n",
       "    }\n",
       "</style>\n",
       "<table border=\"1\" class=\"dataframe\">\n",
       "  <thead>\n",
       "    <tr style=\"text-align: right;\">\n",
       "      <th></th>\n",
       "      <th>platform</th>\n",
       "      <th>eu_sales</th>\n",
       "      <th>Percent</th>\n",
       "      <th>Cumulative eu_sales</th>\n",
       "      <th>Cumulative Percent</th>\n",
       "    </tr>\n",
       "  </thead>\n",
       "  <tbody>\n",
       "    <tr>\n",
       "      <th>0</th>\n",
       "      <td>PS4</td>\n",
       "      <td>141.09</td>\n",
       "      <td>0.28</td>\n",
       "      <td>141.09</td>\n",
       "      <td>0.28</td>\n",
       "    </tr>\n",
       "    <tr>\n",
       "      <th>1</th>\n",
       "      <td>PS3</td>\n",
       "      <td>106.86</td>\n",
       "      <td>0.21</td>\n",
       "      <td>247.95</td>\n",
       "      <td>0.49</td>\n",
       "    </tr>\n",
       "    <tr>\n",
       "      <th>2</th>\n",
       "      <td>X360</td>\n",
       "      <td>74.52</td>\n",
       "      <td>0.15</td>\n",
       "      <td>322.47</td>\n",
       "      <td>0.64</td>\n",
       "    </tr>\n",
       "    <tr>\n",
       "      <th>3</th>\n",
       "      <td>XOne</td>\n",
       "      <td>51.59</td>\n",
       "      <td>0.10</td>\n",
       "      <td>374.06</td>\n",
       "      <td>0.74</td>\n",
       "    </tr>\n",
       "    <tr>\n",
       "      <th>4</th>\n",
       "      <td>3DS</td>\n",
       "      <td>42.64</td>\n",
       "      <td>0.08</td>\n",
       "      <td>416.70</td>\n",
       "      <td>0.82</td>\n",
       "    </tr>\n",
       "    <tr>\n",
       "      <th>5</th>\n",
       "      <td>PC</td>\n",
       "      <td>37.76</td>\n",
       "      <td>0.07</td>\n",
       "      <td>454.46</td>\n",
       "      <td>0.90</td>\n",
       "    </tr>\n",
       "    <tr>\n",
       "      <th>6</th>\n",
       "      <td>Others</td>\n",
       "      <td>52.36</td>\n",
       "      <td>0.10</td>\n",
       "      <td>506.82</td>\n",
       "      <td>1.00</td>\n",
       "    </tr>\n",
       "  </tbody>\n",
       "</table>\n",
       "</div>"
      ],
      "text/plain": [
       "  platform  eu_sales  Percent  Cumulative eu_sales  Cumulative Percent\n",
       "0      PS4    141.09     0.28               141.09                0.28\n",
       "1      PS3    106.86     0.21               247.95                0.49\n",
       "2     X360     74.52     0.15               322.47                0.64\n",
       "3     XOne     51.59     0.10               374.06                0.74\n",
       "4      3DS     42.64     0.08               416.70                0.82\n",
       "5       PC     37.76     0.07               454.46                0.90\n",
       "6   Others     52.36     0.10               506.82                1.00"
      ]
     },
     "execution_count": 46,
     "metadata": {},
     "output_type": "execute_result"
    }
   ],
   "source": [
    "games_from_2012.stb.freq(['platform'], value='eu_sales', thresh=.9)"
   ]
  },
  {
   "cell_type": "markdown",
   "metadata": {},
   "source": [
    "С небольшим отрывом, как и в глобальном рейтинге, пятое место занимает 3DS.\n",
    "\n",
    "Посмотрим на предпочтения по жанрам."
   ]
  },
  {
   "cell_type": "code",
   "execution_count": 47,
   "metadata": {
    "ExecuteTime": {
     "end_time": "2020-07-12T17:06:07.882177Z",
     "start_time": "2020-07-12T17:06:07.592254Z"
    }
   },
   "outputs": [
    {
     "data": {
      "image/png": "[encoded data removed]",
      "text/plain": [
       "<Figure size 432x288 with 1 Axes>"
      ]
     },
     "metadata": {
      "needs_background": "light"
     },
     "output_type": "display_data"
    }
   ],
   "source": [
    "eu_genres_dist = games_from_2012.stb.freq(['genre'], value='eu_sales', thresh=.86)\n",
    "sns.barplot(data=eu_genres_dist, y='eu_sales' , x='genre')\n",
    "plt.title('Продажи по жанрам в Cеверной - Америке')\n",
    "plt.show()"
   ]
  },
  {
   "cell_type": "markdown",
   "metadata": {},
   "source": [
    "Европейские игроки имеют почти такие же предпочтения, за исключением пятого места, там поместились гонки.\n",
    "\n",
    "И изучим Японию."
   ]
  },
  {
   "cell_type": "code",
   "execution_count": 48,
   "metadata": {
    "ExecuteTime": {
     "end_time": "2020-07-12T17:06:08.013274Z",
     "start_time": "2020-07-12T17:06:07.886179Z"
    },
    "scrolled": false
   },
   "outputs": [
    {
     "data": {
      "image/png": "[encoded data removed]",
      "text/plain": [
       "<Figure size 432x288 with 1 Axes>"
      ]
     },
     "metadata": {},
     "output_type": "display_data"
    }
   ],
   "source": [
    "games_from_2012.groupby('platform')['jp_sales'].sum().sort_values(ascending=False).plot(kind='pie')\n",
    "plt.title('Распределение по платформам в Японии')\n",
    "plt.show()"
   ]
  },
  {
   "cell_type": "markdown",
   "metadata": {},
   "source": [
    "Японцы - странные, все у них не как у людей) Самой большой популярностью пользуются  портативные 3DS, видимо предпочитают играть везде где только можно. Возможно сказывается тот факт, что в Японии проблема с жильем, особенно в больших мегаполисах, и люди таким образом экономят пространство. Примечательно, что американцы и близко не подступились к лидерам.\n",
    "\n",
    "Теперь в двойне интересно как обстоят дела с жанрами."
   ]
  },
  {
   "cell_type": "code",
   "execution_count": 49,
   "metadata": {
    "ExecuteTime": {
     "end_time": "2020-07-12T17:06:08.273092Z",
     "start_time": "2020-07-12T17:06:08.015776Z"
    },
    "scrolled": true
   },
   "outputs": [
    {
     "data": {
      "image/png": "[encoded data removed]",
      "text/plain": [
       "<Figure size 432x288 with 1 Axes>"
      ]
     },
     "metadata": {
      "needs_background": "light"
     },
     "output_type": "display_data"
    }
   ],
   "source": [
    "games_from_2012.groupby('genre')['jp_sales'].sum().sort_values().plot(kind='bar')\n",
    "plt.title('Распределение по жанрам в Японии')\n",
    "plt.show()"
   ]
  },
  {
   "cell_type": "markdown",
   "metadata": {},
   "source": [
    "И снова сюрпризы, у японцев топ-5 отличается от Европы и Америки.  \n",
    "\n",
    "Подведем итоги по всем направлениям, соберем полученные данные в один df."
   ]
  },
  {
   "cell_type": "code",
   "execution_count": 50,
   "metadata": {
    "ExecuteTime": {
     "end_time": "2020-07-12T17:06:08.421812Z",
     "start_time": "2020-07-12T17:06:08.278096Z"
    }
   },
   "outputs": [
    {
     "name": "stdout",
     "output_type": "stream",
     "text": [
      "Топ-5 консолей и жанров в разных регионах\n"
     ]
    },
    {
     "data": {
      "text/html": [
       "<div>\n",
       "<style scoped>\n",
       "    .dataframe tbody tr th:only-of-type {\n",
       "        vertical-align: middle;\n",
       "    }\n",
       "\n",
       "    .dataframe tbody tr th {\n",
       "        vertical-align: top;\n",
       "    }\n",
       "\n",
       "    .dataframe thead tr th {\n",
       "        text-align: left;\n",
       "    }\n",
       "</style>\n",
       "<table border=\"1\" class=\"dataframe\">\n",
       "  <thead>\n",
       "    <tr>\n",
       "      <th></th>\n",
       "      <th colspan=\"2\" halign=\"left\">North-America</th>\n",
       "      <th colspan=\"2\" halign=\"left\">Europe</th>\n",
       "      <th colspan=\"2\" halign=\"left\">Japan</th>\n",
       "    </tr>\n",
       "    <tr>\n",
       "      <th></th>\n",
       "      <th>platform</th>\n",
       "      <th>genre</th>\n",
       "      <th>platform</th>\n",
       "      <th>genre</th>\n",
       "      <th>platform</th>\n",
       "      <th>genre</th>\n",
       "    </tr>\n",
       "  </thead>\n",
       "  <tbody>\n",
       "    <tr>\n",
       "      <th>1</th>\n",
       "      <td>X360</td>\n",
       "      <td>Action</td>\n",
       "      <td>PS4</td>\n",
       "      <td>Action</td>\n",
       "      <td>3DS</td>\n",
       "      <td>Role-Playing</td>\n",
       "    </tr>\n",
       "    <tr>\n",
       "      <th>2</th>\n",
       "      <td>PS4</td>\n",
       "      <td>Shooter</td>\n",
       "      <td>PS3</td>\n",
       "      <td>Shooter</td>\n",
       "      <td>PS3</td>\n",
       "      <td>Action</td>\n",
       "    </tr>\n",
       "    <tr>\n",
       "      <th>3</th>\n",
       "      <td>PS3</td>\n",
       "      <td>Sports</td>\n",
       "      <td>X360</td>\n",
       "      <td>Sports</td>\n",
       "      <td>PSV</td>\n",
       "      <td>Misc</td>\n",
       "    </tr>\n",
       "    <tr>\n",
       "      <th>4</th>\n",
       "      <td>XOne</td>\n",
       "      <td>Role-Playing</td>\n",
       "      <td>XOne</td>\n",
       "      <td>Role-Playing</td>\n",
       "      <td>PS4</td>\n",
       "      <td>Simulation</td>\n",
       "    </tr>\n",
       "    <tr>\n",
       "      <th>5</th>\n",
       "      <td>3DS</td>\n",
       "      <td>Misc</td>\n",
       "      <td>3DS</td>\n",
       "      <td>Racing</td>\n",
       "      <td>WiiU</td>\n",
       "      <td>Fighting</td>\n",
       "    </tr>\n",
       "  </tbody>\n",
       "</table>\n",
       "</div>"
      ],
      "text/plain": [
       "  North-America                 Europe                  Japan              \n",
       "       platform         genre platform         genre platform         genre\n",
       "1          X360        Action      PS4        Action      3DS  Role-Playing\n",
       "2           PS4       Shooter      PS3       Shooter      PS3        Action\n",
       "3           PS3        Sports     X360        Sports      PSV          Misc\n",
       "4          XOne  Role-Playing     XOne  Role-Playing      PS4    Simulation\n",
       "5           3DS          Misc      3DS        Racing     WiiU      Fighting"
      ]
     },
     "metadata": {},
     "output_type": "display_data"
    }
   ],
   "source": [
    "country = ['North-America','Europe','Japan']\n",
    "types = ['platform','genre']\n",
    "index = [1,2,3,4,5]\n",
    "data = [\n",
    "    [[['X360'],['Action']],[['PS4'],['Action']],[['3DS'],['Role-Playing']]],\n",
    "    [[['PS4'],['Shooter']],[['PS3'],['Shooter']],[['PS3'],['Action']]],\n",
    "    [[['PS3'],['Sports']],[['X360'],['Sports']],[['PSV'],['Misc']]],\n",
    "    [[['XOne'],['Role-Playing']],[['XOne'],['Role-Playing']],[['PS4'],['Simulation']]],\n",
    "    [[['3DS'],['Misc']],[['3DS'],['Racing']],[['WiiU'],['Fighting']]]\n",
    "]\n",
    "data = np.array(data).reshape(len(index), len(types) * len(country))\n",
    "multi_columns = pd.MultiIndex.from_product([country, types])\n",
    "users_preferences = pd.DataFrame(data, index=index, columns=multi_columns)\n",
    "print('Топ-5 консолей и жанров в разных регионах')\n",
    "display(users_preferences)"
   ]
  },
  {
   "cell_type": "markdown",
   "metadata": {},
   "source": [
    "И изучим влияние рейтинга игры на продажу."
   ]
  },
  {
   "cell_type": "code",
   "execution_count": 51,
   "metadata": {
    "ExecuteTime": {
     "end_time": "2020-07-12T17:06:08.991586Z",
     "start_time": "2020-07-12T17:06:08.424318Z"
    }
   },
   "outputs": [
    {
     "data": {
      "image/png": "[encoded data removed]",
      "text/plain": [
       "<Figure size 1080x360 with 3 Axes>"
      ]
     },
     "metadata": {
      "needs_background": "light"
     },
     "output_type": "display_data"
    }
   ],
   "source": [
    "sales = ['na_sales', 'eu_sales', 'jp_sales']\n",
    "countries = ['C-A', 'Europe','Japan']\n",
    "fig, axs = plt.subplots(1,3, figsize=(15,5))\n",
    "fig.suptitle('Продажи, в разбивке по рейтингу ESRB')\n",
    "for i, sale in enumerate(sales):\n",
    "    for country in countries:\n",
    "        games_from_2012.groupby('rating')[sale].sum().plot(kind='bar', ax=axs[i], title=sale)\n"
   ]
  },
  {
   "cell_type": "markdown",
   "metadata": {},
   "source": [
    "## Вывод"
   ]
  },
  {
   "cell_type": "markdown",
   "metadata": {},
   "source": [
    "В итоге, в Северной-Америке предпочитают поддерживать регионального производителя - Miscrosoft. И отдают предпочтение классическим консолям. Как и в Европе, там тоже предпочитают классику, но больше доверяют Play Station. В то время как в Японии наблюдается тотальное доминирование отечестветнного производителя, но с уклоном на портативность. \n",
    "\n",
    "Касательно жанров, первые две группы пользователей практически полностью повторяют выбор друг друга. За исключением 5ого места. В то время как Японцы вывели в топ два совершенно далеких для нового и старого света жанров. \n",
    "\n",
    "Исторически сложилось противостояние PS и X-Box, как правило PS выигрывает за счет большего количества эксклюзивных игр. Однако, как мы увидели, региональные особенности так же имеют место быть. Может быть ценовая политика в разнцых странах отличается, маректинг и т.п. Например в одной из статей былы отмечены различия в позиционировании консолец. PS4 - полностью игровая платформа, в то время как X-Box медиацентр, но не все его сервесы доступны для пользователей за пределами США, что делает её менее предпочтительной по сравнению с PS в Европе, не говоря о Японии.\n",
    "\n",
    "Касательно влияния рейтингов на продажи. \n",
    "\n",
    "В С-Америке и Европе наибольшим спросом пользуются игры с рейтингом M (для взрослых), в то время как в Японии популярны рейтинги E (для всех), T (подростки) и М практически в равной степени."
   ]
  },
  {
   "cell_type": "markdown",
   "metadata": {},
   "source": [
    "\n",
    "# Шаг 5. Проверка гипотез"
   ]
  },
  {
   "cell_type": "markdown",
   "metadata": {},
   "source": [
    "Приступим к проверке гипотиз. \n",
    "\n",
    "Средние пользовательские рейтинги платформ Xbox One и PC одинаковые\n",
    "\n",
    "- **H0** - повторяет проверяемую гипотезу. Рейтинги пользователей платформ Xbox One & PC равны\n",
    "- **H1** - рейтинги не равны\n",
    "\n",
    "Таким образом, мы будем проверять две выборки совокупности на равенство их средних. \n",
    "Уровень значимости - 5%\n",
    "\n",
    "Прежде всего проверим наши распеределения на нормальность"
   ]
  },
  {
   "cell_type": "code",
   "execution_count": 52,
   "metadata": {
    "ExecuteTime": {
     "end_time": "2020-07-12T17:06:09.006597Z",
     "start_time": "2020-07-12T17:06:08.994587Z"
    }
   },
   "outputs": [],
   "source": [
    "xbox_population = games_from_2012.loc[(games_from_2012['platform'] == 'XOne') & (games_from_2012['user_score'].notna())]\n",
    "pc_population = games_from_2012.loc[(games_from_2012['platform'] == 'PC') & (games_from_2012['user_score'].notna())]"
   ]
  },
  {
   "cell_type": "code",
   "execution_count": 53,
   "metadata": {
    "ExecuteTime": {
     "end_time": "2020-07-12T17:06:09.490709Z",
     "start_time": "2020-07-12T17:06:09.009601Z"
    }
   },
   "outputs": [
    {
     "data": {
      "image/png": "[encoded data removed]",
      "text/plain": [
       "<Figure size 720x360 with 2 Axes>"
      ]
     },
     "metadata": {
      "needs_background": "light"
     },
     "output_type": "display_data"
    }
   ],
   "source": [
    "fig, axs = plt.subplots(1,2, figsize=(10,5))\n",
    "plt.suptitle('Распределение пользовательских оценок на xbox & pc')\n",
    "sns.distplot(xbox_population['user_score'], ax=axs[0]).set_title('xbox population');\n",
    "sns.distplot(pc_population['user_score'], ax=axs[1]).set_title('pc population');"
   ]
  },
  {
   "cell_type": "code",
   "execution_count": 54,
   "metadata": {
    "ExecuteTime": {
     "end_time": "2020-07-12T17:06:09.505719Z",
     "start_time": "2020-07-12T17:06:09.493710Z"
    },
    "scrolled": true
   },
   "outputs": [
    {
     "name": "stdout",
     "output_type": "stream",
     "text": [
      "xbox\n"
     ]
    },
    {
     "data": {
      "text/plain": [
       "1.5249203897838015e-05"
      ]
     },
     "metadata": {},
     "output_type": "display_data"
    },
    {
     "name": "stdout",
     "output_type": "stream",
     "text": [
      "pc\n"
     ]
    },
    {
     "data": {
      "text/plain": [
       "1.1412866740556638e-07"
      ]
     },
     "metadata": {},
     "output_type": "display_data"
    }
   ],
   "source": [
    "print('xbox')\n",
    "display(st.shapiro(xbox_population['user_score'])[1])\n",
    "print('pc')\n",
    "display(st.shapiro(pc_population['user_score'])[1])"
   ]
  },
  {
   "cell_type": "markdown",
   "metadata": {},
   "source": [
    "Построили диграмму распределения и провели тест Шапиро-Вилкса. *(Можно было ограничеться чем-то одним, но для тренировки сделал оба)*\n",
    "\n",
    "Диаграмма показала, а тест подтвердил, что оба распределения ненормальные. На диграмме мы видим значительное смещение влево, а p-уровень  значимости полученный в ходе тестов оказался очень близок к нулю. Таким образом была отвергнута нулевая гипотеза, что выборка взята из нормального распределения. \n",
    "\n",
    "Теперь сравним дисперсии наших выборок тестом Левена."
   ]
  },
  {
   "cell_type": "code",
   "execution_count": 55,
   "metadata": {
    "ExecuteTime": {
     "end_time": "2020-07-12T17:06:09.543751Z",
     "start_time": "2020-07-12T17:06:09.509226Z"
    }
   },
   "outputs": [
    {
     "data": {
      "text/plain": [
       "LeveneResult(statistic=6.2952871760692375, pvalue=0.01251484281850554)"
      ]
     },
     "execution_count": 55,
     "metadata": {},
     "output_type": "execute_result"
    }
   ],
   "source": [
    "st.levene(xbox_population['user_score'], pc_population['user_score'])"
   ]
  },
  {
   "cell_type": "markdown",
   "metadata": {
    "ExecuteTime": {
     "end_time": "2020-07-08T08:33:36.252938Z",
     "start_time": "2020-07-08T08:33:36.243433Z"
    }
   },
   "source": [
    "Значение теста Левена не позволяет отвергнуть гипотизу о равенстве дисперсия, соответственно признаем что дисперсии наших выборок приблизительно равны. \n",
    "\n",
    "Теперь проверим наши основные гипотезы, о равенстве средных оценок пользователей. \n",
    "Так как мы признали равенство дисперсий, и у нас достаточное количество наблюдений (>30), то можно провести тесть Стьюдента, в тоже время, распределение ненормальное, и можно использовать критерий Манна-Уитни.\n",
    "\n",
    "Проведем оба теста и сравним результаты. "
   ]
  },
  {
   "cell_type": "code",
   "execution_count": 56,
   "metadata": {
    "ExecuteTime": {
     "end_time": "2020-07-12T17:06:09.555761Z",
     "start_time": "2020-07-12T17:06:09.547753Z"
    }
   },
   "outputs": [],
   "source": [
    "mannwhitneyu_test = st.mannwhitneyu(xbox_population['user_score'], pc_population['user_score'], alternative='two-sided')[1]"
   ]
  },
  {
   "cell_type": "code",
   "execution_count": 57,
   "metadata": {
    "ExecuteTime": {
     "end_time": "2020-07-12T17:06:09.566769Z",
     "start_time": "2020-07-12T17:06:09.558760Z"
    }
   },
   "outputs": [],
   "source": [
    "ttest = st.ttest_ind(xbox_population['user_score'], pc_population['user_score'], equal_var=True)[1]"
   ]
  },
  {
   "cell_type": "code",
   "execution_count": 58,
   "metadata": {
    "ExecuteTime": {
     "end_time": "2020-07-12T17:06:09.579775Z",
     "start_time": "2020-07-12T17:06:09.571769Z"
    },
    "scrolled": false
   },
   "outputs": [
    {
     "name": "stdout",
     "output_type": "stream",
     "text": [
      "p-value теста Манна-Уитни 0.8649062975\n",
      "p-value теста Стьюдента 0.5535080501\n"
     ]
    }
   ],
   "source": [
    "print('p-value теста Манна-Уитни {:.10f}'.format(mannwhitneyu_test))\n",
    "print('p-value теста Стьюдента {:.10f}'.format(ttest))"
   ]
  },
  {
   "cell_type": "code",
   "execution_count": 59,
   "metadata": {
    "ExecuteTime": {
     "end_time": "2020-07-12T17:06:09.592783Z",
     "start_time": "2020-07-12T17:06:09.582776Z"
    },
    "scrolled": true
   },
   "outputs": [
    {
     "name": "stdout",
     "output_type": "stream",
     "text": [
      "Среднее выборочное значение пользовательского рейтинга xbox one - 65.21\n",
      "Среднее выборочное значение пользовательского рейтинга pc - 64.29\n"
     ]
    }
   ],
   "source": [
    "xbox_mean = xbox_population['user_score'].mean().round(2)\n",
    "pc_mean = pc_population['user_score'].mean().round(2)\n",
    "print('Среднее выборочное значение пользовательского рейтинга xbox one -', xbox_mean)\n",
    "print('Среднее выборочное значение пользовательского рейтинга pc -', pc_mean)"
   ]
  },
  {
   "cell_type": "markdown",
   "metadata": {},
   "source": [
    "Оба теста показали значение p-value больше уровня значимости. Следовательно мы не можем отвергнуть нулевую гипотизу.\n",
    "Это значит, что **средний пользовательский рейтинг платформ Xbox One & PC равны**.\n",
    "\n",
    "Приступим к проверке следующей гипотизы. \n",
    "\n",
    "Средние пользовательские рейтинги жанров Action (англ. «действие», экшен-игры) и Sports (англ. «спортивные соревнования») разные.\n",
    "- H0 - средний пользовательский рейтинг жанра Action равен рейтингу Sports\n",
    "- H1 - средние пользовательиские рейтинги этих жанров не равны.\n",
    "\n",
    "Уровень значимости - 5%"
   ]
  },
  {
   "cell_type": "code",
   "execution_count": 60,
   "metadata": {
    "ExecuteTime": {
     "end_time": "2020-07-12T17:06:09.612802Z",
     "start_time": "2020-07-12T17:06:09.595785Z"
    }
   },
   "outputs": [],
   "source": [
    "action_population = games_from_2012.loc[(games_from_2012['genre'] == 'Action') & (games_from_2012['user_score'].notna())]\n",
    "sports_population = games_from_2012.loc[(games_from_2012['genre'] == 'Sports') & (games_from_2012['user_score'].notna())]"
   ]
  },
  {
   "cell_type": "code",
   "execution_count": 61,
   "metadata": {
    "ExecuteTime": {
     "end_time": "2020-07-12T17:06:10.217528Z",
     "start_time": "2020-07-12T17:06:09.615802Z"
    }
   },
   "outputs": [
    {
     "data": {
      "image/png": "[encoded data removed]",
      "text/plain": [
       "<Figure size 720x360 with 2 Axes>"
      ]
     },
     "metadata": {
      "needs_background": "light"
     },
     "output_type": "display_data"
    }
   ],
   "source": [
    "fig, axs = plt.subplots(1,2, figsize=(10,5))\n",
    "plt.suptitle('Распределение пользовательский оценок жанров Action & Sports')\n",
    "sns.distplot(action_population['user_score'], ax=axs[0]).set_title('Action population')\n",
    "sns.distplot(sports_population['user_score'],ax=axs[1]).set_title('Sports population')\n",
    "plt.show()"
   ]
  },
  {
   "cell_type": "markdown",
   "metadata": {},
   "source": [
    "В данном случае ограничимся только визуальной оценкой распределений. По графикам видно, что распределение ненормальное. Применим критерий Манна_Уитни"
   ]
  },
  {
   "cell_type": "code",
   "execution_count": 62,
   "metadata": {
    "ExecuteTime": {
     "end_time": "2020-07-12T17:06:10.227822Z",
     "start_time": "2020-07-12T17:06:10.220031Z"
    }
   },
   "outputs": [],
   "source": [
    "mannwhitneyu_test2 = st.mannwhitneyu(action_population['user_score'], sports_population['user_score'], alternative='two-sided')[1]"
   ]
  },
  {
   "cell_type": "code",
   "execution_count": 63,
   "metadata": {
    "ExecuteTime": {
     "end_time": "2020-07-12T17:06:10.262843Z",
     "start_time": "2020-07-12T17:06:10.230822Z"
    }
   },
   "outputs": [
    {
     "name": "stdout",
     "output_type": "stream",
     "text": [
      "p-value теста Манна-Уитни 0.0000000000000000000000114\n"
     ]
    }
   ],
   "source": [
    "print('p-value теста Манна-Уитни {:.25f}'.format(mannwhitneyu_test2))"
   ]
  },
  {
   "cell_type": "code",
   "execution_count": 64,
   "metadata": {
    "ExecuteTime": {
     "end_time": "2020-07-12T17:06:10.275852Z",
     "start_time": "2020-07-12T17:06:10.265845Z"
    }
   },
   "outputs": [
    {
     "name": "stdout",
     "output_type": "stream",
     "text": [
      "Среднее выборочное значение пользовательского рейтинга жанра Action - 68.25\n",
      "Среднее выборочное значение пользовательского рейтинга жанра Sports - 54.56\n"
     ]
    }
   ],
   "source": [
    "action_mean = action_population['user_score'].mean().round(2)\n",
    "sports_mean = sports_population['user_score'].mean().round(2)\n",
    "print('Среднее выборочное значение пользовательского рейтинга жанра Action -', action_mean)\n",
    "print('Среднее выборочное значение пользовательского рейтинга жанра Sports -', sports_mean)"
   ]
  },
  {
   "cell_type": "markdown",
   "metadata": {},
   "source": [
    "р- уровень значимости оказалась оооооооооочень маленкьим, практически нулевым, отклоняем нулевую гипотезу. \n",
    "\n",
    "Следовательно, **средний пользовательский рейтинг проверяемых жанров отличается**. "
   ]
  },
  {
   "cell_type": "markdown",
   "metadata": {},
   "source": [
    "## Вывод"
   ]
  },
  {
   "cell_type": "markdown",
   "metadata": {},
   "source": [
    "Итоги проверки двух гипотиз:\n",
    "1. `Средние пользовательские рейтинги платформ Xbox One и PC одинаковые` - **TRUE**\n",
    "2. `Средние пользовательские рейтинги жанров Action и Sports разные` - **TRUE**\n"
   ]
  },
  {
   "cell_type": "markdown",
   "metadata": {},
   "source": [
    "#  Шаг 6. Общий вывод"
   ]
  },
  {
   "cell_type": "markdown",
   "metadata": {},
   "source": [
    "В ходе проделанной работы были изучены и обработаны данные по продажам игр с 1980х годов:\n",
    "- обработаны пропуски/изменен регистр названий колонок/изменен тип данных\n",
    "- рассчитан общий объем продаж каждой игры\n",
    "- установлено сокращение количеста выпускаемых игр и продаж за последнией 10 лет\n",
    "- определена скорость устаревания платформ, в прошлом платформы устаревали за 4-7 лет, современные платформы существуют дольше, до 10 лет\n",
    "- опреелены самые прибыльные платформы за все время - PS2, X360, PS3, Wii и DS\n",
    "- на текущий момент существуют две доминирующие консоли, от Microsoft и от Sony. На данный момент Sony в совокупности заработало больше\n",
    "- установлено, что у многих успешных игр был высокий рейтинг критиков, в то время как рейтинг пользователей пояти не коррелирует с продажами\n",
    "- исследованы предпочтения игроков из трех разных регионов. Поведение игроков из С-Америки похоже на Европу, предпочитают почти что одинаковые жанры, но играют на разных платформах. Например, в Европе больше предпочтений отдают PS, нежели XBox. Япония выделяется любовью к портативным консолям.\n",
    "- изучены жанровые препочтения игроков. Топ-5 любимых жанров в С-Америке и Европе похожи, за исключением одной позиции (action, shooter, sports, role-playing). В Японский топ попали такие жанры как Fighting и Simulation, а на первое место вышел Role-Playing.  \n",
    "- проверены две гипотезы, установлено, что средние пользовательские рейтинги XBox One и PC не отличаются и средние пользовательские рейтинги жанров ACtion и Sports разные \n",
    "\n",
    "В заключении обсудим факторы, влияющие на успех игры. \n",
    "\n",
    "Прежде всего необходимо понимать, что для разных регионов должна быть выбрана разная стратегия. Так как предпочтения пользователей, например, в Америке и Японии имеют значительные отличия. Начиная от выбора платформы, заканчивая жанрами.\n",
    "\n",
    "Тем не менее, попробуем собрать факторы, которые помогут определить будет ли игра успешной в коммерчеком плане. В ближайшем году нужно сфокусироваться на самых актуальных платформах - X-Box One, PS4 и 3DS. \n",
    "Топ-5 популярных жанров в мире - Action, Shooter, Sports, Role-Playing, Misc. Предпочтение следует отдавать играм с рейтингом M и высоким рейтингом критиков, такие игры чаще становятся кассовыми.  "
   ]
  }
 ],
 "metadata": {
  "kernelspec": {
   "display_name": "Python 3",
   "language": "python",
   "name": "python3"
  },
  "language_info": {
   "codemirror_mode": {
    "name": "ipython",
    "version": 3
   },
   "file_extension": ".py",
   "mimetype": "text/x-python",
   "name": "python",
   "nbconvert_exporter": "python",
   "pygments_lexer": "ipython3",
   "version": "3.7.6"
  },
  "toc": {
   "base_numbering": 1,
   "nav_menu": {},
   "number_sections": true,
   "sideBar": true,
   "skip_h1_title": false,
   "title_cell": "Table of Contents",
   "title_sidebar": "Contents",
   "toc_cell": false,
   "toc_position": {
    "height": "486.717px",
    "left": "23px",
    "top": "111.133px",
    "width": "268.033px"
   },
   "toc_section_display": true,
   "toc_window_display": false
  }
 },
 "nbformat": 4,
 "nbformat_minor": 4
}

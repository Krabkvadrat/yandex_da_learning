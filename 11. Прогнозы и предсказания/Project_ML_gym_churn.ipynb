{
 "cells": [
  {
   "cell_type": "markdown",
   "metadata": {},
   "source": [
    "# Описание проекта"
   ]
  },
  {
   "cell_type": "markdown",
   "metadata": {},
   "source": [
    "Сеть фитнес-центров «Культурист-датасаентист» разрабатывает стратегию взаимодействия с пользователями на основе аналитических данных. \n",
    "\n",
    "Задачи:\n",
    "- научиться прогнозировать вероятность оттока (на уровне следующего месяца) для каждого клиента;\n",
    "- сформировать типичные портреты пользователей: выделить несколько наиболее ярких групп и охарактеризовать их основные свойства;\n",
    "- проанализировать основные признаки, наиболее сильно влияющие на отток;\n",
    "- сформулировать основные выводы и разработать рекомендации по повышению качества работы с клиентами:\n",
    "        1) выделить целевые группы клиентов;\n",
    "        2) предложить меры по снижению оттока;\n",
    "        3) определить другие особенности взаимодействия с клиентами."
   ]
  },
  {
   "cell_type": "markdown",
   "metadata": {},
   "source": [
    "<a id=plan></a>\n",
    "## План работ"
   ]
  },
  {
   "cell_type": "markdown",
   "metadata": {},
   "source": [
    "[Шаг 1. Подготовить и изучить общую информацию о данных](#step1)\n",
    "\n",
    "- [x] Загрузить данные\n",
    "- [x] Проверить пропуски и типы данных\n",
    "\n",
    "[Шаг 2. Провести EDA](#step2)\n",
    "- [x] Изучить средние значения и стандартные отклонения (метод describe())\n",
    "- [x] Изучить средние значения признаков в двух группах — тех, кто ушел в отток и тех, кто остался (использовать метод groupby())\n",
    "- [x] Построить столбчатые гистограммы и распределения признаков для тех, кто ушёл (отток) и тех, кто остался (не попали в отток)\n",
    "- [x] Построить матрицу корреляций и отобразите её\n",
    "\n",
    "[Шаг 3. Построить модель прогнозирования оттока пользователей](#step3)\n",
    "\n",
    "Построить модель бинарной классификации пользователей, где целевой признак — факт оттока пользователя в следующем месяце:\n",
    "\n",
    "- [x] Разбить данные на обучающую и валидационную выборку функцией train_test_split() (!!!random_state!!!).\n",
    "- [x] Обучить модель на train-выборке двумя способами:\n",
    "    - [x] логистической регрессией\n",
    "    - [x] случайным лесом\n",
    "- [x] Оценить метрики accuracy, precision и recall для обеих моделей на валидационной выборке. Сравнить по ним модели. Какая модель показала себя лучше на основании метрик?\n",
    "\n",
    "[Шаг 4. Сделать кластеризацию пользователей](#step4)\n",
    "Отложить в сторону столбец с оттоком и провести кластеризацию объектов (пользователей):\n",
    "\n",
    "- [x] Стандартизировать данные\n",
    "- [x] Построить матрицу расстояний функцией linkage() на стандартизованной матрице признаков и нарисовать дендрограмму. Внимание: отрисовка дендрограммы может занять время! \n",
    "- [x] На основании полученного графика предположить, какое количество кластеров можно выделить\n",
    "- [x] Обучить модель кластеризации на основании алгоритма K-Means и спрогнозировать кластеры клиентов (за число кластеров принять n=5)\n",
    "- [x] Изучить средние значения признаков для кластеров. Можно ли сразу что-то заметить?\n",
    "- [x] Построить распределения признаков для кластеров. Можно ли что-то заметить по ним?\n",
    "- [x] Для каждого полученного кластера посчитать долю оттока (методом groupby()). Отличаются ли они по доле оттока? Какие кластеры склонны к оттоку, а какие — надёжны?\n",
    "\n",
    "[Шаг 5. Сформулировать выводы и сделайте базовые рекомендации по работе с клиентами](#step5)\n",
    "\n",
    "- [x] Сформулировать основные выводы и предложите рекомендации для стратегии взаимодействия с пользователями и их удержания.(достаточно 3-4 важных принципов и примеров их реализации в виде определённых маркетинговых действий.)"
   ]
  },
  {
   "cell_type": "markdown",
   "metadata": {},
   "source": [
    "# Анализ"
   ]
  },
  {
   "cell_type": "markdown",
   "metadata": {},
   "source": [
    "<a id=step1></a>\n",
    "## Шаг 1. Подготовить и изучить общую информацию о данных"
   ]
  },
  {
   "cell_type": "code",
   "execution_count": 1,
   "metadata": {
    "ExecuteTime": {
     "end_time": "2020-10-20T12:41:56.052596Z",
     "start_time": "2020-10-20T12:41:52.662576Z"
    }
   },
   "outputs": [],
   "source": [
    "import pandas as pd\n",
    "import matplotlib.pyplot as plt\n",
    "import seaborn as sns\n",
    "from sklearn.model_selection import train_test_split\n",
    "from sklearn.linear_model import LogisticRegression\n",
    "from sklearn.tree import DecisionTreeClassifier\n",
    "from sklearn.preprocessing import StandardScaler\n",
    "from sklearn.metrics import accuracy_score, precision_score, recall_score, f1_score\n",
    "from scipy.cluster.hierarchy import dendrogram, linkage \n",
    "from sklearn.cluster import KMeans\n",
    "\n",
    "# для отображения в jupiter всех колонок и столбцов df + сокращу количество цифр после запятой\n",
    "pd.set_option('display.max_columns', None)\n",
    "pd.set_option('display.max_rows', None)\n",
    "pd.set_option('display.precision',2)"
   ]
  },
  {
   "cell_type": "code",
   "execution_count": 2,
   "metadata": {
    "ExecuteTime": {
     "end_time": "2020-10-20T12:41:56.089178Z",
     "start_time": "2020-10-20T12:41:56.054595Z"
    }
   },
   "outputs": [],
   "source": [
    "# загрузим данные и проведем первичный осмотр\n",
    "gym = pd.read_csv(r'data/gym_churn.csv')\n",
    "# gym = pd.read_csv('/datasets/gym_churn.csv')"
   ]
  },
  {
   "cell_type": "code",
   "execution_count": 3,
   "metadata": {
    "ExecuteTime": {
     "end_time": "2020-10-20T12:41:56.158223Z",
     "start_time": "2020-10-20T12:41:56.092181Z"
    },
    "scrolled": true
   },
   "outputs": [
    {
     "data": {
      "text/html": [
       "<div>\n",
       "<style scoped>\n",
       "    .dataframe tbody tr th:only-of-type {\n",
       "        vertical-align: middle;\n",
       "    }\n",
       "\n",
       "    .dataframe tbody tr th {\n",
       "        vertical-align: top;\n",
       "    }\n",
       "\n",
       "    .dataframe thead th {\n",
       "        text-align: right;\n",
       "    }\n",
       "</style>\n",
       "<table border=\"1\" class=\"dataframe\">\n",
       "  <thead>\n",
       "    <tr style=\"text-align: right;\">\n",
       "      <th></th>\n",
       "      <th>gender</th>\n",
       "      <th>Near_Location</th>\n",
       "      <th>Partner</th>\n",
       "      <th>Promo_friends</th>\n",
       "      <th>Phone</th>\n",
       "      <th>Contract_period</th>\n",
       "      <th>Group_visits</th>\n",
       "      <th>Age</th>\n",
       "      <th>Avg_additional_charges_total</th>\n",
       "      <th>Month_to_end_contract</th>\n",
       "      <th>Lifetime</th>\n",
       "      <th>Avg_class_frequency_total</th>\n",
       "      <th>Avg_class_frequency_current_month</th>\n",
       "      <th>Churn</th>\n",
       "    </tr>\n",
       "  </thead>\n",
       "  <tbody>\n",
       "    <tr>\n",
       "      <th>0</th>\n",
       "      <td>1</td>\n",
       "      <td>1</td>\n",
       "      <td>1</td>\n",
       "      <td>1</td>\n",
       "      <td>0</td>\n",
       "      <td>6</td>\n",
       "      <td>1</td>\n",
       "      <td>29</td>\n",
       "      <td>14.23</td>\n",
       "      <td>5.0</td>\n",
       "      <td>3</td>\n",
       "      <td>0.02</td>\n",
       "      <td>0.00</td>\n",
       "      <td>0</td>\n",
       "    </tr>\n",
       "    <tr>\n",
       "      <th>1</th>\n",
       "      <td>0</td>\n",
       "      <td>1</td>\n",
       "      <td>0</td>\n",
       "      <td>0</td>\n",
       "      <td>1</td>\n",
       "      <td>12</td>\n",
       "      <td>1</td>\n",
       "      <td>31</td>\n",
       "      <td>113.20</td>\n",
       "      <td>12.0</td>\n",
       "      <td>7</td>\n",
       "      <td>1.92</td>\n",
       "      <td>1.91</td>\n",
       "      <td>0</td>\n",
       "    </tr>\n",
       "    <tr>\n",
       "      <th>2</th>\n",
       "      <td>0</td>\n",
       "      <td>1</td>\n",
       "      <td>1</td>\n",
       "      <td>0</td>\n",
       "      <td>1</td>\n",
       "      <td>1</td>\n",
       "      <td>0</td>\n",
       "      <td>28</td>\n",
       "      <td>129.45</td>\n",
       "      <td>1.0</td>\n",
       "      <td>2</td>\n",
       "      <td>1.86</td>\n",
       "      <td>1.74</td>\n",
       "      <td>0</td>\n",
       "    </tr>\n",
       "    <tr>\n",
       "      <th>3</th>\n",
       "      <td>0</td>\n",
       "      <td>1</td>\n",
       "      <td>1</td>\n",
       "      <td>1</td>\n",
       "      <td>1</td>\n",
       "      <td>12</td>\n",
       "      <td>1</td>\n",
       "      <td>33</td>\n",
       "      <td>62.67</td>\n",
       "      <td>12.0</td>\n",
       "      <td>2</td>\n",
       "      <td>3.21</td>\n",
       "      <td>3.36</td>\n",
       "      <td>0</td>\n",
       "    </tr>\n",
       "    <tr>\n",
       "      <th>4</th>\n",
       "      <td>1</td>\n",
       "      <td>1</td>\n",
       "      <td>1</td>\n",
       "      <td>1</td>\n",
       "      <td>1</td>\n",
       "      <td>1</td>\n",
       "      <td>0</td>\n",
       "      <td>26</td>\n",
       "      <td>198.36</td>\n",
       "      <td>1.0</td>\n",
       "      <td>3</td>\n",
       "      <td>1.11</td>\n",
       "      <td>1.12</td>\n",
       "      <td>0</td>\n",
       "    </tr>\n",
       "  </tbody>\n",
       "</table>\n",
       "</div>"
      ],
      "text/plain": [
       "   gender  Near_Location  Partner  Promo_friends  Phone  Contract_period  \\\n",
       "0       1              1        1              1      0                6   \n",
       "1       0              1        0              0      1               12   \n",
       "2       0              1        1              0      1                1   \n",
       "3       0              1        1              1      1               12   \n",
       "4       1              1        1              1      1                1   \n",
       "\n",
       "   Group_visits  Age  Avg_additional_charges_total  Month_to_end_contract  \\\n",
       "0             1   29                         14.23                    5.0   \n",
       "1             1   31                        113.20                   12.0   \n",
       "2             0   28                        129.45                    1.0   \n",
       "3             1   33                         62.67                   12.0   \n",
       "4             0   26                        198.36                    1.0   \n",
       "\n",
       "   Lifetime  Avg_class_frequency_total  Avg_class_frequency_current_month  \\\n",
       "0         3                       0.02                               0.00   \n",
       "1         7                       1.92                               1.91   \n",
       "2         2                       1.86                               1.74   \n",
       "3         2                       3.21                               3.36   \n",
       "4         3                       1.11                               1.12   \n",
       "\n",
       "   Churn  \n",
       "0      0  \n",
       "1      0  \n",
       "2      0  \n",
       "3      0  \n",
       "4      0  "
      ]
     },
     "metadata": {},
     "output_type": "display_data"
    },
    {
     "name": "stdout",
     "output_type": "stream",
     "text": [
      "<class 'pandas.core.frame.DataFrame'>\n",
      "RangeIndex: 4000 entries, 0 to 3999\n",
      "Data columns (total 14 columns):\n",
      " #   Column                             Non-Null Count  Dtype  \n",
      "---  ------                             --------------  -----  \n",
      " 0   gender                             4000 non-null   int64  \n",
      " 1   Near_Location                      4000 non-null   int64  \n",
      " 2   Partner                            4000 non-null   int64  \n",
      " 3   Promo_friends                      4000 non-null   int64  \n",
      " 4   Phone                              4000 non-null   int64  \n",
      " 5   Contract_period                    4000 non-null   int64  \n",
      " 6   Group_visits                       4000 non-null   int64  \n",
      " 7   Age                                4000 non-null   int64  \n",
      " 8   Avg_additional_charges_total       4000 non-null   float64\n",
      " 9   Month_to_end_contract              4000 non-null   float64\n",
      " 10  Lifetime                           4000 non-null   int64  \n",
      " 11  Avg_class_frequency_total          4000 non-null   float64\n",
      " 12  Avg_class_frequency_current_month  4000 non-null   float64\n",
      " 13  Churn                              4000 non-null   int64  \n",
      "dtypes: float64(4), int64(10)\n",
      "memory usage: 437.6 KB\n"
     ]
    },
    {
     "data": {
      "text/plain": [
       "None"
      ]
     },
     "metadata": {},
     "output_type": "display_data"
    }
   ],
   "source": [
    "display(gym.head())\n",
    "display(gym.info())"
   ]
  },
  {
   "cell_type": "markdown",
   "metadata": {},
   "source": [
    "Пропусков нет и типы данных впорядке. Разве что вназвании столбцов есть верхний регистр, избавимся от него."
   ]
  },
  {
   "cell_type": "code",
   "execution_count": 4,
   "metadata": {
    "ExecuteTime": {
     "end_time": "2020-10-20T12:41:56.171736Z",
     "start_time": "2020-10-20T12:41:56.164226Z"
    }
   },
   "outputs": [],
   "source": [
    "gym.columns = gym.columns.str.lower()"
   ]
  },
  {
   "cell_type": "code",
   "execution_count": 5,
   "metadata": {
    "ExecuteTime": {
     "end_time": "2020-10-20T12:41:56.208765Z",
     "start_time": "2020-10-20T12:41:56.176239Z"
    }
   },
   "outputs": [
    {
     "data": {
      "text/html": [
       "<div>\n",
       "<style scoped>\n",
       "    .dataframe tbody tr th:only-of-type {\n",
       "        vertical-align: middle;\n",
       "    }\n",
       "\n",
       "    .dataframe tbody tr th {\n",
       "        vertical-align: top;\n",
       "    }\n",
       "\n",
       "    .dataframe thead th {\n",
       "        text-align: right;\n",
       "    }\n",
       "</style>\n",
       "<table border=\"1\" class=\"dataframe\">\n",
       "  <thead>\n",
       "    <tr style=\"text-align: right;\">\n",
       "      <th></th>\n",
       "      <th>gender</th>\n",
       "      <th>near_location</th>\n",
       "      <th>partner</th>\n",
       "      <th>promo_friends</th>\n",
       "      <th>phone</th>\n",
       "      <th>contract_period</th>\n",
       "      <th>group_visits</th>\n",
       "      <th>age</th>\n",
       "      <th>avg_additional_charges_total</th>\n",
       "      <th>month_to_end_contract</th>\n",
       "      <th>lifetime</th>\n",
       "      <th>avg_class_frequency_total</th>\n",
       "      <th>avg_class_frequency_current_month</th>\n",
       "      <th>churn</th>\n",
       "    </tr>\n",
       "  </thead>\n",
       "  <tbody>\n",
       "    <tr>\n",
       "      <th>1356</th>\n",
       "      <td>1</td>\n",
       "      <td>1</td>\n",
       "      <td>0</td>\n",
       "      <td>0</td>\n",
       "      <td>1</td>\n",
       "      <td>1</td>\n",
       "      <td>1</td>\n",
       "      <td>33</td>\n",
       "      <td>93.19</td>\n",
       "      <td>1.0</td>\n",
       "      <td>3</td>\n",
       "      <td>1.19</td>\n",
       "      <td>1.21</td>\n",
       "      <td>0</td>\n",
       "    </tr>\n",
       "  </tbody>\n",
       "</table>\n",
       "</div>"
      ],
      "text/plain": [
       "      gender  near_location  partner  promo_friends  phone  contract_period  \\\n",
       "1356       1              1        0              0      1                1   \n",
       "\n",
       "      group_visits  age  avg_additional_charges_total  month_to_end_contract  \\\n",
       "1356             1   33                         93.19                    1.0   \n",
       "\n",
       "      lifetime  avg_class_frequency_total  avg_class_frequency_current_month  \\\n",
       "1356         3                       1.19                               1.21   \n",
       "\n",
       "      churn  \n",
       "1356      0  "
      ]
     },
     "execution_count": 5,
     "metadata": {},
     "output_type": "execute_result"
    }
   ],
   "source": [
    "gym.sample()"
   ]
  },
  {
   "cell_type": "markdown",
   "metadata": {},
   "source": [
    "[План работ](#plan)"
   ]
  },
  {
   "cell_type": "markdown",
   "metadata": {},
   "source": [
    "<a id=step2></a> \n",
    "## Шаг 2. Провести EDA"
   ]
  },
  {
   "cell_type": "code",
   "execution_count": 6,
   "metadata": {
    "ExecuteTime": {
     "end_time": "2020-10-20T12:41:56.312859Z",
     "start_time": "2020-10-20T12:41:56.213768Z"
    }
   },
   "outputs": [
    {
     "data": {
      "text/html": [
       "<div>\n",
       "<style scoped>\n",
       "    .dataframe tbody tr th:only-of-type {\n",
       "        vertical-align: middle;\n",
       "    }\n",
       "\n",
       "    .dataframe tbody tr th {\n",
       "        vertical-align: top;\n",
       "    }\n",
       "\n",
       "    .dataframe thead th {\n",
       "        text-align: right;\n",
       "    }\n",
       "</style>\n",
       "<table border=\"1\" class=\"dataframe\">\n",
       "  <thead>\n",
       "    <tr style=\"text-align: right;\">\n",
       "      <th></th>\n",
       "      <th>gender</th>\n",
       "      <th>near_location</th>\n",
       "      <th>partner</th>\n",
       "      <th>promo_friends</th>\n",
       "      <th>phone</th>\n",
       "      <th>contract_period</th>\n",
       "      <th>group_visits</th>\n",
       "      <th>age</th>\n",
       "      <th>avg_additional_charges_total</th>\n",
       "      <th>month_to_end_contract</th>\n",
       "      <th>lifetime</th>\n",
       "      <th>avg_class_frequency_total</th>\n",
       "      <th>avg_class_frequency_current_month</th>\n",
       "      <th>churn</th>\n",
       "    </tr>\n",
       "  </thead>\n",
       "  <tbody>\n",
       "    <tr>\n",
       "      <th>count</th>\n",
       "      <td>4000.00</td>\n",
       "      <td>4000.00</td>\n",
       "      <td>4000.00</td>\n",
       "      <td>4000.00</td>\n",
       "      <td>4000.0</td>\n",
       "      <td>4000.00</td>\n",
       "      <td>4000.00</td>\n",
       "      <td>4000.00</td>\n",
       "      <td>4000.00</td>\n",
       "      <td>4000.00</td>\n",
       "      <td>4000.00</td>\n",
       "      <td>4000.00</td>\n",
       "      <td>4000.00</td>\n",
       "      <td>4000.00</td>\n",
       "    </tr>\n",
       "    <tr>\n",
       "      <th>mean</th>\n",
       "      <td>0.51</td>\n",
       "      <td>0.85</td>\n",
       "      <td>0.49</td>\n",
       "      <td>0.31</td>\n",
       "      <td>0.9</td>\n",
       "      <td>4.68</td>\n",
       "      <td>0.41</td>\n",
       "      <td>29.18</td>\n",
       "      <td>146.94</td>\n",
       "      <td>4.32</td>\n",
       "      <td>3.72</td>\n",
       "      <td>1.88</td>\n",
       "      <td>1.77</td>\n",
       "      <td>0.27</td>\n",
       "    </tr>\n",
       "    <tr>\n",
       "      <th>std</th>\n",
       "      <td>0.50</td>\n",
       "      <td>0.36</td>\n",
       "      <td>0.50</td>\n",
       "      <td>0.46</td>\n",
       "      <td>0.3</td>\n",
       "      <td>4.55</td>\n",
       "      <td>0.49</td>\n",
       "      <td>3.26</td>\n",
       "      <td>96.36</td>\n",
       "      <td>4.19</td>\n",
       "      <td>3.75</td>\n",
       "      <td>0.97</td>\n",
       "      <td>1.05</td>\n",
       "      <td>0.44</td>\n",
       "    </tr>\n",
       "    <tr>\n",
       "      <th>min</th>\n",
       "      <td>0.00</td>\n",
       "      <td>0.00</td>\n",
       "      <td>0.00</td>\n",
       "      <td>0.00</td>\n",
       "      <td>0.0</td>\n",
       "      <td>1.00</td>\n",
       "      <td>0.00</td>\n",
       "      <td>18.00</td>\n",
       "      <td>0.15</td>\n",
       "      <td>1.00</td>\n",
       "      <td>0.00</td>\n",
       "      <td>0.00</td>\n",
       "      <td>0.00</td>\n",
       "      <td>0.00</td>\n",
       "    </tr>\n",
       "    <tr>\n",
       "      <th>25%</th>\n",
       "      <td>0.00</td>\n",
       "      <td>1.00</td>\n",
       "      <td>0.00</td>\n",
       "      <td>0.00</td>\n",
       "      <td>1.0</td>\n",
       "      <td>1.00</td>\n",
       "      <td>0.00</td>\n",
       "      <td>27.00</td>\n",
       "      <td>68.87</td>\n",
       "      <td>1.00</td>\n",
       "      <td>1.00</td>\n",
       "      <td>1.18</td>\n",
       "      <td>0.96</td>\n",
       "      <td>0.00</td>\n",
       "    </tr>\n",
       "    <tr>\n",
       "      <th>50%</th>\n",
       "      <td>1.00</td>\n",
       "      <td>1.00</td>\n",
       "      <td>0.00</td>\n",
       "      <td>0.00</td>\n",
       "      <td>1.0</td>\n",
       "      <td>1.00</td>\n",
       "      <td>0.00</td>\n",
       "      <td>29.00</td>\n",
       "      <td>136.22</td>\n",
       "      <td>1.00</td>\n",
       "      <td>3.00</td>\n",
       "      <td>1.83</td>\n",
       "      <td>1.72</td>\n",
       "      <td>0.00</td>\n",
       "    </tr>\n",
       "    <tr>\n",
       "      <th>75%</th>\n",
       "      <td>1.00</td>\n",
       "      <td>1.00</td>\n",
       "      <td>1.00</td>\n",
       "      <td>1.00</td>\n",
       "      <td>1.0</td>\n",
       "      <td>6.00</td>\n",
       "      <td>1.00</td>\n",
       "      <td>31.00</td>\n",
       "      <td>210.95</td>\n",
       "      <td>6.00</td>\n",
       "      <td>5.00</td>\n",
       "      <td>2.54</td>\n",
       "      <td>2.51</td>\n",
       "      <td>1.00</td>\n",
       "    </tr>\n",
       "    <tr>\n",
       "      <th>max</th>\n",
       "      <td>1.00</td>\n",
       "      <td>1.00</td>\n",
       "      <td>1.00</td>\n",
       "      <td>1.00</td>\n",
       "      <td>1.0</td>\n",
       "      <td>12.00</td>\n",
       "      <td>1.00</td>\n",
       "      <td>41.00</td>\n",
       "      <td>552.59</td>\n",
       "      <td>12.00</td>\n",
       "      <td>31.00</td>\n",
       "      <td>6.02</td>\n",
       "      <td>6.15</td>\n",
       "      <td>1.00</td>\n",
       "    </tr>\n",
       "  </tbody>\n",
       "</table>\n",
       "</div>"
      ],
      "text/plain": [
       "        gender  near_location  partner  promo_friends   phone  \\\n",
       "count  4000.00        4000.00  4000.00        4000.00  4000.0   \n",
       "mean      0.51           0.85     0.49           0.31     0.9   \n",
       "std       0.50           0.36     0.50           0.46     0.3   \n",
       "min       0.00           0.00     0.00           0.00     0.0   \n",
       "25%       0.00           1.00     0.00           0.00     1.0   \n",
       "50%       1.00           1.00     0.00           0.00     1.0   \n",
       "75%       1.00           1.00     1.00           1.00     1.0   \n",
       "max       1.00           1.00     1.00           1.00     1.0   \n",
       "\n",
       "       contract_period  group_visits      age  avg_additional_charges_total  \\\n",
       "count          4000.00       4000.00  4000.00                       4000.00   \n",
       "mean              4.68          0.41    29.18                        146.94   \n",
       "std               4.55          0.49     3.26                         96.36   \n",
       "min               1.00          0.00    18.00                          0.15   \n",
       "25%               1.00          0.00    27.00                         68.87   \n",
       "50%               1.00          0.00    29.00                        136.22   \n",
       "75%               6.00          1.00    31.00                        210.95   \n",
       "max              12.00          1.00    41.00                        552.59   \n",
       "\n",
       "       month_to_end_contract  lifetime  avg_class_frequency_total  \\\n",
       "count                4000.00   4000.00                    4000.00   \n",
       "mean                    4.32      3.72                       1.88   \n",
       "std                     4.19      3.75                       0.97   \n",
       "min                     1.00      0.00                       0.00   \n",
       "25%                     1.00      1.00                       1.18   \n",
       "50%                     1.00      3.00                       1.83   \n",
       "75%                     6.00      5.00                       2.54   \n",
       "max                    12.00     31.00                       6.02   \n",
       "\n",
       "       avg_class_frequency_current_month    churn  \n",
       "count                            4000.00  4000.00  \n",
       "mean                                1.77     0.27  \n",
       "std                                 1.05     0.44  \n",
       "min                                 0.00     0.00  \n",
       "25%                                 0.96     0.00  \n",
       "50%                                 1.72     0.00  \n",
       "75%                                 2.51     1.00  \n",
       "max                                 6.15     1.00  "
      ]
     },
     "execution_count": 6,
     "metadata": {},
     "output_type": "execute_result"
    }
   ],
   "source": [
    "# изучим средние значения и стандартные отклонения \n",
    "gym.describe()"
   ]
  },
  {
   "cell_type": "markdown",
   "metadata": {},
   "source": [
    "Какие выводи можно сделать из средних значений:\n",
    "\n",
    "- У нас почти поровну мужчин и женщин, с небольшим преимуществом пола под цифрой 1 (примечательно что мы не знаем что значит 0, что единица)\n",
    "- Большинство клиентов находятся рядом с фитнес-центром\n",
    "- Почти половина клиентов - сотрдуники компаний партнеров\n",
    "- 31% клиентов были приведены по акции \"Приведи друга\"\n",
    "- Телефон указан почти у всех клиентов (90%)\n",
    "- Средняя длительность абонемента 4,68 месяцев. Медианное значение - 1 месяц. То есть больше тех, у кого абонимент на 1 месяц. \n",
    "- 41% клиентов посещал групповые занятия\n",
    "- Средний возраст - 29 лет\n",
    "- В среднем фитнес-центр зарабатывает 146.94 уе с клиента по мимо стоимости абонемента\n",
    "- Среднее время до конца абонемента 4,32 месяца. Однако мы знаем и видим, что у большенства эта цифра 1. \n",
    "- В среднем наши клиенты с нами около 4 месяцев, медианное значение - 3 месяца. \n",
    "- Средняя частота посещений в неделю за прошлый месяц составляет 1.88\n",
    "- Средняя частота посещений в неделю за все время почти такая же как и за прошлый месяц, 1.77. Видимо эти два параметра будут сильно коррелировать.\n",
    "- Наконе факт оттока, средняя настораживает - 27%. То есть в прошлом месяце потеряли чуть больше четверти клиентов. \n",
    "\n",
    "Касательно стандартного отклонения, в наблюдениях где медианное значение сильно отличалось от среднего (срок абонемента и т.п.) так же отмечается большой разброс. \n",
    "\n",
    "Далее изучим средние значения в разрезе ушел/не ушел"
   ]
  },
  {
   "cell_type": "code",
   "execution_count": 7,
   "metadata": {
    "ExecuteTime": {
     "end_time": "2020-10-20T12:41:56.384902Z",
     "start_time": "2020-10-20T12:41:56.315847Z"
    }
   },
   "outputs": [
    {
     "data": {
      "text/html": [
       "<div>\n",
       "<style scoped>\n",
       "    .dataframe tbody tr th:only-of-type {\n",
       "        vertical-align: middle;\n",
       "    }\n",
       "\n",
       "    .dataframe tbody tr th {\n",
       "        vertical-align: top;\n",
       "    }\n",
       "\n",
       "    .dataframe thead th {\n",
       "        text-align: right;\n",
       "    }\n",
       "</style>\n",
       "<table border=\"1\" class=\"dataframe\">\n",
       "  <thead>\n",
       "    <tr style=\"text-align: right;\">\n",
       "      <th></th>\n",
       "      <th>gender</th>\n",
       "      <th>near_location</th>\n",
       "      <th>partner</th>\n",
       "      <th>promo_friends</th>\n",
       "      <th>phone</th>\n",
       "      <th>contract_period</th>\n",
       "      <th>group_visits</th>\n",
       "      <th>age</th>\n",
       "      <th>avg_additional_charges_total</th>\n",
       "      <th>month_to_end_contract</th>\n",
       "      <th>lifetime</th>\n",
       "      <th>avg_class_frequency_total</th>\n",
       "      <th>avg_class_frequency_current_month</th>\n",
       "    </tr>\n",
       "    <tr>\n",
       "      <th>churn</th>\n",
       "      <th></th>\n",
       "      <th></th>\n",
       "      <th></th>\n",
       "      <th></th>\n",
       "      <th></th>\n",
       "      <th></th>\n",
       "      <th></th>\n",
       "      <th></th>\n",
       "      <th></th>\n",
       "      <th></th>\n",
       "      <th></th>\n",
       "      <th></th>\n",
       "      <th></th>\n",
       "    </tr>\n",
       "  </thead>\n",
       "  <tbody>\n",
       "    <tr>\n",
       "      <th>0</th>\n",
       "      <td>0.51</td>\n",
       "      <td>0.87</td>\n",
       "      <td>0.53</td>\n",
       "      <td>0.35</td>\n",
       "      <td>0.9</td>\n",
       "      <td>5.75</td>\n",
       "      <td>0.46</td>\n",
       "      <td>29.98</td>\n",
       "      <td>158.45</td>\n",
       "      <td>5.28</td>\n",
       "      <td>4.71</td>\n",
       "      <td>2.02</td>\n",
       "      <td>2.03</td>\n",
       "    </tr>\n",
       "    <tr>\n",
       "      <th>1</th>\n",
       "      <td>0.51</td>\n",
       "      <td>0.77</td>\n",
       "      <td>0.36</td>\n",
       "      <td>0.18</td>\n",
       "      <td>0.9</td>\n",
       "      <td>1.73</td>\n",
       "      <td>0.27</td>\n",
       "      <td>26.99</td>\n",
       "      <td>115.08</td>\n",
       "      <td>1.66</td>\n",
       "      <td>0.99</td>\n",
       "      <td>1.47</td>\n",
       "      <td>1.04</td>\n",
       "    </tr>\n",
       "  </tbody>\n",
       "</table>\n",
       "</div>"
      ],
      "text/plain": [
       "       gender  near_location  partner  promo_friends  phone  contract_period  \\\n",
       "churn                                                                          \n",
       "0        0.51           0.87     0.53           0.35    0.9             5.75   \n",
       "1        0.51           0.77     0.36           0.18    0.9             1.73   \n",
       "\n",
       "       group_visits    age  avg_additional_charges_total  \\\n",
       "churn                                                      \n",
       "0              0.46  29.98                        158.45   \n",
       "1              0.27  26.99                        115.08   \n",
       "\n",
       "       month_to_end_contract  lifetime  avg_class_frequency_total  \\\n",
       "churn                                                               \n",
       "0                       5.28      4.71                       2.02   \n",
       "1                       1.66      0.99                       1.47   \n",
       "\n",
       "       avg_class_frequency_current_month  \n",
       "churn                                     \n",
       "0                                   2.03  \n",
       "1                                   1.04  "
      ]
     },
     "execution_count": 7,
     "metadata": {},
     "output_type": "execute_result"
    }
   ],
   "source": [
    "gym.groupby('churn').mean()"
   ]
  },
  {
   "cell_type": "markdown",
   "metadata": {},
   "source": [
    "В глаза бросается достаточно очевидная вещь, чем больше клиента связывает с фитнес-центром, тем больше шансов, что он не уйдет. \n",
    "Среди оставшихся средние значения по всем параметрам (кроме пола) выше чем у тех, кто ушел. Например, это клиенты которых связывают партнерские отношения, у которых длительные абонементы, посещающие группые занятия и которые в принципе уже не первый месяц посещают фитнес. \n",
    "\n",
    "Можно отметить, что пол и наличие телефона, по всей видимости, практически не влияют на отток. \n",
    "\n",
    "Проясняется задача, фитнес-центру нужно удержать клиента в течение первого месяца. Судя по всему, этот месяц критичен. \n",
    "\n",
    "Подробнее изучим признаки, построив ряд графиков. Разобьем посетителей на две таблицы, которые ушли и не ушли. И выделим бинарные и количественные признаки в списки. "
   ]
  },
  {
   "cell_type": "code",
   "execution_count": 8,
   "metadata": {
    "ExecuteTime": {
     "end_time": "2020-10-20T12:41:56.399913Z",
     "start_time": "2020-10-20T12:41:56.389907Z"
    }
   },
   "outputs": [],
   "source": [
    "gym_churn = gym.loc[gym['churn'] == 1]\n",
    "gym_no_churn = gym.loc[gym['churn'] == 0]"
   ]
  },
  {
   "cell_type": "code",
   "execution_count": 9,
   "metadata": {
    "ExecuteTime": {
     "end_time": "2020-10-20T12:41:56.409920Z",
     "start_time": "2020-10-20T12:41:56.403917Z"
    }
   },
   "outputs": [],
   "source": [
    "binary_features = ['gender', 'near_location', 'partner', 'promo_friends', 'phone', 'group_visits']\n",
    "quantitive_features = ['contract_period', 'age', 'avg_additional_charges_total', 'month_to_end_contract', 'lifetime', 'avg_class_frequency_total', 'avg_class_frequency_current_month']"
   ]
  },
  {
   "cell_type": "markdown",
   "metadata": {},
   "source": [
    "Пострим гистограммы для каждого из бинарных признаков, сравним ушедших и оставшихся"
   ]
  },
  {
   "cell_type": "code",
   "execution_count": 10,
   "metadata": {
    "ExecuteTime": {
     "end_time": "2020-10-20T12:41:57.790045Z",
     "start_time": "2020-10-20T12:41:56.414923Z"
    },
    "scrolled": true
   },
   "outputs": [
    {
     "data": {
      "image/png": "[encoded data removed]",
      "text/plain": [
       "<Figure size 1224x576 with 6 Axes>"
      ]
     },
     "metadata": {
      "needs_background": "light"
     },
     "output_type": "display_data"
    }
   ],
   "source": [
    "a = .8 # переменная для alpha\n",
    "fig, axes = plt.subplots(2,3, figsize=(17, 8))\n",
    "axes[0,0].hist(gym_churn[binary_features[0]], density=True, color='red', alpha=a)\n",
    "axes[0,0].hist(gym_no_churn[binary_features[0]], density=True, color='green', alpha=a)\n",
    "axes[0,0].set_xlabel(binary_features[0])\n",
    "\n",
    "axes[0,1].hist(gym_churn[binary_features[1]], density=True,color='red', alpha=a)\n",
    "axes[0,1].hist(gym_no_churn[binary_features[1]], density=True, color='green', alpha=a)\n",
    "axes[0,1].set_xlabel(binary_features[1])\n",
    "\n",
    "axes[0,2].hist(gym_churn[binary_features[2]], density=True,color='red', alpha=a)\n",
    "axes[0,2].hist(gym_no_churn[binary_features[2]], density=True, color='green', alpha=a)\n",
    "axes[0,2].set_xlabel(binary_features[2])\n",
    "\n",
    "axes[1,0].hist(gym_churn[binary_features[3]], density=True,color='red', alpha=a)\n",
    "axes[1,0].hist(gym_no_churn[binary_features[3]], density=True, color='green', alpha=a)\n",
    "axes[1,0].set_xlabel(binary_features[3])\n",
    "\n",
    "axes[1,1].hist(gym_churn[binary_features[4]], density=True,color='red', alpha=a)\n",
    "axes[1,1].hist(gym_no_churn[binary_features[4]], density=True, color='green', alpha=a)\n",
    "axes[1,1].set_xlabel(binary_features[4])\n",
    "\n",
    "axes[1,2].hist(gym_churn[binary_features[5]], density=True,color='red', alpha=a)\n",
    "axes[1,2].hist(gym_no_churn[binary_features[5]], density=True, color='green', alpha=a)\n",
    "axes[1,2].set_xlabel(binary_features[5])\n",
    "plt.show();\n",
    "\n"
   ]
  },
  {
   "cell_type": "markdown",
   "metadata": {},
   "source": [
    "Как и было отмечено ранее, пол не особо влияет на отток, одинаково уходят как мужчини так и женщины\n",
    "Покидает фитнес-центр чут больше тех, кто проживает не рядом и у кого нет партнерских отношений с центром. Кроме того клиенты без дурзей и реже посещающие групповые занятие так же больше подвержены оттоку. "
   ]
  },
  {
   "cell_type": "code",
   "execution_count": 11,
   "metadata": {
    "ExecuteTime": {
     "end_time": "2020-10-20T12:41:59.391531Z",
     "start_time": "2020-10-20T12:41:57.792047Z"
    },
    "scrolled": true
   },
   "outputs": [
    {
     "data": {
      "image/png": "[encoded data removed]",
      "text/plain": [
       "<Figure size 1224x576 with 8 Axes>"
      ]
     },
     "metadata": {
      "needs_background": "light"
     },
     "output_type": "display_data"
    }
   ],
   "source": [
    "fig, axes = plt.subplots(2,4, figsize=(17, 8))\n",
    "ax = sns.boxplot(data = gym, x = 'churn', y=quantitive_features[0], width=0.4, ax=axes[0,0])\n",
    "ax = sns.boxplot(data = gym, x = 'churn', y=quantitive_features[1], width=0.4, ax=axes[0,1])\n",
    "ax = sns.boxplot(data = gym, x = 'churn', y=quantitive_features[2], width=0.4, ax=axes[0,2])\n",
    "ax = sns.boxplot(data = gym, x = 'churn', y=quantitive_features[3], width=0.4, ax=axes[0,3])\n",
    "ax = sns.boxplot(data = gym, x = 'churn', y=quantitive_features[4], width=0.4, ax=axes[1,0])\n",
    "ax = sns.boxplot(data = gym, x = 'churn', y=quantitive_features[5], width=0.4, ax=axes[1,1])\n",
    "ax = sns.boxplot(data = gym, x = 'churn', y=quantitive_features[6], width=0.4, ax=axes[1,2])"
   ]
  },
  {
   "cell_type": "markdown",
   "metadata": {},
   "source": [
    "По всем количественным признакам клиенты, которые остались имеют преимущество.\n",
    "Особенно выделается такой признак как длительность абонемента, с \"длинными\" абонементами уходят в отток меньше клиентов, кроме того чем дольшедо конца абонемента, тем меньше вероятность что клиент уйдет. Так же, выделяется срок жизни клиента, чем дольше клиент с нами, тем он лояльнее. Не замечено ни одного клиента, который покинул бы нас после 10 месяцев посещений.\n",
    "\n",
    "Далее построим матрицу корреляц, изучим взаимосвязи разных признаков."
   ]
  },
  {
   "cell_type": "code",
   "execution_count": 12,
   "metadata": {
    "ExecuteTime": {
     "end_time": "2020-10-20T12:42:00.718489Z",
     "start_time": "2020-10-20T12:41:59.393533Z"
    },
    "scrolled": true
   },
   "outputs": [
    {
     "data": {
      "image/png": "[encoded data removed]",
      "text/plain": [
       "<Figure size 792x648 with 2 Axes>"
      ]
     },
     "metadata": {
      "needs_background": "light"
     },
     "output_type": "display_data"
    }
   ],
   "source": [
    "plt.subplots(figsize=(11, 9))\n",
    "sns.heatmap(gym.corr(), annot=True, linewidths=.5);"
   ]
  },
  {
   "cell_type": "markdown",
   "metadata": {},
   "source": [
    "Как и было отмечено ранее, сильная корреляция наблюдается между посещяемостью фитнес-центра в текущем месяце и за все время. Кроме того, чрезвычайно сильная корреляция между сроком абонемента и количеством месяцев до его окончания. Что так же не удивительно.\n",
    "Так же, средняя зависимость просматривается между признаком партнер и программой приведи друга. Вероятно клиенты по партнерской программе чащу зовут друзей/коллег в фитнес-центр. \n",
    "\n",
    "Удали два признака с коллеряций близкой к 1."
   ]
  },
  {
   "cell_type": "code",
   "execution_count": 13,
   "metadata": {
    "ExecuteTime": {
     "end_time": "2020-10-20T12:42:00.727496Z",
     "start_time": "2020-10-20T12:42:00.720491Z"
    }
   },
   "outputs": [],
   "source": [
    "gym = gym.drop(['avg_class_frequency_current_month', 'month_to_end_contract'], axis=1)"
   ]
  },
  {
   "cell_type": "markdown",
   "metadata": {},
   "source": [
    "### Вывод"
   ]
  },
  {
   "cell_type": "markdown",
   "metadata": {},
   "source": [
    "Исходя из проделанного предварительного анализа признаков, можно сделать следующие выводы/предположения.\n",
    "\n",
    "Были выявлены предположительно самые мощные признаки влияющие на отток, такие как срок абонемента, время с момента первого обращения \n",
    "Отмечено, что в таблице присутствуют четыре сильно коррелирующих между собой признака, соответственно два можно и нужно будет не учитывать при будущем построении модели. "
   ]
  },
  {
   "cell_type": "markdown",
   "metadata": {},
   "source": [
    "[План работ](#plan)"
   ]
  },
  {
   "cell_type": "markdown",
   "metadata": {},
   "source": [
    "<a id=step3></a> \n",
    "## Шаг 3. Построить модель прогнозирования оттока пользователей"
   ]
  },
  {
   "cell_type": "markdown",
   "metadata": {},
   "source": [
    "Приступи к построению модели бинарной классификации пользователей, где целевой признак — факт оттока пользователя в следующем месяце.\n",
    "\n",
    "Первым делом подготовим две переменные: с признаками и целевой переменной."
   ]
  },
  {
   "cell_type": "code",
   "execution_count": 14,
   "metadata": {
    "ExecuteTime": {
     "end_time": "2020-10-20T12:42:00.738504Z",
     "start_time": "2020-10-20T12:42:00.730498Z"
    }
   },
   "outputs": [],
   "source": [
    "X = gym.drop('churn', axis=1)\n",
    "y = gym['churn']"
   ]
  },
  {
   "cell_type": "code",
   "execution_count": 16,
   "metadata": {
    "ExecuteTime": {
     "end_time": "2020-10-20T12:43:17.552906Z",
     "start_time": "2020-10-20T12:43:17.536894Z"
    }
   },
   "outputs": [],
   "source": [
    "# теперь поделим выборку на обучающую и валидационную\n",
    "x_train, x_test, y_train, y_test = train_test_split(X, y, test_size=0.2, random_state=0,  stratify = y )"
   ]
  },
  {
   "cell_type": "code",
   "execution_count": 16,
   "metadata": {
    "ExecuteTime": {
     "end_time": "2020-10-19T15:40:47.717501Z",
     "start_time": "2020-10-19T15:40:47.710498Z"
    }
   },
   "outputs": [],
   "source": [
    "# # проведем стандартизацию\n",
    "# scaler = StandardScaler()\n",
    "# scaler.fit(x_train)\n",
    "\n",
    "# # Преобразуйте обучающий и валидационные наборы данных\n",
    "# x_train_st = scaler.transform(x_train)\n",
    "# x_test_st = scaler.transform(x_test)"
   ]
  },
  {
   "cell_type": "code",
   "execution_count": 17,
   "metadata": {
    "ExecuteTime": {
     "end_time": "2020-10-20T12:43:22.319932Z",
     "start_time": "2020-10-20T12:43:21.949510Z"
    }
   },
   "outputs": [],
   "source": [
    "# обучим две модели алгоритмами логистической регрессией и случайным лесом\n",
    "log_reg_model = LogisticRegression(random_state=0, max_iter=5000, solver='lbfgs')\n",
    "log_reg_model.fit(x_train,y_train)\n",
    "log_reg_predictions = log_reg_model.predict(x_test)\n",
    "\n",
    "dec_tree_model = DecisionTreeClassifier(random_state=0)\n",
    "dec_tree_model.fit(x_train,y_train)\n",
    "dec_tree_predictions = dec_tree_model.predict(x_test)"
   ]
  },
  {
   "cell_type": "code",
   "execution_count": 18,
   "metadata": {
    "ExecuteTime": {
     "end_time": "2020-10-19T15:40:48.159839Z",
     "start_time": "2020-10-19T15:40:48.126813Z"
    }
   },
   "outputs": [
    {
     "name": "stdout",
     "output_type": "stream",
     "text": [
      "Метрики LogisticRegression:\n",
      "Accuracy - 0.88\n",
      "Precision - 0.76\n",
      "Recall - 0.77\n",
      "-------------------------------\n",
      "Метрики DecisionTreeClassifier:\n",
      "Accuracy - 0.83\n",
      "Precision - 0.64\n",
      "Recall - 0.71\n"
     ]
    }
   ],
   "source": [
    "# изучим основные метрики\n",
    "print('Метрики LogisticRegression:')\n",
    "print('Accuracy - {:.2f}'.format(accuracy_score(y_test, log_reg_predictions)))\n",
    "print('Precision - {:.2f}'.format(precision_score(y_test, log_reg_predictions)))\n",
    "print('Recall - {:.2f}'.format(recall_score(y_test, log_reg_predictions)))\n",
    "print('-------------------------------')\n",
    "print('Метрики DecisionTreeClassifier:')\n",
    "print('Accuracy - {:.2f}'.format(accuracy_score(y_test, dec_tree_predictions)))\n",
    "print('Precision - {:.2f}'.format(precision_score(y_test, dec_tree_predictions)))\n",
    "print('Recall - {:.2f}'.format(recall_score(y_test, dec_tree_predictions)))"
   ]
  },
  {
   "cell_type": "markdown",
   "metadata": {},
   "source": [
    "### Вывод\n",
    "Алгоритм логистической регрессии обощел по каждой из метрик случайный лес. \n",
    "Доля правильных ответов равна 90%, точность прогноза 78%, а полнота 81%. "
   ]
  },
  {
   "cell_type": "markdown",
   "metadata": {
    "ExecuteTime": {
     "end_time": "2020-10-15T11:14:17.467817Z",
     "start_time": "2020-10-15T11:14:17.463814Z"
    }
   },
   "source": [
    "[План работ](#plan)"
   ]
  },
  {
   "cell_type": "markdown",
   "metadata": {},
   "source": [
    "<a id=step4></a> \n",
    "## Шаг 4. Сделать кластеризацию пользователей"
   ]
  },
  {
   "cell_type": "markdown",
   "metadata": {},
   "source": [
    "После бинарной классификации перейдем к кластеризации. Прежде всего проведем стандартизацию."
   ]
  },
  {
   "cell_type": "code",
   "execution_count": 19,
   "metadata": {
    "ExecuteTime": {
     "end_time": "2020-10-19T15:40:48.177855Z",
     "start_time": "2020-10-19T15:40:48.164847Z"
    },
    "code_folding": []
   },
   "outputs": [],
   "source": [
    "# проведем стандартизацию всех параметров\n",
    "scaler = StandardScaler()\n",
    "scaler.fit(X)\n",
    "\n",
    "# Преобразуем набор данных\n",
    "X_st = scaler.transform(X)\n",
    "# x_test_st = scaler.transform(x_test)"
   ]
  },
  {
   "cell_type": "code",
   "execution_count": 20,
   "metadata": {
    "ExecuteTime": {
     "end_time": "2020-10-19T15:40:49.031044Z",
     "start_time": "2020-10-19T15:40:48.181860Z"
    }
   },
   "outputs": [],
   "source": [
    "# формируем таблицу связок\n",
    "linked = linkage(X_st, method = 'ward') "
   ]
  },
  {
   "cell_type": "code",
   "execution_count": 21,
   "metadata": {
    "ExecuteTime": {
     "end_time": "2020-10-19T15:43:02.643817Z",
     "start_time": "2020-10-19T15:40:49.033045Z"
    },
    "scrolled": true
   },
   "outputs": [
    {
     "data": {
      "image/png": "[encoded data removed]",
      "text/plain": [
       "<Figure size 1080x720 with 1 Axes>"
      ]
     },
     "metadata": {
      "needs_background": "light"
     },
     "output_type": "display_data"
    }
   ],
   "source": [
    "# рисуем дендограмму\n",
    "plt.figure(figsize=(15, 10))  \n",
    "dendrogram(linked, orientation='top')\n",
    "plt.show() "
   ]
  },
  {
   "cell_type": "markdown",
   "metadata": {},
   "source": [
    "Можно был бы провести воображаемую линию чуть ниже 40 и получить 9 кластеров!\n",
    "Однако длянаших целей выберем число меньше, проведем линию чуть между 40 и 60 по вертикали и выделим 5 кластеров, так как линия пересечет вертикальные линии 5-и групп.\n",
    "\n",
    "Далее обучим модель на основании алгоритма K-Means\n",
    "\n"
   ]
  },
  {
   "cell_type": "code",
   "execution_count": 22,
   "metadata": {
    "ExecuteTime": {
     "end_time": "2020-10-19T15:43:03.067134Z",
     "start_time": "2020-10-19T15:43:02.645819Z"
    }
   },
   "outputs": [],
   "source": [
    "km = KMeans(n_clusters = 5, random_state=0)\n",
    "k_means_clusters = km.fit_predict(X_st)\n",
    "# преоразуем в Series, чтобы затем объединить с основной таблицей\n",
    "k_means_clusters = pd.Series(k_means_clusters, name='cluster')"
   ]
  },
  {
   "cell_type": "code",
   "execution_count": 23,
   "metadata": {
    "ExecuteTime": {
     "end_time": "2020-10-19T15:43:03.083152Z",
     "start_time": "2020-10-19T15:43:03.074139Z"
    }
   },
   "outputs": [],
   "source": [
    "gym_with_clusters = pd.concat([gym, k_means_clusters],axis=1)"
   ]
  },
  {
   "cell_type": "code",
   "execution_count": 24,
   "metadata": {
    "ExecuteTime": {
     "end_time": "2020-10-19T15:43:03.127180Z",
     "start_time": "2020-10-19T15:43:03.087155Z"
    }
   },
   "outputs": [
    {
     "data": {
      "text/html": [
       "<div>\n",
       "<style scoped>\n",
       "    .dataframe tbody tr th:only-of-type {\n",
       "        vertical-align: middle;\n",
       "    }\n",
       "\n",
       "    .dataframe tbody tr th {\n",
       "        vertical-align: top;\n",
       "    }\n",
       "\n",
       "    .dataframe thead th {\n",
       "        text-align: right;\n",
       "    }\n",
       "</style>\n",
       "<table border=\"1\" class=\"dataframe\">\n",
       "  <thead>\n",
       "    <tr style=\"text-align: right;\">\n",
       "      <th></th>\n",
       "      <th>gender</th>\n",
       "      <th>near_location</th>\n",
       "      <th>partner</th>\n",
       "      <th>promo_friends</th>\n",
       "      <th>phone</th>\n",
       "      <th>contract_period</th>\n",
       "      <th>group_visits</th>\n",
       "      <th>age</th>\n",
       "      <th>avg_additional_charges_total</th>\n",
       "      <th>lifetime</th>\n",
       "      <th>avg_class_frequency_total</th>\n",
       "      <th>churn</th>\n",
       "      <th>cluster</th>\n",
       "    </tr>\n",
       "  </thead>\n",
       "  <tbody>\n",
       "    <tr>\n",
       "      <td>3784</td>\n",
       "      <td>1</td>\n",
       "      <td>1</td>\n",
       "      <td>0</td>\n",
       "      <td>1</td>\n",
       "      <td>1</td>\n",
       "      <td>6</td>\n",
       "      <td>1</td>\n",
       "      <td>32</td>\n",
       "      <td>169.99</td>\n",
       "      <td>1</td>\n",
       "      <td>3.50</td>\n",
       "      <td>0</td>\n",
       "      <td>3</td>\n",
       "    </tr>\n",
       "    <tr>\n",
       "      <td>1317</td>\n",
       "      <td>0</td>\n",
       "      <td>1</td>\n",
       "      <td>1</td>\n",
       "      <td>0</td>\n",
       "      <td>1</td>\n",
       "      <td>6</td>\n",
       "      <td>0</td>\n",
       "      <td>34</td>\n",
       "      <td>282.71</td>\n",
       "      <td>6</td>\n",
       "      <td>2.04</td>\n",
       "      <td>0</td>\n",
       "      <td>2</td>\n",
       "    </tr>\n",
       "  </tbody>\n",
       "</table>\n",
       "</div>"
      ],
      "text/plain": [
       "      gender  near_location  partner  promo_friends  phone  contract_period  \\\n",
       "3784       1              1        0              1      1                6   \n",
       "1317       0              1        1              0      1                6   \n",
       "\n",
       "      group_visits  age  avg_additional_charges_total  lifetime  \\\n",
       "3784             1   32                        169.99         1   \n",
       "1317             0   34                        282.71         6   \n",
       "\n",
       "      avg_class_frequency_total  churn  cluster  \n",
       "3784                       3.50      0        3  \n",
       "1317                       2.04      0        2  "
      ]
     },
     "execution_count": 24,
     "metadata": {},
     "output_type": "execute_result"
    }
   ],
   "source": [
    "# проверка\n",
    "gym_with_clusters.sample(2)"
   ]
  },
  {
   "cell_type": "markdown",
   "metadata": {},
   "source": [
    "Теперь можно изучить средние значения признаков для каждого из кластеров и построить графики распределения для признаков."
   ]
  },
  {
   "cell_type": "code",
   "execution_count": 25,
   "metadata": {
    "ExecuteTime": {
     "end_time": "2020-10-19T15:43:03.170211Z",
     "start_time": "2020-10-19T15:43:03.131183Z"
    },
    "scrolled": true
   },
   "outputs": [
    {
     "data": {
      "text/html": [
       "<div>\n",
       "<style scoped>\n",
       "    .dataframe tbody tr th:only-of-type {\n",
       "        vertical-align: middle;\n",
       "    }\n",
       "\n",
       "    .dataframe tbody tr th {\n",
       "        vertical-align: top;\n",
       "    }\n",
       "\n",
       "    .dataframe thead th {\n",
       "        text-align: right;\n",
       "    }\n",
       "</style>\n",
       "<table border=\"1\" class=\"dataframe\">\n",
       "  <thead>\n",
       "    <tr style=\"text-align: right;\">\n",
       "      <th></th>\n",
       "      <th>gender</th>\n",
       "      <th>near_location</th>\n",
       "      <th>partner</th>\n",
       "      <th>promo_friends</th>\n",
       "      <th>phone</th>\n",
       "      <th>contract_period</th>\n",
       "      <th>group_visits</th>\n",
       "      <th>age</th>\n",
       "      <th>avg_additional_charges_total</th>\n",
       "      <th>lifetime</th>\n",
       "      <th>avg_class_frequency_total</th>\n",
       "      <th>churn</th>\n",
       "    </tr>\n",
       "    <tr>\n",
       "      <th>cluster</th>\n",
       "      <th></th>\n",
       "      <th></th>\n",
       "      <th></th>\n",
       "      <th></th>\n",
       "      <th></th>\n",
       "      <th></th>\n",
       "      <th></th>\n",
       "      <th></th>\n",
       "      <th></th>\n",
       "      <th></th>\n",
       "      <th></th>\n",
       "      <th></th>\n",
       "    </tr>\n",
       "  </thead>\n",
       "  <tbody>\n",
       "    <tr>\n",
       "      <td>1</td>\n",
       "      <td>0.49</td>\n",
       "      <td>1.00</td>\n",
       "      <td>0.96</td>\n",
       "      <td>0.89</td>\n",
       "      <td>1.0</td>\n",
       "      <td>7.66</td>\n",
       "      <td>0.46</td>\n",
       "      <td>29.54</td>\n",
       "      <td>155.86</td>\n",
       "      <td>4.38</td>\n",
       "      <td>1.98</td>\n",
       "      <td>0.12</td>\n",
       "    </tr>\n",
       "    <tr>\n",
       "      <td>3</td>\n",
       "      <td>0.54</td>\n",
       "      <td>1.00</td>\n",
       "      <td>0.25</td>\n",
       "      <td>0.08</td>\n",
       "      <td>1.0</td>\n",
       "      <td>4.53</td>\n",
       "      <td>1.00</td>\n",
       "      <td>29.54</td>\n",
       "      <td>148.09</td>\n",
       "      <td>3.76</td>\n",
       "      <td>1.94</td>\n",
       "      <td>0.20</td>\n",
       "    </tr>\n",
       "    <tr>\n",
       "      <td>4</td>\n",
       "      <td>0.52</td>\n",
       "      <td>0.86</td>\n",
       "      <td>0.47</td>\n",
       "      <td>0.31</td>\n",
       "      <td>0.0</td>\n",
       "      <td>4.78</td>\n",
       "      <td>0.43</td>\n",
       "      <td>29.30</td>\n",
       "      <td>144.21</td>\n",
       "      <td>3.94</td>\n",
       "      <td>1.85</td>\n",
       "      <td>0.27</td>\n",
       "    </tr>\n",
       "    <tr>\n",
       "      <td>2</td>\n",
       "      <td>0.51</td>\n",
       "      <td>1.00</td>\n",
       "      <td>0.24</td>\n",
       "      <td>0.06</td>\n",
       "      <td>1.0</td>\n",
       "      <td>2.82</td>\n",
       "      <td>0.00</td>\n",
       "      <td>28.77</td>\n",
       "      <td>143.38</td>\n",
       "      <td>3.34</td>\n",
       "      <td>1.80</td>\n",
       "      <td>0.38</td>\n",
       "    </tr>\n",
       "    <tr>\n",
       "      <td>0</td>\n",
       "      <td>0.50</td>\n",
       "      <td>0.00</td>\n",
       "      <td>0.49</td>\n",
       "      <td>0.08</td>\n",
       "      <td>1.0</td>\n",
       "      <td>3.03</td>\n",
       "      <td>0.24</td>\n",
       "      <td>28.72</td>\n",
       "      <td>137.54</td>\n",
       "      <td>3.06</td>\n",
       "      <td>1.77</td>\n",
       "      <td>0.40</td>\n",
       "    </tr>\n",
       "  </tbody>\n",
       "</table>\n",
       "</div>"
      ],
      "text/plain": [
       "         gender  near_location  partner  promo_friends  phone  \\\n",
       "cluster                                                         \n",
       "1          0.49           1.00     0.96           0.89    1.0   \n",
       "3          0.54           1.00     0.25           0.08    1.0   \n",
       "4          0.52           0.86     0.47           0.31    0.0   \n",
       "2          0.51           1.00     0.24           0.06    1.0   \n",
       "0          0.50           0.00     0.49           0.08    1.0   \n",
       "\n",
       "         contract_period  group_visits    age  avg_additional_charges_total  \\\n",
       "cluster                                                                       \n",
       "1                   7.66          0.46  29.54                        155.86   \n",
       "3                   4.53          1.00  29.54                        148.09   \n",
       "4                   4.78          0.43  29.30                        144.21   \n",
       "2                   2.82          0.00  28.77                        143.38   \n",
       "0                   3.03          0.24  28.72                        137.54   \n",
       "\n",
       "         lifetime  avg_class_frequency_total  churn  \n",
       "cluster                                              \n",
       "1            4.38                       1.98   0.12  \n",
       "3            3.76                       1.94   0.20  \n",
       "4            3.94                       1.85   0.27  \n",
       "2            3.34                       1.80   0.38  \n",
       "0            3.06                       1.77   0.40  "
      ]
     },
     "execution_count": 25,
     "metadata": {},
     "output_type": "execute_result"
    }
   ],
   "source": [
    "gym_with_clusters.groupby('cluster').mean().sort_values(by='churn')"
   ]
  },
  {
   "cell_type": "code",
   "execution_count": 26,
   "metadata": {
    "ExecuteTime": {
     "end_time": "2020-10-19T15:43:03.181222Z",
     "start_time": "2020-10-19T15:43:03.174215Z"
    }
   },
   "outputs": [],
   "source": [
    "binary_features = ['gender', 'near_location', 'partner', 'promo_friends', 'phone', 'group_visits','churn']\n",
    "quantitive_features = ['contract_period', 'age', 'avg_additional_charges_total', 'lifetime', 'avg_class_frequency_total']"
   ]
  },
  {
   "cell_type": "code",
   "execution_count": 27,
   "metadata": {
    "ExecuteTime": {
     "end_time": "2020-10-19T15:43:06.219490Z",
     "start_time": "2020-10-19T15:43:03.185224Z"
    },
    "scrolled": true
   },
   "outputs": [
    {
     "data": {
      "image/png": "[encoded data removed]",
      "text/plain": [
       "<Figure size 1224x576 with 8 Axes>"
      ]
     },
     "metadata": {
      "needs_background": "light"
     },
     "output_type": "display_data"
    }
   ],
   "source": [
    "# строим сабплоты/ячейки для будущих графиков и задаем переменные: счетчик и координаты сабплота\n",
    "fig, axes = plt.subplots(2,4, figsize=(17, 8))\n",
    "counter = 0\n",
    "ax_x = 0\n",
    "ax_y = 0\n",
    "a = .8\n",
    "\n",
    "for feature in binary_features:\n",
    "    # заполняем первый ряд сабплота, если counter = 4, значит первый ряд заполнен и пора переходить ко второму\n",
    "    if counter < 4:\n",
    "        axes[ax_y,ax_x].hist(gym_with_clusters.query('cluster == 0 ')[feature], density=True,color='red', alpha=a)\n",
    "        axes[ax_y,ax_x].hist(gym_with_clusters.query('cluster == 1 ')[feature], density=True,color='green', alpha=a)\n",
    "        axes[ax_y,ax_x].hist(gym_with_clusters.query('cluster == 2 ')[feature], density=True,color='orange', alpha=a)\n",
    "        axes[ax_y,ax_x].hist(gym_with_clusters.query('cluster == 3 ')[feature], density=True, color='yellow', alpha=a)\n",
    "        axes[ax_y,ax_x].hist(gym_with_clusters.query('cluster == 4 ')[feature], density=True,color='blue', alpha=a)\n",
    "        axes[ax_y,ax_x].set_xlabel(feature)\n",
    "        axes[ax_y,ax_x].legend(['0', '1', '2', '3', '4'])\n",
    "        ax_x += 1\n",
    "        counter += 1\n",
    "\n",
    "    else:\n",
    "        ax_y = 1 # теперь строим все графики на втором ряду\n",
    "        if ax_x == 4 and counter == 4: #обнуляем координаты по оси Х для первого графика на втором ряду\n",
    "            ax_x = 0\n",
    "        else:\n",
    "            ax_x += 1 #во всех остальных случаях у нас будет +1 к кординатам по оси x\n",
    "        axes[ax_y,ax_x].hist(gym_with_clusters.query('cluster == 0 ')[feature], density=True,color='red', alpha=a)\n",
    "        axes[ax_y,ax_x].hist(gym_with_clusters.query('cluster == 1 ')[feature], density=True,color='green', alpha=a)\n",
    "        axes[ax_y,ax_x].hist(gym_with_clusters.query('cluster == 2 ')[feature], density=True,color='orange', alpha=a)\n",
    "        axes[ax_y,ax_x].hist(gym_with_clusters.query('cluster == 3 ')[feature], density=True, color='yellow', alpha=a)\n",
    "        axes[ax_y,ax_x].hist(gym_with_clusters.query('cluster == 4 ')[feature], density=True,color='blue', alpha=a)\n",
    "        axes[ax_y,ax_x].set_xlabel(feature)\n",
    "        axes[ax_y,ax_x].legend(['0', '1', '2', '3', '4'])\n",
    "        counter += 1\n",
    "\n"
   ]
  },
  {
   "cell_type": "code",
   "execution_count": 28,
   "metadata": {
    "ExecuteTime": {
     "end_time": "2020-10-19T15:43:08.059152Z",
     "start_time": "2020-10-19T15:43:06.222509Z"
    }
   },
   "outputs": [
    {
     "data": {
      "image/png": "[encoded data removed]",
      "text/plain": [
       "<Figure size 1224x576 with 6 Axes>"
      ]
     },
     "metadata": {
      "needs_background": "light"
     },
     "output_type": "display_data"
    }
   ],
   "source": [
    "# строим сабплоты/ячейки для будущих графиков и задаем переменные: счетчик и координаты сабплота\n",
    "fig, axes = plt.subplots(2,3, figsize=(17, 8))\n",
    "counter = 0\n",
    "ax_x = 0\n",
    "ax_y = 0\n",
    "\n",
    "for feature in quantitive_features:\n",
    "    # заполняем первый ряд сабплота, если counter = 4, значит первый ряд заполнен и пора переходить ко второму\n",
    "    if counter < 3:\n",
    "        ax = sns.boxplot(data = gym_with_clusters, x = 'cluster', y = feature, width=0.4, ax=axes[ax_y, ax_x])\n",
    "        ax_x += 1\n",
    "        counter += 1\n",
    "\n",
    "    else:\n",
    "        ax_y = 1 # теперь строим все графики на втором ряду\n",
    "        if ax_x == 3 and counter == 3: #обнуляем координаты по оси Х для первого графика на втором ряду\n",
    "            ax_x = 0\n",
    "        else:\n",
    "            ax_x += 1 #во всех остальных случаях у нас будет +1 к кординатам по оси x\n",
    "        ax = sns.boxplot(data = gym_with_clusters, x = 'cluster', y = feature, width=0.4, ax=axes[ax_y, ax_x])    \n",
    "        counter += 1\n",
    "\n"
   ]
  },
  {
   "cell_type": "markdown",
   "metadata": {},
   "source": [
    "**Кластер c минимальным оттоком (2%)**\n",
    "- Все клиенты так или иначе находятся рядом с фитнес-центром, около трети имеют партнерские отношения с центром, почти все пришли без друзей. Длительность абонемента у этих клиентов около 6 месяцев как и  \"срок жизни\".\n",
    "- Эти клиенты чаще других посещают групповые занятия и в среднем тренеруются почти три раза в неделю.  Кроме, с этих клиентов центр имеет большее всего дополнительных доходов.\n",
    "\n",
    "**Кластер с оттоком чуть выше минимального (12%)**\n",
    "- Так же много клиентов находятся рядом с центром, и у многих имеются партнерские отношения с фитнесом, доля пришедших с друзьями - велика. Средняя длительно контракта снижается. \n",
    "- Около половины посещало групповые занятия. Доп заработок фитнес центра, как и от первого класстера, значительный, по сравнению с прочими. \n",
    "\n",
    "Можно предположить, что в этой группе находятся клиенты, которые действительно заинтересованы в спорте. \n",
    "\n",
    "**Кластер с оттоком около четверти от количества клиентов в группе (27%)**\n",
    "- Находятся рядом с центром, чуть меньше половины имеют партнерские отношения и около трети пришли от друзей. Длительность абонемента, срок до конца  и \"срок жизни\" промерно одинаковые, около 4,5. \n",
    "- По остальным параметрам клиенты из группы особо не выделяются, можно сказать что в общем, они посещают фитнес реже чем клиенты из предыдущих групп. \n",
    "- Примечательно, почти никто не оставил телефон.\n",
    "Можно предположить, что это несамые спортивные клиенты, которые только начинают заниматься. \n",
    "\n",
    "**Кластер с оттоком чуть меньше половины (40%)** \n",
    "- почти никого нет рядом с фитнесом, контракт в среднем 3 месяца, и слабая посещаемость групповых заняти. \n",
    "\n",
    "**Лидер по оттоку - больше половины (55%)**\n",
    "- Доля живущ НЕ рядом с фиитнес-центром, больше чем в остальных группах. Приходят без друзей и имеют самые короткие абонементы и срок жизни.\n",
    "- Особенно четко выделяются на фоне прочих тем, что редко посещают центр. "
   ]
  },
  {
   "cell_type": "markdown",
   "metadata": {
    "ExecuteTime": {
     "end_time": "2020-10-15T11:14:17.467817Z",
     "start_time": "2020-10-15T11:14:17.463814Z"
    }
   },
   "source": [
    "[План работ](#plan)"
   ]
  },
  {
   "cell_type": "markdown",
   "metadata": {},
   "source": [
    "<a id=step5></a>\n",
    "## Шаг 5. Сформулировать выводы и сделайте базовые рекомендации по работе с клиентами"
   ]
  },
  {
   "cell_type": "markdown",
   "metadata": {},
   "source": [
    "\n",
    "Особенно пристальное внимание нужно уделять продолжительности абонемента. Чем меньше продолжительность абонемента, тем больше вероятность, что это последний месяц когда клиент нас посещает. Наиболее безопасная длительность - 6 месяцев. Необходимо стимулировать клиентов, предлагать бонусы, скидки и т.п., чтобы они оформляли абонемент на 6 месяцев. \n",
    "\n",
    "Отдельно следует обращать внимание на помещаемость, как в целом, так и на посещение групповых занятий. Чем реже клиент посещает фитнес-центр, тем более вероятно что он уйдет.  \n",
    "Не все ходят на групповые занятия, но в кластерах где эта доля особенно низка, наблюдается больший процент отткой. Таким образом, для удержания клиентов можно рекомендовать \"заманивать\" клиентов на тренировки и групповые занятия, предлагаю бесплатные пробные, устраивая мастер-классы и т.п."
   ]
  },
  {
   "cell_type": "markdown",
   "metadata": {
    "ExecuteTime": {
     "end_time": "2020-10-15T11:14:17.467817Z",
     "start_time": "2020-10-15T11:14:17.463814Z"
    }
   },
   "source": [
    "[План работ](#plan)"
   ]
  }
 ],
 "metadata": {
  "kernelspec": {
   "display_name": "Python 3",
   "language": "python",
   "name": "python3"
  },
  "language_info": {
   "codemirror_mode": {
    "name": "ipython",
    "version": 3
   },
   "file_extension": ".py",
   "mimetype": "text/x-python",
   "name": "python",
   "nbconvert_exporter": "python",
   "pygments_lexer": "ipython3",
   "version": "3.7.6"
  },
  "notify_time": "5",
  "toc": {
   "base_numbering": 1,
   "nav_menu": {},
   "number_sections": true,
   "sideBar": true,
   "skip_h1_title": false,
   "title_cell": "Table of Contents",
   "title_sidebar": "Contents",
   "toc_cell": false,
   "toc_position": {},
   "toc_section_display": true,
   "toc_window_display": false
  }
 },
 "nbformat": 4,
 "nbformat_minor": 4
}

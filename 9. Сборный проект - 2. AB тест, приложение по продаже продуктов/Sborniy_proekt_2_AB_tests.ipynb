{
 "cells": [
  {
   "cell_type": "markdown",
   "metadata": {},
   "source": [
    "# AB тест, приложение по продаже продуктов"
   ]
  },
  {
   "cell_type": "markdown",
   "metadata": {},
   "source": [
    "## Описание данных\n",
    "Каждая запись в логе — это действие пользователя, или событие.\n",
    "\n",
    "* `EventName` — название события;\n",
    "* `DeviceIDHash` — уникальный идентификатор пользователя;\n",
    "* `EventTimestamp` — время события;\n",
    "* `ExpId` — номер эксперимента: 246 и 247 — контрольные группы, а 248 — экспериментальная."
   ]
  },
  {
   "cell_type": "markdown",
   "metadata": {},
   "source": [
    "<a id=plan></a>\n",
    "## План работ"
   ]
  },
  {
   "cell_type": "markdown",
   "metadata": {},
   "source": [
    "[Шаг 1. Подготовить и изучить общую информацию о данных](#step1)\n",
    "- [x] Загрузить данные, обработать и приготовить для анализа\n",
    "- [x] Замените названия столбцов на удобные \n",
    "- [x] Проверьте пропуски и типы данных. Откорректируйте, если нужно\n",
    "- [x] Добавить столбец даты и времени, а также отдельный столбец дат\n",
    "\n",
    "[Шаг 2. Изучить и проверить данные](#step2)\n",
    "\n",
    "- [x] Сколько всего событий в логе?\n",
    "- [x] Сколько всего пользователей в логе?\n",
    "- [x] Сколько в среднем событий приходится на пользователя?\n",
    "- [x] Данными за какой период вы располагаете? Найдите максимальную и минимальную дату. \n",
    "- [x] Постройте гистограмму по дате и времени. Можно ли быть уверенным, что у вас одинаково полные данные за весь период? Технически в логи новых дней по некоторым пользователям могут «доезжать» события из прошлого — это может «перекашивать данные». \n",
    "- [x] Определите, с какого момента данные полные и отбросьте более старые. Данными за какой период времени вы располагаете на самом деле?\n",
    "- [x] Много ли событий и пользователей вы потеряли, отбросив старые данные?\n",
    "- [x] Проверьте, что у вас есть пользователи из всех трёх экспериментальных групп.\n",
    "\n",
    "[Шаг 3. Изучить воронку событий](#step3)\n",
    "\n",
    "- [x] Посмотрите, какие события есть в логах, как часто они встречаются. Отсортируйте события по частоте.\n",
    "- [x] Посчитайте, сколько пользователей совершали каждое из этих событий. Отсортируйте события по числу пользователей. Посчитайте долю пользователей, которые хоть раз совершали событие.\n",
    "- [x] Предположите, в каком порядке происходят события. Все ли они выстраиваются в последовательную цепочку? Их не нужно учитывать при расчёте воронки.\n",
    "- [x] По воронке событий посчитайте, какая доля пользователей проходит на следующий шаг воронки (от числа пользователей на предыдущем). То есть для последовательности событий A → B → C посчитайте отношение числа пользователей с событием B к количеству пользователей с событием A, а также отношение числа пользователей с событием C к количеству пользователей с событием B.\n",
    "- [x] На каком шаге теряете больше всего пользователей?\n",
    "- [x] Какая доля пользователей доходит от первого события до оплаты?\n",
    "\n",
    "[Шаг 4. Изучить результаты эксперимента](#step4)\n",
    "\n",
    "- [x] Сколько пользователей в каждой экспериментальной группе?\n",
    "- [x] Есть 2 контрольные группы для А/А-эксперимента, чтобы проверить корректность всех механизмов и расчётов. Проверьте, находят ли статистические критерии разницу между выборками 246 и 247.\n",
    "- [x] Выберите самое популярное событие. Посчитайте число пользователей, совершивших это событие в каждой из контрольных групп. Посчитайте долю пользователей, совершивших это событие. Проверьте, будет ли отличие между группами статистически достоверным. Проделайте то же самое для всех других событий (удобно обернуть проверку в отдельную функцию). Можно ли сказать, что разбиение на группы работает корректно?\n",
    "- [x] Аналогично поступите с группой с изменённым шрифтом. Сравните результаты с каждой из контрольных групп в отдельности по каждому событию. Сравните результаты с объединённой контрольной группой. Какие выводы из эксперимента можно сделать?\n",
    "- [x] Какой уровень значимости вы выбрали при проверке статистических гипотез выше? Посчитайте, сколько проверок статистических гипотез вы сделали. При уровне значимости 0.1 каждый десятый раз можно получать ложный результат. Какой уровень значимости стоит применить? Если вы хотите изменить его, проделайте предыдущие пункты и проверьте свои выводы."
   ]
  },
  {
   "cell_type": "markdown",
   "metadata": {},
   "source": [
    "<a id=step1></a>\n",
    "# Шаг 1. Подготовить и изучить общую информацию о данных"
   ]
  },
  {
   "cell_type": "code",
   "execution_count": 1,
   "metadata": {
    "ExecuteTime": {
     "end_time": "2020-11-20T19:37:59.612966Z",
     "start_time": "2020-11-20T19:37:56.654997Z"
    }
   },
   "outputs": [],
   "source": [
    "# импорт необходимых библиотек и настройка jupiter\n",
    "import pandas as pd\n",
    "import matplotlib.pyplot as plt\n",
    "import math\n",
    "import seaborn as sns\n",
    "from scipy import stats as st\n",
    "import numpy as np \n",
    "import datetime as dt\n",
    "import plotly.express as px\n",
    "from plotly import graph_objects as go\n",
    "# from yaml import load, FullLoader\n",
    "import requests \n",
    "import time\n",
    "from io import BytesIO\n",
    "\n",
    "# для отображения в jupiter всех колонок и столбцов df + сокращу количество цифр после запятой\n",
    "pd.set_option('display.max_columns', None)\n",
    "pd.set_option('display.max_rows', None)\n",
    "pd.set_option('display.precision',2)\n",
    "#pd.set_option('display.max_colwidth', None) # чтобы видеть все содержимое ячеек"
   ]
  },
  {
   "cell_type": "code",
   "execution_count": 2,
   "metadata": {
    "ExecuteTime": {
     "end_time": "2020-11-20T19:37:59.894758Z",
     "start_time": "2020-11-20T19:37:59.614968Z"
    }
   },
   "outputs": [],
   "source": [
    "# logs = pd.read_csv('/datasets/logs_exp.csv', sep='\\t')\n",
    "logs = pd.read_csv(r'datasets/logs_exp.csv', sep='\\t')"
   ]
  },
  {
   "cell_type": "code",
   "execution_count": 3,
   "metadata": {
    "ExecuteTime": {
     "end_time": "2020-11-20T19:38:00.202727Z",
     "start_time": "2020-11-20T19:37:59.897759Z"
    }
   },
   "outputs": [
    {
     "data": {
      "text/html": [
       "<div>\n",
       "<style scoped>\n",
       "    .dataframe tbody tr th:only-of-type {\n",
       "        vertical-align: middle;\n",
       "    }\n",
       "\n",
       "    .dataframe tbody tr th {\n",
       "        vertical-align: top;\n",
       "    }\n",
       "\n",
       "    .dataframe thead th {\n",
       "        text-align: right;\n",
       "    }\n",
       "</style>\n",
       "<table border=\"1\" class=\"dataframe\">\n",
       "  <thead>\n",
       "    <tr style=\"text-align: right;\">\n",
       "      <th></th>\n",
       "      <th>EventName</th>\n",
       "      <th>DeviceIDHash</th>\n",
       "      <th>EventTimestamp</th>\n",
       "      <th>ExpId</th>\n",
       "    </tr>\n",
       "  </thead>\n",
       "  <tbody>\n",
       "    <tr>\n",
       "      <th>98479</th>\n",
       "      <td>OffersScreenAppear</td>\n",
       "      <td>1475124027795911379</td>\n",
       "      <td>1564847094</td>\n",
       "      <td>248</td>\n",
       "    </tr>\n",
       "    <tr>\n",
       "      <th>172101</th>\n",
       "      <td>MainScreenAppear</td>\n",
       "      <td>4010739803027780411</td>\n",
       "      <td>1565028925</td>\n",
       "      <td>246</td>\n",
       "    </tr>\n",
       "    <tr>\n",
       "      <th>63966</th>\n",
       "      <td>MainScreenAppear</td>\n",
       "      <td>8211713541205517648</td>\n",
       "      <td>1564760695</td>\n",
       "      <td>247</td>\n",
       "    </tr>\n",
       "    <tr>\n",
       "      <th>166428</th>\n",
       "      <td>MainScreenAppear</td>\n",
       "      <td>1667051694086836247</td>\n",
       "      <td>1565020937</td>\n",
       "      <td>246</td>\n",
       "    </tr>\n",
       "    <tr>\n",
       "      <th>70848</th>\n",
       "      <td>PaymentScreenSuccessful</td>\n",
       "      <td>197027893265565660</td>\n",
       "      <td>1564773049</td>\n",
       "      <td>246</td>\n",
       "    </tr>\n",
       "  </tbody>\n",
       "</table>\n",
       "</div>"
      ],
      "text/plain": [
       "                      EventName         DeviceIDHash  EventTimestamp  ExpId\n",
       "98479        OffersScreenAppear  1475124027795911379      1564847094    248\n",
       "172101         MainScreenAppear  4010739803027780411      1565028925    246\n",
       "63966          MainScreenAppear  8211713541205517648      1564760695    247\n",
       "166428         MainScreenAppear  1667051694086836247      1565020937    246\n",
       "70848   PaymentScreenSuccessful   197027893265565660      1564773049    246"
      ]
     },
     "metadata": {},
     "output_type": "display_data"
    },
    {
     "name": "stdout",
     "output_type": "stream",
     "text": [
      "<class 'pandas.core.frame.DataFrame'>\n",
      "RangeIndex: 244126 entries, 0 to 244125\n",
      "Data columns (total 4 columns):\n",
      " #   Column          Non-Null Count   Dtype \n",
      "---  ------          --------------   ----- \n",
      " 0   EventName       244126 non-null  object\n",
      " 1   DeviceIDHash    244126 non-null  int64 \n",
      " 2   EventTimestamp  244126 non-null  int64 \n",
      " 3   ExpId           244126 non-null  int64 \n",
      "dtypes: int64(3), object(1)\n",
      "memory usage: 7.5+ MB\n"
     ]
    },
    {
     "data": {
      "text/plain": [
       "None"
      ]
     },
     "metadata": {},
     "output_type": "display_data"
    },
    {
     "data": {
      "text/html": [
       "<div>\n",
       "<style scoped>\n",
       "    .dataframe tbody tr th:only-of-type {\n",
       "        vertical-align: middle;\n",
       "    }\n",
       "\n",
       "    .dataframe tbody tr th {\n",
       "        vertical-align: top;\n",
       "    }\n",
       "\n",
       "    .dataframe thead th {\n",
       "        text-align: right;\n",
       "    }\n",
       "</style>\n",
       "<table border=\"1\" class=\"dataframe\">\n",
       "  <thead>\n",
       "    <tr style=\"text-align: right;\">\n",
       "      <th></th>\n",
       "      <th>EventName</th>\n",
       "      <th>DeviceIDHash</th>\n",
       "      <th>EventTimestamp</th>\n",
       "      <th>ExpId</th>\n",
       "    </tr>\n",
       "  </thead>\n",
       "  <tbody>\n",
       "    <tr>\n",
       "      <th>count</th>\n",
       "      <td>244126</td>\n",
       "      <td>2.44e+05</td>\n",
       "      <td>2.44e+05</td>\n",
       "      <td>244126.00</td>\n",
       "    </tr>\n",
       "    <tr>\n",
       "      <th>unique</th>\n",
       "      <td>5</td>\n",
       "      <td>NaN</td>\n",
       "      <td>NaN</td>\n",
       "      <td>NaN</td>\n",
       "    </tr>\n",
       "    <tr>\n",
       "      <th>top</th>\n",
       "      <td>MainScreenAppear</td>\n",
       "      <td>NaN</td>\n",
       "      <td>NaN</td>\n",
       "      <td>NaN</td>\n",
       "    </tr>\n",
       "    <tr>\n",
       "      <th>freq</th>\n",
       "      <td>119205</td>\n",
       "      <td>NaN</td>\n",
       "      <td>NaN</td>\n",
       "      <td>NaN</td>\n",
       "    </tr>\n",
       "    <tr>\n",
       "      <th>mean</th>\n",
       "      <td>NaN</td>\n",
       "      <td>4.63e+18</td>\n",
       "      <td>1.56e+09</td>\n",
       "      <td>247.02</td>\n",
       "    </tr>\n",
       "    <tr>\n",
       "      <th>std</th>\n",
       "      <td>NaN</td>\n",
       "      <td>2.64e+18</td>\n",
       "      <td>1.77e+05</td>\n",
       "      <td>0.82</td>\n",
       "    </tr>\n",
       "    <tr>\n",
       "      <th>min</th>\n",
       "      <td>NaN</td>\n",
       "      <td>6.89e+15</td>\n",
       "      <td>1.56e+09</td>\n",
       "      <td>246.00</td>\n",
       "    </tr>\n",
       "    <tr>\n",
       "      <th>25%</th>\n",
       "      <td>NaN</td>\n",
       "      <td>2.37e+18</td>\n",
       "      <td>1.56e+09</td>\n",
       "      <td>246.00</td>\n",
       "    </tr>\n",
       "    <tr>\n",
       "      <th>50%</th>\n",
       "      <td>NaN</td>\n",
       "      <td>4.62e+18</td>\n",
       "      <td>1.56e+09</td>\n",
       "      <td>247.00</td>\n",
       "    </tr>\n",
       "    <tr>\n",
       "      <th>75%</th>\n",
       "      <td>NaN</td>\n",
       "      <td>6.93e+18</td>\n",
       "      <td>1.57e+09</td>\n",
       "      <td>248.00</td>\n",
       "    </tr>\n",
       "    <tr>\n",
       "      <th>max</th>\n",
       "      <td>NaN</td>\n",
       "      <td>9.22e+18</td>\n",
       "      <td>1.57e+09</td>\n",
       "      <td>248.00</td>\n",
       "    </tr>\n",
       "  </tbody>\n",
       "</table>\n",
       "</div>"
      ],
      "text/plain": [
       "               EventName  DeviceIDHash  EventTimestamp      ExpId\n",
       "count             244126      2.44e+05        2.44e+05  244126.00\n",
       "unique                 5           NaN             NaN        NaN\n",
       "top     MainScreenAppear           NaN             NaN        NaN\n",
       "freq              119205           NaN             NaN        NaN\n",
       "mean                 NaN      4.63e+18        1.56e+09     247.02\n",
       "std                  NaN      2.64e+18        1.77e+05       0.82\n",
       "min                  NaN      6.89e+15        1.56e+09     246.00\n",
       "25%                  NaN      2.37e+18        1.56e+09     246.00\n",
       "50%                  NaN      4.62e+18        1.56e+09     247.00\n",
       "75%                  NaN      6.93e+18        1.57e+09     248.00\n",
       "max                  NaN      9.22e+18        1.57e+09     248.00"
      ]
     },
     "metadata": {},
     "output_type": "display_data"
    },
    {
     "name": "stdout",
     "output_type": "stream",
     "text": [
      "Количество дублей: 413\n"
     ]
    }
   ],
   "source": [
    "display(logs.sample(5))\n",
    "display(logs.info())\n",
    "display(logs.describe(include='all'))\n",
    "print('Количество дублей:', logs.duplicated().sum())"
   ]
  },
  {
   "cell_type": "markdown",
   "metadata": {},
   "source": [
    "На первый взгляд серьезных проблем не видно, нужно поменять названия столбцов и удалить дубли. "
   ]
  },
  {
   "cell_type": "code",
   "execution_count": 4,
   "metadata": {
    "ExecuteTime": {
     "end_time": "2020-11-20T19:38:00.212732Z",
     "start_time": "2020-11-20T19:38:00.207728Z"
    }
   },
   "outputs": [],
   "source": [
    "logs.columns=['event', 'user_id', 'event_timestamp', 'exp']"
   ]
  },
  {
   "cell_type": "code",
   "execution_count": 5,
   "metadata": {
    "ExecuteTime": {
     "end_time": "2020-11-20T19:38:00.357837Z",
     "start_time": "2020-11-20T19:38:00.215740Z"
    }
   },
   "outputs": [],
   "source": [
    "logs.drop_duplicates(inplace = True)"
   ]
  },
  {
   "cell_type": "code",
   "execution_count": 6,
   "metadata": {
    "ExecuteTime": {
     "end_time": "2020-11-20T19:38:00.474493Z",
     "start_time": "2020-11-20T19:38:00.359838Z"
    }
   },
   "outputs": [
    {
     "name": "stdout",
     "output_type": "stream",
     "text": [
      "Количество дублей: 0\n"
     ]
    }
   ],
   "source": [
    "print('Количество дублей:', logs.duplicated().sum())"
   ]
  },
  {
   "cell_type": "markdown",
   "metadata": {},
   "source": [
    "Дублей нет, названия названия столбцов в порядке. \n",
    "\n",
    "Разберемся с датами. Добавим столбец с датой и временем события, датой события и месяцем события (должно пригодиться в будущем) "
   ]
  },
  {
   "cell_type": "code",
   "execution_count": 7,
   "metadata": {
    "ExecuteTime": {
     "end_time": "2020-11-20T19:38:06.894205Z",
     "start_time": "2020-11-20T19:38:03.823372Z"
    }
   },
   "outputs": [
    {
     "data": {
      "text/html": [
       "<div>\n",
       "<style scoped>\n",
       "    .dataframe tbody tr th:only-of-type {\n",
       "        vertical-align: middle;\n",
       "    }\n",
       "\n",
       "    .dataframe tbody tr th {\n",
       "        vertical-align: top;\n",
       "    }\n",
       "\n",
       "    .dataframe thead th {\n",
       "        text-align: right;\n",
       "    }\n",
       "</style>\n",
       "<table border=\"1\" class=\"dataframe\">\n",
       "  <thead>\n",
       "    <tr style=\"text-align: right;\">\n",
       "      <th></th>\n",
       "      <th>event</th>\n",
       "      <th>user_id</th>\n",
       "      <th>event_timestamp</th>\n",
       "      <th>exp</th>\n",
       "      <th>event_datetime</th>\n",
       "      <th>event_date</th>\n",
       "      <th>even_month</th>\n",
       "    </tr>\n",
       "  </thead>\n",
       "  <tbody>\n",
       "    <tr>\n",
       "      <th>97756</th>\n",
       "      <td>MainScreenAppear</td>\n",
       "      <td>4499584756672479930</td>\n",
       "      <td>1564845917</td>\n",
       "      <td>246</td>\n",
       "      <td>2019-08-03 15:25:17</td>\n",
       "      <td>2019-08-03</td>\n",
       "      <td>2019-08-01</td>\n",
       "    </tr>\n",
       "    <tr>\n",
       "      <th>76898</th>\n",
       "      <td>MainScreenAppear</td>\n",
       "      <td>1232481244696430727</td>\n",
       "      <td>1564810264</td>\n",
       "      <td>246</td>\n",
       "      <td>2019-08-03 05:31:04</td>\n",
       "      <td>2019-08-03</td>\n",
       "      <td>2019-08-01</td>\n",
       "    </tr>\n",
       "  </tbody>\n",
       "</table>\n",
       "</div>"
      ],
      "text/plain": [
       "                  event              user_id  event_timestamp  exp  \\\n",
       "97756  MainScreenAppear  4499584756672479930       1564845917  246   \n",
       "76898  MainScreenAppear  1232481244696430727       1564810264  246   \n",
       "\n",
       "           event_datetime  event_date even_month  \n",
       "97756 2019-08-03 15:25:17  2019-08-03 2019-08-01  \n",
       "76898 2019-08-03 05:31:04  2019-08-03 2019-08-01  "
      ]
     },
     "execution_count": 7,
     "metadata": {},
     "output_type": "execute_result"
    }
   ],
   "source": [
    "logs['event_datetime'] = pd.to_datetime(logs['event_timestamp'],unit='s')\n",
    "logs['event_date'] = logs['event_datetime'].astype('datetime64[D]')\n",
    "logs['event_date'] = logs['event_date'].dt.strftime('%Y-%m-%d') # отрезаем нули часов/минут\n",
    "logs['even_month'] = logs['event_date'].astype('datetime64[M]')\n",
    "logs.sample(2) "
   ]
  },
  {
   "cell_type": "code",
   "execution_count": 14,
   "metadata": {
    "ExecuteTime": {
     "end_time": "2020-11-20T19:42:38.254206Z",
     "start_time": "2020-11-20T19:42:38.234193Z"
    }
   },
   "outputs": [],
   "source": [
    "a = logs.query(' \"2019-08-03 00:00:00\" <= event_datetime<=\"2019-08-03 00:01:00\" ')"
   ]
  },
  {
   "cell_type": "code",
   "execution_count": null,
   "metadata": {
    "ExecuteTime": {
     "end_time": "2020-11-20T19:41:19.603633Z",
     "start_time": "2020-11-20T19:40:17.510422Z"
    }
   },
   "outputs": [],
   "source": [
    "a = logs.loc[(logs['event_datetime'] >= '2019-08-03 00:00:00') | (logs['event_datetime'] <= '2019-08-03 23:00:00')]"
   ]
  },
  {
   "cell_type": "markdown",
   "metadata": {},
   "source": [
    "## Вывод\n",
    "Были изменены названия колонок на более удобные, удалены дубли и добавлены столбцы с датами. Данные подготовлены для последующего анализа.\n",
    "\n",
    "[План работ](#plan)"
   ]
  },
  {
   "cell_type": "markdown",
   "metadata": {},
   "source": [
    "<a id=step2></a>\n",
    "# Шаг 2. Изучить и проверить данные"
   ]
  },
  {
   "cell_type": "markdown",
   "metadata": {
    "ExecuteTime": {
     "end_time": "2020-09-10T09:47:27.425877Z",
     "start_time": "2020-09-10T09:47:27.394250Z"
    }
   },
   "source": [
    "Начнем с обзора событий и пользователей в логе."
   ]
  },
  {
   "cell_type": "code",
   "execution_count": 10,
   "metadata": {
    "ExecuteTime": {
     "end_time": "2020-11-01T19:51:44.861173Z",
     "start_time": "2020-11-01T19:51:44.853162Z"
    }
   },
   "outputs": [
    {
     "name": "stdout",
     "output_type": "stream",
     "text": [
      "Всего событий в логе - 243713\n"
     ]
    }
   ],
   "source": [
    "print('Всего событий в логе -', logs.shape[0])"
   ]
  },
  {
   "cell_type": "code",
   "execution_count": 11,
   "metadata": {
    "ExecuteTime": {
     "end_time": "2020-11-01T19:51:44.878185Z",
     "start_time": "2020-11-01T19:51:44.865175Z"
    }
   },
   "outputs": [
    {
     "name": "stdout",
     "output_type": "stream",
     "text": [
      "Количество уникальных пользователей приложения - 7551\n"
     ]
    }
   ],
   "source": [
    "print('Количество уникальных пользователей приложения -', len(logs['user_id'].unique()))"
   ]
  },
  {
   "cell_type": "markdown",
   "metadata": {},
   "source": [
    "Далее найдем сколько событий приходится на наших пользователей"
   ]
  },
  {
   "cell_type": "code",
   "execution_count": 12,
   "metadata": {
    "ExecuteTime": {
     "end_time": "2020-11-01T19:51:45.168529Z",
     "start_time": "2020-11-01T19:51:44.881187Z"
    }
   },
   "outputs": [
    {
     "data": {
      "image/png": "[encoded data removed]",
      "text/plain": [
       "<Figure size 720x216 with 1 Axes>"
      ]
     },
     "metadata": {
      "needs_background": "light"
     },
     "output_type": "display_data"
    }
   ],
   "source": [
    "plt.style.use('seaborn-deep')\n",
    "plt.figure(figsize=(10, 3))\n",
    "sns.boxplot(logs.groupby('user_id')['event'].count(),  showfliers=False )\n",
    "plt.title('Разброс количества событий на одного пользователя');"
   ]
  },
  {
   "cell_type": "markdown",
   "metadata": {},
   "source": [
    "Пока достаточно сложно что-то сказать, кроме того, что есть пара уж больно активных клиентов. Даже медиану не разглядеть. \n",
    "\n",
    "Однако, уже сейчас отметим, что большая часть пользователей посещает наше приложение не так часто. Посчитаем среднее количество и медиану. "
   ]
  },
  {
   "cell_type": "code",
   "execution_count": 13,
   "metadata": {
    "ExecuteTime": {
     "end_time": "2020-11-01T19:51:45.254599Z",
     "start_time": "2020-11-01T19:51:45.177536Z"
    }
   },
   "outputs": [
    {
     "name": "stdout",
     "output_type": "stream",
     "text": [
      "Среднее количество событий на одного пользователя - 32\n",
      "Медианное количество событий на одного пользователя - 20\n"
     ]
    }
   ],
   "source": [
    "print('Среднее количество событий на одного пользователя - {:.0f}'.format(logs.groupby('user_id')['event'].count().mean()))\n",
    "print('Медианное количество событий на одного пользователя - {:.0f}'.format(logs.groupby('user_id')['event'].count().median()))"
   ]
  },
  {
   "cell_type": "markdown",
   "metadata": {},
   "source": [
    "Учитывая, что есть пользователи с экстримально большим количеством посещений, лучше ориентироваться на медиану. \n",
    "\n",
    "Следом изучим какой же промежуток времени мы анализируем."
   ]
  },
  {
   "cell_type": "code",
   "execution_count": 14,
   "metadata": {
    "ExecuteTime": {
     "end_time": "2020-11-01T19:51:45.328654Z",
     "start_time": "2020-11-01T19:51:45.257601Z"
    }
   },
   "outputs": [
    {
     "name": "stdout",
     "output_type": "stream",
     "text": [
      "Минимальная дата - 2019-07-25\n",
      "Максимальная дата - 2019-08-07\n"
     ]
    }
   ],
   "source": [
    "print ('Минимальная дата -', logs['event_date'].min())\n",
    "print ('Максимальная дата -', logs['event_date'].max())"
   ]
  },
  {
   "cell_type": "markdown",
   "metadata": {},
   "source": [
    "Итого мы имеем логи за две недели."
   ]
  },
  {
   "cell_type": "code",
   "execution_count": 15,
   "metadata": {
    "ExecuteTime": {
     "end_time": "2020-11-01T19:51:45.374694Z",
     "start_time": "2020-11-01T19:51:45.331655Z"
    }
   },
   "outputs": [
    {
     "data": {
      "text/plain": [
       "event              35788\n",
       "user_id            35788\n",
       "event_timestamp    35788\n",
       "exp                35788\n",
       "event_datetime     35788\n",
       "event_date         35788\n",
       "even_month         35788\n",
       "dtype: int64"
      ]
     },
     "execution_count": 15,
     "metadata": {},
     "output_type": "execute_result"
    }
   ],
   "source": [
    "logs[logs['event_date']=='2019-08-06'].count()"
   ]
  },
  {
   "cell_type": "code",
   "execution_count": 16,
   "metadata": {
    "ExecuteTime": {
     "end_time": "2020-11-01T19:51:45.744191Z",
     "start_time": "2020-11-01T19:51:45.377695Z"
    }
   },
   "outputs": [
    {
     "data": {
      "image/png": "[encoded data removed]",
      "text/plain": [
       "<Figure size 432x288 with 1 Axes>"
      ]
     },
     "metadata": {
      "needs_background": "light"
     },
     "output_type": "display_data"
    }
   ],
   "source": [
    "logs['event_datetime'].hist(bins=14) # логи за 14 дней\n",
    "plt.xticks(rotation=45)\n",
    "plt.title('Распределение событий лога по времени');"
   ]
  },
  {
   "cell_type": "markdown",
   "metadata": {},
   "source": [
    "Согласно гистограмме у нас почти нет данных за первую неделю. В этой связи думаю будет корректнее отсечь данные за июль и использовать только август. Итого, на самом деле у нас есть данные за первую неделю августа. \"Отрежем\" все ненужное."
   ]
  },
  {
   "cell_type": "code",
   "execution_count": 17,
   "metadata": {
    "ExecuteTime": {
     "end_time": "2020-11-01T19:51:45.808239Z",
     "start_time": "2020-11-01T19:51:45.747193Z"
    }
   },
   "outputs": [],
   "source": [
    "logs = logs.loc[logs['event_date'] > '2019-07-31']"
   ]
  },
  {
   "cell_type": "markdown",
   "metadata": {},
   "source": [
    "Ранее мы отмечали, что у нас 243713 событий в логе и 7551 уникальных пользователей. Посмотрим сколько их сейчас."
   ]
  },
  {
   "cell_type": "code",
   "execution_count": 18,
   "metadata": {
    "ExecuteTime": {
     "end_time": "2020-11-01T19:51:45.826251Z",
     "start_time": "2020-11-01T19:51:45.812240Z"
    }
   },
   "outputs": [
    {
     "name": "stdout",
     "output_type": "stream",
     "text": [
      "Всего событий в логе после чистки - 240887\n",
      "Количество уникальных пользователей приложения после чистки - 7534\n"
     ]
    }
   ],
   "source": [
    "print('Всего событий в логе после чистки -', logs.shape[0])\n",
    "print('Количество уникальных пользователей приложения после чистки -', len(logs['user_id'].unique()))"
   ]
  },
  {
   "cell_type": "markdown",
   "metadata": {},
   "source": [
    "Потери составили почти 3000 событий и 17 пользователей. Можно считать их несущественными. \n",
    "\n",
    "Проверим, что у нас есть пользователи из всех трёх экспериментальных групп, а так же удостоверимся, что нет пользователей, которые попали в несколько групп.  "
   ]
  },
  {
   "cell_type": "code",
   "execution_count": 19,
   "metadata": {
    "ExecuteTime": {
     "end_time": "2020-11-01T19:51:45.946846Z",
     "start_time": "2020-11-01T19:51:45.829251Z"
    }
   },
   "outputs": [
    {
     "data": {
      "text/plain": [
       "7534"
      ]
     },
     "execution_count": 19,
     "metadata": {},
     "output_type": "execute_result"
    }
   ],
   "source": [
    "logs.groupby(['exp'])['user_id'].nunique().sum()"
   ]
  },
  {
   "cell_type": "markdown",
   "metadata": {},
   "source": [
    "Раз количество уникальных пользователей в группах свпадает с общим количеством уникальных пользователей, значит у нас нет пересечений пользователей и можно продолжать.  "
   ]
  },
  {
   "cell_type": "markdown",
   "metadata": {},
   "source": [
    "[План работ](#plan)\n",
    "\n",
    "\n",
    "- [x] Сколько всего событий в логе?\n",
    "- [x] Сколько всего пользователей в логе?\n",
    "- [x] Сколько в среднем событий приходится на пользователя?\n",
    "- [x] Данными за какой период вы располагаете? Найдите максимальную и минимальную дату. \n",
    "- [x] Постройте гистограмму по дате и времени. Можно ли быть уверенным, что у вас одинаково полные данные за весь период? Технически в логи новых дней по некоторым пользователям могут «доезжать» события из прошлого — это может «перекашивать данные». \n",
    "- [x] Определите, с какого момента данные полные и отбросьте более старые. Данными за какой период времени вы располагаете на самом деле?\n",
    "- [x] Много ли событий и пользователей вы потеряли, отбросив старые данные?\n",
    "- [x] Проверьте, что у вас есть пользователи из всех трёх экспериментальных групп."
   ]
  },
  {
   "cell_type": "markdown",
   "metadata": {},
   "source": [
    "## Вывод\n",
    "Выборка была немного укорочена, оставили для анализа только данные за первую неделю августа 2019. Кроме того удостоверились что пересечений в группах нет. Данные изучены и проверены, теперь можно приступить к анализу. \n",
    "\n",
    "[План работ](#plan)"
   ]
  },
  {
   "cell_type": "markdown",
   "metadata": {},
   "source": [
    "<a id=step3></a>\n",
    "# Шаг 3. Изучить воронку событий\n"
   ]
  },
  {
   "cell_type": "markdown",
   "metadata": {},
   "source": [
    "Приступим к изучению воронки событий и начнем со знакомства с самими событиями."
   ]
  },
  {
   "cell_type": "code",
   "execution_count": 20,
   "metadata": {
    "ExecuteTime": {
     "end_time": "2020-11-01T19:51:45.998270Z",
     "start_time": "2020-11-01T19:51:45.949847Z"
    }
   },
   "outputs": [
    {
     "data": {
      "text/html": [
       "<div>\n",
       "<style scoped>\n",
       "    .dataframe tbody tr th:only-of-type {\n",
       "        vertical-align: middle;\n",
       "    }\n",
       "\n",
       "    .dataframe tbody tr th {\n",
       "        vertical-align: top;\n",
       "    }\n",
       "\n",
       "    .dataframe thead th {\n",
       "        text-align: right;\n",
       "    }\n",
       "</style>\n",
       "<table border=\"1\" class=\"dataframe\">\n",
       "  <thead>\n",
       "    <tr style=\"text-align: right;\">\n",
       "      <th></th>\n",
       "      <th>event</th>\n",
       "      <th>count</th>\n",
       "    </tr>\n",
       "  </thead>\n",
       "  <tbody>\n",
       "    <tr>\n",
       "      <th>0</th>\n",
       "      <td>MainScreenAppear</td>\n",
       "      <td>117328</td>\n",
       "    </tr>\n",
       "    <tr>\n",
       "      <th>1</th>\n",
       "      <td>OffersScreenAppear</td>\n",
       "      <td>46333</td>\n",
       "    </tr>\n",
       "    <tr>\n",
       "      <th>2</th>\n",
       "      <td>CartScreenAppear</td>\n",
       "      <td>42303</td>\n",
       "    </tr>\n",
       "    <tr>\n",
       "      <th>3</th>\n",
       "      <td>PaymentScreenSuccessful</td>\n",
       "      <td>33918</td>\n",
       "    </tr>\n",
       "    <tr>\n",
       "      <th>4</th>\n",
       "      <td>Tutorial</td>\n",
       "      <td>1005</td>\n",
       "    </tr>\n",
       "  </tbody>\n",
       "</table>\n",
       "</div>"
      ],
      "text/plain": [
       "                     event   count\n",
       "0         MainScreenAppear  117328\n",
       "1       OffersScreenAppear   46333\n",
       "2         CartScreenAppear   42303\n",
       "3  PaymentScreenSuccessful   33918\n",
       "4                 Tutorial    1005"
      ]
     },
     "execution_count": 20,
     "metadata": {},
     "output_type": "execute_result"
    }
   ],
   "source": [
    "events_count = logs['event'].value_counts().reset_index().rename(columns={'index':'event', 'event':'count'})\n",
    "events_count"
   ]
  },
  {
   "cell_type": "markdown",
   "metadata": {},
   "source": [
    "В логе представлено пять различных событий. \n",
    "* MainScreenAppear - появление главного экрана, по всей видимости фиксируется вход в приложение           \n",
    "* OffersScreenAppear - появление экрана с предложениями/продуктами.\n",
    "\n",
    "* CartScreenAppear - появление экрана с корзиной, пользователь накидал товаров в корзину и открыл её\n",
    "\n",
    "* PaymentScreenSuccessful - появление экрана с подтвреждением оплаты, пользователь оплатил товар и оплата прошла успешно\n",
    "\n",
    "* Tutorial - обучение, сколько пользователей прошло обучение. Интересно, в какой момент можно пройти обучение, до главного экрана или в любой момент...\n",
    "\n",
    "Сразу видно, что большая часть аудитории \"отваливается\" после главного экрана."
   ]
  },
  {
   "cell_type": "markdown",
   "metadata": {},
   "source": [
    "Посмотрим, сколько из наших пользователей совершило все события. Посчитаем сколько на каждого пользователя пришлось уникальных событий и посчитаем сколько среди этих пользователей тех, кто совершил все 5."
   ]
  },
  {
   "cell_type": "code",
   "execution_count": 21,
   "metadata": {
    "ExecuteTime": {
     "end_time": "2020-11-01T19:51:46.293901Z",
     "start_time": "2020-11-01T19:51:46.005276Z"
    }
   },
   "outputs": [],
   "source": [
    "users_un_event_count = logs.groupby('user_id')['event'].nunique().reset_index()"
   ]
  },
  {
   "cell_type": "code",
   "execution_count": 22,
   "metadata": {
    "ExecuteTime": {
     "end_time": "2020-11-01T19:51:46.306914Z",
     "start_time": "2020-11-01T19:51:46.297907Z"
    }
   },
   "outputs": [
    {
     "data": {
      "text/plain": [
       "466"
      ]
     },
     "execution_count": 22,
     "metadata": {},
     "output_type": "execute_result"
    }
   ],
   "source": [
    "users_un_event_count[users_un_event_count['event']>4]['user_id'].count()"
   ]
  },
  {
   "cell_type": "markdown",
   "metadata": {},
   "source": [
    "Теперь сделаем обратное упражнение, посмотрим сколько событий было совершено уникальными пользователями. Собственно вот она воронка. "
   ]
  },
  {
   "cell_type": "code",
   "execution_count": 23,
   "metadata": {
    "ExecuteTime": {
     "end_time": "2020-11-01T19:51:46.501061Z",
     "start_time": "2020-11-01T19:51:46.310916Z"
    }
   },
   "outputs": [
    {
     "data": {
      "text/html": [
       "<div>\n",
       "<style scoped>\n",
       "    .dataframe tbody tr th:only-of-type {\n",
       "        vertical-align: middle;\n",
       "    }\n",
       "\n",
       "    .dataframe tbody tr th {\n",
       "        vertical-align: top;\n",
       "    }\n",
       "\n",
       "    .dataframe thead th {\n",
       "        text-align: right;\n",
       "    }\n",
       "</style>\n",
       "<table border=\"1\" class=\"dataframe\">\n",
       "  <thead>\n",
       "    <tr style=\"text-align: right;\">\n",
       "      <th></th>\n",
       "      <th>event</th>\n",
       "      <th>unique_count</th>\n",
       "    </tr>\n",
       "  </thead>\n",
       "  <tbody>\n",
       "    <tr>\n",
       "      <th>1</th>\n",
       "      <td>MainScreenAppear</td>\n",
       "      <td>7419</td>\n",
       "    </tr>\n",
       "    <tr>\n",
       "      <th>2</th>\n",
       "      <td>OffersScreenAppear</td>\n",
       "      <td>4593</td>\n",
       "    </tr>\n",
       "    <tr>\n",
       "      <th>0</th>\n",
       "      <td>CartScreenAppear</td>\n",
       "      <td>3734</td>\n",
       "    </tr>\n",
       "    <tr>\n",
       "      <th>3</th>\n",
       "      <td>PaymentScreenSuccessful</td>\n",
       "      <td>3539</td>\n",
       "    </tr>\n",
       "    <tr>\n",
       "      <th>4</th>\n",
       "      <td>Tutorial</td>\n",
       "      <td>840</td>\n",
       "    </tr>\n",
       "  </tbody>\n",
       "</table>\n",
       "</div>"
      ],
      "text/plain": [
       "                     event  unique_count\n",
       "1         MainScreenAppear          7419\n",
       "2       OffersScreenAppear          4593\n",
       "0         CartScreenAppear          3734\n",
       "3  PaymentScreenSuccessful          3539\n",
       "4                 Tutorial           840"
      ]
     },
     "execution_count": 23,
     "metadata": {},
     "output_type": "execute_result"
    }
   ],
   "source": [
    "funnel = (logs.groupby('event')['user_id']\n",
    "          .nunique().reset_index().sort_values(by='user_id', ascending=False)\n",
    "          .rename(columns={'user_id':'unique_count'}))\n",
    "funnel"
   ]
  },
  {
   "cell_type": "markdown",
   "metadata": {},
   "source": [
    "Занятное наблюдение, обучение было пройдено 1005 раз, из них 840 уникальными пользователями, значит мы имеем 165 повторных обучений - 16%. Можете наше обучение какое-то не такое, сложное, не понятное и т.п.? Пожалуй надо передать разработчикам. \n",
    "\n",
    "Теперь посмотрим на долю пользователей, которые совершили только 1 действие"
   ]
  },
  {
   "cell_type": "code",
   "execution_count": 24,
   "metadata": {
    "ExecuteTime": {
     "end_time": "2020-11-01T19:51:46.518073Z",
     "start_time": "2020-11-01T19:51:46.504065Z"
    }
   },
   "outputs": [],
   "source": [
    "user_single_event_ratio = (\n",
    "    users_un_event_count[users_un_event_count['event'] == 1]['user_id'].count() \n",
    "    / len(logs['user_id'].unique()))"
   ]
  },
  {
   "cell_type": "code",
   "execution_count": 25,
   "metadata": {
    "ExecuteTime": {
     "end_time": "2020-11-01T19:51:46.546097Z",
     "start_time": "2020-11-01T19:51:46.521075Z"
    }
   },
   "outputs": [
    {
     "name": "stdout",
     "output_type": "stream",
     "text": [
      "Доля пользователей, которые совершили только одно событие - 0.36\n"
     ]
    }
   ],
   "source": [
    "print(\"Доля пользователей, которые совершили только одно событие - {:.2}\".format(user_single_event_ratio))"
   ]
  },
  {
   "cell_type": "markdown",
   "metadata": {},
   "source": [
    "36% пользователей сделали только одно действие, наверно это много. \n",
    "\n",
    "Попробуем разобраться, в каком же пордке происходят события. Попробуем сделать это на примере наших пользователей с одним событием. Посмотрим, какой же единственное событие у них было. "
   ]
  },
  {
   "cell_type": "code",
   "execution_count": 26,
   "metadata": {
    "ExecuteTime": {
     "end_time": "2020-11-01T19:51:46.572118Z",
     "start_time": "2020-11-01T19:51:46.551101Z"
    }
   },
   "outputs": [
    {
     "data": {
      "text/plain": [
       "array(['MainScreenAppear', 'OffersScreenAppear', 'Tutorial'], dtype=object)"
      ]
     },
     "execution_count": 26,
     "metadata": {},
     "output_type": "execute_result"
    }
   ],
   "source": [
    "logs.loc[logs['user_id'].isin(users_un_event_count[users_un_event_count['event'] == 1]['user_id']),'event'].unique()"
   ]
  },
  {
   "cell_type": "markdown",
   "metadata": {},
   "source": [
    "Каки отмечал ранее, были сомнения касательно того в какой момент может появится OffersScreenAppear и когда можно пройти Tutorial. По всей видимости, они могут оказаться и самыми первыми, в этой связи. \n",
    "\n",
    "Наверно еще логично, что обучение может оказаться первым, но вот экран с предложениями, вряд ли. Возможно этот как раз те самые \"доехавшие\" из других дней логи. Либо мы просто отрезали первые события пользователей в июле. Посмотрим на них пристальнее. "
   ]
  },
  {
   "cell_type": "code",
   "execution_count": 27,
   "metadata": {
    "ExecuteTime": {
     "end_time": "2020-11-01T19:51:46.613146Z",
     "start_time": "2020-11-01T19:51:46.575120Z"
    }
   },
   "outputs": [],
   "source": [
    "single_event_offers = logs.loc[(logs['user_id'].isin(users_un_event_count[users_un_event_count['event'] == 1]['user_id']))\n",
    "        & (logs['event'] == 'OffersScreenAppear')]"
   ]
  },
  {
   "cell_type": "code",
   "execution_count": 28,
   "metadata": {
    "ExecuteTime": {
     "end_time": "2020-11-01T19:51:46.623153Z",
     "start_time": "2020-11-01T19:51:46.615146Z"
    }
   },
   "outputs": [
    {
     "data": {
      "text/plain": [
       "31"
      ]
     },
     "execution_count": 28,
     "metadata": {},
     "output_type": "execute_result"
    }
   ],
   "source": [
    "len(single_event_offers)"
   ]
  },
  {
   "cell_type": "markdown",
   "metadata": {},
   "source": [
    "Всего 31 запись в логе, очень мало, можно ими и принебречь. Чуть укоротим нашу таблицу."
   ]
  },
  {
   "cell_type": "code",
   "execution_count": 29,
   "metadata": {
    "ExecuteTime": {
     "end_time": "2020-11-01T19:51:46.674199Z",
     "start_time": "2020-11-01T19:51:46.627159Z"
    }
   },
   "outputs": [],
   "source": [
    "logs = logs.loc[~logs['user_id'].isin(single_event_offers['user_id'])]"
   ]
  },
  {
   "cell_type": "markdown",
   "metadata": {},
   "source": [
    "И еще раз построим воронку, без учета \"обучения\". \n",
    "И на этот раз посчитаем доли тех кто перешел на следующий шаг. "
   ]
  },
  {
   "cell_type": "code",
   "execution_count": 30,
   "metadata": {
    "ExecuteTime": {
     "end_time": "2020-11-01T19:51:46.878888Z",
     "start_time": "2020-11-01T19:51:46.677205Z"
    },
    "scrolled": true
   },
   "outputs": [
    {
     "data": {
      "text/html": [
       "<div>\n",
       "<style scoped>\n",
       "    .dataframe tbody tr th:only-of-type {\n",
       "        vertical-align: middle;\n",
       "    }\n",
       "\n",
       "    .dataframe tbody tr th {\n",
       "        vertical-align: top;\n",
       "    }\n",
       "\n",
       "    .dataframe thead th {\n",
       "        text-align: right;\n",
       "    }\n",
       "</style>\n",
       "<table border=\"1\" class=\"dataframe\">\n",
       "  <thead>\n",
       "    <tr style=\"text-align: right;\">\n",
       "      <th></th>\n",
       "      <th>event</th>\n",
       "      <th>unique_count</th>\n",
       "    </tr>\n",
       "  </thead>\n",
       "  <tbody>\n",
       "    <tr>\n",
       "      <th>1</th>\n",
       "      <td>MainScreenAppear</td>\n",
       "      <td>7419</td>\n",
       "    </tr>\n",
       "    <tr>\n",
       "      <th>2</th>\n",
       "      <td>OffersScreenAppear</td>\n",
       "      <td>4581</td>\n",
       "    </tr>\n",
       "    <tr>\n",
       "      <th>0</th>\n",
       "      <td>CartScreenAppear</td>\n",
       "      <td>3734</td>\n",
       "    </tr>\n",
       "    <tr>\n",
       "      <th>3</th>\n",
       "      <td>PaymentScreenSuccessful</td>\n",
       "      <td>3539</td>\n",
       "    </tr>\n",
       "  </tbody>\n",
       "</table>\n",
       "</div>"
      ],
      "text/plain": [
       "                     event  unique_count\n",
       "1         MainScreenAppear          7419\n",
       "2       OffersScreenAppear          4581\n",
       "0         CartScreenAppear          3734\n",
       "3  PaymentScreenSuccessful          3539"
      ]
     },
     "execution_count": 30,
     "metadata": {},
     "output_type": "execute_result"
    }
   ],
   "source": [
    "funnel_no_tutorial = (logs.groupby('event')['user_id']\n",
    "          .nunique().reset_index().sort_values(by='user_id', ascending=False)\n",
    "          .rename(columns={'user_id':'unique_count'}).drop(4))\n",
    "funnel_no_tutorial"
   ]
  },
  {
   "cell_type": "code",
   "execution_count": 31,
   "metadata": {
    "ExecuteTime": {
     "end_time": "2020-11-01T19:51:46.894898Z",
     "start_time": "2020-11-01T19:51:46.880889Z"
    }
   },
   "outputs": [],
   "source": [
    "funnel_no_tutorial['conversion'] = None\n",
    "funnel_no_tutorial.iloc[0,2] = 1\n",
    "funnel_no_tutorial.iloc[1,2] = funnel_no_tutorial.iloc[1,1] / funnel_no_tutorial.iloc[0,1] \n",
    "funnel_no_tutorial.iloc[2,2] = funnel_no_tutorial.iloc[2,1] / funnel_no_tutorial.iloc[1,1]\n",
    "funnel_no_tutorial.iloc[3,2] = funnel_no_tutorial.iloc[3,1] / funnel_no_tutorial.iloc[2,1]"
   ]
  },
  {
   "cell_type": "code",
   "execution_count": 32,
   "metadata": {
    "ExecuteTime": {
     "end_time": "2020-11-01T19:51:46.912911Z",
     "start_time": "2020-11-01T19:51:46.897901Z"
    },
    "scrolled": true
   },
   "outputs": [
    {
     "data": {
      "text/html": [
       "<div>\n",
       "<style scoped>\n",
       "    .dataframe tbody tr th:only-of-type {\n",
       "        vertical-align: middle;\n",
       "    }\n",
       "\n",
       "    .dataframe tbody tr th {\n",
       "        vertical-align: top;\n",
       "    }\n",
       "\n",
       "    .dataframe thead th {\n",
       "        text-align: right;\n",
       "    }\n",
       "</style>\n",
       "<table border=\"1\" class=\"dataframe\">\n",
       "  <thead>\n",
       "    <tr style=\"text-align: right;\">\n",
       "      <th></th>\n",
       "      <th>event</th>\n",
       "      <th>unique_count</th>\n",
       "      <th>conversion</th>\n",
       "    </tr>\n",
       "  </thead>\n",
       "  <tbody>\n",
       "    <tr>\n",
       "      <th>1</th>\n",
       "      <td>MainScreenAppear</td>\n",
       "      <td>7419</td>\n",
       "      <td>1</td>\n",
       "    </tr>\n",
       "    <tr>\n",
       "      <th>2</th>\n",
       "      <td>OffersScreenAppear</td>\n",
       "      <td>4581</td>\n",
       "      <td>0.62</td>\n",
       "    </tr>\n",
       "    <tr>\n",
       "      <th>0</th>\n",
       "      <td>CartScreenAppear</td>\n",
       "      <td>3734</td>\n",
       "      <td>0.82</td>\n",
       "    </tr>\n",
       "    <tr>\n",
       "      <th>3</th>\n",
       "      <td>PaymentScreenSuccessful</td>\n",
       "      <td>3539</td>\n",
       "      <td>0.95</td>\n",
       "    </tr>\n",
       "  </tbody>\n",
       "</table>\n",
       "</div>"
      ],
      "text/plain": [
       "                     event  unique_count conversion\n",
       "1         MainScreenAppear          7419          1\n",
       "2       OffersScreenAppear          4581       0.62\n",
       "0         CartScreenAppear          3734       0.82\n",
       "3  PaymentScreenSuccessful          3539       0.95"
      ]
     },
     "execution_count": 32,
     "metadata": {},
     "output_type": "execute_result"
    }
   ],
   "source": [
    "funnel_no_tutorial"
   ]
  },
  {
   "cell_type": "markdown",
   "metadata": {},
   "source": [
    "Больше всего мы теряем пользователей после первого шага. 38% пользователей не пошли дальше первого шага. "
   ]
  },
  {
   "cell_type": "code",
   "execution_count": 33,
   "metadata": {
    "ExecuteTime": {
     "end_time": "2020-11-01T19:51:46.921917Z",
     "start_time": "2020-11-01T19:51:46.915913Z"
    }
   },
   "outputs": [
    {
     "name": "stdout",
     "output_type": "stream",
     "text": [
      "47.70% пользователей дошли от первого шага до успешной покупки\n"
     ]
    }
   ],
   "source": [
    "print('{:.2%} пользователей дошли от первого шага до успешной покупки'.format(funnel_no_tutorial.iloc[3,1] / funnel_no_tutorial.iloc[0,1]))"
   ]
  },
  {
   "cell_type": "markdown",
   "metadata": {},
   "source": [
    "## Вывод\n",
    "\n",
    "Выяснили, что всего 466 пользователей прошли все пять событий.\n",
    "\n",
    "После составления воронки обнаружили, что после первого шага \"отвлаивается\" 38% пользователей, после последующих шагов потери существенно меньше. Необходимо передать коллегам о нашем слабом месте, попробовать заинтересовать большее количество пользователей. \n",
    "\n",
    "18%, и 5%. То есть, положив товар в корзину пользователь почти наверняка совершит покупку.\n",
    "\n",
    "PS Нужно передать разработчикам/аналитикам, чтобы лишний раз проверили туториал, так как 16% из всех обучений были повторные, может пользователям что-то непонятно и они проходят обучение по новой.\n",
    "\n",
    "\n",
    "[План работ](#plan)"
   ]
  },
  {
   "cell_type": "markdown",
   "metadata": {},
   "source": [
    "<a id=step4></a>\n",
    "# Шаг 4. Изучить результаты эксперимента "
   ]
  },
  {
   "cell_type": "markdown",
   "metadata": {},
   "source": [
    "Приступим к финальной части, узнаем результаты эксперимента.\n",
    "\n",
    "Предварительно оценим количество пользователей в каждой из групп."
   ]
  },
  {
   "cell_type": "code",
   "execution_count": 34,
   "metadata": {
    "ExecuteTime": {
     "end_time": "2020-11-01T19:51:47.030497Z",
     "start_time": "2020-11-01T19:51:46.924917Z"
    }
   },
   "outputs": [
    {
     "data": {
      "text/plain": [
       "exp\n",
       "246    2481\n",
       "247    2508\n",
       "248    2533\n",
       "Name: user_id, dtype: int64"
      ]
     },
     "execution_count": 34,
     "metadata": {},
     "output_type": "execute_result"
    }
   ],
   "source": [
    "logs.groupby(['exp'])['user_id'].nunique()"
   ]
  },
  {
   "cell_type": "markdown",
   "metadata": {},
   "source": [
    "Расхождения незначительные, как раз в районе 1%, можно продолжать."
   ]
  },
  {
   "cell_type": "markdown",
   "metadata": {},
   "source": [
    "Сформируем таблицы для каждого из экспериментов, с указанием количество оплаченных заказов для каждого из пользователей."
   ]
  },
  {
   "cell_type": "code",
   "execution_count": 35,
   "metadata": {
    "ExecuteTime": {
     "end_time": "2020-11-01T19:51:47.104557Z",
     "start_time": "2020-11-01T19:51:47.032498Z"
    }
   },
   "outputs": [],
   "source": [
    "# берем пользователей, которые доходили до оплаты и считаем сколько оплат они сделали\n",
    "exp_246_with_payment = (logs.loc[(logs['event'] == 'PaymentScreenSuccessful') \n",
    "                    & (logs['exp'] == 246)]\n",
    "           .groupby('user_id')['event'].count()\n",
    "           .reset_index()\n",
    "           .rename(columns={'event':'payments'}))\n",
    "# берем пользователей, которые не дошли до заказа и пишем им в количестве заказов - 0\n",
    "exp_246_wo_payment = (logs.loc[~(logs['user_id'].isin(exp_246_with_payment['user_id'])) \n",
    "                    & (logs['exp'] == 246)]\n",
    "           .groupby('user_id')['event'].count()\n",
    "           .reset_index()\n",
    "           )\n",
    "exp_246_wo_payment['event'] = 0\n",
    "exp_246_wo_payment.rename(columns={'event':'payments'}, inplace = True)\n",
    "\n",
    "# соединим\n",
    "exp_246 = pd.concat([exp_246_with_payment, exp_246_wo_payment])"
   ]
  },
  {
   "cell_type": "code",
   "execution_count": 36,
   "metadata": {
    "ExecuteTime": {
     "end_time": "2020-11-01T19:51:47.116563Z",
     "start_time": "2020-11-01T19:51:47.107557Z"
    }
   },
   "outputs": [
    {
     "data": {
      "text/plain": [
       "2481"
      ]
     },
     "execution_count": 36,
     "metadata": {},
     "output_type": "execute_result"
    }
   ],
   "source": [
    "# проверка что количества пользователей совпадает с запросом выше (где группировка и количество уникальных)\n",
    "len(exp_246)"
   ]
  },
  {
   "cell_type": "code",
   "execution_count": 37,
   "metadata": {
    "ExecuteTime": {
     "end_time": "2020-11-01T19:51:47.194627Z",
     "start_time": "2020-11-01T19:51:47.119565Z"
    }
   },
   "outputs": [],
   "source": [
    "# берем пользователей, которые доходили до оплаты и считаем сколько оплат они сделали\n",
    "exp_247_with_payment = (logs.loc[(logs['event'] == 'PaymentScreenSuccessful') \n",
    "                    & (logs['exp'] == 247)]\n",
    "           .groupby('user_id')['event'].count()\n",
    "           .reset_index()\n",
    "           .rename(columns={'event':'payments'}))\n",
    "# берем пользователей, которые не дошли до заказа и пишем им в количестве заказов - 0\n",
    "exp_247_wo_payment = (logs.loc[~(logs['user_id'].isin(exp_247_with_payment['user_id'])) \n",
    "                    & (logs['exp'] == 247)]\n",
    "           .groupby('user_id')['event'].count()\n",
    "           .reset_index()\n",
    "           )\n",
    "exp_247_wo_payment['event'] = 0\n",
    "exp_247_wo_payment.rename(columns={'event':'payments'}, inplace = True)\n",
    "\n",
    "# соединим\n",
    "exp_247 = pd.concat([exp_247_with_payment, exp_247_wo_payment])"
   ]
  },
  {
   "cell_type": "code",
   "execution_count": 38,
   "metadata": {
    "ExecuteTime": {
     "end_time": "2020-11-01T19:51:47.203632Z",
     "start_time": "2020-11-01T19:51:47.197631Z"
    }
   },
   "outputs": [
    {
     "data": {
      "text/plain": [
       "2508"
      ]
     },
     "execution_count": 38,
     "metadata": {},
     "output_type": "execute_result"
    }
   ],
   "source": [
    "# проверка количества пользователей\n",
    "len(exp_247)"
   ]
  },
  {
   "cell_type": "code",
   "execution_count": 39,
   "metadata": {
    "ExecuteTime": {
     "end_time": "2020-11-01T19:51:47.279625Z",
     "start_time": "2020-11-01T19:51:47.206634Z"
    }
   },
   "outputs": [],
   "source": [
    "# берем пользователей, которые доходили до оплаты и считаем сколько оплат они сделали\n",
    "exp_248_with_payment = (logs.loc[(logs['event'] == 'PaymentScreenSuccessful') \n",
    "                    & (logs['exp'] == 248)]\n",
    "           .groupby('user_id')['event'].count()\n",
    "           .reset_index()\n",
    "           .rename(columns={'event':'payments'}))\n",
    "# берем пользователей, которые не дошли до заказа и пишем им в количестве заказов - 0\n",
    "exp_248_wo_payment = (logs.loc[~(logs['user_id'].isin(exp_248_with_payment['user_id'])) \n",
    "                    & (logs['exp'] == 248)]\n",
    "           .groupby('user_id')['event'].count()\n",
    "           .reset_index()\n",
    "           )\n",
    "exp_248_wo_payment['event'] = 0\n",
    "exp_248_wo_payment.rename(columns={'event':'payments'}, inplace = True)\n",
    "\n",
    "# соединим\n",
    "exp_248 = pd.concat([exp_248_with_payment, exp_248_wo_payment])"
   ]
  },
  {
   "cell_type": "code",
   "execution_count": 40,
   "metadata": {
    "ExecuteTime": {
     "end_time": "2020-11-01T19:51:47.287630Z",
     "start_time": "2020-11-01T19:51:47.282626Z"
    }
   },
   "outputs": [
    {
     "data": {
      "text/plain": [
       "2533"
      ]
     },
     "execution_count": 40,
     "metadata": {},
     "output_type": "execute_result"
    }
   ],
   "source": [
    "# проверка количества пользователей\n",
    "len(exp_248)"
   ]
  },
  {
   "cell_type": "markdown",
   "metadata": {
    "ExecuteTime": {
     "end_time": "2020-09-11T07:42:32.050694Z",
     "start_time": "2020-09-11T07:42:32.014664Z"
    }
   },
   "source": [
    "Выясним, есть ли стат значимость между контрольными группам 246 и 247. \n",
    "\n",
    "Применим непараметрический тест Уилкоксона-Манна-Уитни.\n",
    "\n",
    "* H0 - среднее количество покупок равно\n",
    "* H1 - среднее количество покупок НЕ равно\n",
    "* Примем для себя уровень значимости alpha = .05"
   ]
  },
  {
   "cell_type": "code",
   "execution_count": 41,
   "metadata": {
    "ExecuteTime": {
     "end_time": "2020-11-01T19:51:47.307643Z",
     "start_time": "2020-11-01T19:51:47.290632Z"
    }
   },
   "outputs": [
    {
     "name": "stdout",
     "output_type": "stream",
     "text": [
      "А/А тест №1\n",
      "p_value - 0.0405\n",
      "Среднее количество покупок в группе 246 - 4.78\n",
      "Среднее количество покупок в группе 247 - 3.98\n"
     ]
    }
   ],
   "source": [
    "print('А/А тест №1')\n",
    "print(\"p_value - {0:.4f}\".format(st.mannwhitneyu(exp_246['payments'], exp_247['payments'])[1]))\n",
    "print('Среднее количество покупок в группе 246 - {:.2f}'.format(exp_246['payments'].mean()))\n",
    "print('Среднее количество покупок в группе 247 - {:.2f}'.format(exp_247['payments'].mean()))"
   ]
  },
  {
   "cell_type": "markdown",
   "metadata": {},
   "source": [
    "При таком раскладе, мы отвергаем H0! Что для нас означает провал А/А теста. Может быть нужно изучить выбросы?"
   ]
  },
  {
   "cell_type": "markdown",
   "metadata": {},
   "source": [
    "Соберем всех пользователей из всех групп в одну таблицу и найдем выбросы."
   ]
  },
  {
   "cell_type": "code",
   "execution_count": 42,
   "metadata": {
    "ExecuteTime": {
     "end_time": "2020-11-01T19:51:47.406719Z",
     "start_time": "2020-11-01T19:51:47.313648Z"
    }
   },
   "outputs": [],
   "source": [
    "# берем пользователей, которые доходили до оплаты и считаем сколько оплат они сделали\n",
    "exp_with_payment = (logs.loc[(logs['event'] == 'PaymentScreenSuccessful')]\n",
    "           .groupby('user_id')['event'].count()\n",
    "           .reset_index()\n",
    "           .rename(columns={'event':'payments'}))\n",
    "# берем пользователей, которые не дошли до заказа и пишем им в количестве заказов - 0\n",
    "exp_wo_payment = (logs.loc[~(logs['user_id'].isin(exp_with_payment['user_id']))]\n",
    "           .groupby('user_id')['event'].count()\n",
    "           .reset_index()\n",
    "           )\n",
    "exp_wo_payment['event'] = 0\n",
    "exp_wo_payment.rename(columns={'event':'payments'}, inplace = True)\n",
    "\n",
    "# соединим\n",
    "exp = pd.concat([exp_with_payment, exp_wo_payment])"
   ]
  },
  {
   "cell_type": "code",
   "execution_count": 43,
   "metadata": {
    "ExecuteTime": {
     "end_time": "2020-11-01T19:51:47.722954Z",
     "start_time": "2020-11-01T19:51:47.409721Z"
    }
   },
   "outputs": [
    {
     "data": {
      "image/png": "[encoded data removed]",
      "text/plain": [
       "<Figure size 576x288 with 1 Axes>"
      ]
     },
     "metadata": {
      "needs_background": "light"
     },
     "output_type": "display_data"
    }
   ],
   "source": [
    "x_values = pd.Series(range(0,len(exp[exp['payments'] != 0]['payments'])))\n",
    "fig, axs = plt.subplots(figsize=[8,4])\n",
    "# рисуем график\n",
    "plt.scatter(x_values, exp[exp['payments'] != 0]['payments'])\n",
    "fig.suptitle('Количество оплат ', fontsize=15);"
   ]
  },
  {
   "cell_type": "code",
   "execution_count": 44,
   "metadata": {
    "ExecuteTime": {
     "end_time": "2020-11-01T19:51:47.735963Z",
     "start_time": "2020-11-01T19:51:47.724956Z"
    }
   },
   "outputs": [
    {
     "name": "stdout",
     "output_type": "stream",
     "text": [
      "90, 95 и 99 перцентили группы 246 [15.   23.   95.24]\n"
     ]
    }
   ],
   "source": [
    "print('90, 95 и 99 перцентили группы 246', np.percentile(exp[exp['payments'] != 0]['payments'], [90,95,99]))"
   ]
  },
  {
   "cell_type": "markdown",
   "metadata": {},
   "source": [
    "Уберем пользователей с аномальным количеством покупок и вычистим их из основной таблицы, затем сформируем выборки по группам заного."
   ]
  },
  {
   "cell_type": "code",
   "execution_count": 45,
   "metadata": {
    "ExecuteTime": {
     "end_time": "2020-11-01T19:51:47.787950Z",
     "start_time": "2020-11-01T19:51:47.738966Z"
    }
   },
   "outputs": [],
   "source": [
    "perc = np.percentile(exp[exp['payments'] != 0]['payments'],[99])[0]\n",
    "exp_clean = exp.query('payments <= @perc')"
   ]
  },
  {
   "cell_type": "code",
   "execution_count": 46,
   "metadata": {
    "ExecuteTime": {
     "end_time": "2020-11-01T19:51:47.828977Z",
     "start_time": "2020-11-01T19:51:47.789950Z"
    }
   },
   "outputs": [],
   "source": [
    "# чистим основную таблицу от пользователей, который очень много покупают\n",
    "logs_clean = logs.loc[logs['user_id'].isin(exp_clean['user_id'])]"
   ]
  },
  {
   "cell_type": "markdown",
   "metadata": {
    "ExecuteTime": {
     "end_time": "2020-09-18T10:42:39.108329Z",
     "start_time": "2020-09-18T10:42:39.104826Z"
    }
   },
   "source": [
    "Теперь заново сформируем тестовые группы"
   ]
  },
  {
   "cell_type": "code",
   "execution_count": 47,
   "metadata": {
    "ExecuteTime": {
     "end_time": "2020-11-01T19:51:47.835980Z",
     "start_time": "2020-11-01T19:51:47.830977Z"
    }
   },
   "outputs": [],
   "source": [
    "groups_list = [246, 247, 248]"
   ]
  },
  {
   "cell_type": "code",
   "execution_count": 48,
   "metadata": {
    "ExecuteTime": {
     "end_time": "2020-11-01T19:51:47.988102Z",
     "start_time": "2020-11-01T19:51:47.838982Z"
    }
   },
   "outputs": [],
   "source": [
    " for group in groups_list:\n",
    "    # берем пользователей, которые доходили до оплаты и считаем сколько оплат они сделали\n",
    "    exp_with_payment = (logs_clean.loc[(logs_clean['event'] == 'PaymentScreenSuccessful') \n",
    "                        & (logs_clean['exp'] == group)]\n",
    "               .groupby('user_id')['event'].count()\n",
    "               .reset_index()\n",
    "               .rename(columns={'event':'payments'}))\n",
    "    # берем пользователей, которые не дошли до заказа и пишем им в количестве заказов - 0\n",
    "    exp_wo_payment = (logs_clean.loc[~(logs_clean['user_id'].isin(exp_with_payment['user_id'])) \n",
    "                        & (logs_clean['exp'] == group)]\n",
    "               .groupby('user_id')['event'].count()\n",
    "               .reset_index()\n",
    "               )\n",
    "    exp_wo_payment['event'] = 0\n",
    "    exp_wo_payment.rename(columns={'event':'payments'}, inplace = True)\n",
    "\n",
    "    # соединим, при помощи globals() переименовываем название переменной\n",
    "    globals()['exp_'+str(group)+'_clean'] = pd.concat([exp_with_payment, exp_wo_payment])"
   ]
  },
  {
   "cell_type": "code",
   "execution_count": 49,
   "metadata": {
    "ExecuteTime": {
     "end_time": "2020-11-01T19:51:47.999109Z",
     "start_time": "2020-11-01T19:51:47.990103Z"
    }
   },
   "outputs": [
    {
     "name": "stdout",
     "output_type": "stream",
     "text": [
      "Количество пользователей в выборке 246 после чистки - 2468\n",
      "Количество пользователей в выборке 247 после чистки - 2501\n",
      "Количество пользователей в выборке 248 после чистки - 2517\n"
     ]
    }
   ],
   "source": [
    "print('Количество пользователей в выборке 246 после чистки -', len(exp_246_clean))\n",
    "print('Количество пользователей в выборке 247 после чистки -', len(exp_247_clean))\n",
    "print('Количество пользователей в выборке 248 после чистки -', len(exp_248_clean))"
   ]
  },
  {
   "cell_type": "markdown",
   "metadata": {},
   "source": [
    "Выборки почищены, количество сильно не изменилось, повторим тест."
   ]
  },
  {
   "cell_type": "code",
   "execution_count": 50,
   "metadata": {
    "ExecuteTime": {
     "end_time": "2020-11-01T19:51:48.037135Z",
     "start_time": "2020-11-01T19:51:48.001110Z"
    }
   },
   "outputs": [
    {
     "name": "stdout",
     "output_type": "stream",
     "text": [
      "А/А тест №2, на чистых выборках\n",
      "p_value - 0.0554\n",
      "Среднее количество покупок в группе 246 - 3.34\n",
      "Среднее количество покупок в группе 247 - 3.12\n"
     ]
    }
   ],
   "source": [
    "print('А/А тест №2, на чистых выборках')\n",
    "print(\"p_value - {0:.4f}\".format(st.mannwhitneyu(exp_246_clean['payments'], exp_247_clean['payments'])[1]))\n",
    "print('Среднее количество покупок в группе 246 - {:.2f}'.format(exp_246_clean['payments'].mean()))\n",
    "print('Среднее количество покупок в группе 247 - {:.2f}'.format(exp_247_clean['payments'].mean()))"
   ]
  },
  {
   "cell_type": "markdown",
   "metadata": {},
   "source": [
    "p_value выросло! Однако, разница средних стала меньше и среднии значительно приблизились друг к другу. Вероятно, следует уменьшить уровень значимости до 0.01\n",
    "Стоит помнить, что таким образом мы увеличиваем вероятность ошибки второго рода... но думаю мы можем принять такие риски. "
   ]
  },
  {
   "cell_type": "markdown",
   "metadata": {},
   "source": [
    "Продолжим проверять наши контрольные группы. Выберем самое популярное событие, а именно OffersScreenAppear, и проверим гипотизу о равенстве долей."
   ]
  },
  {
   "cell_type": "code",
   "execution_count": 51,
   "metadata": {
    "ExecuteTime": {
     "end_time": "2020-11-01T19:51:48.133204Z",
     "start_time": "2020-11-01T19:51:48.040137Z"
    }
   },
   "outputs": [],
   "source": [
    "# создадим отдельные таблицы, в которые выделим только пользователей из контрольных групп\n",
    "logs_246 = logs_clean.loc[logs['exp'] == 246]\n",
    "logs_247 = logs_clean.loc[logs['exp'] == 247]\n",
    "logs_248 = logs_clean.loc[logs['exp'] == 248]"
   ]
  },
  {
   "cell_type": "code",
   "execution_count": 52,
   "metadata": {
    "ExecuteTime": {
     "end_time": "2020-11-01T19:51:48.186250Z",
     "start_time": "2020-11-01T19:51:48.135206Z"
    }
   },
   "outputs": [],
   "source": [
    "offer_sc_share_246 = logs_246['event'].value_counts()[1] / logs_246['event'].value_counts()[0]\n",
    "offer_sc_share_247 = logs_247['event'].value_counts()[1] / logs_247['event'].value_counts()[0]"
   ]
  },
  {
   "cell_type": "code",
   "execution_count": 53,
   "metadata": {
    "ExecuteTime": {
     "end_time": "2020-11-01T19:51:48.199259Z",
     "start_time": "2020-11-01T19:51:48.188251Z"
    }
   },
   "outputs": [
    {
     "name": "stdout",
     "output_type": "stream",
     "text": [
      "Доля клиентов группы № 246, которые перешли с первого шага на второй - 0.38\n",
      "Доля клиентов группы № 247, которые перешли с первого шага на второй - 0.38\n"
     ]
    }
   ],
   "source": [
    "print('Доля клиентов группы № 246, которые перешли с первого шага на второй - {:.2f}'.format(offer_sc_share_246))\n",
    "print('Доля клиентов группы № 247, которые перешли с первого шага на второй - {:.2f}'.format(offer_sc_share_247))"
   ]
  },
  {
   "cell_type": "markdown",
   "metadata": {
    "ExecuteTime": {
     "end_time": "2020-09-11T12:50:04.627929Z",
     "start_time": "2020-09-11T12:50:04.597906Z"
    }
   },
   "source": [
    "На глаз разницы нет ( по крайней мере до сотых), попробуем подойти с более научной точки зрения. Попытаемся найти статистическую разницу между долями.\n",
    "\n",
    "* H0 - между долями НЕТ стат значимых различий\n",
    "* H1 - между долями ЕСТЬ стат значимых различий\n",
    "* Примем для себя уровень значимости alpha = .01"
   ]
  },
  {
   "cell_type": "code",
   "execution_count": 54,
   "metadata": {
    "ExecuteTime": {
     "end_time": "2020-11-01T19:51:48.258803Z",
     "start_time": "2020-11-01T19:51:48.202262Z"
    }
   },
   "outputs": [],
   "source": [
    "main_sc_246 = logs_246['event'].value_counts()[0]\n",
    "main_sc_247 = logs_247['event'].value_counts()[0]\n",
    "\n",
    "offer_sc_246 = logs_246['event'].value_counts()[1]\n",
    "offer_sc_247 = logs_247['event'].value_counts()[1]"
   ]
  },
  {
   "cell_type": "code",
   "execution_count": 55,
   "metadata": {
    "ExecuteTime": {
     "end_time": "2020-11-01T19:51:48.267190Z",
     "start_time": "2020-11-01T19:51:48.261185Z"
    }
   },
   "outputs": [],
   "source": [
    "# пропорция успехов в комбинированном датасете:\n",
    "p_combined = (offer_sc_246 + offer_sc_247) / (main_sc_246 + main_sc_247)\n",
    "\n",
    "# разница пропорций в датасетах\n",
    "dif = offer_sc_share_246 - offer_sc_share_247"
   ]
  },
  {
   "cell_type": "code",
   "execution_count": 56,
   "metadata": {
    "ExecuteTime": {
     "end_time": "2020-11-01T19:51:48.279198Z",
     "start_time": "2020-11-01T19:51:48.270191Z"
    }
   },
   "outputs": [],
   "source": [
    "z_value = dif / math.sqrt(p_combined * (1 - p_combined) * (1/main_sc_246 + 1/main_sc_247))\n",
    "distr = st.norm(0, 1) "
   ]
  },
  {
   "cell_type": "code",
   "execution_count": 57,
   "metadata": {
    "ExecuteTime": {
     "end_time": "2020-11-01T19:51:48.297216Z",
     "start_time": "2020-11-01T19:51:48.289203Z"
    }
   },
   "outputs": [
    {
     "data": {
      "text/plain": [
       "0.48425542017036816"
      ]
     },
     "execution_count": 57,
     "metadata": {},
     "output_type": "execute_result"
    }
   ],
   "source": [
    "p_value = (1 - distr.cdf(abs(z_value))) * 2\n",
    "p_value"
   ]
  },
  {
   "cell_type": "markdown",
   "metadata": {},
   "source": [
    "Таким образом, не получается отвергнуть нулевую гипотизу о равенстве долей, стат значимости между долями нет.\n",
    "\n",
    "Сделаем аналогичное упражнение для остальных событий. Напишем для этих целей функцию."
   ]
  },
  {
   "cell_type": "code",
   "execution_count": 58,
   "metadata": {
    "ExecuteTime": {
     "end_time": "2020-11-01T19:51:50.527020Z",
     "start_time": "2020-11-01T19:51:50.520016Z"
    }
   },
   "outputs": [],
   "source": [
    "def share_p_value (sample1_0, sample2_0, sample1_1, sample2_1 ):\n",
    "    '''\n",
    "    Функция для проверки гипотизи о равенстве долей z-критерием\n",
    "    На вход дается количество событий на первом и втором шаге первой и второй выборки \n",
    "    \n",
    "    sample1_0 - количество событий (попытки) на первом шаге первой выборки\n",
    "    sample2_0 - количество событий (попытки) на первом шаге второй выборки\n",
    "    sample1_1 - количество событий (успех) на втором шаге первой выборки\n",
    "    sample2_1 - количество событий (успех) на втором шаге второй выборки\n",
    "    '''\n",
    "    p_combined = (sample1_1 + sample2_1) / (sample1_0 + sample2_0)\n",
    "    p1 = sample1_1 / sample1_0\n",
    "    p2 = sample2_1 / sample2_0\n",
    "    dif =  p1 - p2\n",
    "    z_value = dif / math.sqrt(p_combined * (1 - p_combined) * (1/sample1_0 + 1/sample2_0))\n",
    "    distr = st.norm(0, 1) \n",
    "    p_value = (1 - distr.cdf(abs(z_value))) * 2\n",
    "    return p_value"
   ]
  },
  {
   "cell_type": "code",
   "execution_count": 59,
   "metadata": {
    "ExecuteTime": {
     "end_time": "2020-11-01T19:51:52.598916Z",
     "start_time": "2020-11-01T19:51:52.545873Z"
    }
   },
   "outputs": [
    {
     "data": {
      "text/plain": [
       "True"
      ]
     },
     "execution_count": 59,
     "metadata": {},
     "output_type": "execute_result"
    }
   ],
   "source": [
    "# тест функции\n",
    "(share_p_value (logs_246['event'].value_counts()[0], logs_247['event'].value_counts()[0]\n",
    "               , logs_246['event'].value_counts()[1], logs_247['event'].value_counts()[1] )) == p_value"
   ]
  },
  {
   "cell_type": "markdown",
   "metadata": {},
   "source": [
    "Функция готова и протестирована, вернула тоже самое значение, что и парой шагов ранее.\n",
    "\n",
    "Теперь проверим гипотезу о равенстве прочих долей, в качестве вводных (Н0, Н1, alpha) используем то, что указали ранее."
   ]
  },
  {
   "cell_type": "code",
   "execution_count": 58,
   "metadata": {
    "ExecuteTime": {
     "end_time": "2020-09-18T11:32:50.516542Z",
     "start_time": "2020-09-18T11:32:50.457991Z"
    }
   },
   "outputs": [],
   "source": [
    "offer_to_cart = share_p_value (logs_246['event'].value_counts()[1], logs_247['event'].value_counts()[1]\n",
    "               , logs_246['event'].value_counts()[2], logs_247['event'].value_counts()[2] )"
   ]
  },
  {
   "cell_type": "code",
   "execution_count": 59,
   "metadata": {
    "ExecuteTime": {
     "end_time": "2020-09-18T11:32:50.524546Z",
     "start_time": "2020-09-18T11:32:50.518543Z"
    }
   },
   "outputs": [
    {
     "name": "stdout",
     "output_type": "stream",
     "text": [
      "p_value гипотезы о равенстве долей (предложения -> корзина) -  0.0\n"
     ]
    }
   ],
   "source": [
    "print('p_value гипотезы о равенстве долей (предложения -> корзина) - ', offer_to_cart)"
   ]
  },
  {
   "cell_type": "markdown",
   "metadata": {},
   "source": [
    "В данном случае отвергаем нулевую гипотизу, между долями есть разница!"
   ]
  },
  {
   "cell_type": "code",
   "execution_count": 60,
   "metadata": {
    "ExecuteTime": {
     "end_time": "2020-09-18T11:32:50.580591Z",
     "start_time": "2020-09-18T11:32:50.527549Z"
    }
   },
   "outputs": [],
   "source": [
    "cart_to_payment = share_p_value (logs_246['event'].value_counts()[2], logs_247['event'].value_counts()[2]\n",
    "               , logs_246['event'].value_counts()[3], logs_247['event'].value_counts()[3] )"
   ]
  },
  {
   "cell_type": "code",
   "execution_count": 61,
   "metadata": {
    "ExecuteTime": {
     "end_time": "2020-09-18T11:32:50.587594Z",
     "start_time": "2020-09-18T11:32:50.582591Z"
    }
   },
   "outputs": [
    {
     "name": "stdout",
     "output_type": "stream",
     "text": [
      "p_value гипотезы о равенстве долей (корзина -> оплата) - 0.03\n"
     ]
    }
   ],
   "source": [
    "print('p_value гипотезы о равенстве долей (корзина -> оплата) - {:.2f}'.format(cart_to_payment))"
   ]
  },
  {
   "cell_type": "markdown",
   "metadata": {},
   "source": [
    "Здесь же мы не можем отвергнуть нулевую гипотезу, нет стат значимых различий между долями.\n",
    "\n",
    "Итого, в двух случаях из трех мы не нашли стат значимых различий между группами. Вероятно, это все таки позволяет нам сказать, что разбивениена работает корректно. "
   ]
  },
  {
   "cell_type": "markdown",
   "metadata": {},
   "source": [
    "Теперь можно провести ряд сравнений/тестов группы 248 с контрольными. Первым делом сравним среднее количество покупок. Используем ставшим для нас стандартным набор гипотез.\n",
    "\n",
    "* H0 - среднее количество покупок равно\n",
    "* H1 - среднее количество покупок НЕ равно\n",
    "* Примем для себя уровень значимости alpha = .01"
   ]
  },
  {
   "cell_type": "code",
   "execution_count": 62,
   "metadata": {
    "ExecuteTime": {
     "end_time": "2020-09-18T11:32:50.606607Z",
     "start_time": "2020-09-18T11:32:50.590597Z"
    }
   },
   "outputs": [
    {
     "name": "stdout",
     "output_type": "stream",
     "text": [
      "p_value - 0.150\n",
      "Среднее количество покупок в группе 246 - 3.34\n",
      "Среднее количество покупок в группе 248 - 3.09\n"
     ]
    }
   ],
   "source": [
    "print(\"p_value - {0:.3f}\".format(st.mannwhitneyu(exp_246_clean['payments'], \n",
    "                                                 exp_248_clean['payments'])[1]))\n",
    "print('Среднее количество покупок в группе 246 - {:.2f}'.format(exp_246_clean['payments']\n",
    "                                                                .mean()))\n",
    "print('Среднее количество покупок в группе 248 - {:.2f}'.format(exp_248_clean['payments']\n",
    "                                                                .mean()))"
   ]
  },
  {
   "cell_type": "code",
   "execution_count": 63,
   "metadata": {
    "ExecuteTime": {
     "end_time": "2020-09-18T11:32:50.623619Z",
     "start_time": "2020-09-18T11:32:50.609608Z"
    }
   },
   "outputs": [
    {
     "name": "stdout",
     "output_type": "stream",
     "text": [
      "p_value - 0.288\n",
      "Среднее количество покупок в группе 247 - 3.12\n",
      "Среднее количество покупок в группе 248 - 3.09\n"
     ]
    }
   ],
   "source": [
    "print(\"p_value - {0:.3f}\".format(st.mannwhitneyu(exp_247_clean['payments'], \n",
    "                                                 exp_248_clean['payments'])[1]))\n",
    "print('Среднее количество покупок в группе 247 - {:.2f}'.format(exp_247_clean['payments']\n",
    "                                                                .mean()))\n",
    "print('Среднее количество покупок в группе 248 - {:.2f}'.format(exp_248_clean['payments']\n",
    "                                                                .mean()))"
   ]
  },
  {
   "cell_type": "markdown",
   "metadata": {},
   "source": [
    "Каждый из тестов не показал стат значимость различий средних двух выборок. Оба раза мы не смогли отвергли нулевую гипотезу. Что свидетельствует нам о том, что группа 248 не лучше контрольных, принимая во внимание среднее значение покупок, она даже хуже."
   ]
  },
  {
   "cell_type": "markdown",
   "metadata": {},
   "source": [
    "## Проверка гипотез о равенстве долей разных групп"
   ]
  },
  {
   "cell_type": "markdown",
   "metadata": {},
   "source": [
    "Далее проверим гипотезы о равенстве долей разных групп. Контрольных и с измененным шрифтом, в отдельности по каждому событию. \n",
    "\n",
    "* H0 - между долями НЕТ стат значимых различий\n",
    "* H1 - между долями ЕСТЬ стат значимых различий\n",
    "* Примем для себя уровень значимости alpha = .05"
   ]
  },
  {
   "cell_type": "code",
   "execution_count": 64,
   "metadata": {
    "ExecuteTime": {
     "end_time": "2020-09-18T11:32:50.739703Z",
     "start_time": "2020-09-18T11:32:50.626622Z"
    }
   },
   "outputs": [
    {
     "name": "stdout",
     "output_type": "stream",
     "text": [
      "главный экран -> предложения \n",
      "246 vs 248 \n",
      "p_value гипотезы о равенстве долей - 0.06\n",
      "Доля 246 - 0.382\n",
      "Доля 248 - 0.376\n"
     ]
    }
   ],
   "source": [
    "main_to_offer = share_p_value (logs_246['event'].value_counts()[0], logs_248['event'].value_counts()[0]\n",
    "               , logs_246['event'].value_counts()[1], logs_248['event'].value_counts()[1] )\n",
    "\n",
    "print('главный экран -> предложения \\n246 vs 248 \\np_value гипотезы о равенстве долей - {:.2f}'\n",
    "      .format(main_to_offer))\n",
    "\n",
    "print('Доля 246 - {:.3f}'\n",
    "      .format(logs_246['event'].value_counts()[1] / logs_246['event'].value_counts()[0]))\n",
    "\n",
    "print('Доля 248 - {:.3f}'\n",
    "      .format(logs_248['event'].value_counts()[1] / logs_248['event'].value_counts()[0]))"
   ]
  },
  {
   "cell_type": "code",
   "execution_count": 65,
   "metadata": {
    "ExecuteTime": {
     "end_time": "2020-09-18T11:32:50.854789Z",
     "start_time": "2020-09-18T11:32:50.742704Z"
    }
   },
   "outputs": [
    {
     "name": "stdout",
     "output_type": "stream",
     "text": [
      "главный экран -> предложения \n",
      "247 vs 248 \n",
      "p_value гипотезы о равенстве долей - 0.25\n",
      "Доля 247 - 0.380\n",
      "Доля 248 - 0.376\n"
     ]
    }
   ],
   "source": [
    "main_to_offer = share_p_value (logs_247['event'].value_counts()[0], logs_248['event'].value_counts()[0]\n",
    "               , logs_247['event'].value_counts()[1], logs_248['event'].value_counts()[1] )\n",
    "\n",
    "print('главный экран -> предложения \\n247 vs 248 \\np_value гипотезы о равенстве долей - {:.2f}'\n",
    "      .format(main_to_offer))\n",
    "\n",
    "print('Доля 247 - {:.3f}'\n",
    "      .format(logs_247['event'].value_counts()[1] / logs_247['event'].value_counts()[0]))\n",
    "\n",
    "print('Доля 248 - {:.3f}'\n",
    "      .format(logs_248['event'].value_counts()[1] / logs_248['event'].value_counts()[0]))"
   ]
  },
  {
   "cell_type": "markdown",
   "metadata": {},
   "source": [
    "В обоих случаях не можем отвергнуть нулевую гипотизу, нет стат значимых отличий в долях.\n",
    "В группе с измененным шрифтом доля переходов с первого экрана на второй незначительно меньше."
   ]
  },
  {
   "cell_type": "code",
   "execution_count": 66,
   "metadata": {
    "ExecuteTime": {
     "end_time": "2020-09-18T11:32:50.970380Z",
     "start_time": "2020-09-18T11:32:50.857791Z"
    }
   },
   "outputs": [
    {
     "name": "stdout",
     "output_type": "stream",
     "text": [
      "предложения -> корзина \n",
      "246 vs 248 \n",
      "p_value гипотезы о равенстве долей - 0.00\n",
      "Доля 246 - 0.76\n",
      "Доля 248 - 0.70\n"
     ]
    }
   ],
   "source": [
    "offer_to_carts = share_p_value (logs_246['event'].value_counts()[1], logs_248['event'].value_counts()[1]\n",
    "               , logs_246['event'].value_counts()[2], logs_248['event'].value_counts()[2] )\n",
    "\n",
    "print('предложения -> корзина \\n246 vs 248 \\np_value гипотезы о равенстве долей - {:.2f}'\n",
    "      .format(offer_to_carts))\n",
    "\n",
    "print('Доля 246 - {:.2f}'\n",
    "      .format(logs_246['event'].value_counts()[2] / logs_246['event'].value_counts()[1]))\n",
    "\n",
    "print('Доля 248 - {:.2f}'\n",
    "      .format(logs_248['event'].value_counts()[2] / logs_248['event'].value_counts()[1]))"
   ]
  },
  {
   "cell_type": "code",
   "execution_count": 67,
   "metadata": {
    "ExecuteTime": {
     "end_time": "2020-09-18T11:32:51.089879Z",
     "start_time": "2020-09-18T11:32:50.974382Z"
    }
   },
   "outputs": [
    {
     "name": "stdout",
     "output_type": "stream",
     "text": [
      "предложения -> корзина \n",
      "247 vs 248 \n",
      "p_value гипотезы о равенстве долей - 0.01\n",
      "Доля 247 - 0.69\n",
      "Доля 248 - 0.70\n"
     ]
    }
   ],
   "source": [
    "offer_to_carts = share_p_value (logs_247['event'].value_counts()[1], logs_248['event'].value_counts()[1]\n",
    "               , logs_247['event'].value_counts()[2], logs_248['event'].value_counts()[2] )\n",
    "\n",
    "print('предложения -> корзина \\n247 vs 248 \\np_value гипотезы о равенстве долей - {:.2f}'\n",
    "      .format(offer_to_carts))\n",
    "\n",
    "print('Доля 247 - {:.2f}'\n",
    "      .format(logs_247['event'].value_counts()[2] / logs_247['event'].value_counts()[1]))\n",
    "\n",
    "print('Доля 248 - {:.2f}'\n",
    "      .format(logs_248['event'].value_counts()[2] / logs_248['event'].value_counts()[1]))"
   ]
  },
  {
   "cell_type": "markdown",
   "metadata": {},
   "source": [
    "В данном случае найдено стат значимые различия долей в сравнении с обеими группами. Мы не смогли принять нулевую ипотезу. \n",
    "\n",
    "И доля переходов в группе 248 либо близка к контрольным, либо значительно ниже."
   ]
  },
  {
   "cell_type": "code",
   "execution_count": 68,
   "metadata": {
    "ExecuteTime": {
     "end_time": "2020-09-18T11:32:51.217969Z",
     "start_time": "2020-09-18T11:32:51.100886Z"
    }
   },
   "outputs": [
    {
     "name": "stdout",
     "output_type": "stream",
     "text": [
      "корзина -> оплата \n",
      "246 vs 248 \n",
      "p_value гипотезы о равенстве долей - 0.00\n",
      "Доля 246 - 0.76\n",
      "Доля 248 - 0.75\n"
     ]
    }
   ],
   "source": [
    "carts_to_payment = share_p_value (logs_246['event'].value_counts()[2], logs_248['event'].value_counts()[2]\n",
    "               , logs_246['event'].value_counts()[3], logs_248['event'].value_counts()[3] )\n",
    "\n",
    "print('корзина -> оплата \\n246 vs 248 \\np_value гипотезы о равенстве долей - {:.2f}'\n",
    "      .format(carts_to_payment))\n",
    "\n",
    "print('Доля 246 - {:.2f}'\n",
    "      .format(logs_246['event'].value_counts()[3] / logs_246['event'].value_counts()[2]))\n",
    "\n",
    "print('Доля 248 - {:.2f}'\n",
    "      .format(logs_248['event'].value_counts()[3] / logs_248['event'].value_counts()[2]))"
   ]
  },
  {
   "cell_type": "code",
   "execution_count": 69,
   "metadata": {
    "ExecuteTime": {
     "end_time": "2020-09-18T11:32:51.331057Z",
     "start_time": "2020-09-18T11:32:51.220972Z"
    }
   },
   "outputs": [
    {
     "name": "stdout",
     "output_type": "stream",
     "text": [
      "корзина -> оплата \n",
      "247 vs 248 \n",
      "p_value гипотезы о равенстве долей - 0.00\n",
      "Доля 247 - 0.77\n",
      "Доля 248 - 0.75\n"
     ]
    }
   ],
   "source": [
    "carts_to_payment = share_p_value (logs_247['event'].value_counts()[2], logs_248['event'].value_counts()[2]\n",
    "               , logs_247['event'].value_counts()[3], logs_248['event'].value_counts()[3] )\n",
    "\n",
    "print('корзина -> оплата \\n247 vs 248 \\np_value гипотезы о равенстве долей - {:.2f}'\n",
    "      .format(carts_to_payment))\n",
    "\n",
    "print('Доля 247 - {:.2f}'\n",
    "      .format(logs_247['event'].value_counts()[3] / logs_247['event'].value_counts()[2]))\n",
    "\n",
    "print('Доля 248 - {:.2f}'\n",
    "      .format(logs_248['event'].value_counts()[3] / logs_248['event'].value_counts()[2]))"
   ]
  },
  {
   "cell_type": "markdown",
   "metadata": {},
   "source": [
    "И в этой группе тестов тоже найдены стат значимые различия долей в сравнении с обеими группами. Мы не смогли принять нулевую ипотезу. \n",
    "\n",
    "Доля же переходов оказалась ниже чем в контрольных групп.\n"
   ]
  },
  {
   "cell_type": "markdown",
   "metadata": {},
   "source": [
    "## Контроль vs 248 \n",
    "\n",
    "Теперь объединим контрольные группы в одну и проведем сравнения с ней. \n",
    "* H0 - между долями НЕТ стат значимых различий\n",
    "* H1 - между долями ЕСТЬ стат значимых различий\n",
    "* Примем для себя уровень значимости alpha = .05"
   ]
  },
  {
   "cell_type": "code",
   "execution_count": 70,
   "metadata": {
    "ExecuteTime": {
     "end_time": "2020-09-18T11:32:51.364583Z",
     "start_time": "2020-09-18T11:32:51.334056Z"
    }
   },
   "outputs": [],
   "source": [
    "logs_control = pd.concat([logs_246, logs_247])"
   ]
  },
  {
   "cell_type": "code",
   "execution_count": 71,
   "metadata": {
    "ExecuteTime": {
     "end_time": "2020-09-18T11:32:51.512192Z",
     "start_time": "2020-09-18T11:32:51.367584Z"
    }
   },
   "outputs": [
    {
     "name": "stdout",
     "output_type": "stream",
     "text": [
      "главный экран -> предложения \n",
      "контроль vs 248 \n",
      "p_value гипотезы о равенстве долей - 0.133\n",
      "Доля контрольной группы - 0.38\n",
      "Доля 248 - 0.38\n"
     ]
    }
   ],
   "source": [
    "main_to_offer = share_p_value (logs_control['event'].value_counts()[0], logs_248['event'].value_counts()[0]\n",
    "               , logs_control['event'].value_counts()[1], logs_248['event'].value_counts()[1] )\n",
    "print('главный экран -> предложения \\nконтроль vs 248 \\np_value гипотезы о равенстве долей - {:.3f}'\n",
    "      .format(main_to_offer))\n",
    "\n",
    "print('Доля контрольной группы - {:.2f}'\n",
    "      .format(logs_control['event'].value_counts()[1] / logs_control['event'].value_counts()[0]))\n",
    "\n",
    "print('Доля 248 - {:.2f}'\n",
    "      .format(logs_248['event'].value_counts()[1] / logs_248['event'].value_counts()[0]))"
   ]
  },
  {
   "cell_type": "code",
   "execution_count": 72,
   "metadata": {
    "ExecuteTime": {
     "end_time": "2020-09-18T11:32:51.656298Z",
     "start_time": "2020-09-18T11:32:51.515194Z"
    }
   },
   "outputs": [
    {
     "name": "stdout",
     "output_type": "stream",
     "text": [
      "предложения -> корзина \n",
      "контроль vs 248 \n",
      "p_value гипотезы о равенстве долей - 0.00\n",
      "Доля контрольной группы - 0.73\n",
      "Доля 248 - 0.70\n"
     ]
    }
   ],
   "source": [
    "offer_to_carts = share_p_value (logs_control['event'].value_counts()[1], logs_248['event'].value_counts()[1]\n",
    "               , logs_control['event'].value_counts()[2], logs_248['event'].value_counts()[2] )\n",
    "print('предложения -> корзина \\nконтроль vs 248 \\np_value гипотезы о равенстве долей - {:.2f}'\n",
    "      .format(offer_to_carts))\n",
    "\n",
    "print('Доля контрольной группы - {:.2f}'\n",
    "      .format(logs_control['event'].value_counts()[2] / logs_control['event'].value_counts()[1]))\n",
    "\n",
    "print('Доля 248 - {:.2f}'\n",
    "      .format(logs_248['event'].value_counts()[2] / logs_248['event'].value_counts()[1]))"
   ]
  },
  {
   "cell_type": "code",
   "execution_count": 73,
   "metadata": {
    "ExecuteTime": {
     "end_time": "2020-09-18T11:32:51.786393Z",
     "start_time": "2020-09-18T11:32:51.659299Z"
    }
   },
   "outputs": [
    {
     "name": "stdout",
     "output_type": "stream",
     "text": [
      "корзина -> оплата \n",
      "контроль vs 248 \n",
      "p_value гипотезы о равенстве долей - 0.00\n",
      "Доля контрольной группы - 0.76\n",
      "Доля 248 - 0.75\n"
     ]
    }
   ],
   "source": [
    "carts_to_payment = share_p_value (logs_control['event'].value_counts()[2], logs_248['event'].value_counts()[2]\n",
    "               , logs_control['event'].value_counts()[3], logs_248['event'].value_counts()[3] )\n",
    "print('корзина -> оплата \\nконтроль vs 248 \\np_value гипотезы о равенстве долей - {:.2f}'\n",
    "      .format(carts_to_payment))\n",
    "\n",
    "print('Доля контрольной группы - {:.2f}'\n",
    "      .format(logs_control['event'].value_counts()[3] / logs_control['event'].value_counts()[2]))\n",
    "\n",
    "print('Доля 248 - {:.2f}'\n",
    "      .format(logs_248['event'].value_counts()[3] / logs_248['event'].value_counts()[2]))"
   ]
  },
  {
   "cell_type": "markdown",
   "metadata": {},
   "source": [
    "В двух из трех тестов мы не смогли принять нулевую гипотезу и нашли стат значимость между долями. \n",
    "Сама же значение конверсии у группы 248, близко к контрольным, либо ниже.\n",
    "\n",
    "Таким образом мы можем заключить, что новый шрифт не работает. Пользователи из группы 248 показывает результат хуже контрольной группы.  "
   ]
  },
  {
   "cell_type": "markdown",
   "metadata": {},
   "source": [
    "## Вывод\n",
    "\n",
    "В конечном итоге было проведено 9 проверок различных конверсий между шагами, без учета проверок гипотех о равенстве среднего количества покупок. \n",
    "\n",
    "По три проверки группы с измененным шрифтом с каждой из контрольных групп по отдельности и три проверки с совмещенной контрольной группой. Был использован уровень занчимости 0.05, изменять который в нашем случае особого смысла нет, так как в большинстве случаев значение p_value было близким к 0.\n",
    "\n",
    "На основе полученных данных можно утверждать, что группа с измененными шрифтами показала себя хуже контрольных. Мы проверяли общую конверсию в покупку, там мы не нашли стат значимых различий в средних значениях. При проверке конверсии в переходах по нашей воронке стат значимые различие были найдены, группа 248 показала себя хуже.  Лучше не менять шрифт в приложении, либо попробовать другой шрифт! \n",
    "\n",
    "\n",
    "[План работ](#plan)"
   ]
  }
 ],
 "metadata": {
  "kernelspec": {
   "display_name": "Python 3",
   "language": "python",
   "name": "python3"
  },
  "language_info": {
   "codemirror_mode": {
    "name": "ipython",
    "version": 3
   },
   "file_extension": ".py",
   "mimetype": "text/x-python",
   "name": "python",
   "nbconvert_exporter": "python",
   "pygments_lexer": "ipython3",
   "version": "3.7.6"
  },
  "toc": {
   "base_numbering": 1,
   "nav_menu": {},
   "number_sections": true,
   "sideBar": true,
   "skip_h1_title": false,
   "title_cell": "Table of Contents",
   "title_sidebar": "Contents",
   "toc_cell": false,
   "toc_position": {
    "height": "calc(100% - 180px)",
    "left": "10px",
    "top": "150px",
    "width": "250.433px"
   },
   "toc_section_display": true,
   "toc_window_display": false
  }
 },
 "nbformat": 4,
 "nbformat_minor": 4
}
